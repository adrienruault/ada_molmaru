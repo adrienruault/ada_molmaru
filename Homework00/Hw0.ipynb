{
 "cells": [
  {
   "cell_type": "code",
   "execution_count": 29,
   "metadata": {},
   "outputs": [
    {
     "ename": "IndexError",
     "evalue": "list index out of range",
     "output_type": "error",
     "traceback": [
      "\u001b[1;31m---------------------------------------------------------------------------\u001b[0m",
      "\u001b[1;31mIndexError\u001b[0m                                Traceback (most recent call last)",
      "\u001b[1;32m<ipython-input-29-1bebf5632cf9>\u001b[0m in \u001b[0;36m<module>\u001b[1;34m()\u001b[0m\n\u001b[0;32m      3\u001b[0m     \u001b[0mreader\u001b[0m \u001b[1;33m=\u001b[0m \u001b[0mcsv\u001b[0m\u001b[1;33m.\u001b[0m\u001b[0mreader\u001b[0m\u001b[1;33m(\u001b[0m\u001b[0mf\u001b[0m\u001b[1;33m)\u001b[0m\u001b[1;33m\u001b[0m\u001b[0m\n\u001b[0;32m      4\u001b[0m     \u001b[1;32mfor\u001b[0m \u001b[0mrow\u001b[0m \u001b[1;32min\u001b[0m \u001b[0mreader\u001b[0m\u001b[1;33m:\u001b[0m\u001b[1;33m\u001b[0m\u001b[0m\n\u001b[1;32m----> 5\u001b[1;33m         \u001b[0mprint\u001b[0m\u001b[1;33m(\u001b[0m\u001b[0mrow\u001b[0m\u001b[1;33m[\u001b[0m\u001b[1;36m1\u001b[0m\u001b[1;33m]\u001b[0m\u001b[1;33m)\u001b[0m\u001b[1;33m\u001b[0m\u001b[0m\n\u001b[0m",
      "\u001b[1;31mIndexError\u001b[0m: list index out of range"
     ]
    }
   ],
   "source": [
    "import csv\n",
    "with open('Hw0_donnee.csv', 'r') as f:\n",
    "    reader = csv.reader(f)\n",
    "    for row in reader:\n",
    "        print(row[1])"
   ]
  },
  {
   "cell_type": "code",
   "execution_count": 42,
   "metadata": {},
   "outputs": [
    {
     "name": "stdout",
     "output_type": "stream",
     "text": [
      "The value of Female is 180, and Male is 180 out of a total of 540\n"
     ]
    }
   ],
   "source": [
    "#SAMPLE TEST OF DEATH DATA BASE : MALE/FEMALE\n",
    "\n",
    "gender_NA = 0\n",
    "gender_F = 0\n",
    "gender_M = 0\n",
    "\n",
    "\n",
    "import csv\n",
    " \n",
    "fname = \"base_donnee.txt\"\n",
    "file = open(fname, \"r\")\n",
    " \n",
    "try:\n",
    "    reader = csv.reader(file)\n",
    "    for row in reader:\n",
    "        # N'affiche que certaines colonnes\n",
    "        # print(row[0])\n",
    "        if row[2]=='None selected':\n",
    "            gender_NA +=1\n",
    "        if row[2]=='Female':\n",
    "            gender_F +=1\n",
    "        if row[2]=='Male':\n",
    "            gender_M +=1      \n",
    "    gender_total = gender_M+gender_F+gender_NA\n",
    "    s = 'The value of Female is ' + repr(gender_F) + ', and Male is ' + repr(gender_M) + ' out of a total of ' + repr(gender_total) \n",
    "    print(s)\n",
    "    \n",
    "    \n",
    "finally:\n",
    "    file.close()"
   ]
  },
  {
   "cell_type": "code",
   "execution_count": 47,
   "metadata": {},
   "outputs": [
    {
     "name": "stdout",
     "output_type": "stream",
     "text": [
      "The value of Female is 14449, and Male is 86349 out of a total of 100798\n"
     ]
    }
   ],
   "source": [
    "#FULL DEATH DATA BASE : MALE/FEMALE\n",
    "\n",
    "gender_NA = 0\n",
    "gender_F = 0\n",
    "gender_M = 0\n",
    "\n",
    "\n",
    "import csv\n",
    " \n",
    "fname = \"base_donnee_02.txt\"\n",
    "file = open(fname, \"r\")\n",
    " \n",
    "try:\n",
    "    reader = csv.reader(file)\n",
    "    for row in reader:\n",
    "        # N'affiche que certaines colonnes\n",
    "        # print(row[0])\n",
    "        if row[5]=='None selected':\n",
    "            gender_NA +=1\n",
    "        if row[5]=='F':\n",
    "            gender_F +=1\n",
    "        if row[5]=='M':\n",
    "            gender_M +=1      \n",
    "    gender_total = gender_M+gender_F+gender_NA\n",
    "    s = 'The value of Female is ' + repr(gender_F) + ', and Male is ' + repr(gender_M) + ' out of a total of ' + repr(gender_total) \n",
    "    print(s)\n",
    "    \n",
    "    \n",
    "finally:\n",
    "    file.close()"
   ]
  },
  {
   "cell_type": "code",
   "execution_count": 48,
   "metadata": {},
   "outputs": [
    {
     "name": "stdout",
     "output_type": "stream",
     "text": [
      "The value of suicide is 63175 out of a total of 100799\n"
     ]
    }
   ],
   "source": [
    "#FULL DEATH DATA BASE :PROPORTION OF SUICIDE\n",
    "\n",
    "death_NA = 0\n",
    "death_S = 0\n",
    "\n",
    "\n",
    "import csv\n",
    " \n",
    "fname = \"base_donnee_02.txt\"\n",
    "file = open(fname, \"r\")\n",
    " \n",
    "try:\n",
    "    reader = csv.reader(file)\n",
    "    for row in reader:\n",
    "        # N'affiche que certaines colonnes\n",
    "        # print(row[0])\n",
    "        if row[3]=='Suicide':\n",
    "            death_S +=1\n",
    "        else:\n",
    "            death_NA +=1     \n",
    "    death_total = death_S+death_NA\n",
    "    s = 'The value of suicide is ' + repr(death_S) + ' out of a total of ' + repr(death_total) \n",
    "    print(s)\n",
    "    \n",
    "    \n",
    "finally:\n",
    "    file.close()"
   ]
  },
  {
   "cell_type": "code",
   "execution_count": 50,
   "metadata": {},
   "outputs": [
    {
     "name": "stdout",
     "output_type": "stream",
     "text": [
      "The value of suicide is 108 out of a total of 541\n"
     ]
    }
   ],
   "source": [
    "#SAMPLE TEST DEATH DATA BASE / PROPORTION OF SUICIDE\n",
    "\n",
    "death_NA = 0\n",
    "death_S = 0\n",
    "\n",
    "\n",
    "import csv\n",
    " \n",
    "fname = \"base_donnee.txt\"\n",
    "file = open(fname, \"r\")\n",
    " \n",
    "try:\n",
    "    reader = csv.reader(file)\n",
    "    for row in reader:\n",
    "        # N'affiche que certaines colonnes\n",
    "        # print(row[0])\n",
    "        if row[1]=='Suicide':\n",
    "            death_S +=1\n",
    "        else:\n",
    "            death_NA +=1     \n",
    "    death_total = death_S+death_NA\n",
    "    s = 'The value of suicide is ' + repr(death_S) + ' out of a total of ' + repr(death_total) \n",
    "    print(s)\n",
    "    \n",
    "    \n",
    "finally:\n",
    "    file.close()"
   ]
  },
  {
   "cell_type": "code",
   "execution_count": null,
   "metadata": {
    "collapsed": true
   },
   "outputs": [],
   "source": []
  }
 ],
 "metadata": {
  "kernelspec": {
   "display_name": "Python 3",
   "language": "python",
   "name": "python3"
  },
  "language_info": {
   "codemirror_mode": {
    "name": "ipython",
    "version": 3
   },
   "file_extension": ".py",
   "mimetype": "text/x-python",
   "name": "python",
   "nbconvert_exporter": "python",
   "pygments_lexer": "ipython3",
   "version": "3.6.1"
  }
 },
 "nbformat": 4,
 "nbformat_minor": 2
}
