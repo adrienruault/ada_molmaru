{
 "cells": [
  {
   "cell_type": "code",
   "execution_count": 3,
   "metadata": {},
   "outputs": [
    {
     "name": "stdout",
     "output_type": "stream",
     "text": [
      "The value of Female is 14449, and Male is 86349 out of a total of 100798\n"
     ]
    }
   ],
   "source": [
    "#FULL DEATH DATA BASE : MALE/FEMALE\n",
    "\n",
    "gender_NA = 0\n",
    "gender_F = 0\n",
    "gender_M = 0\n",
    "\n",
    "\n",
    "import csv\n",
    " \n",
    "fname = \"base_donnee_02.txt\"\n",
    "file = open(fname, \"r\")\n",
    " \n",
    "try:\n",
    "    reader = csv.reader(file)\n",
    "    for row in reader:\n",
    "        # N'affiche que certaines colonnes\n",
    "        # print(row[0])\n",
    "        if row[5]=='None selected':\n",
    "            gender_NA +=1\n",
    "        if row[5]=='F':\n",
    "            gender_F +=1\n",
    "        if row[5]=='M':\n",
    "            gender_M +=1      \n",
    "    gender_total = gender_M+gender_F+gender_NA\n",
    "    s = 'The value of Female is ' + repr(gender_F) + ', and Male is ' + repr(gender_M) + ' out of a total of ' + repr(gender_total) \n",
    "    print(s)\n",
    "    \n",
    "    \n",
    "finally:\n",
    "    file.close()"
   ]
  },
  {
   "cell_type": "code",
   "execution_count": 6,
   "metadata": {},
   "outputs": [
    {
     "name": "stdout",
     "output_type": "stream",
     "text": [
      "The value of suicide is 63175 out of a total of 100799\n"
     ]
    }
   ],
   "source": [
    "#FULL DEATH DATA BASE :PROPORTION OF SUICIDE\n",
    "\n",
    "death_NA = 0\n",
    "death_S = 0\n",
    "\n",
    "\n",
    "import csv\n",
    " \n",
    "fname = \"base_donnee_02.txt\"\n",
    "file = open(fname, \"r\")\n",
    " \n",
    "try:\n",
    "    reader = csv.reader(file)\n",
    "    for row in reader:\n",
    "        # N'affiche que certaines colonnes\n",
    "        # print(row[0])\n",
    "        if row[3]=='Suicide':\n",
    "            death_S +=1\n",
    "        else:\n",
    "            death_NA +=1     \n",
    "    death_total = death_S+death_NA\n",
    "    s = 'The value of suicide is ' + repr(death_S) + ' out of a total of ' + repr(death_total) \n",
    "    print(s)\n",
    "    \n",
    "    \n",
    "finally:\n",
    "    file.close()"
   ]
  },
  {
   "cell_type": "code",
   "execution_count": 2,
   "metadata": {},
   "outputs": [
    {
     "name": "stdout",
     "output_type": "stream",
     "text": [
      "The value of suicide is 0 out of a total of 100799\n"
     ]
    }
   ],
   "source": [
    "#SAMPLE TEST DEATH DATA BASE / PROPORTION OF SUICIDE\n",
    "\n",
    "death_NA = 0\n",
    "death_S = 0\n",
    "\n",
    "\n",
    "import csv\n",
    " \n",
    "fname = \"base_donnee_02.txt\"\n",
    "file = open(fname, \"r\")\n",
    " \n",
    "try:\n",
    "    reader = csv.reader(file)\n",
    "    for row in reader:\n",
    "        # N'affiche que certaines colonnes\n",
    "        # print(row[0])\n",
    "        if row[1]=='Suicide':\n",
    "            death_S +=1\n",
    "        else:\n",
    "            death_NA +=1     \n",
    "    death_total = death_S+death_NA\n",
    "    s = 'The value of suicide is ' + repr(death_S) + ' out of a total of ' + repr(death_total) \n",
    "    print(s)\n",
    "    \n",
    "    \n",
    "finally:\n",
    "    file.close()"
   ]
  },
  {
   "cell_type": "code",
   "execution_count": 8,
   "metadata": {},
   "outputs": [
    {
     "data": {
      "text/plain": [
       "6"
      ]
     },
     "execution_count": 8,
     "metadata": {},
     "output_type": "execute_result"
    }
   ],
   "source": [
    "3+3"
   ]
  }
 ],
 "metadata": {
  "kernelspec": {
   "display_name": "Python 3",
   "language": "python",
   "name": "python3"
  },
  "language_info": {
   "codemirror_mode": {
    "name": "ipython",
    "version": 3
   },
   "file_extension": ".py",
   "mimetype": "text/x-python",
   "name": "python",
   "nbconvert_exporter": "python",
   "pygments_lexer": "ipython3",
   "version": "3.6.1"
  }
 },
 "nbformat": 4,
 "nbformat_minor": 2
}
