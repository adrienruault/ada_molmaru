{
 "cells": [
  {
   "cell_type": "code",
   "execution_count": 2,
   "metadata": {
    "collapsed": true
   },
   "outputs": [],
   "source": [
    "import numpy as np\n",
    "from ipywidgets import interact, fixed\n"
   ]
  },
  {
   "cell_type": "code",
   "execution_count": 3,
   "metadata": {
    "collapsed": true
   },
   "outputs": [],
   "source": [
    "# Former way used to read the csv. However it reads strings as byte strings and put a b in front of the string\n",
    "#data = np.genfromtxt(\"interactive_data.csv\", dtype = (int, \"|S15\", \"|S15\", \"|S15\", \"|S15\", int, int, float), delimiter = \",\")\n",
    "\n",
    "data_set = np.genfromtxt(\"interactive_data.csv\", dtype = (int, \"|U15\", \"|U15\", \"|U15\", \"|U15\", int, int, float), delimiter = \",\", skip_header = 1)"
   ]
  },
  {
   "cell_type": "code",
   "execution_count": 4,
   "metadata": {
    "collapsed": true
   },
   "outputs": [],
   "source": [
    "# Cleaning of the extra \" \" around every string entry\n",
    "for i in range(data_set.shape[0]):\n",
    "    for j in (1, 2, 3, 4):\n",
    "        data_set[i][j] = data_set[i][j][1:len(data_set[i][j])-1]\n"
   ]
  },
  {
   "cell_type": "code",
   "execution_count": 5,
   "metadata": {},
   "outputs": [
    {
     "name": "stderr",
     "output_type": "stream",
     "text": [
      "/usr/local/anaconda3/lib/python3.6/site-packages/traitlets/traitlets.py:567: FutureWarning: comparison to `None` will result in an elementwise object comparison in the future.\n",
      "  silent = bool(old_value == new_value)\n"
     ]
    },
    {
     "data": {
      "application/vnd.jupyter.widget-view+json": {
       "model_id": "0c4f3eac157c4ee8a35ad0e92ff584fe"
      }
     },
     "metadata": {},
     "output_type": "display_data"
    },
    {
     "data": {
      "text/plain": [
       "<function __main__.output>"
      ]
     },
     "execution_count": 5,
     "metadata": {},
     "output_type": "execute_result"
    }
   ],
   "source": [
    "def output(data, intent, gender, age, race):\n",
    "    output = [x for x in data if (x[1] == intent) and (x[2] == gender) and (x[3] == age) and (x[4] == race)]\n",
    "    print('Deaths:', output[0][5])\n",
    "    print('Population:', output[0][6])\n",
    "    print('Rate:', output[0][7])\n",
    "    return output\n",
    "\n",
    "intent_in = ['None selected', 'Suicide', 'Homicide', 'Accident', 'Unknown']\n",
    "gender_in = ['None selected', 'Male', 'Female']\n",
    "age_in = ['None selected', 'Under 15', '15 - 34', '35 - 64', '65+', '5']\n",
    "race_in = ['None selected', 'White', 'Black', 'Hispanic', 'Asian/Pacific', 'Other']\n",
    "\n",
    "interact(output, data = fixed(data_set), intent = intent_in, gender = gender_in, age = age_in, race = race_in)"
   ]
  },
  {
   "cell_type": "code",
   "execution_count": null,
   "metadata": {
    "collapsed": true
   },
   "outputs": [],
   "source": []
  },
  {
   "cell_type": "code",
   "execution_count": null,
   "metadata": {
    "collapsed": true
   },
   "outputs": [],
   "source": []
  },
  {
   "cell_type": "code",
   "execution_count": null,
   "metadata": {
    "collapsed": true
   },
   "outputs": [],
   "source": []
  }
 ],
 "metadata": {
  "kernelspec": {
   "display_name": "Python 3",
   "language": "python",
   "name": "python3"
  },
  "language_info": {
   "codemirror_mode": {
    "name": "ipython",
    "version": 3
   },
   "file_extension": ".py",
   "mimetype": "text/x-python",
   "name": "python",
   "nbconvert_exporter": "python",
   "pygments_lexer": "ipython3",
   "version": "3.6.1"
  }
 },
 "nbformat": 4,
 "nbformat_minor": 2
}
