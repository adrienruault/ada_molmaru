{
 "cells": [
  {
   "cell_type": "code",
   "execution_count": null,
   "metadata": {
    "collapsed": true
   },
   "outputs": [],
   "source": [
    "# Import libraries\n",
    "import requests\n",
    "from bs4 import BeautifulSoup\n",
    "import pandas as pd\n",
    "import math"
   ]
  },
  {
   "cell_type": "code",
   "execution_count": null,
   "metadata": {
    "collapsed": true
   },
   "outputs": [],
   "source": [
    "qs_url = 'https://www.topuniversities.com/sites/default/files/qs-rankings-data/357051.txt?_=1508694016501'\n",
    "qs_r = requests.get(qs_url)"
   ]
  },
  {
   "cell_type": "code",
   "execution_count": null,
   "metadata": {
    "collapsed": true
   },
   "outputs": [],
   "source": [
    "qs_uni_dict = qs_r.json()"
   ]
  },
  {
   "cell_type": "markdown",
   "metadata": {},
   "source": [
    "create the data frame"
   ]
  },
  {
   "cell_type": "code",
   "execution_count": null,
   "metadata": {},
   "outputs": [],
   "source": [
    "qs_columns = ['Name','Region','Location','QS Rank','QS Score','No staffs', 'No internat staffs', 'No students', 'No internat students']\n",
    "qs_uni_rank = pd.DataFrame(index = [], columns=qs_columns)\n",
    "qs_uni_rank.head()"
   ]
  },
  {
   "cell_type": "code",
   "execution_count": null,
   "metadata": {
    "collapsed": true
   },
   "outputs": [],
   "source": [
    "def get_numbers_stud_staff(url):\n",
    "    r_uni = requests.get(\"https://www.topuniversities.com\" + url)\n",
    "    \n",
    "    html_request_uni = BeautifulSoup(r_uni.text, 'html.parser')\n",
    "    \n",
    "    header_staff = html_request_uni.find('div',class_='faculty-main wrapper col-md-4')\n",
    "    header_stud_total = html_request_uni.find('div',class_='students-main wrapper col-md-4')\n",
    "    header_stud_inter = html_request_uni.find('div',class_='int-students-main wrapper col-md-4')\n",
    "    \n",
    "    if ((header_staff == None) & (header_stud_total == None) & (header_stud_inter == None)):\n",
    "        return (-1,-1,-1,-1)\n",
    "        \n",
    "\n",
    "    subdiv_staff_total = header_staff.find('div', class_='total faculty')\n",
    "    subdiv_staff_inter = header_staff.find('div', class_= 'inter faculty')\n",
    "    subdiv_stud_total = header_stud_total.find('div', class_='total student')\n",
    "    subdiv_stud_inter = header_stud_inter.find('div', class_='total inter')\n",
    "    \n",
    "    num_staff_total = int(subdiv_staff_total.find('div', class_ = 'number').text[1:-1].replace(',',''))\n",
    "    if (subdiv_staff_inter != None):\n",
    "        num_staff_inter = int(subdiv_staff_inter.find('div', class_ = 'number').text[1:-1].replace(',',''))\n",
    "    else:\n",
    "        num_staff_inter = -1    \n",
    "    num_stud_total = int(subdiv_stud_total.find('div', class_ = 'number').text[1:-1].replace(',',''))\n",
    "    num_stud_inter = int(subdiv_stud_inter.find('div', class_ = 'number').text[1:-1].replace(',',''))\n",
    "    \n",
    "    return (num_staff_total, num_staff_inter, num_stud_total, num_stud_inter)"
   ]
  },
  {
   "cell_type": "code",
   "execution_count": null,
   "metadata": {},
   "outputs": [],
   "source": [
    "uni_list = qs_uni_dict['data']\n",
    "i = 0\n",
    "for uni in uni_list[:200]:\n",
    "    i+=1\n",
    "    if (i%40 == 0):\n",
    "        print(i)\n",
    "    (tot_staff, inter_staff, tot_stud, inter_stud) = get_numbers_stud_staff(uni['url'])\n",
    "    uni_df = pd.DataFrame([[uni['title'],uni['region'], uni['country'], uni['rank_display'].replace('=',' '),\n",
    "                            uni['score'], tot_staff, inter_staff, tot_stud, inter_stud]], columns = qs_columns)\n",
    "    qs_uni_rank = qs_uni_rank.append(uni_df)\n",
    "\n",
    "qs_uni_rank.index = list(range(1,201))\n"
   ]
  },
  {
   "cell_type": "markdown",
   "metadata": {},
   "source": [
    "# Second Website: THE ranking\n",
    "\n",
    "Note that as the number students, the number of staffs and the number of international students are already mentionned in the QS ranking website they are not scrapped from the Times University Ranking website. We indeed assume that the information provided by the QS ranking website are reliable."
   ]
  },
  {
   "cell_type": "code",
   "execution_count": null,
   "metadata": {
    "scrolled": true
   },
   "outputs": [],
   "source": [
    "the_r = requests.get(\"https://www.timeshighereducation.com/sites/default/files/the_data_rankings/world_university_rankings_2018_limit0_369a9045a203e176392b9fb8f8c1cb2a.json\")\n",
    "\n",
    "the_uni_dict = the_r.json()['data'][:200]\n",
    "\n",
    "the_columns = ['Name','Location','THE Rank','THE Score']\n",
    "#the_columns = ['Name','Location','THE Rank','Score', 'No students', 'International students ratio','No students per staff']\n",
    "the_uni_rank = pd.DataFrame(index = [], columns=the_columns)\n",
    "the_uni_rank.head()"
   ]
  },
  {
   "cell_type": "code",
   "execution_count": null,
   "metadata": {},
   "outputs": [],
   "source": [
    "for uni in the_uni_dict:\n",
    "    uni_df = pd.DataFrame([[uni['name'],uni['location'], uni['rank'],uni['scores_overall']]],columns = the_columns)\n",
    "    the_uni_rank = the_uni_rank.append(uni_df)\n",
    "    \n",
    "the_uni_rank.index = list(range(1,201))"
   ]
  },
  {
   "cell_type": "code",
   "execution_count": null,
   "metadata": {},
   "outputs": [],
   "source": [
    "print(qs_columns)\n",
    "print(the_columns)"
   ]
  },
  {
   "cell_type": "markdown",
   "metadata": {},
   "source": [
    "###### Printing the two DataFrames"
   ]
  },
  {
   "cell_type": "code",
   "execution_count": null,
   "metadata": {},
   "outputs": [],
   "source": [
    "qs_uni_rank.head()"
   ]
  },
  {
   "cell_type": "code",
   "execution_count": null,
   "metadata": {},
   "outputs": [],
   "source": [
    "the_uni_rank.head()"
   ]
  },
  {
   "cell_type": "markdown",
   "metadata": {
    "collapsed": true
   },
   "source": [
    "# Merging the two DataFrames"
   ]
  },
  {
   "cell_type": "code",
   "execution_count": null,
   "metadata": {},
   "outputs": [],
   "source": [
    "# Removing brackets and choosing the option that is less likely to be an acronym\n",
    "for ind_qs, qs_uni_name in enumerate(qs_uni_rank['Name']):\n",
    "    if ('(' in qs_uni_name):\n",
    "        first_brack = qs_uni_name.index('(')\n",
    "        brack_content = qs_uni_name[first_brack+1:-1]\n",
    "        if (' ' in brack_content):\n",
    "            qs_uni_rank['Name'].iloc[ind_qs] = brack_content\n",
    "        else:\n",
    "            qs_uni_rank['Name'].iloc[ind_qs] = qs_uni_name[:first_brack-1]\n",
    "         "
   ]
  },
  {
   "cell_type": "markdown",
   "metadata": {},
   "source": [
    "There is only one difference in the location definition between both DataFrames that is fixed now. Indeed it is necessary to do so for the merging operation to not fail."
   ]
  },
  {
   "cell_type": "code",
   "execution_count": null,
   "metadata": {},
   "outputs": [],
   "source": [
    "print(\"Before changing:\")\n",
    "print(qs_uni_rank[qs_uni_rank['Name'] == 'Lomonosov Moscow State University']['Location'])\n",
    "print(the_uni_rank[the_uni_rank['Name'] == 'Lomonosov Moscow State University']['Location'])\n",
    "the_uni_rank.loc[194, 'Location'] = 'Russia'\n",
    "print()\n",
    "print(\"After changing:\")\n",
    "print(the_uni_rank[the_uni_rank['Name'] == 'Lomonosov Moscow State University']['Location'])\n"
   ]
  },
  {
   "cell_type": "code",
   "execution_count": null,
   "metadata": {
    "scrolled": false
   },
   "outputs": [],
   "source": [
    "merged_uni_rank = pd.merge(qs_uni_rank, the_uni_rank, how = \"outer\")\n",
    "merged_uni_rank = merged_uni_rank.set_index('Name')\n",
    "merged_uni_rank.index.is_unique"
   ]
  },
  {
   "cell_type": "code",
   "execution_count": null,
   "metadata": {},
   "outputs": [],
   "source": [
    "merged_uni_rank.head()"
   ]
  }
 ],
 "metadata": {
  "kernelspec": {
   "display_name": "Python 3",
   "language": "python",
   "name": "python3"
  },
  "language_info": {
   "codemirror_mode": {
    "name": "ipython",
    "version": 3
   },
   "file_extension": ".py",
   "mimetype": "text/x-python",
   "name": "python",
   "nbconvert_exporter": "python",
   "pygments_lexer": "ipython3",
   "version": "3.6.2"
  }
 },
 "nbformat": 4,
 "nbformat_minor": 2
}
