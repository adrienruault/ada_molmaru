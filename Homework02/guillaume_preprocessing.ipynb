{
 "cells": [
  {
   "cell_type": "code",
   "execution_count": null,
   "metadata": {
    "collapsed": true
   },
   "outputs": [],
   "source": [
    "# Import libraries\n",
    "import requests\n",
    "import matplotlib.pyplot as plt\n",
    "from bs4 import BeautifulSoup\n",
    "import pandas as pd\n",
    "import math\n",
    "pd.options.mode.chained_assignment = None  # default='warn'\n",
    "%matplotlib inline"
   ]
  },
  {
   "cell_type": "markdown",
   "metadata": {},
   "source": [
    "# First Website : QS Ranking"
   ]
  },
  {
   "cell_type": "markdown",
   "metadata": {},
   "source": [
    "Data scraping for this first website takes quite a long time, so we let us the opportunity to load the dataframe from a presaved csv."
   ]
  },
  {
   "cell_type": "code",
   "execution_count": null,
   "metadata": {
    "collapsed": true
   },
   "outputs": [],
   "source": [
    "qs_uni_rank = pd.DataFrame.from_csv('QS_dataframe.csv')"
   ]
  },
  {
   "cell_type": "markdown",
   "metadata": {},
   "source": [
    "Using Postman, we found this request which gives a JSON containing most of the data we're interested in."
   ]
  },
  {
   "cell_type": "code",
   "execution_count": null,
   "metadata": {
    "collapsed": true
   },
   "outputs": [],
   "source": [
    "qs_url = 'https://www.topuniversities.com/sites/default/files/qs-rankings-data/357051.txt?_=1508694016501'\n",
    "qs_r = requests.get(qs_url)"
   ]
  },
  {
   "cell_type": "code",
   "execution_count": null,
   "metadata": {
    "collapsed": true
   },
   "outputs": [],
   "source": [
    "qs_uni_dict = qs_r.json()"
   ]
  },
  {
   "cell_type": "markdown",
   "metadata": {},
   "source": [
    "We create the dataframe with the column name in accordance with the data we're about to collect."
   ]
  },
  {
   "cell_type": "code",
   "execution_count": null,
   "metadata": {},
   "outputs": [],
   "source": [
    "qs_columns = ['Name','Region','Location','QS Rank','QS Score','No Staffs', 'No internat staffs', 'QS No students', 'No internat students']\n",
    "qs_uni_rank = pd.DataFrame(index = [], columns=qs_columns)\n",
    "qs_uni_rank.head()"
   ]
  },
  {
   "cell_type": "markdown",
   "metadata": {},
   "source": [
    "Since the informations about the numbers of staff and students, international or not, aren't stored in the JSON file,\n",
    "we use the following function to get these data from the specific universities HTML pages."
   ]
  },
  {
   "cell_type": "code",
   "execution_count": null,
   "metadata": {
    "collapsed": true
   },
   "outputs": [],
   "source": [
    "def get_numbers_stud_staff(url):\n",
    "    r_uni = requests.get(\"https://www.topuniversities.com\" + url)\n",
    "    \n",
    "    html_request_uni = BeautifulSoup(r_uni.text, 'html.parser')\n",
    "    \n",
    "    header_staff = html_request_uni.find('div',class_='faculty-main wrapper col-md-4')\n",
    "    header_stud_total = html_request_uni.find('div',class_='students-main wrapper col-md-4')\n",
    "    header_stud_inter = html_request_uni.find('div',class_='int-students-main wrapper col-md-4')\n",
    "    \n",
    "    if ((header_staff == None) & (header_stud_total == None) & (header_stud_inter == None)):\n",
    "        return (pd.np.nan,pd.np.nan,pd.np.nan,pd.np.nan)\n",
    "        \n",
    "\n",
    "    subdiv_staff_total = header_staff.find('div', class_='total faculty')\n",
    "    subdiv_staff_inter = header_staff.find('div', class_= 'inter faculty')\n",
    "    subdiv_stud_total = header_stud_total.find('div', class_='total student')\n",
    "    subdiv_stud_inter = header_stud_inter.find('div', class_='total inter')\n",
    "    \n",
    "    num_staff_total = int(subdiv_staff_total.find('div', class_ = 'number').text[1:-1].replace(',',''))\n",
    "    if (subdiv_staff_inter != None):\n",
    "        num_staff_inter = int(subdiv_staff_inter.find('div', class_ = 'number').text[1:-1].replace(',',''))\n",
    "    else:\n",
    "        num_staff_inter = pd.np.nan\n",
    "    num_stud_total = int(subdiv_stud_total.find('div', class_ = 'number').text[1:-1].replace(',',''))\n",
    "    num_stud_inter = int(subdiv_stud_inter.find('div', class_ = 'number').text[1:-1].replace(',',''))\n",
    "    \n",
    "    return (num_staff_total, num_staff_inter, num_stud_total, num_stud_inter)"
   ]
  },
  {
   "cell_type": "code",
   "execution_count": null,
   "metadata": {},
   "outputs": [],
   "source": [
    "uni_list = qs_uni_dict['data']\n",
    "i = 0\n",
    "for uni in uni_list[:200]:\n",
    "    i+=1\n",
    "    if (i%40 == 0):\n",
    "        print(i)\n",
    "    (tot_staff, inter_staff, tot_stud, inter_stud) = get_numbers_stud_staff(uni['url'])\n",
    "    uni_df = pd.DataFrame([[uni['title'],uni['region'], uni['country'], uni['rank_display'].replace('=',' '),\n",
    "                            uni['score'], tot_staff, inter_staff, tot_stud, inter_stud]], columns = qs_columns)\n",
    "    qs_uni_rank = qs_uni_rank.append(uni_df)\n",
    "\n",
    "qs_uni_rank.index = list(range(1,201))\n"
   ]
  },
  {
   "cell_type": "code",
   "execution_count": null,
   "metadata": {},
   "outputs": [],
   "source": [
    "qs_uni_rank.to_csv('QS_dataframe.csv')\n",
    "qs_uni_rank"
   ]
  },
  {
   "cell_type": "markdown",
   "metadata": {},
   "source": [
    "We now convert each numerical column into float type and calculate the ratios we're interested in"
   ]
  },
  {
   "cell_type": "code",
   "execution_count": null,
   "metadata": {},
   "outputs": [],
   "source": [
    "numerical_fields = ['QS Rank', 'QS Score','No Staffs', 'No internat staffs', 'QS No students', 'No internat students']\n",
    "\n",
    "for field in numerical_fields:\n",
    "    qs_uni_rank.loc[:,field] = qs_uni_rank.loc[:,field].astype(float)\n",
    "\n",
    "qs_uni_rank['QS International Students Ratio']\\\n",
    "                    = qs_uni_rank['No internat students'] / qs_uni_rank['QS No students']\n",
    "qs_uni_rank['QS Staff per Student Ratio'] = qs_uni_rank['No Staffs'] / qs_uni_rank['QS No students']\n",
    "\n",
    "qs_uni_rank = qs_uni_rank.drop(['No internat students','No Staffs','No internat staffs'],axis=1)\n",
    "\n",
    "qs_uni_rank"
   ]
  },
  {
   "cell_type": "code",
   "execution_count": null,
   "metadata": {
    "collapsed": true
   },
   "outputs": [],
   "source": [
    "num_values_index = ['QS International Students Ratio', 'QS Staff per Student Ratio']\n",
    "\n",
    "region_qs = qs_uni_rank[['Region'] + num_values_index].set_index('Region')\\\n",
    "                .groupby('Region').mean()\n",
    "    \n",
    "location_qs = qs_uni_rank[['Location'] + num_values_index].set_index('Location')\\\n",
    "                .groupby('Location').mean()\n",
    "\n",
    "name_qs = qs_uni_rank[['Name'] + num_values_index].set_index('Name')"
   ]
  },
  {
   "cell_type": "markdown",
   "metadata": {},
   "source": [
    "Now that we grouped the values we were interested in by location, region and name, we can plot and print \n",
    "the main results"
   ]
  },
  {
   "cell_type": "code",
   "execution_count": null,
   "metadata": {},
   "outputs": [],
   "source": [
    "print( \"Ten first universities in terms of international students ratio :\")\n",
    "print(name_qs.sort_values(['QS International Students Ratio'],ascending=False)[1:10]['QS International Students Ratio'],'\\n','\\n')\n",
    "\n",
    "print( \"Ten first universities in terms of staff over students ratio :\")\n",
    "print(name_qs.sort_values(['QS Staff per Student Ratio'],ascending=False)[1:10]['QS Staff per Student Ratio'])"
   ]
  },
  {
   "cell_type": "code",
   "execution_count": null,
   "metadata": {},
   "outputs": [],
   "source": [
    "print( \"Ten first locations in terms of international students ratio :\")\n",
    "print(location_qs.sort_values(['QS International Students Ratio'],ascending=False)[1:10]['QS International Students Ratio'],'\\n','\\n')\n",
    "\n",
    "print( \"Ten first locations in terms of staff over students ratio :\")\n",
    "print(location_qs.sort_values(['QS Staff per Student Ratio'],ascending=False)[1:10]['QS Staff per Student Ratio'])\n",
    "\n",
    "location_qs.plot(kind='bar',figsize=[20,5],fontsize=14)"
   ]
  },
  {
   "cell_type": "code",
   "execution_count": null,
   "metadata": {},
   "outputs": [],
   "source": [
    "region_qs.plot(kind='bar',fontsize=12)"
   ]
  },
  {
   "cell_type": "markdown",
   "metadata": {},
   "source": [
    "# Second Website: THE ranking\n",
    "\n",
    "Note that as the number students, the number of staffs and the number of international students are already mentionned in the QS ranking website they are not scrapped from the Times University Ranking website. We indeed assume that the information provided by the QS ranking website are reliable."
   ]
  },
  {
   "cell_type": "code",
   "execution_count": null,
   "metadata": {
    "scrolled": true
   },
   "outputs": [],
   "source": [
    "the_r = requests.get(\"https://www.timeshighereducation.com/sites/default/files/the_data_rankings/world_university_rankings_2018_limit0_369a9045a203e176392b9fb8f8c1cb2a.json\")\n",
    "\n",
    "the_uni_dict = the_r.json()['data'][:200]\n",
    "\n",
    "the_columns = ['Name','Location','THE Rank','THE Score','THE No Students', 'THE International Students Ratio','THE Staff per Student Ratio']\n",
    "the_uni_rank = pd.DataFrame(index = [], columns=the_columns)\n",
    "the_uni_rank.head()"
   ]
  },
  {
   "cell_type": "code",
   "execution_count": null,
   "metadata": {},
   "outputs": [],
   "source": [
    "for uni in the_uni_dict:\n",
    "    uni_df = pd.DataFrame([[uni['name'],uni['location'], uni['rank'].replace('=',' '),uni['scores_overall'],\\\n",
    "                           uni['stats_number_students'],uni['stats_pc_intl_students'],\\\n",
    "                          uni['stats_student_staff_ratio']]],columns = the_columns)\n",
    "    the_uni_rank = the_uni_rank.append(uni_df)\n",
    "    \n",
    "the_uni_rank.index = list(range(1,201))"
   ]
  },
  {
   "cell_type": "markdown",
   "metadata": {},
   "source": [
    "Let's convert all the numbers in float format."
   ]
  },
  {
   "cell_type": "code",
   "execution_count": null,
   "metadata": {},
   "outputs": [],
   "source": [
    "the_uni_rank.loc[:,'THE International Students Ratio'] = \\\n",
    "            the_uni_rank.loc[:,'THE International Students Ratio'].astype(str).replace({'%':''}, regex=True)\\\n",
    "            .astype(float)/100\n",
    "\n",
    "numeric_fields = ['THE Rank', 'THE Score', 'THE No Students', 'THE Staff per Student Ratio']\n",
    "for field in numeric_fields:\n",
    "    the_uni_rank.loc[:,field] = the_uni_rank.loc[:,field].astype(str).replace({',':'.'}, regex=True).astype(float)\n",
    "\n",
    "the_uni_rank.loc[:,'THE Staff per Student Ratio'] = 1/the_uni_rank.loc[:,'THE Staff per Student Ratio']"
   ]
  },
  {
   "cell_type": "code",
   "execution_count": null,
   "metadata": {},
   "outputs": [],
   "source": [
    "the_uni_rank"
   ]
  },
  {
   "cell_type": "code",
   "execution_count": null,
   "metadata": {},
   "outputs": [],
   "source": [
    "qs_location_region = qs_uni_rank[['Location','Region']].drop_duplicates()\n",
    "\n",
    "the_with_regions = pd.merge(the_uni_rank,qs_location_region, how='outer', on='Location')\n",
    "qs_location_region = the_with_regions[['Location','Region']]\n",
    "\n",
    "the_with_regions = the_with_regions[the_with_regions['THE Rank'].notnull()]\n",
    "the_with_regions[the_with_regions['Region'].isnull()]"
   ]
  },
  {
   "cell_type": "raw",
   "metadata": {},
   "source": [
    "We see that it remains two NaN values for regions, we can add it manually"
   ]
  },
  {
   "cell_type": "code",
   "execution_count": null,
   "metadata": {},
   "outputs": [],
   "source": [
    "the_with_regions.loc[the_with_regions['Location'] == 'Luxembourg','Region'] = 'Europe'\n",
    "the_with_regions.loc[the_with_regions['Location'] == 'Russian Federation','Region'] = 'Europe'\n",
    "the_with_regions[the_with_regions['Region'].isnull()]"
   ]
  },
  {
   "cell_type": "raw",
   "metadata": {},
   "source": [
    "Now that we have a region assigned, we can do the same analysis as part 1."
   ]
  },
  {
   "cell_type": "code",
   "execution_count": null,
   "metadata": {},
   "outputs": [],
   "source": [
    "num_values_index = ['THE International Students Ratio', 'THE Staff per Student Ratio']\n",
    "\n",
    "region_the = the_with_regions[['Region'] + num_values_index].set_index('Region')\\\n",
    "                .groupby('Region').mean()\n",
    "    \n",
    "location_the = the_with_regions[['Location'] + num_values_index].set_index('Location')\\\n",
    "                .groupby('Location').mean()\n",
    "\n",
    "name_the = the_with_regions[['Name'] + num_values_index].set_index('Name')"
   ]
  },
  {
   "cell_type": "code",
   "execution_count": null,
   "metadata": {},
   "outputs": [],
   "source": [
    "print( \"Ten first universities in terms of international students ratio :\")\n",
    "print(name_the.sort_values(['THE International Students Ratio'],ascending=False)[1:10]['THE International Students Ratio'],'\\n','\\n')\n",
    "\n",
    "print( \"Ten first universities in terms of staff over students ratio :\")\n",
    "print(name_the.sort_values(['THE Staff per Student Ratio'],ascending=False)[1:10]['THE Staff per Student Ratio'])"
   ]
  },
  {
   "cell_type": "code",
   "execution_count": null,
   "metadata": {},
   "outputs": [],
   "source": [
    "print( \"Ten first locations in terms of international students ratio :\")\n",
    "print(location_the.sort_values(['THE International Students Ratio'],ascending=False)[1:10]['THE International Students Ratio'],'\\n','\\n')\n",
    "\n",
    "print( \"Ten first locations in terms of staff over students ratio :\")\n",
    "print(location_the.sort_values(['THE Staff per Student Ratio'],ascending=False)[1:10]['THE Staff per Student Ratio'])\n",
    "\n",
    "location_the.plot(kind='bar',figsize=[20,5],fontsize=14)"
   ]
  },
  {
   "cell_type": "code",
   "execution_count": null,
   "metadata": {},
   "outputs": [],
   "source": [
    "plt.figure()\n",
    "region_the.plot(kind='bar')"
   ]
  },
  {
   "cell_type": "markdown",
   "metadata": {
    "collapsed": true
   },
   "source": [
    "# Merging the two DataFrames"
   ]
  },
  {
   "cell_type": "code",
   "execution_count": null,
   "metadata": {},
   "outputs": [],
   "source": [
    "# Removing brackets and choosing the option that is less likely to be an acronym\n",
    "for ind_qs, qs_uni_name in enumerate(qs_uni_rank['Name']):\n",
    "    if ('(' in qs_uni_name):\n",
    "        first_brack = qs_uni_name.index('(')\n",
    "        brack_content = qs_uni_name[first_brack+1:-1]\n",
    "        if (' ' in brack_content):\n",
    "            qs_uni_rank['Name'].iloc[ind_qs] = brack_content\n",
    "        else:\n",
    "            qs_uni_rank['Name'].iloc[ind_qs] = qs_uni_name[:first_brack-1]\n",
    "         "
   ]
  },
  {
   "cell_type": "markdown",
   "metadata": {},
   "source": [
    "There is only one difference in the location definition between both DataFrames that is fixed now. Indeed it is necessary to do so for the merging operation to not fail."
   ]
  },
  {
   "cell_type": "code",
   "execution_count": null,
   "metadata": {},
   "outputs": [],
   "source": [
    "print(\"Before changing:\")\n",
    "print(qs_uni_rank[qs_uni_rank['Name'] == 'Lomonosov Moscow State University']['Location'])\n",
    "print(the_uni_rank[the_uni_rank['Name'] == 'Lomonosov Moscow State University']['Location'])\n",
    "the_uni_rank.loc[194, 'Location'] = 'Russia'\n",
    "print()\n",
    "print(\"After changing:\")\n",
    "print(the_uni_rank[the_uni_rank['Name'] == 'Lomonosov Moscow State University']['Location'])\n"
   ]
  },
  {
   "cell_type": "code",
   "execution_count": null,
   "metadata": {
    "scrolled": false
   },
   "outputs": [],
   "source": [
    "merged_uni_rank = pd.merge(qs_uni_rank, the_uni_rank, how = \"outer\")\n",
    "merged_uni_rank = merged_uni_rank.set_index('Name')\n",
    "merged_uni_rank.index.is_unique"
   ]
  },
  {
   "cell_type": "code",
   "execution_count": null,
   "metadata": {},
   "outputs": [],
   "source": [
    "merged_uni_rank"
   ]
  }
 ],
 "metadata": {
  "kernelspec": {
   "display_name": "Python 3",
   "language": "python",
   "name": "python3"
  },
  "language_info": {
   "codemirror_mode": {
    "name": "ipython",
    "version": 3
   },
   "file_extension": ".py",
   "mimetype": "text/x-python",
   "name": "python",
   "nbconvert_exporter": "python",
   "pygments_lexer": "ipython3",
   "version": "3.6.1"
  }
 },
 "nbformat": 4,
 "nbformat_minor": 2
}
