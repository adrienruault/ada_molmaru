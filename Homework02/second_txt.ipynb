{
 "cells": [
  {
   "cell_type": "code",
   "execution_count": null,
   "metadata": {
    "collapsed": true
   },
   "outputs": [],
   "source": [
    "URL = 'https://www.topuniversities.com/sites/default/files/qs-rankings-data/357051_indicators.txt'\n",
    "r = requests.get(URL)"
   ]
  },
  {
   "cell_type": "code",
   "execution_count": null,
   "metadata": {
    "collapsed": true
   },
   "outputs": [],
   "source": [
    "uni_table = r.json()\n",
    "\n",
    "columns_table = uni_table['columns']\n",
    "data_table = uni_table['data']\n",
    "\n",
    "features = []\n",
    "features_title = []\n",
    "\n",
    "for column in columns_table:\n",
    "    soup = BeautifulSoup(column['title'], 'html.parser')\n",
    "    features.append(soup.text)\n",
    "    features_title.append(column['data'])\n",
    "    \n",
    "print(features)\n",
    "print(features_title)\n",
    "\n",
    "\n",
    "\n",
    "uni_rank_2 = pd.DataFrame(columns=features_title)\n",
    "\n",
    "interesting_features = ['region', 'location', 'uni', 'rank', '2971070_rank_d', '2971074_rank_d']\n",
    "\n",
    "for data in data_table[:200] :\n",
    "    \n",
    "    features_values = pd.DataFrame(columns= features_title)\n",
    "    \n",
    "    for feature in data :\n",
    "        \n",
    "        if data[feature]:\n",
    "            soup = BeautifulSoup(data[feature], 'html.parser')\n",
    "        else : soup = BeautifulSoup('Nan', 'html.parser')\n",
    "        \n",
    "        features_values.loc['0',feature] = soup.text\n",
    "    \n",
    "    uni_rank_2 = uni_rank_2.append(features_values)\n",
    "    \n",
    "uni_rank_2.columns = features\n",
    "uni_rank_2.index = list(range(0,200))\n",
    "uni_rank_2\n",
    "\n",
    "\n",
    "\n",
    "a = list(uni_rank['Name']) \n",
    "b = list(uni_rank_2['UNIVERSITY'])\n",
    "\n",
    "[x for x in range(0,len(a))  if a[x] != b[x]]"
   ]
  }
 ],
 "metadata": {
  "kernelspec": {
   "display_name": "Python 3",
   "language": "python",
   "name": "python3"
  },
  "language_info": {
   "codemirror_mode": {
    "name": "ipython",
    "version": 3
   },
   "file_extension": ".py",
   "mimetype": "text/x-python",
   "name": "python",
   "nbconvert_exporter": "python",
   "pygments_lexer": "ipython3",
   "version": "3.6.1"
  }
 },
 "nbformat": 4,
 "nbformat_minor": 2
}
