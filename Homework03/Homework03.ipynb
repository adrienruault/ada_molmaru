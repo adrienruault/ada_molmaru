{
 "cells": [
  {
   "cell_type": "code",
   "execution_count": 11,
   "metadata": {},
   "outputs": [
    {
     "data": {
      "text/plain": [
       "True"
      ]
     },
     "execution_count": 11,
     "metadata": {},
     "output_type": "execute_result"
    }
   ],
   "source": [
    "import os\n",
    "import pandas as pd\n",
    "import numpy as np\n",
    "import matplotlib.pyplot as plt\n",
    "import json\n",
    "import folium\n",
    "import pandas as pd\n",
    "from ipywidgets.widgets import interact\n",
    "folium.__version__ == '0.5.0'"
   ]
  },
  {
   "cell_type": "markdown",
   "metadata": {},
   "source": [
    "# 1. Europe Map"
   ]
  },
  {
   "cell_type": "markdown",
   "metadata": {},
   "source": [
    "We first import the topojson"
   ]
  },
  {
   "cell_type": "code",
   "execution_count": 12,
   "metadata": {},
   "outputs": [],
   "source": [
    "topojson_europe_path = 'topojson/europe.topojson.json'\n",
    "topojson_europe = json.load(open(topojson_europe_path))"
   ]
  },
  {
   "cell_type": "markdown",
   "metadata": {},
   "source": [
    "To improve map interaction, we want to add markers one each country, so that we can display the exact data showed on the map. To do so, we have downloaded a csv of all the countries with the position of their respective capital. We check that the countries in the topojson match the countries in the csv, and we rename the countries that mismatch.\n",
    "Also, we remove the 'United States' row as it cause a shift in the csv, and we do not need it.\n",
    "We also remove Vatican city because we don't have data for this country, and it hides Italy data on the map.\n",
    "\n",
    "Link for the csv: http://techslides.com/list-of-countries-and-capitals"
   ]
  },
  {
   "cell_type": "code",
   "execution_count": 13,
   "metadata": {},
   "outputs": [
    {
     "name": "stdout",
     "output_type": "stream",
     "text": [
      "The former Yugoslav Republic of Macedonia\n",
      "Republic of Moldova\n",
      "Holy See (Vatican City)\n"
     ]
    }
   ],
   "source": [
    "# csv for capital locations preprocessing\n",
    "#http://techslides.com/list-of-countries-and-capitals\n",
    "countries = pd.read_csv('./europe_data/country-capitals.csv')\n",
    "countries.index = countries['CountryName']\n",
    "for i in range(len(topojson_europe['objects']['europe']['geometries'])):\n",
    "    name = topojson_europe['objects']['europe']['geometries'][i]['properties']['NAME']\n",
    "    if not name in countries.index:\n",
    "        print(name)\n",
    "\n",
    "countries = countries[countries['CapitalLatitude'] != ' D.C.'].rename({'Moldova':'Republic of Moldova',\n",
    "                                                                      'Macedonia': 'The former Yugoslav Republic of Macedonia'})"
   ]
  },
  {
   "cell_type": "markdown",
   "metadata": {},
   "source": [
    "Here we define all the functions implemented to output the map we want.\n",
    "\n",
    "1. opacity_nan function allows to determine if we have data for a specified country. If there's some data, an opacity of 0 is defined for the country, and if there's no data, an opacity of 1. With this opacity, we then attribute a grey layer (in the function put_nan_layer) on every country, that finally appears only on coutries with no data. It allows our map to well show for which country we have unavailable data.\n",
    "\n",
    "2. get_value_or_NaN returns the value of a field, or an 'Unavailable data' message when the field is empty or doesn't exist. This value will be displayed in markers.\n",
    "\n",
    "3. get_clean_df returns a clean panda dataframe given the path of the excel file we want to load.\n",
    "\n",
    "4. put_nan_layer puts the grey layer, calling the opacity_nan_function\n",
    "\n",
    "5. generate_map creates the map we want for a given excel path and a year. We can specify if we want the markers displayed or not (by default we do not display it). It calls the choroplet built-in function to draw the density map, and then set the NaN layer before adding the markers if asked.\n",
    "\n",
    "6. generate_growth_map does the same as generate_map but shows the evolution between two years passed as arguments.\n",
    "\n"
   ]
  },
  {
   "cell_type": "code",
   "execution_count": 14,
   "metadata": {},
   "outputs": [],
   "source": [
    "def opacity_nan(df, country,year):\n",
    "    if not country in df[year].dropna().index:\n",
    "        return 1\n",
    "    else:\n",
    "        return 0\n",
    "    \n",
    "def get_value_or_NaN(df, country, year):\n",
    "    if (country in df.index):\n",
    "        if (pd.notnull(df.loc[country][year])):\n",
    "            return str(df.loc[country][year]) + '%'\n",
    "    return 'Unavailable data'\n",
    "\n",
    "def get_clean_df(excel_path,title):\n",
    "    raw_excel = pd.read_excel(excel_path).dropna()\n",
    "    df = raw_excel.set_index(raw_excel[title].values).drop(title,axis=1)\n",
    "    df.columns = df.iloc[0]\n",
    "    df = df.drop('geo\\\\time',axis=0).replace(':','NaN').astype(float).rename({\n",
    "                          'Former Yugoslav Republic of Macedonia, the' :'The former Yugoslav Republic of Macedonia'})\n",
    "    return df\n",
    "\n",
    "def put_nan_layer(m, df, year):\n",
    "    folium.TopoJson(\n",
    "        topojson_europe,\n",
    "        'objects.europe',\n",
    "        style_function=lambda feature: {\n",
    "            #not feature['properties']['NAME'] in df_total_unemployment.index:\n",
    "            'fillColor':  '#5b5858',\n",
    "            'fillOpacity': opacity_nan(df, feature['properties']['NAME'],year),\n",
    "            }\n",
    "        ).add_to(m)\n",
    "    \n",
    "def generate_map(excel_path, title, legend_title, year, markers=False):\n",
    "    \n",
    "    df= get_clean_df(excel_path, title)\n",
    "    \n",
    "    m_europe = folium.Map([60,30],zoom_start=3.4,min_zoom=3.)\n",
    "    \n",
    "    m_europe.choropleth(\n",
    "        geo_data= topojson_europe,\n",
    "        topojson = 'objects.europe',\n",
    "        name= legend_title,\n",
    "        data = df,\n",
    "        columns=[df.index, year],\n",
    "        key_on='feature.properties.NAME',\n",
    "        fill_color='YlOrRd',\n",
    "        fill_opacity=0.7,\n",
    "        line_opacity=0.2,\n",
    "        legend_name= legend_title +' (%)'\n",
    "    )\n",
    "    \n",
    "    put_nan_layer(m_europe, df, year)\n",
    "    \n",
    "    folium.LayerControl().add_to(m_europe)\n",
    "    \n",
    "    if markers:\n",
    "        for i in range(len(topojson_europe['objects']['europe']['geometries'])):\n",
    "            name = topojson_europe['objects']['europe']['geometries'][i]['properties']['NAME']\n",
    "            if name in countries.index:\n",
    "                folium.Marker([countries['CapitalLatitude'].astype(float).loc[name], countries['CapitalLongitude'].astype(float).loc[name]],\n",
    "                      popup=name + ': ' + get_value_or_NaN(df, name, year),\n",
    "                      icon=folium.Icon(icon='cloud')\n",
    "                      ).add_to(m_europe)\n",
    "    \n",
    "    return m_europe\n",
    "\n",
    "def generate_growth_map(excel_path, title, legend_title, year_start, year_end, markers=False):\n",
    "    \n",
    "    df= get_clean_df(excel_path, title)\n",
    "    \n",
    "    m_europe = folium.Map([60,30],zoom_start=3.4,min_zoom=3.)\n",
    "    \n",
    "    year = year_start + '-' + year_start\n",
    "    df[year] = (df[year_end] - df[year_start])*-1\n",
    "    \n",
    "    m_europe.choropleth(\n",
    "        geo_data= topojson_europe,\n",
    "        topojson = 'objects.europe',\n",
    "        name= legend_title,\n",
    "        data = df,\n",
    "        columns=[df.index, year],\n",
    "        key_on='feature.properties.NAME',\n",
    "        fill_color= 'RdBu',\n",
    "        fill_opacity=0.7,\n",
    "        line_opacity=0.2,\n",
    "        legend_name= legend_title +' (%)'\n",
    "    )\n",
    "    \n",
    "    put_nan_layer(m_europe, df, year)\n",
    "    \n",
    "    folium.LayerControl().add_to(m_europe)\n",
    "    \n",
    "    if markers:\n",
    "        for i in range(len(topojson_europe['objects']['europe']['geometries'])):\n",
    "            name = topojson_europe['objects']['europe']['geometries'][i]['properties']['NAME']\n",
    "            if name in countries.index:\n",
    "                folium.Marker([countries['CapitalLatitude'].astype(float).loc[name], countries['CapitalLongitude'].astype(float).loc[name]],\n",
    "                      popup=name + ': ' + get_value_or_NaN(df, name, year),\n",
    "                      icon=folium.Icon(icon='cloud')\n",
    "                      ).add_to(m_europe)\n",
    "    \n",
    "    return m_europe"
   ]
  },
  {
   "cell_type": "markdown",
   "metadata": {},
   "source": [
    "This function defines the maps we can query. It is the function that will be used in the interact widget."
   ]
  },
  {
   "cell_type": "code",
   "execution_count": 15,
   "metadata": {},
   "outputs": [],
   "source": [
    "def query_map(query_name, sex, year, markers=0):\n",
    "    year = str(year) #allows to pass year as int argument\n",
    "    if query_name == 'Unemployment':\n",
    "        f = open('./europe_data/unemployment_description.txt', 'r')\n",
    "        print(f.read())\n",
    "        f.close()\n",
    "        return generate_map('./europe_data/unemployment_15_74_'+ sex +'.xls',title='Unemployment rate by sex',\n",
    "             legend_title=sex+' Unemployment in ' + year, year=year, markers=markers)\n",
    "\n",
    "    if query_name == 'Young people Inactivity':\n",
    "        f = open('./europe_data/no_activity_15_24_people_description.txt', 'r')\n",
    "        print(f.read())\n",
    "        f.close()\n",
    "        return generate_map('./europe_data/no_activity_15_24_people_'+ sex +'.xls',\n",
    "             title='Young people neither in employment nor in education and training by sex',\n",
    "             legend_title=sex + ' Young people Inactivity in ' + year, year=year, markers=markers)\n",
    "\n",
    "    if query_name == 'Long Term Unemployment':\n",
    "        f = open('./europe_data/long_term_unemployment_description.txt', 'r')\n",
    "        print(f.read())\n",
    "        f.close()\n",
    "        return generate_map('./europe_data/long_term_unemployment_'+ sex +'.xls',\n",
    "             title='Long-term unemployment rate by sex',\n",
    "             legend_title=sex + ' Long Term Unemployment in ' + year, year=year, markers=markers)\n",
    "    \n",
    "    "
   ]
  },
  {
   "cell_type": "markdown",
   "metadata": {},
   "source": [
    "Here is the widget that allows to show maps we managed to create. We can display maps for global unemployment ratio, Young people inactivity and Long Term Unemployment. For each of these maps, we can choose a sex and a year and display the relative map. A description of how is calculated the ratio for each request is displayed when running the widget.\n",
    "We recommend to open it in python notebook to have the choice in all the maps available, and to get the description.\n",
    "Otherwise, here are some maps we generated:\n",
    "\n",
    "[Total unemployment in 2016 (with markers)](./europe_data/tot_unempl_2016_mark.html)\n",
    "\n",
    "[Male unemployment in 2016 (with markers):](./europe_data/male_unempl_2016_mark.html)\n",
    "\n",
    "[Female unemployment in 2016 (with markers):](./europe_data/female_unempl_2016_mark.html)\n",
    "\n",
    "[Total Young people Inactivity in 2016 (with markers):](./europe_data/total_young_inactivity_2016_mark.html)\n",
    "\n",
    "[Total Long Term Unemployment in 2016 (with markers):](./europe_data/total_long_term_2016_mark.html)"
   ]
  },
  {
   "cell_type": "code",
   "execution_count": 16,
   "metadata": {},
   "outputs": [
    {
     "name": "stdout",
     "output_type": "stream",
     "text": [
      "Unemployment rate represents unemployed persons as a percentage of the labour force. The labour force is the total number of people employed and unemployed. Unemployed persons comprise persons aged 15 to 74 who were: \n",
      "a. without work during the reference week,\n",
      "b. currently available for work, i.e. were available for paid employment or self-employment before the end of the two weeks following the reference week, \n",
      "c. actively seeking work, i.e. had taken specific steps in the four weeks period ending with the reference week to seek paid employment or self-employment or who found a job to start later, i.e. within a period of, at most, three months.\n",
      "The indicator is based on the EU Labour Force Survey.\n",
      "\n"
     ]
    }
   ],
   "source": [
    "mymap = query_map(query_name='Unemployment',sex='Female',year=2016, markers=1)\n",
    "\n",
    "mymap.save('./europe_data/female_unempl_2016_mark.html')"
   ]
  },
  {
   "cell_type": "code",
   "execution_count": 17,
   "metadata": {},
   "outputs": [
    {
     "data": {
      "application/vnd.jupyter.widget-view+json": {
       "model_id": "d2c8ed687e604a2da2f3db9690be60a6",
       "version_major": 2,
       "version_minor": 0
      },
      "text/html": [
       "<p>Failed to display Jupyter Widget of type <code>interactive</code>.</p>\n",
       "<p>\n",
       "  If you're reading this message in Jupyter Notebook or JupyterLab, it may mean\n",
       "  that the widgets JavaScript is still loading. If this message persists, it\n",
       "  likely means that the widgets JavaScript library is either not installed or\n",
       "  not enabled. See the <a href=\"https://ipywidgets.readthedocs.io/en/stable/user_install.html\">Jupyter\n",
       "  Widgets Documentation</a> for setup instructions.\n",
       "</p>\n",
       "<p>\n",
       "  If you're reading this message in another notebook frontend (for example, a static\n",
       "  rendering on GitHub or <a href=\"https://nbviewer.jupyter.org/\">NBViewer</a>),\n",
       "  it may mean that your frontend doesn't currently support widgets.\n",
       "</p>\n"
      ],
      "text/plain": [
       "interactive(children=(Dropdown(description='query_name', options=('Unemployment', 'Young people Inactivity', 'Long Term Unemployment'), value='Unemployment'), Dropdown(description='sex', options=('Total', 'Male', 'Female'), value='Total'), Dropdown(description='year', options=(2005, 2006, 2007, 2008, 2009, 2010, 2011, 2012, 2013, 2014, 2015, 2016), value=2005), Dropdown(description='markers', options=(0, 1), value=0), Output()), _dom_classes=('widget-interact',))"
      ]
     },
     "metadata": {},
     "output_type": "display_data"
    },
    {
     "data": {
      "text/plain": [
       "<function __main__.query_map>"
      ]
     },
     "execution_count": 17,
     "metadata": {},
     "output_type": "execute_result"
    }
   ],
   "source": [
    "interact(query_map, query_name=['Unemployment','Young people Inactivity', 'Long Term Unemployment'],\n",
    "                         sex=['Total','Male','Female'],\n",
    "                        year=range(2005,2017),markers=[0,1])"
   ]
  },
  {
   "cell_type": "code",
   "execution_count": 18,
   "metadata": {},
   "outputs": [],
   "source": [
    "def query_growth_map(query_name, sex, year_start, year_end, markers=0):\n",
    "    year_start = str(year_start)\n",
    "    year_end = str(year_end)\n",
    "    if (int(year_start) < int(year_end)):\n",
    "        if query_name == 'Employment Growth':\n",
    "                f = open('./europe_data/unemployment_description.txt', 'r')\n",
    "                print(f.read())\n",
    "                f.close()\n",
    "                return generate_growth_map('./europe_data/unemployment_15_74_'+ sex +'.xls',title='Unemployment rate by sex',\n",
    "                     legend_title=sex+' Employment growth between ' + year_start + ' and ' + year_end,\n",
    "                                    year_start=year_start, year_end=year_end, markers=markers)\n",
    "        \n",
    "        if query_name == 'Young people Activity Growth':\n",
    "                f = open('./europe_data/unemployment_description.txt', 'r')\n",
    "                print(f.read())\n",
    "                f.close()\n",
    "                return generate_growth_map('./europe_data/no_activity_15_24_people_'+ sex +'.xls',title='Young people neither in employment nor in education and training by sex',\n",
    "                     legend_title=sex+' Young Activity growth between ' + year_start + ' and ' + year_end, year_start=year_start, year_end=year_end, markers=markers)"
   ]
  },
  {
   "cell_type": "markdown",
   "metadata": {},
   "source": [
    "Below is defined a new widget allowing to choose two different years and to see how a country improved its employment ratio in this time laps.\n",
    "\n",
    "We managed to have a 'positive' color (blue) when the employment ratio increased in a country, and a 'negative' color (red) when the employment ratio increased. The scale being automatically defined in choroplet built-in function, we couldn't fix the zero to white color.\n",
    "It maybe would have been judicious to define our own choroplet function in order to be more precise on the color map choice.\n",
    "\n",
    "Here is an example of the maps we can obtain (if you're not running the python notebook and hence can't have access to the widget):\n",
    "\n",
    "[Difference of employment ratio between 2005 and 2016 (with markers):](./europe_data/total_growth_employment_2005_2016_mark.html)\n"
   ]
  },
  {
   "cell_type": "code",
   "execution_count": 19,
   "metadata": {},
   "outputs": [
    {
     "data": {
      "application/vnd.jupyter.widget-view+json": {
       "model_id": "4e3b5ed1d68e49f0ae46c9f822c74ae9",
       "version_major": 2,
       "version_minor": 0
      },
      "text/html": [
       "<p>Failed to display Jupyter Widget of type <code>interactive</code>.</p>\n",
       "<p>\n",
       "  If you're reading this message in Jupyter Notebook or JupyterLab, it may mean\n",
       "  that the widgets JavaScript is still loading. If this message persists, it\n",
       "  likely means that the widgets JavaScript library is either not installed or\n",
       "  not enabled. See the <a href=\"https://ipywidgets.readthedocs.io/en/stable/user_install.html\">Jupyter\n",
       "  Widgets Documentation</a> for setup instructions.\n",
       "</p>\n",
       "<p>\n",
       "  If you're reading this message in another notebook frontend (for example, a static\n",
       "  rendering on GitHub or <a href=\"https://nbviewer.jupyter.org/\">NBViewer</a>),\n",
       "  it may mean that your frontend doesn't currently support widgets.\n",
       "</p>\n"
      ],
      "text/plain": [
       "interactive(children=(Dropdown(description='query_name', options=('Employment Growth', 'Young people Activity Growth'), value='Employment Growth'), Dropdown(description='sex', options=('Total', 'Male', 'Female'), value='Total'), Dropdown(description='year_start', options=(2005, 2006, 2007, 2008, 2009, 2010, 2011, 2012, 2013, 2014, 2015, 2016), value=2005), Dropdown(description='year_end', options=(2005, 2006, 2007, 2008, 2009, 2010, 2011, 2012, 2013, 2014, 2015, 2016), value=2005), Dropdown(description='markers', options=(0, 1), value=0), Output()), _dom_classes=('widget-interact',))"
      ]
     },
     "metadata": {},
     "output_type": "display_data"
    },
    {
     "data": {
      "text/plain": [
       "<function __main__.query_growth_map>"
      ]
     },
     "execution_count": 19,
     "metadata": {},
     "output_type": "execute_result"
    }
   ],
   "source": [
    "interact(query_growth_map, query_name=['Employment Growth','Young people Activity Growth'], sex=['Total','Male','Female'],\n",
    "        year_start=range(2005,2017), year_end=range(2005,2017),markers=[0,1])"
   ]
  },
  {
   "cell_type": "markdown",
   "metadata": {},
   "source": [
    "# 3. Swiss & Foreign Unemployement Rates"
   ]
  },
  {
   "cell_type": "markdown",
   "metadata": {},
   "source": [
    "### Map\n",
    "\n",
    "Import the TopoJson Map for Switzerland. I also have converted the TopoJson file into a GeoJson file using the online converter : http://jeffpaine.github.io/geojson-topojson/  "
   ]
  },
  {
   "cell_type": "code",
   "execution_count": 35,
   "metadata": {
    "collapsed": true
   },
   "outputs": [],
   "source": [
    "state_topo_path = r'./topojson/ch-cantons.topojson.json'\n",
    "canton_topojson = json.load(open(state_topo_path))"
   ]
  },
  {
   "cell_type": "markdown",
   "metadata": {},
   "source": [
    "### Export Data \n",
    "\n",
    "From amstat website : https://www.amstat.ch/v2/index.jsp I downloaded a .txt file with unemployement ratio per Swiss Canton and residents' nationality."
   ]
  },
  {
   "cell_type": "code",
   "execution_count": 7,
   "metadata": {},
   "outputs": [
    {
     "data": {
      "text/html": [
       "<div>\n",
       "<style>\n",
       "    .dataframe thead tr:only-child th {\n",
       "        text-align: right;\n",
       "    }\n",
       "\n",
       "    .dataframe thead th {\n",
       "        text-align: left;\n",
       "    }\n",
       "\n",
       "    .dataframe tbody tr th {\n",
       "        vertical-align: top;\n",
       "    }\n",
       "</style>\n",
       "<table border=\"1\" class=\"dataframe\">\n",
       "  <thead>\n",
       "    <tr style=\"text-align: right;\">\n",
       "      <th></th>\n",
       "      <th>Canton</th>\n",
       "      <th>population</th>\n",
       "      <th>Rate</th>\n",
       "      <th>Ch1</th>\n",
       "    </tr>\n",
       "  </thead>\n",
       "  <tbody>\n",
       "    <tr>\n",
       "      <th>0</th>\n",
       "      <td>Zurich</td>\n",
       "      <td>Etrangers</td>\n",
       "      <td>5.3</td>\n",
       "      <td>12'111</td>\n",
       "    </tr>\n",
       "    <tr>\n",
       "      <th>1</th>\n",
       "      <td>Zurich</td>\n",
       "      <td>Suisses</td>\n",
       "      <td>2.5</td>\n",
       "      <td>15'114</td>\n",
       "    </tr>\n",
       "    <tr>\n",
       "      <th>2</th>\n",
       "      <td>Berne</td>\n",
       "      <td>Etrangers</td>\n",
       "      <td>5.5</td>\n",
       "      <td>4'900</td>\n",
       "    </tr>\n",
       "    <tr>\n",
       "      <th>3</th>\n",
       "      <td>Berne</td>\n",
       "      <td>Suisses</td>\n",
       "      <td>1.8</td>\n",
       "      <td>8'758</td>\n",
       "    </tr>\n",
       "    <tr>\n",
       "      <th>4</th>\n",
       "      <td>Lucerne</td>\n",
       "      <td>Etrangers</td>\n",
       "      <td>3.9</td>\n",
       "      <td>1'593</td>\n",
       "    </tr>\n",
       "  </tbody>\n",
       "</table>\n",
       "</div>"
      ],
      "text/plain": [
       "    Canton population  Rate     Ch1\n",
       "0   Zurich  Etrangers   5.3  12'111\n",
       "1   Zurich    Suisses   2.5  15'114\n",
       "2    Berne  Etrangers   5.5   4'900\n",
       "3    Berne    Suisses   1.8   8'758\n",
       "4  Lucerne  Etrangers   3.9   1'593"
      ]
     },
     "execution_count": 7,
     "metadata": {},
     "output_type": "execute_result"
    }
   ],
   "source": [
    "nationality_rate = pd.read_csv('./question3_data/nationality_rate.txt', sep = ',',header = 1,\\\n",
    "                               names = ['Canton','population','Measure','Rate',\\\n",
    "                                        'Ch1','Taux de chômage.1','Ch1.1'])\n",
    "nationality_rate.drop(['Measure','Taux de chômage.1','Ch1.1'], axis = 1, inplace = True)\n",
    "\n",
    "\n",
    "\n",
    "nationality_rate.head()"
   ]
  },
  {
   "cell_type": "markdown",
   "metadata": {},
   "source": [
    "### Format Data"
   ]
  },
  {
   "cell_type": "code",
   "execution_count": 8,
   "metadata": {
    "collapsed": true
   },
   "outputs": [],
   "source": [
    "canton_abrev = ['ZH','ZG','VD','VS','UR','TI','TG','SG','SO','SZ','SH','OW','NW','NE','LU','JU','GR','GL',\\\n",
    "                'GE','FR','BE','BS','BL','AI','AR','AG']"
   ]
  },
  {
   "cell_type": "code",
   "execution_count": 9,
   "metadata": {},
   "outputs": [
    {
     "data": {
      "text/html": [
       "<div>\n",
       "<style>\n",
       "    .dataframe thead tr:only-child th {\n",
       "        text-align: right;\n",
       "    }\n",
       "\n",
       "    .dataframe thead th {\n",
       "        text-align: left;\n",
       "    }\n",
       "\n",
       "    .dataframe tbody tr th {\n",
       "        vertical-align: top;\n",
       "    }\n",
       "</style>\n",
       "<table border=\"1\" class=\"dataframe\">\n",
       "  <thead>\n",
       "    <tr style=\"text-align: right;\">\n",
       "      <th></th>\n",
       "      <th>Canton</th>\n",
       "      <th>population</th>\n",
       "      <th>Rate</th>\n",
       "      <th>Ch1</th>\n",
       "      <th>Abrev</th>\n",
       "    </tr>\n",
       "    <tr>\n",
       "      <th>Abrev</th>\n",
       "      <th></th>\n",
       "      <th></th>\n",
       "      <th></th>\n",
       "      <th></th>\n",
       "      <th></th>\n",
       "    </tr>\n",
       "  </thead>\n",
       "  <tbody>\n",
       "    <tr>\n",
       "      <th>ZH</th>\n",
       "      <td>Zurich</td>\n",
       "      <td>Suisses</td>\n",
       "      <td>2.5</td>\n",
       "      <td>15'114</td>\n",
       "      <td>ZH</td>\n",
       "    </tr>\n",
       "    <tr>\n",
       "      <th>ZG</th>\n",
       "      <td>Zoug</td>\n",
       "      <td>Suisses</td>\n",
       "      <td>1.7</td>\n",
       "      <td>826</td>\n",
       "      <td>ZG</td>\n",
       "    </tr>\n",
       "    <tr>\n",
       "      <th>VD</th>\n",
       "      <td>Vaud</td>\n",
       "      <td>Suisses</td>\n",
       "      <td>3.5</td>\n",
       "      <td>8'891</td>\n",
       "      <td>VD</td>\n",
       "    </tr>\n",
       "    <tr>\n",
       "      <th>VS</th>\n",
       "      <td>Valais</td>\n",
       "      <td>Suisses</td>\n",
       "      <td>2.1</td>\n",
       "      <td>2'690</td>\n",
       "      <td>VS</td>\n",
       "    </tr>\n",
       "    <tr>\n",
       "      <th>UR</th>\n",
       "      <td>Uri</td>\n",
       "      <td>Suisses</td>\n",
       "      <td>0.4</td>\n",
       "      <td>59</td>\n",
       "      <td>UR</td>\n",
       "    </tr>\n",
       "  </tbody>\n",
       "</table>\n",
       "</div>"
      ],
      "text/plain": [
       "       Canton population  Rate     Ch1 Abrev\n",
       "Abrev                                       \n",
       "ZH     Zurich    Suisses   2.5  15'114    ZH\n",
       "ZG       Zoug    Suisses   1.7     826    ZG\n",
       "VD       Vaud    Suisses   3.5   8'891    VD\n",
       "VS     Valais    Suisses   2.1   2'690    VS\n",
       "UR        Uri    Suisses   0.4      59    UR"
      ]
     },
     "execution_count": 9,
     "metadata": {},
     "output_type": "execute_result"
    }
   ],
   "source": [
    "suisse = nationality_rate.copy()\n",
    "suisse = suisse.loc[suisse['population'] == 'Suisses',:]\n",
    "suisse.sort_values('Canton', ascending = False, inplace = True)\n",
    "suisse['Abrev'] = canton_abrev\n",
    "suisse.set_index('Abrev', drop = False, inplace = True)\n",
    "suisse.head()"
   ]
  },
  {
   "cell_type": "code",
   "execution_count": 10,
   "metadata": {
    "collapsed": true
   },
   "outputs": [],
   "source": [
    "foreign = nationality_rate.copy()\n",
    "foreign = foreign.loc[foreign['population'] == 'Etrangers']\n",
    "foreign.sort_values('Canton', ascending = False, inplace = True)\n",
    "foreign['Abrev'] = canton_abrev\n",
    "foreign.set_index('Abrev', drop = False, inplace = True)"
   ]
  },
  {
   "cell_type": "markdown",
   "metadata": {},
   "source": [
    "We create below the datafrmae containing usefull information for map plots. It is composed of 26 rows, for each Canton. The columns contain unemployment rates for Swiss residents (1st column), Foreign residents (2nd Column), normalised difference between ratio (3rd column)."
   ]
  },
  {
   "cell_type": "code",
   "execution_count": 11,
   "metadata": {},
   "outputs": [
    {
     "data": {
      "text/html": [
       "<div>\n",
       "<style>\n",
       "    .dataframe thead tr:only-child th {\n",
       "        text-align: right;\n",
       "    }\n",
       "\n",
       "    .dataframe thead th {\n",
       "        text-align: left;\n",
       "    }\n",
       "\n",
       "    .dataframe tbody tr th {\n",
       "        vertical-align: top;\n",
       "    }\n",
       "</style>\n",
       "<table border=\"1\" class=\"dataframe\">\n",
       "  <thead>\n",
       "    <tr style=\"text-align: right;\">\n",
       "      <th></th>\n",
       "      <th>Foreign</th>\n",
       "      <th>Suisse</th>\n",
       "      <th>Diff</th>\n",
       "      <th>Abrev</th>\n",
       "    </tr>\n",
       "  </thead>\n",
       "  <tbody>\n",
       "    <tr>\n",
       "      <th>ZH</th>\n",
       "      <td>5.3</td>\n",
       "      <td>2.5</td>\n",
       "      <td>2.120000</td>\n",
       "      <td>ZH</td>\n",
       "    </tr>\n",
       "    <tr>\n",
       "      <th>ZG</th>\n",
       "      <td>3.9</td>\n",
       "      <td>1.7</td>\n",
       "      <td>2.294118</td>\n",
       "      <td>ZG</td>\n",
       "    </tr>\n",
       "    <tr>\n",
       "      <th>VD</th>\n",
       "      <td>5.9</td>\n",
       "      <td>3.5</td>\n",
       "      <td>1.685714</td>\n",
       "      <td>VD</td>\n",
       "    </tr>\n",
       "    <tr>\n",
       "      <th>VS</th>\n",
       "      <td>4.9</td>\n",
       "      <td>2.1</td>\n",
       "      <td>2.333333</td>\n",
       "      <td>VS</td>\n",
       "    </tr>\n",
       "    <tr>\n",
       "      <th>UR</th>\n",
       "      <td>2.1</td>\n",
       "      <td>0.4</td>\n",
       "      <td>5.250000</td>\n",
       "      <td>UR</td>\n",
       "    </tr>\n",
       "  </tbody>\n",
       "</table>\n",
       "</div>"
      ],
      "text/plain": [
       "    Foreign  Suisse      Diff Abrev\n",
       "ZH      5.3     2.5  2.120000    ZH\n",
       "ZG      3.9     1.7  2.294118    ZG\n",
       "VD      5.9     3.5  1.685714    VD\n",
       "VS      4.9     2.1  2.333333    VS\n",
       "UR      2.1     0.4  5.250000    UR"
      ]
     },
     "execution_count": 11,
     "metadata": {},
     "output_type": "execute_result"
    }
   ],
   "source": [
    "foreign_suisse = pd.DataFrame(index = canton_abrev)\n",
    "foreign_suisse['Foreign'] = foreign.sort_values('Canton', ascending = False).loc[:,'Rate']\n",
    "foreign_suisse['Suisse'] = suisse.sort_values('Canton', ascending = False).loc[:,'Rate']\n",
    "foreign_suisse['Diff'] = foreign_suisse['Foreign'].div(foreign_suisse['Suisse'])\n",
    "foreign_suisse['Abrev'] = canton_abrev\n",
    "foreign_suisse.head()"
   ]
  },
  {
   "cell_type": "markdown",
   "metadata": {},
   "source": [
    "### Display Data\n",
    "Define the order of the canton as in the TopoJson file "
   ]
  },
  {
   "cell_type": "code",
   "execution_count": 12,
   "metadata": {
    "collapsed": true
   },
   "outputs": [],
   "source": [
    "canton_order_map = [canton_topojson['objects']['cantons']['geometries'][i]['id'] for i in range(0,26)]"
   ]
  },
  {
   "cell_type": "code",
   "execution_count": 13,
   "metadata": {
    "collapsed": true
   },
   "outputs": [],
   "source": [
    "def weight_function(canton):\n",
    "    \n",
    "    chomage = foreign_suisse.loc[canton,'Foreign']\n",
    "    max_weight = 10\n",
    "    min_weight = 1\n",
    "    \n",
    "    max_chomage = foreign_suisse['Foreign'].max()\n",
    "    min_chomage = foreign_suisse['Foreign'].min()\n",
    "    \n",
    "    weight= int(round((chomage-min_chomage)/(max_chomage-min_chomage)*(max_weight-min_weight) + min_weight, 0))\n",
    "    \n",
    "    return weight"
   ]
  },
  {
   "cell_type": "code",
   "execution_count": 14,
   "metadata": {
    "collapsed": true
   },
   "outputs": [],
   "source": [
    "m_foreign_suisse_ratio = folium.Map([47,8.5], tiles='cartodbpositron', min_zoom = 8, max_zoom  = 8)\n",
    "\n",
    "\n",
    "m_foreign_suisse_ratio.choropleth(geo_data=canton_topojson, topojson = 'objects.cantons',\n",
    "                                  data=foreign_suisse.loc[canton_order_map,:],\n",
    "                                  columns=['Abrev', 'Suisse'],\n",
    "                                  key_on='feature.id',\n",
    "                                  fill_color='YlOrRd', fill_opacity=0.7, line_opacity=0.9, line_weight = 1,\n",
    "                                  legend_name='Percentage of swiss unemployment(%)')\n",
    "\n",
    "folium.TopoJson(canton_topojson, 'objects.cantons', style_function = lambda feature:{\n",
    "    'weight' : weight_function(feature['id']),\n",
    "    'color'  : 'grey',\n",
    "    'dashArray' : '1, 0'\n",
    "}).add_to(m_foreign_suisse_ratio)\n",
    "\n",
    "m_foreign_suisse_ratio.save('question3_data/Foreign_suisse_ratio.html')"
   ]
  },
  {
   "cell_type": "markdown",
   "metadata": {},
   "source": [
    "Here we have generated a map with both Swiss and Foreign unemployement ratio per canton, using a 'color_fill' differenciation for swiss ratio and an 'edge_weight' differenciation for foreign ratio (see : [Foreign Suisse Unemployement Ratio](question3_data/Foreign_suisse_ratio.html)). This display is not optimal since I wasn't able to add legend for Foreign ratio feature, at least, it gives a relative overview considering the edges are ticker for larger ratios. \n",
    "In a more classic way, we can create two maps to display both features separately. See below"
   ]
  },
  {
   "cell_type": "code",
   "execution_count": 15,
   "metadata": {
    "collapsed": true
   },
   "outputs": [],
   "source": [
    "m_suisse_ratio = folium.Map([47,8.5], tiles='cartodbpositron', min_zoom = 8, max_zoom  = 8)\n",
    "\n",
    "m_suisse_ratio.choropleth(geo_data=canton_topojson, topojson = 'objects.cantons', data=foreign_suisse.loc[canton_order_map,:],\n",
    "             columns=['Abrev', 'Suisse'],\n",
    "             key_on='feature.id',\n",
    "             fill_color='YlOrRd', fill_opacity=0.7, line_opacity=0.9,\n",
    "             legend_name='Percentage of swiss unemployment(%)')\n",
    "\n",
    "m_suisse_ratio.save('question3_data/Suisse_ratio.html')"
   ]
  },
  {
   "cell_type": "markdown",
   "metadata": {},
   "source": [
    "Here we have plot the [Suisse Unemployement Ratio](question3_data/Suisse_ratio.html)"
   ]
  },
  {
   "cell_type": "code",
   "execution_count": 16,
   "metadata": {
    "collapsed": true
   },
   "outputs": [],
   "source": [
    "m_foreign_ratio = folium.Map([47,8.5], tiles='cartodbpositron', min_zoom = 8, max_zoom  = 8)\n",
    "\n",
    "m_foreign_ratio.choropleth(geo_data=canton_topojson, topojson = 'objects.cantons', data=foreign_suisse.loc[canton_order_map,:],\n",
    "             columns=['Abrev', 'Foreign'],\n",
    "             key_on='feature.id',\n",
    "             fill_color='YlOrRd', fill_opacity=0.7, line_opacity=0.9,\n",
    "             legend_name='Percentage of foreigners unemployment in switzerland (%)')\n",
    "\n",
    "\n",
    "m_foreign_ratio.save('question3_data/Foreign_ratio.html')"
   ]
  },
  {
   "cell_type": "markdown",
   "metadata": {},
   "source": [
    "Here we have plot the [Foreign Unemployement Ratio](question3_data/Foreign_ratio.html)"
   ]
  },
  {
   "cell_type": "code",
   "execution_count": 17,
   "metadata": {
    "collapsed": true
   },
   "outputs": [],
   "source": [
    "m_diff_ratio = folium.Map([47,8.5], tiles='cartodbpositron', min_zoom = 8, max_zoom  = 8)\n",
    "\n",
    "m_diff_ratio.choropleth(geo_data=canton_topojson, topojson = 'objects.cantons', data=foreign_suisse.loc[canton_order_map,:],\n",
    "             columns=['Abrev', 'Diff'],\n",
    "             key_on='feature.id',\n",
    "             fill_color='YlOrRd', fill_opacity=0.7, line_opacity=0.9,\n",
    "             legend_name='Ratio between Swiss and Foreign Unemployment ratios')\n",
    "\n",
    "m_diff_ratio.save('question3_data/Diff_ratio.html')"
   ]
  },
  {
   "cell_type": "markdown",
   "metadata": {},
   "source": [
    "Finally, a good way to display the difference in unemployment rates between the two categories in each canton is to plot the [Ratio between Swiss and Foreign Unemployement rates](question3_data/Diff_ratio.html)  \n",
    "  \n",
    "    \n",
    "We observe in a first time that unemployment ratios for swiss residents are higher in the west along french boundary with highest values obtained in Geneva and Neuchâtel . In the same way, unemployment ratios for foreign residents is high along the french boundary but with highest values obtained in Jura. From the last map, We must notice the foreign unmployment ratio is usually more than twice the suisse unemployment ratio, the ratio between those two is higer in the center and east Switzerland."
   ]
  },
  {
   "cell_type": "markdown",
   "metadata": {},
   "source": [
    "# 3.2 Refined Analysis : addition of differences between age groups\n",
    "### Export Data\n",
    "\n",
    "From amstat website : https://www.amstat.ch/v2/index.jsp we downloaded a .txt file with neumber of unemployment workers per Swiss Canton, residents' nationality and age."
   ]
  },
  {
   "cell_type": "code",
   "execution_count": 20,
   "metadata": {},
   "outputs": [
    {
     "data": {
      "text/html": [
       "<div>\n",
       "<style>\n",
       "    .dataframe thead tr:only-child th {\n",
       "        text-align: right;\n",
       "    }\n",
       "\n",
       "    .dataframe thead th {\n",
       "        text-align: left;\n",
       "    }\n",
       "\n",
       "    .dataframe tbody tr th {\n",
       "        vertical-align: top;\n",
       "    }\n",
       "</style>\n",
       "<table border=\"1\" class=\"dataframe\">\n",
       "  <thead>\n",
       "    <tr style=\"text-align: right;\">\n",
       "      <th></th>\n",
       "      <th>Canton</th>\n",
       "      <th>Population</th>\n",
       "      <th>age class</th>\n",
       "      <th>Chomeurs inscrits</th>\n",
       "    </tr>\n",
       "  </thead>\n",
       "  <tbody>\n",
       "    <tr>\n",
       "      <th>7</th>\n",
       "      <td>Zurich</td>\n",
       "      <td>Suisses</td>\n",
       "      <td>3</td>\n",
       "      <td>4'502</td>\n",
       "    </tr>\n",
       "    <tr>\n",
       "      <th>6</th>\n",
       "      <td>Zurich</td>\n",
       "      <td>Suisses</td>\n",
       "      <td>2</td>\n",
       "      <td>8'207</td>\n",
       "    </tr>\n",
       "    <tr>\n",
       "      <th>5</th>\n",
       "      <td>Zurich</td>\n",
       "      <td>Suisses</td>\n",
       "      <td>1</td>\n",
       "      <td>2'405</td>\n",
       "    </tr>\n",
       "    <tr>\n",
       "      <th>3</th>\n",
       "      <td>Zurich</td>\n",
       "      <td>Etrangers</td>\n",
       "      <td>3</td>\n",
       "      <td>2'250</td>\n",
       "    </tr>\n",
       "    <tr>\n",
       "      <th>2</th>\n",
       "      <td>Zurich</td>\n",
       "      <td>Etrangers</td>\n",
       "      <td>2</td>\n",
       "      <td>8'846</td>\n",
       "    </tr>\n",
       "    <tr>\n",
       "      <th>1</th>\n",
       "      <td>Zurich</td>\n",
       "      <td>Etrangers</td>\n",
       "      <td>1</td>\n",
       "      <td>1'015</td>\n",
       "    </tr>\n",
       "    <tr>\n",
       "      <th>79</th>\n",
       "      <td>Zoug</td>\n",
       "      <td>Suisses</td>\n",
       "      <td>3</td>\n",
       "      <td>296</td>\n",
       "    </tr>\n",
       "    <tr>\n",
       "      <th>78</th>\n",
       "      <td>Zoug</td>\n",
       "      <td>Suisses</td>\n",
       "      <td>2</td>\n",
       "      <td>438</td>\n",
       "    </tr>\n",
       "    <tr>\n",
       "      <th>77</th>\n",
       "      <td>Zoug</td>\n",
       "      <td>Suisses</td>\n",
       "      <td>1</td>\n",
       "      <td>92</td>\n",
       "    </tr>\n",
       "    <tr>\n",
       "      <th>75</th>\n",
       "      <td>Zoug</td>\n",
       "      <td>Etrangers</td>\n",
       "      <td>3</td>\n",
       "      <td>179</td>\n",
       "    </tr>\n",
       "  </tbody>\n",
       "</table>\n",
       "</div>"
      ],
      "text/plain": [
       "    Canton Population age class Chomeurs inscrits\n",
       "7   Zurich    Suisses         3             4'502\n",
       "6   Zurich    Suisses         2             8'207\n",
       "5   Zurich    Suisses         1             2'405\n",
       "3   Zurich  Etrangers         3             2'250\n",
       "2   Zurich  Etrangers         2             8'846\n",
       "1   Zurich  Etrangers         1             1'015\n",
       "79    Zoug    Suisses         3               296\n",
       "78    Zoug    Suisses         2               438\n",
       "77    Zoug    Suisses         1                92\n",
       "75    Zoug  Etrangers         3               179"
      ]
     },
     "execution_count": 20,
     "metadata": {},
     "output_type": "execute_result"
    }
   ],
   "source": [
    "age_nationality_nb = pd.read_csv('question3_data/age_nationality_numbers_2.txt', sep = ',', header = 0, thousands = '\\'', \n",
    "                                 names = ['Canton','Population','age class','Drop','Drop1','Chomeurs inscrits'])\n",
    "age_nationality_nb.drop(0,axis = 0, inplace = True)\n",
    "age_nationality_nb.drop(['Drop','Drop1'], axis = 1, inplace = True)\n",
    "age_nationality_nb.dropna(axis = 0, inplace = True)\n",
    "age_nationality_nb.drop(age_nationality_nb.loc[age_nationality_nb['age class'] == 'Total'].index , axis = 0, inplace = True)\n",
    "age_nationality_nb.sort_values(['Canton','Population','age class'], ascending = False, inplace = True)\n",
    "\n",
    "age_nationality_nb.head(10)"
   ]
  },
  {
   "cell_type": "markdown",
   "metadata": {},
   "source": [
    "### Format Data for Display"
   ]
  },
  {
   "cell_type": "code",
   "execution_count": 21,
   "metadata": {},
   "outputs": [
    {
     "data": {
      "text/html": [
       "<div>\n",
       "<style>\n",
       "    .dataframe thead tr:only-child th {\n",
       "        text-align: right;\n",
       "    }\n",
       "\n",
       "    .dataframe thead th {\n",
       "        text-align: left;\n",
       "    }\n",
       "\n",
       "    .dataframe tbody tr th {\n",
       "        vertical-align: top;\n",
       "    }\n",
       "</style>\n",
       "<table border=\"1\" class=\"dataframe\">\n",
       "  <thead>\n",
       "    <tr>\n",
       "      <th>Origin</th>\n",
       "      <th colspan=\"3\" halign=\"left\">Suisse</th>\n",
       "      <th colspan=\"3\" halign=\"left\">Foreign</th>\n",
       "    </tr>\n",
       "    <tr>\n",
       "      <th>Age</th>\n",
       "      <th>15-24</th>\n",
       "      <th>25-49</th>\n",
       "      <th>50+</th>\n",
       "      <th>15-24</th>\n",
       "      <th>25-49</th>\n",
       "      <th>50+</th>\n",
       "    </tr>\n",
       "    <tr>\n",
       "      <th>Canton</th>\n",
       "      <th></th>\n",
       "      <th></th>\n",
       "      <th></th>\n",
       "      <th></th>\n",
       "      <th></th>\n",
       "      <th></th>\n",
       "    </tr>\n",
       "  </thead>\n",
       "  <tbody>\n",
       "    <tr>\n",
       "      <th>ZH</th>\n",
       "      <td>2405.0</td>\n",
       "      <td>8207.0</td>\n",
       "      <td>4502.0</td>\n",
       "      <td>1015.0</td>\n",
       "      <td>8846.0</td>\n",
       "      <td>2250.0</td>\n",
       "    </tr>\n",
       "    <tr>\n",
       "      <th>ZG</th>\n",
       "      <td>92.0</td>\n",
       "      <td>438.0</td>\n",
       "      <td>296.0</td>\n",
       "      <td>41.0</td>\n",
       "      <td>497.0</td>\n",
       "      <td>179.0</td>\n",
       "    </tr>\n",
       "    <tr>\n",
       "      <th>VD</th>\n",
       "      <td>1279.0</td>\n",
       "      <td>5203.0</td>\n",
       "      <td>2409.0</td>\n",
       "      <td>625.0</td>\n",
       "      <td>5987.0</td>\n",
       "      <td>1652.0</td>\n",
       "    </tr>\n",
       "    <tr>\n",
       "      <th>VS</th>\n",
       "      <td>459.0</td>\n",
       "      <td>1448.0</td>\n",
       "      <td>783.0</td>\n",
       "      <td>287.0</td>\n",
       "      <td>1352.0</td>\n",
       "      <td>487.0</td>\n",
       "    </tr>\n",
       "    <tr>\n",
       "      <th>UR</th>\n",
       "      <td>9.0</td>\n",
       "      <td>29.0</td>\n",
       "      <td>21.0</td>\n",
       "      <td>6.0</td>\n",
       "      <td>29.0</td>\n",
       "      <td>18.0</td>\n",
       "    </tr>\n",
       "  </tbody>\n",
       "</table>\n",
       "</div>"
      ],
      "text/plain": [
       "Origin  Suisse                 Foreign                \n",
       "Age      15-24   25-49     50+   15-24   25-49     50+\n",
       "Canton                                                \n",
       "ZH      2405.0  8207.0  4502.0  1015.0  8846.0  2250.0\n",
       "ZG        92.0   438.0   296.0    41.0   497.0   179.0\n",
       "VD      1279.0  5203.0  2409.0   625.0  5987.0  1652.0\n",
       "VS       459.0  1448.0   783.0   287.0  1352.0   487.0\n",
       "UR         9.0    29.0    21.0     6.0    29.0    18.0"
      ]
     },
     "execution_count": 21,
     "metadata": {},
     "output_type": "execute_result"
    }
   ],
   "source": [
    "header = [np.array([\"Suisse\",\"Suisse\",\"Suisse\",\"Foreign\",\"Foreign\",\"Foreign\"]),\\\n",
    "          np.array(['15-24','25-49','50+','15-24','25-49','50+'])] \n",
    "\n",
    "\n",
    "age_nationality_to_plot = pd.DataFrame( index = canton_abrev)\n",
    "age_nationality_to_plot.index.name = 'Canton'\n",
    "\n",
    "suisse_age_1 = list(age_nationality_nb.loc[(age_nationality_nb['age class'] == '1') & (age_nationality_nb['Population'] == 'Suisses')]\\\n",
    "                    ['Chomeurs inscrits'].str.replace('\\'','').astype(float))\n",
    "suisse_age_2 = list(age_nationality_nb.loc[(age_nationality_nb['age class'] == '2') & (age_nationality_nb['Population'] == 'Suisses')]\\\n",
    "                    ['Chomeurs inscrits'].str.replace('\\'','').astype(float))\n",
    "suisse_age_3 = list(age_nationality_nb.loc[(age_nationality_nb['age class'] == '3') & (age_nationality_nb['Population'] == 'Suisses')]\\\n",
    "                    ['Chomeurs inscrits'].str.replace('\\'','').astype(float))\n",
    "\n",
    "foreign_age_1 = list(age_nationality_nb.loc[(age_nationality_nb['age class'] == '1') & (age_nationality_nb['Population'] == 'Etrangers')]\\\n",
    "                     ['Chomeurs inscrits'].str.replace('\\'','').astype(float))\n",
    "foreign_age_2 = list(age_nationality_nb.loc[(age_nationality_nb['age class'] == '2') & (age_nationality_nb['Population'] == 'Etrangers')]\\\n",
    "                     ['Chomeurs inscrits'].str.replace('\\'','').astype(float))\n",
    "foreign_age_3 = list(age_nationality_nb.loc[(age_nationality_nb['age class'] == '3') & (age_nationality_nb['Population'] == 'Etrangers')]\\\n",
    "                     ['Chomeurs inscrits'].str.replace('\\'','').astype(float))\n",
    "\n",
    "\n",
    "age_nationality_to_plot['Ch1'] = suisse_age_1\n",
    "age_nationality_to_plot['Ch2'] = suisse_age_2\n",
    "age_nationality_to_plot['Ch3'] = suisse_age_3\n",
    "\n",
    "age_nationality_to_plot['Ch4'] = foreign_age_1\n",
    "age_nationality_to_plot['Ch5'] = foreign_age_2\n",
    "age_nationality_to_plot['Ch6'] = foreign_age_3\n",
    "\n",
    "\n",
    "age_nationality_to_plot.columns = header\n",
    "age_nationality_to_plot.columns.names = ['Origin', 'Age']\n",
    "\n",
    "age_nationality_to_plot.head()\n",
    "\n"
   ]
  },
  {
   "cell_type": "markdown",
   "metadata": {},
   "source": [
    "### Display"
   ]
  },
  {
   "cell_type": "code",
   "execution_count": 22,
   "metadata": {},
   "outputs": [
    {
     "data": {
      "image/png": "[encoded data removed]",
      "text/plain": [
       "<matplotlib.figure.Figure at 0x7f69c3af12e8>"
      ]
     },
     "metadata": {},
     "output_type": "display_data"
    },
    {
     "data": {
      "image/png": "[encoded data removed]",
      "text/plain": [
       "<matplotlib.figure.Figure at 0x7f69c3af11d0>"
      ]
     },
     "metadata": {},
     "output_type": "display_data"
    }
   ],
   "source": [
    "age_nationality_to_plot.iloc[0:13].plot(kind='bar',figsize=[20,8],fontsize=17, grid = True, \\\n",
    "                                        title='Unemployment in all 26 Swiss Cantons, for nationality class and age class',\\\n",
    "                                        colormap = 'bwr', legend = 'resident', rot = 0)\n",
    "age_nationality_to_plot.iloc[14::].plot(kind='bar',figsize=[20,8],fontsize=17, grid = True,\\\n",
    "                                        title='Unemployment in all 26 Swiss Cantons, for nationality class and age class',\\\n",
    "                                        colormap = 'bwr', rot = 0)\n",
    "plt.show()"
   ]
  },
  {
   "cell_type": "markdown",
   "metadata": {},
   "source": [
    "The sheer numbers presented above don't say a lot. Still, we are able to identify the five main cantons with high industrial activity.    \n",
    "Since we don't have access to the exact number of active people in each cathegory, we will make to different assumptions to approximate the true rates :\n",
    "- First one, lets consider the active population in all class age is invariant with respect to the origin of the workers (foreign or swiss) in each canton.\n",
    "- Second one, lets consider the active population in origin cathegory is invariant with respect to the age of the workers in each canton.\n",
    "\n",
    "#### First assumption\n"
   ]
  },
  {
   "cell_type": "code",
   "execution_count": 23,
   "metadata": {
    "collapsed": true
   },
   "outputs": [],
   "source": [
    "nationality_rate.loc[:,'Ch1'] = nationality_rate['Ch1'].str.replace('\\'','').astype(float)\n",
    "nationality_rate['Active'] = round(nationality_rate['Ch1'].div(nationality_rate['Rate'])*100,0)\n",
    "\n",
    "suisse_active = list(nationality_rate.loc[(nationality_rate['population'] == 'Suisses')].sort_values('Canton',ascending = False)['Active'])\n",
    "foreign_active = list(nationality_rate.loc[(nationality_rate['population'] == 'Etrangers')].sort_values('Canton',ascending = False)['Active'])"
   ]
  },
  {
   "cell_type": "code",
   "execution_count": 24,
   "metadata": {},
   "outputs": [
    {
     "data": {
      "text/html": [
       "<div>\n",
       "<style>\n",
       "    .dataframe thead tr:only-child th {\n",
       "        text-align: right;\n",
       "    }\n",
       "\n",
       "    .dataframe thead th {\n",
       "        text-align: left;\n",
       "    }\n",
       "\n",
       "    .dataframe tbody tr th {\n",
       "        vertical-align: top;\n",
       "    }\n",
       "</style>\n",
       "<table border=\"1\" class=\"dataframe\">\n",
       "  <thead>\n",
       "    <tr>\n",
       "      <th>Origin</th>\n",
       "      <th colspan=\"3\" halign=\"left\">Suisse</th>\n",
       "      <th colspan=\"3\" halign=\"left\">Foreign</th>\n",
       "    </tr>\n",
       "    <tr>\n",
       "      <th>Age</th>\n",
       "      <th>15-24</th>\n",
       "      <th>25-49</th>\n",
       "      <th>50+</th>\n",
       "      <th>15-24</th>\n",
       "      <th>25-49</th>\n",
       "      <th>50+</th>\n",
       "    </tr>\n",
       "    <tr>\n",
       "      <th>Canton</th>\n",
       "      <th></th>\n",
       "      <th></th>\n",
       "      <th></th>\n",
       "      <th></th>\n",
       "      <th></th>\n",
       "      <th></th>\n",
       "    </tr>\n",
       "  </thead>\n",
       "  <tbody>\n",
       "    <tr>\n",
       "      <th>ZH</th>\n",
       "      <td>0.011934</td>\n",
       "      <td>0.040725</td>\n",
       "      <td>0.022340</td>\n",
       "      <td>0.013326</td>\n",
       "      <td>0.116135</td>\n",
       "      <td>0.029539</td>\n",
       "    </tr>\n",
       "    <tr>\n",
       "      <th>ZG</th>\n",
       "      <td>0.005680</td>\n",
       "      <td>0.027044</td>\n",
       "      <td>0.018276</td>\n",
       "      <td>0.006690</td>\n",
       "      <td>0.081099</td>\n",
       "      <td>0.029209</td>\n",
       "    </tr>\n",
       "    <tr>\n",
       "      <th>VD</th>\n",
       "      <td>0.015105</td>\n",
       "      <td>0.061446</td>\n",
       "      <td>0.028450</td>\n",
       "      <td>0.013386</td>\n",
       "      <td>0.128231</td>\n",
       "      <td>0.035383</td>\n",
       "    </tr>\n",
       "    <tr>\n",
       "      <th>VS</th>\n",
       "      <td>0.010750</td>\n",
       "      <td>0.033912</td>\n",
       "      <td>0.018338</td>\n",
       "      <td>0.019844</td>\n",
       "      <td>0.093482</td>\n",
       "      <td>0.033673</td>\n",
       "    </tr>\n",
       "    <tr>\n",
       "      <th>UR</th>\n",
       "      <td>0.001831</td>\n",
       "      <td>0.005898</td>\n",
       "      <td>0.004271</td>\n",
       "      <td>0.007132</td>\n",
       "      <td>0.034469</td>\n",
       "      <td>0.021395</td>\n",
       "    </tr>\n",
       "  </tbody>\n",
       "</table>\n",
       "</div>"
      ],
      "text/plain": [
       "Origin    Suisse                       Foreign                    \n",
       "Age        15-24     25-49       50+     15-24     25-49       50+\n",
       "Canton                                                            \n",
       "ZH      0.011934  0.040725  0.022340  0.013326  0.116135  0.029539\n",
       "ZG      0.005680  0.027044  0.018276  0.006690  0.081099  0.029209\n",
       "VD      0.015105  0.061446  0.028450  0.013386  0.128231  0.035383\n",
       "VS      0.010750  0.033912  0.018338  0.019844  0.093482  0.033673\n",
       "UR      0.001831  0.005898  0.004271  0.007132  0.034469  0.021395"
      ]
     },
     "execution_count": 24,
     "metadata": {},
     "output_type": "execute_result"
    }
   ],
   "source": [
    "assumption_1 = age_nationality_to_plot.copy()\n",
    "assumption_1.columns = ['ch1','ch2','ch3','ch4','ch5','ch6']\n",
    "\n",
    "assumption_1.loc[:,['ch1','ch2','ch3']] = assumption_1[['ch1','ch2','ch3']].div(suisse_active, axis =0)*3\n",
    "assumption_1.loc[:,['ch4','ch5','ch6']] = assumption_1[['ch4','ch5','ch6']].div(foreign_active, axis =0)*3\n",
    "\n",
    "assumption_1_to_plot = assumption_1.copy()\n",
    "assumption_1_to_plot.columns = header\n",
    "assumption_1_to_plot.columns.names = ['Origin', 'Age']\n",
    "\n",
    "assumption_1_to_plot.head()"
   ]
  },
  {
   "cell_type": "code",
   "execution_count": 25,
   "metadata": {},
   "outputs": [
    {
     "data": {
      "image/png": "[encoded data removed]",
      "text/plain": [
       "<matplotlib.figure.Figure at 0x7f69c3ae7390>"
      ]
     },
     "metadata": {},
     "output_type": "display_data"
    },
    {
     "data": {
      "image/png": "[encoded data removed]",
      "text/plain": [
       "<matplotlib.figure.Figure at 0x7f69c3ae72e8>"
      ]
     },
     "metadata": {},
     "output_type": "display_data"
    }
   ],
   "source": [
    "assumption_1_to_plot.iloc[0:13].plot(kind='bar',figsize=[20,8],fontsize=17, grid = True, \\\n",
    "                                        title='Unemployment in all 26 Swiss Cantons, for nationality class and age class',\\\n",
    "                                        colormap = 'bwr', rot = 0)\n",
    "assumption_1_to_plot.iloc[14::].plot(kind='bar',figsize=[20,8],fontsize=17, grid = True,\\\n",
    "                                        title='Unemployment in all 26 Swiss Cantons, for nationality class and age class',\\\n",
    "                                        colormap = 'bwr', rot = 0)\n",
    "plt.show()"
   ]
  },
  {
   "cell_type": "markdown",
   "metadata": {},
   "source": [
    "From this plot, we can identify global unemployment tendency. We notice unemployment rates are higher for foreign residents, we believe the unemployment rates are higher for middle age population regardless of the origin of the resident. Of course this model is very limited because the range '25-49' might have the largest working population. "
   ]
  },
  {
   "cell_type": "markdown",
   "metadata": {},
   "source": [
    "#### Assumption 2"
   ]
  },
  {
   "cell_type": "code",
   "execution_count": 28,
   "metadata": {
    "collapsed": true
   },
   "outputs": [],
   "source": [
    "age_ratio = pd.read_csv('question3_data/age_ratio_2.txt', sep = ',', header = 1,names = ['age class','drop1','drop2','Rate','Ch1','drop3','drop4'])\n",
    "age_ratio.drop(['drop1','drop2','drop3','drop4'], axis = 1, inplace = True)\n",
    "age_ratio.head()\n",
    "\n",
    "age_ratio.loc[:,'Ch1'] = age_ratio['Ch1'].str.replace('\\'','').astype(float)\n",
    "age_ratio['Active'] = round(age_ratio['Ch1'].div(age_ratio['Rate'])*100,0)\n",
    "\n",
    "age_1_active = list(age_ratio.loc[(age_ratio['age class'] == 1)].sort_index(ascending = False)['Active'])\n",
    "age_2_active = list(age_ratio.loc[(age_ratio['age class'] == 2)].sort_index(ascending = False)['Active'])\n",
    "age_3_active = list(age_ratio.loc[(age_ratio['age class'] == 3)].sort_index(ascending = False)['Active'])"
   ]
  },
  {
   "cell_type": "code",
   "execution_count": 29,
   "metadata": {},
   "outputs": [
    {
     "data": {
      "text/html": [
       "<div>\n",
       "<style>\n",
       "    .dataframe thead tr:only-child th {\n",
       "        text-align: right;\n",
       "    }\n",
       "\n",
       "    .dataframe thead th {\n",
       "        text-align: left;\n",
       "    }\n",
       "\n",
       "    .dataframe tbody tr th {\n",
       "        vertical-align: top;\n",
       "    }\n",
       "</style>\n",
       "<table border=\"1\" class=\"dataframe\">\n",
       "  <thead>\n",
       "    <tr>\n",
       "      <th>Origin</th>\n",
       "      <th colspan=\"3\" halign=\"left\">Suisse</th>\n",
       "      <th colspan=\"3\" halign=\"left\">Foreign</th>\n",
       "    </tr>\n",
       "    <tr>\n",
       "      <th>Age</th>\n",
       "      <th>15-24</th>\n",
       "      <th>25-49</th>\n",
       "      <th>50+</th>\n",
       "      <th>15-24</th>\n",
       "      <th>25-49</th>\n",
       "      <th>50+</th>\n",
       "    </tr>\n",
       "    <tr>\n",
       "      <th>Canton</th>\n",
       "      <th></th>\n",
       "      <th></th>\n",
       "      <th></th>\n",
       "      <th></th>\n",
       "      <th></th>\n",
       "      <th></th>\n",
       "    </tr>\n",
       "  </thead>\n",
       "  <tbody>\n",
       "    <tr>\n",
       "      <th>ZH</th>\n",
       "      <td>0.052038</td>\n",
       "      <td>0.032726</td>\n",
       "      <td>0.038672</td>\n",
       "      <td>0.021962</td>\n",
       "      <td>0.035274</td>\n",
       "      <td>0.019328</td>\n",
       "    </tr>\n",
       "    <tr>\n",
       "      <th>ZG</th>\n",
       "      <td>0.024902</td>\n",
       "      <td>0.022486</td>\n",
       "      <td>0.028666</td>\n",
       "      <td>0.011098</td>\n",
       "      <td>0.025515</td>\n",
       "      <td>0.017335</td>\n",
       "    </tr>\n",
       "    <tr>\n",
       "      <th>VD</th>\n",
       "      <td>0.057770</td>\n",
       "      <td>0.042777</td>\n",
       "      <td>0.042710</td>\n",
       "      <td>0.028230</td>\n",
       "      <td>0.049223</td>\n",
       "      <td>0.029289</td>\n",
       "    </tr>\n",
       "    <tr>\n",
       "      <th>VS</th>\n",
       "      <td>0.040609</td>\n",
       "      <td>0.028960</td>\n",
       "      <td>0.030827</td>\n",
       "      <td>0.025391</td>\n",
       "      <td>0.027040</td>\n",
       "      <td>0.019173</td>\n",
       "    </tr>\n",
       "    <tr>\n",
       "      <th>UR</th>\n",
       "      <td>0.006000</td>\n",
       "      <td>0.005000</td>\n",
       "      <td>0.007539</td>\n",
       "      <td>0.004000</td>\n",
       "      <td>0.005000</td>\n",
       "      <td>0.006462</td>\n",
       "    </tr>\n",
       "  </tbody>\n",
       "</table>\n",
       "</div>"
      ],
      "text/plain": [
       "Origin    Suisse                       Foreign                    \n",
       "Age        15-24     25-49       50+     15-24     25-49       50+\n",
       "Canton                                                            \n",
       "ZH      0.052038  0.032726  0.038672  0.021962  0.035274  0.019328\n",
       "ZG      0.024902  0.022486  0.028666  0.011098  0.025515  0.017335\n",
       "VD      0.057770  0.042777  0.042710  0.028230  0.049223  0.029289\n",
       "VS      0.040609  0.028960  0.030827  0.025391  0.027040  0.019173\n",
       "UR      0.006000  0.005000  0.007539  0.004000  0.005000  0.006462"
      ]
     },
     "execution_count": 29,
     "metadata": {},
     "output_type": "execute_result"
    }
   ],
   "source": [
    "assumption_2 = age_nationality_to_plot.copy()\n",
    "assumption_2.columns = ['ch1','ch2','ch3','ch4','ch5','ch6']\n",
    "\n",
    "assumption_2.loc[:,['ch1','ch4']] = assumption_2[['ch1','ch4']].div(age_1_active, axis =0)*2\n",
    "assumption_2.loc[:,['ch2','ch5']] = assumption_2[['ch2','ch5']].div(age_2_active, axis =0)*2\n",
    "assumption_2.loc[:,['ch3','ch6']] = assumption_2[['ch3','ch6']].div(age_3_active, axis =0)*2\n",
    "\n",
    "assumption_2_to_plot = assumption_2.copy()\n",
    "assumption_2_to_plot.columns = header\n",
    "assumption_2_to_plot.columns.names = ['Origin', 'Age']\n",
    "\n",
    "assumption_2_to_plot.head()"
   ]
  },
  {
   "cell_type": "code",
   "execution_count": 30,
   "metadata": {},
   "outputs": [
    {
     "data": {
      "image/png": "[encoded data removed]",
      "text/plain": [
       "<matplotlib.figure.Figure at 0x7f69bbc73dd8>"
      ]
     },
     "metadata": {},
     "output_type": "display_data"
    },
    {
     "data": {
      "image/png": "[encoded data removed]",
      "text/plain": [
       "<matplotlib.figure.Figure at 0x7f69bbc738d0>"
      ]
     },
     "metadata": {},
     "output_type": "display_data"
    }
   ],
   "source": [
    "assumption_2_to_plot.iloc[0:13].plot(kind='bar',figsize=[20,8],fontsize=17, grid = True, \\\n",
    "                                        title='Unemployment in all 26 Swiss Cantons, for nationality class and age class',\\\n",
    "                                        colormap = 'bwr', rot = 0)\n",
    "assumption_2_to_plot.iloc[14::].plot(kind='bar',figsize=[20,8],fontsize=17, grid = True,\\\n",
    "                                        title='Unemployment in all 26 Swiss Cantons, for nationality class and age class',\\\n",
    "                                        colormap = 'bwr', rot = 0)\n",
    "plt.show()"
   ]
  },
  {
   "cell_type": "markdown",
   "metadata": {},
   "source": [
    "From this plot, we can identify global unemployment tendency. Here we have considered the active population is equal for a given age class in both foreign and suisse cathegories.  \n",
    "We notice unemployment rates are higher for age 15-24 for swiss residents and for age 25-49 for foreign residents. \n",
    "Of course this model is very limited because the range swiss residents might have the larger working population than foreign residents. "
   ]
  },
  {
   "cell_type": "markdown",
   "metadata": {},
   "source": [
    "# 4 Bonus"
   ]
  },
  {
   "cell_type": "code",
   "execution_count": 31,
   "metadata": {
    "collapsed": true
   },
   "outputs": [],
   "source": [
    "French = ['JU','GE','VD','FR','VS','NE','BE']\n",
    "Deutch = ['ZH','LU','UR','SZ','OW','NW','GL','ZG','SO','BS','BL','SH','AR','AI','SG','AG','TG','GR']\n",
    "Italian = ['TI']\n",
    "\n",
    "rostigraben = pd.DataFrame()\n",
    "rostigraben['Rates'] = foreign_suisse[['Suisse','Foreign']].mean(axis = 1)\n",
    "rostigraben['Swiss Rates'] = foreign_suisse[['Suisse']]\n",
    "rostigraben['Foreign Rates'] = foreign_suisse[['Foreign']]\n",
    "\n",
    "rostigraben['Canton']= foreign_suisse['Abrev']\n",
    "rostigraben.set_index('Canton', drop = False, inplace = True)\n",
    "\n",
    "rostigraben.loc[French,['Rates','Swiss Rates','Foreign Rates']] = [rostigraben.loc[French,['Rates','Swiss Rates','Foreign Rates']].mean(axis = 0)]*len(French)\n",
    "rostigraben.loc[Deutch,['Rates','Swiss Rates','Foreign Rates']] = [rostigraben.loc[Deutch,['Rates','Swiss Rates','Foreign Rates']].mean(axis = 0)]*len(Deutch)\n",
    "rostigraben.loc[Italian,['Rates','Swiss Rates','Foreign Rates']] = [rostigraben.loc[Italian,['Rates','Swiss Rates','Foreign Rates']].mean(axis = 0)]*len(Italian)\n"
   ]
  },
  {
   "cell_type": "code",
   "execution_count": 32,
   "metadata": {
    "collapsed": true
   },
   "outputs": [],
   "source": [
    "m_rostigraben_total = folium.Map([47,8.5], tiles='cartodbpositron', min_zoom = 8, max_zoom  = 8)\n",
    "\n",
    "m_rostigraben_total.choropleth(geo_data=canton_topojson, topojson = 'objects.cantons', data=rostigraben.loc[canton_order_map,:],\n",
    "             columns=['Canton', 'Rates'],\n",
    "             key_on='feature.id',\n",
    "             fill_color='YlOrRd', fill_opacity=0.7, line_opacity=0.9,\n",
    "             legend_name='Unemployement ratios')\n",
    "\n",
    "m_rostigraben_total.save('question3_data/rostigraben_total.html')"
   ]
  },
  {
   "cell_type": "code",
   "execution_count": 33,
   "metadata": {
    "collapsed": true
   },
   "outputs": [],
   "source": [
    "m_rostigraben_suisse = folium.Map([47,8.5], tiles='cartodbpositron', min_zoom = 8, max_zoom  = 8)\n",
    "\n",
    "m_rostigraben_suisse.choropleth(geo_data=canton_topojson, topojson = 'objects.cantons', data=rostigraben.loc[canton_order_map,:],\n",
    "             columns=['Canton', 'Swiss Rates'],\n",
    "             key_on='feature.id',\n",
    "             fill_color='YlOrRd', fill_opacity=0.7, line_opacity=0.9,\n",
    "             legend_name='Unemployement ratios')\n",
    "\n",
    "m_rostigraben_suisse.save('question3_data/rostigraben_suisse.html')"
   ]
  },
  {
   "cell_type": "code",
   "execution_count": 34,
   "metadata": {
    "collapsed": true
   },
   "outputs": [],
   "source": [
    "m_rostigraben_foreign = folium.Map([47,8.5], tiles='cartodbpositron', min_zoom = 8, max_zoom  = 8)\n",
    "\n",
    "m_rostigraben_foreign.choropleth(geo_data=canton_topojson, topojson = 'objects.cantons', data=rostigraben.loc[canton_order_map,:],\n",
    "             columns=['Canton', 'Foreign Rates'],\n",
    "             key_on='feature.id',\n",
    "             fill_color='YlOrRd', fill_opacity=0.7, line_opacity=0.9,\n",
    "             legend_name='Unemployement ratios')\n",
    "\n",
    "m_rostigraben_foreign.save('question3_data/rostigraben_foreign.html')"
   ]
  },
  {
   "cell_type": "markdown",
   "metadata": {},
   "source": [
    "[Rostigraben Total Unemployement rates](question3_data/rostigraben_total.html)     \n",
    "[Rostigraben Swiss Unemployement rates](question3_data/rostigraben_suisse.html)     \n",
    "[Rostigraben Foreign Unemployement rates](question3_data/rostigraben_Foreign.html)     \n",
    "\n",
    "We notice Italian and German speaking regions have very close unemployment rates in both Swiss and Foreign categories"
   ]
  },
  {
   "cell_type": "code",
   "execution_count": null,
   "metadata": {
    "collapsed": true
   },
   "outputs": [],
   "source": []
  }
 ],
 "metadata": {
  "kernelspec": {
   "display_name": "Python 3",
   "language": "python",
   "name": "python3"
  },
  "language_info": {
   "codemirror_mode": {
    "name": "ipython",
    "version": 3
   },
   "file_extension": ".py",
   "mimetype": "text/x-python",
   "name": "python",
   "nbconvert_exporter": "python",
   "pygments_lexer": "ipython3",
   "version": "3.6.1"
  }
 },
 "nbformat": 4,
 "nbformat_minor": 2
}
