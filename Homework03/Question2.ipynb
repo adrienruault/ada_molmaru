{
 "cells": [
  {
   "cell_type": "code",
   "execution_count": null,
   "metadata": {
    "collapsed": true
   },
   "outputs": [],
   "source": [
    "# Import libraries\n",
    "import os\n",
    "import pandas as pd\n",
    "import json\n",
    "import numpy as np\n",
    "import folium\n",
    "from ipywidgets import interact\n",
    "\n",
    "\n",
    "#pd.options.mode.chained_assignment = None  # default='warn'\n",
    "%matplotlib inline"
   ]
  },
  {
   "cell_type": "markdown",
   "metadata": {},
   "source": [
    "# Exercise 2\n",
    "## Setting up the DataFrame of the Swiss unemployment"
   ]
  },
  {
   "cell_type": "code",
   "execution_count": null,
   "metadata": {
    "collapsed": true
   },
   "outputs": [],
   "source": [
    "swiss_unemployment_data = pd.read_csv('swiss_unemployment_rate_year.csv', encoding = 'utf-16', nrows=52, header = [0, 1], index_col = [0,1])"
   ]
  },
  {
   "cell_type": "code",
   "execution_count": null,
   "metadata": {},
   "outputs": [],
   "source": [
    "swiss_unemployment_data.replace(\"...\", np.nan, inplace = True)"
   ]
  },
  {
   "cell_type": "code",
   "execution_count": null,
   "metadata": {
    "scrolled": true
   },
   "outputs": [],
   "source": [
    "swiss_unemployment_data.index.names = ['Canton', 'Sexe']\n",
    "swiss_unemployment_data"
   ]
  },
  {
   "cell_type": "markdown",
   "metadata": {},
   "source": [
    "We can remark that the numbers contained in the DataFrame above contain the apostrophe character which makes them impossible to convert as float. We thus write a small script to remove that character from the swiss_unemployment DataFrame.\n",
    "Then we convert every DataFrame entries to int except from the 'Canton' column which is let as string and the 'Taux de chômage' column which is let as float."
   ]
  },
  {
   "cell_type": "code",
   "execution_count": null,
   "metadata": {
    "scrolled": true
   },
   "outputs": [],
   "source": [
    "swiss_unemployment_data = swiss_unemployment_data.replace([\"'\"],'', regex=True)\n"
   ]
  },
  {
   "cell_type": "markdown",
   "metadata": {},
   "source": [
    "Now we convert the values of the columns to numerical values in order to be able to apply numerical operations on them."
   ]
  },
  {
   "cell_type": "code",
   "execution_count": null,
   "metadata": {},
   "outputs": [],
   "source": [
    "for i in swiss_unemployment_data.columns:\n",
    "    if (i[1] != \"Taux de chômage\" and i[1] != \"Taux de chômage des jeunes\"):\n",
    "        swiss_unemployment_data[i] = swiss_unemployment_data[i].astype('int')\n",
    "    \n",
    "    if (i[1] == \"Taux de chômage des jeunes\"):\n",
    "        swiss_unemployment_data[i] = swiss_unemployment_data[i].astype('float')\n"
   ]
  },
  {
   "cell_type": "markdown",
   "metadata": {},
   "source": [
    "Now we calculate the size of the active population and the size of the active young popultation. To do so we refer to the definition of the unemployment rate according to the Swiss Confederation which states that it is the ratio of people looking for a job divided by the size of the active population. The size of the active popultation is thus obtained by dividing the number of people looking for a job ('Demandeurs d'emploi') by the unemployment rate ('Taux de chômage'). We will assign a new column for each period investigated in the swiss_unemployment_data DataFrame."
   ]
  },
  {
   "cell_type": "code",
   "execution_count": null,
   "metadata": {},
   "outputs": [],
   "source": [
    "def active_population_column(df):\n",
    "    month = 'Janvier'\n",
    "    for i, year in enumerate(range(2005, 2018)):\n",
    "        period_name = month + \" \" + str(year)\n",
    "        df[period_name, 'Active population'] = \\\n",
    "            (df[period_name, \"Demandeurs d'emploi\"].astype('int') \\\n",
    "            .divide(0.01 * df[period_name, 'Taux de chômage'])).astype('int')\n",
    "        df[period_name, 'Active population'] = df[period_name, 'Active population'].apply(np.round) \n",
    "        \n",
    "        df[period_name, 'Active young population'] = \\\n",
    "            (df[period_name, \"Chômeurs jeunes\"].astype('float') \\\n",
    "            .divide(0.01 * df[period_name, 'Taux de chômage des jeunes'])).astype('float')\n",
    "        df[period_name, 'Active young population'] = df[period_name, 'Active young population'].apply(np.round)\n",
    "active_population_column(swiss_unemployment_data)"
   ]
  },
  {
   "cell_type": "markdown",
   "metadata": {},
   "source": [
    "Now we are going to add a new row per canton to show the all the statistics gathering women ('Femmes') and men ('Hommes')  categories. For the unemployment rate of young people for both sexes we will assume that the total active population is representative of the active population of young people and average "
   ]
  },
  {
   "cell_type": "code",
   "execution_count": null,
   "metadata": {},
   "outputs": [],
   "source": [
    "tot_df = swiss_unemployment_data.groupby('Canton').apply(np.sum)\n",
    "for i in range(0, 26):\n",
    "\n",
    "    for i, year in enumerate(range(2005, 2018)):\n",
    "        month = 'Janvier'\n",
    "        period = month + ' ' + str(year)\n",
    "        tot_df[period, 'Taux de chômage'] = 100*tot_df[period, \"Demandeurs d'emploi\"]\\\n",
    "                                            .divide(tot_df[period, 'Active population'])\n",
    "        tot_df[period, 'Taux de chômage'] = tot_df[period, 'Taux de chômage'].apply(np.round, decimals=1)\n",
    "        \n",
    "        tot_df[period, 'Taux de chômage des jeunes'] = 100*tot_df[period, \"Chômeurs jeunes\"]\\\n",
    "                                            .divide(tot_df[period, 'Active young population'], fill_value = np.nan)\n",
    "        tot_df[period, 'Taux de chômage des jeunes'] = tot_df[period, 'Taux de chômage des jeunes'].apply(np.round, decimals=1)\n",
    "        #tot_df[tot_df[period, 'Taux de chômage des jeunes'].apply(np.isinf)].loc[:,(period, 'Taux de chômage des jeunes')] = np.nan\n",
    "        tot_df.loc['Appenzell Rhodes-Intérieures', (period, 'Taux de chômage des jeunes')] = np.nan\n",
    "        \n",
    "tot_df['Sexe'] = ['Both']*26\n",
    "tot_df = tot_df.set_index('Sexe',append = True)\n",
    "\n",
    "swiss_unemployment_data = swiss_unemployment_data.append(tot_df)"
   ]
  },
  {
   "cell_type": "markdown",
   "metadata": {},
   "source": [
    "Now that we have a clean DataFrame with data for every cantons and for every genre we are going to compute extra unemployment rates based on different definitions from the one used by the Swiss Confederation. \n",
    "We are going to compute the unemployment rate for\n",
    "- 'Long range unemployed' people ('Chômeurs de longue durée')\n",
    "- 'Registered unemployed' people ('Chômeurs inscrits')"
   ]
  },
  {
   "cell_type": "code",
   "execution_count": null,
   "metadata": {},
   "outputs": [],
   "source": [
    "for i, year in enumerate(range(2005, 2018)):\n",
    "    month = 'Janvier'\n",
    "    period = month + ' ' + str(year)\n",
    "    swiss_unemployment_data[period, 'Long range unemployment rate'] = \\\n",
    "                                                            swiss_unemployment_data[period, 'Chômeurs de longue durée']\\\n",
    "                                                            .divide(swiss_unemployment_data[period, 'Active population'])\n",
    "    \n",
    "    swiss_unemployment_data[period, 'Registered unemployment rate'] = \\\n",
    "                                                            swiss_unemployment_data[period, 'Chômeurs inscrits']\\\n",
    "                                                            .divide(swiss_unemployment_data[period, 'Active population'])\n",
    "\n",
    "            \n"
   ]
  },
  {
   "cell_type": "markdown",
   "metadata": {},
   "source": [
    "We know sort the columns in order to have them all sorted according to the year"
   ]
  },
  {
   "cell_type": "code",
   "execution_count": null,
   "metadata": {
    "collapsed": true,
    "scrolled": true
   },
   "outputs": [],
   "source": [
    "swiss_unemployment_data.sort_index(axis=1, level = [0, 1], inplace = True)\n",
    "swiss_unemployment_data = swiss_unemployment_data.sort_index()"
   ]
  },
  {
   "cell_type": "code",
   "execution_count": null,
   "metadata": {},
   "outputs": [],
   "source": [
    "swiss_unemployment_data"
   ]
  },
  {
   "cell_type": "markdown",
   "metadata": {},
   "source": [
    "## Matching of cantons name between DataFrame and TopoJson"
   ]
  },
  {
   "cell_type": "markdown",
   "metadata": {},
   "source": [
    "We load a TopoJson in order to define the cantons of Switzerland."
   ]
  },
  {
   "cell_type": "code",
   "execution_count": null,
   "metadata": {},
   "outputs": [],
   "source": [
    "ch_cantons_path = 'topojson/ch-cantons.topojson.json'\n",
    "ch_cantons_json = json.load(open(ch_cantons_path))\n",
    "canton_names_json = [ch_cantons_json['objects']['cantons']['geometries'][i]['properties']['name'] for i in range(26)]\n",
    "canton_names_json"
   ]
  },
  {
   "cell_type": "markdown",
   "metadata": {},
   "source": [
    "Looking at the way the cantons are named in the JSON file above, we can point out that the canton names are not specified in the exact same way as in the swiss_unemployment_data DataFrame that we created earlier. Therefore the idea now is to print the canton names specified in the JSON and to compare it with the one used as index in the DataFrame.\n",
    "\n",
    "Firstly we get the number of cantons specified in the JSON file. There are actually 26 cantons which suits with the data we have in the swiss_unemployment_rate DataFrame."
   ]
  },
  {
   "cell_type": "code",
   "execution_count": null,
   "metadata": {},
   "outputs": [],
   "source": [
    "len(ch_cantons_json['objects']['cantons']['geometries'])"
   ]
  },
  {
   "cell_type": "markdown",
   "metadata": {},
   "source": [
    "Now we compare all the names of the JSON along with the names of our DataFrame. It shows the changes that we are going to apply to our DataFrame indexes."
   ]
  },
  {
   "cell_type": "code",
   "execution_count": null,
   "metadata": {
    "scrolled": false
   },
   "outputs": [],
   "source": [
    "canton_names_json.sort(reverse = False)\n",
    "[(canton_names_json[i], \" -> \",\n",
    " swiss_unemployment_data.index[3*i][0]) for i in range(26)]"
   ]
  },
  {
   "cell_type": "markdown",
   "metadata": {},
   "source": [
    "We can remark that the order in which the canton names are specified in the JSON is approximately the same as the one used for indexing the swiss_unemployment_data DataFrame except from a few names that need to permute like 'Aargau' that needs to be inserted after 'Appenzell Innerrhoden' and 'Bern/Berne' that needs to be inserted before 'Basel-Landschaft'. Therefore we are going to carry out these slight modifications and then we are going to replace the index names of the DataFrame with the canton names specified in the JSON."
   ]
  },
  {
   "cell_type": "code",
   "execution_count": null,
   "metadata": {
    "collapsed": true
   },
   "outputs": [],
   "source": [
    "# Modification of the indexing order of swiss_unemployment_data\n",
    "# Changing Argovie's position\n",
    "swiss_unemployment_data = swiss_unemployment_data.iloc[6:9].append(swiss_unemployment_data.iloc[0:6])\\\n",
    "                            .append(swiss_unemployment_data.iloc[9:])\n",
    "    \n",
    "# Changing Bern's position\n",
    "swiss_unemployment_data = swiss_unemployment_data.iloc[:9].append(swiss_unemployment_data.iloc[12:18])\\\n",
    "                            .append(swiss_unemployment_data.iloc[9:12]).append(swiss_unemployment_data[18:])"
   ]
  },
  {
   "cell_type": "markdown",
   "metadata": {},
   "source": [
    "Below we just check that the matching between the canton names of the swiss_unemployment_data DataFrame and the ones of the JSON is perfect."
   ]
  },
  {
   "cell_type": "code",
   "execution_count": null,
   "metadata": {},
   "outputs": [],
   "source": [
    "[(canton_names_json[i], \" -> \",\n",
    " swiss_unemployment_data.index[3*i][0]) for i in range(26)]\n"
   ]
  },
  {
   "cell_type": "markdown",
   "metadata": {},
   "source": [
    "Now we will add a column to the swiss_unemployment_rate DataFrame that specifies the canton names as they are defined in the TopoJson. It will allow to easily link the DataFrame to the latter."
   ]
  },
  {
   "cell_type": "code",
   "execution_count": null,
   "metadata": {},
   "outputs": [],
   "source": [
    "redim_ch_cantons_json = []\n",
    "for i in range(26):\n",
    "    redim_ch_cantons_json += [canton_names_json[i]]*3\n",
    "\n",
    "swiss_unemployment_data['Json canton'] = redim_ch_cantons_json\n",
    "cols = swiss_unemployment_data.columns.tolist()\n",
    "swiss_unemployment_data =swiss_unemployment_data[[cols[-1]] + cols[:-1]]"
   ]
  },
  {
   "cell_type": "code",
   "execution_count": null,
   "metadata": {
    "scrolled": false
   },
   "outputs": [],
   "source": [
    "swiss_unemployment_data.head()"
   ]
  },
  {
   "cell_type": "markdown",
   "metadata": {},
   "source": [
    "## Creation of an interactive map\n",
    "The interactive map that is developed in this section is a folium map centered on coordinates [46.8414, 8.24523] which is more or less the center of Switzerland. The map is shown below."
   ]
  },
  {
   "cell_type": "code",
   "execution_count": null,
   "metadata": {
    "scrolled": true
   },
   "outputs": [],
   "source": [
    "swiss_map = folium.Map(location=[46.8414, 8.24523], zoom_start = 8, max_zoom = 9, min_zoom = 7)\n",
    "swiss_map"
   ]
  },
  {
   "cell_type": "markdown",
   "metadata": {},
   "source": [
    "We are now going to design a function called `map_creator` that takes various parameters from the DataFrame as argument and that prints out a chloropleth map of the unemployment rate per Swiss canton. The user can interact with the map to choose the parameters that suits him/her thanks to the ipywidget library. Three parameters can be defined: \n",
    "- The year (between 2005 and 2017)\n",
    "- The sex (Both, Female, Male)\n",
    "- The unemployment computation method"
   ]
  },
  {
   "cell_type": "code",
   "execution_count": null,
   "metadata": {
    "collapsed": true
   },
   "outputs": [],
   "source": [
    "def map_creator(year, sex, attribute):\n",
    "    # sex translation\n",
    "    if (sex == 'Male'):\n",
    "        sex = 'Hommes'\n",
    "    elif (sex == 'Female'):\n",
    "        sex = 'Femmes'\n",
    "    \n",
    "    # attribute translation\n",
    "    if (attribute == 'Unemployment rate'):\n",
    "        attribute = 'Taux de chômage'\n",
    "    elif (attribute == 'Young unemployment rate'):\n",
    "        attribute = 'Taux de chômage des jeunes'\n",
    "    \n",
    "    # Declaration of the swiss map\n",
    "    swiss_map = folium.Map(location=[46.8414, 8.24523], zoom_start = 8, max_zoom = 9, min_zoom = 7)\n",
    "    \n",
    "    # Definition of the DataFrame according to the sex attribute\n",
    "    # Firstly we compute the Inequality Male-Female if it is required by the user\n",
    "    if (attribute == 'Inequality Male - Female'):\n",
    "        attribute = 'Taux de chômage'\n",
    "        #data_male = swiss_unemployment_data[swiss_unemployment_data.index.get_level_values(level = 1)=='Hommes']\n",
    "        data_female = swiss_unemployment_data[swiss_unemployment_data.index.get_level_values(level = 1)=='Femmes'].copy()\n",
    "        data = swiss_unemployment_data[swiss_unemployment_data.index.get_level_values(level = 1)=='Hommes'].copy()\n",
    "        female_serie = data_female['Janvier ' + str(year), attribute]\n",
    "        male_serie = data['Janvier ' + str(year), attribute]\n",
    "        data['Janvier ' + str(year), attribute] = female_serie.values - male_serie.values\n",
    "    # Oterwise we get the right DataFrame according to the asked sex\n",
    "    else:\n",
    "        data = swiss_unemployment_data[swiss_unemployment_data.index.get_level_values(level = 1)==sex]\n",
    "    \n",
    "    # Here is the creation of the chloropleth\n",
    "    swiss_map.choropleth(\n",
    "    geo_data=ch_cantons_json,\n",
    "    topojson = 'objects.cantons',\n",
    "    name='choropleth',\n",
    "    data=data,\n",
    "    columns=['Json canton', ('Janvier ' + str(year), attribute)],\n",
    "    key_on='feature.properties.name',\n",
    "    fill_color='YlOrRd',\n",
    "    fill_opacity=0.7,\n",
    "    line_opacity=0.2,\n",
    "    legend_name='Unemployment Rate (%)')\n",
    "    return swiss_map"
   ]
  },
  {
   "cell_type": "markdown",
   "metadata": {},
   "source": [
    "Now you can try the `map_creator` function for different parameters, feel free to change the year, the sex or the computation method."
   ]
  },
  {
   "cell_type": "code",
   "execution_count": null,
   "metadata": {},
   "outputs": [],
   "source": [
    "attribute_list = ['Unemployment rate', 'Young unemployment rate', 'Registered unemployment rate',\\\n",
    "                  'Long range unemployment rate', 'Inequality Male - Female']\n",
    "\n",
    "interact(map_creator, Year=range(2005, 2018), Sex=['Both', 'Male', 'Female'], Computation_method = attribute_list)"
   ]
  },
  {
   "cell_type": "markdown",
   "metadata": {},
   "source": [
    "## Map gallery\n",
    "Some preconfigured map configurations are shown below. Especially:\n",
    "- The unemployment rate as defined by the Swiss confederation (number of people looking for a job divided by the number of active people)\n",
    "- The unemployment rate without counting for people already having a job (number of people registered as unemployed divided by the number of active people)\n",
    "- The unemployment rate of young people\n",
    "- The long range unemployment rate"
   ]
  },
  {
   "cell_type": "markdown",
   "metadata": {},
   "source": [
    "### The unemployment rate as defined by the Swiss confederation\n",
    "\n",
    "#### For both genders"
   ]
  },
  {
   "cell_type": "code",
   "execution_count": null,
   "metadata": {
    "scrolled": false
   },
   "outputs": [],
   "source": [
    "new_map = map_creator(2017, 'Both', 'Taux de chômage')\n",
    "new_map"
   ]
  },
  {
   "cell_type": "markdown",
   "metadata": {},
   "source": [
    "#### For male"
   ]
  },
  {
   "cell_type": "code",
   "execution_count": null,
   "metadata": {},
   "outputs": [],
   "source": [
    "map_creator(2017, 'Hommes', 'Taux de chômage')"
   ]
  },
  {
   "cell_type": "markdown",
   "metadata": {},
   "source": [
    "#### For female"
   ]
  },
  {
   "cell_type": "code",
   "execution_count": null,
   "metadata": {},
   "outputs": [],
   "source": [
    "map_creator(2017, 'Femmes', 'Taux de chômage')"
   ]
  },
  {
   "cell_type": "markdown",
   "metadata": {},
   "source": [
    "### The unemployment rate without counting for people already having a job\n",
    "\n",
    "#### For both genders"
   ]
  },
  {
   "cell_type": "code",
   "execution_count": null,
   "metadata": {},
   "outputs": [],
   "source": [
    "map_creator(2017, 'Both', 'Registered unemployment rate')"
   ]
  },
  {
   "cell_type": "markdown",
   "metadata": {},
   "source": [
    "We can remark that the difference between counting all people looking for a job and only counting for people who do not have a job is not very significative. Indeed the color of some cantons changes but the general trend remains the same."
   ]
  },
  {
   "cell_type": "markdown",
   "metadata": {},
   "source": [
    "### The unemployment rate of young people\n",
    "\n",
    "#### For both genders"
   ]
  },
  {
   "cell_type": "code",
   "execution_count": null,
   "metadata": {},
   "outputs": [],
   "source": [
    "map_creator(2017, 'Both', 'Young unemployment rate')"
   ]
  },
  {
   "cell_type": "markdown",
   "metadata": {},
   "source": [
    "### The long range unemployment rate "
   ]
  },
  {
   "cell_type": "code",
   "execution_count": null,
   "metadata": {},
   "outputs": [],
   "source": [
    "map_creator(2017, 'Both', 'Long range unemployment rate')"
   ]
  },
  {
   "cell_type": "code",
   "execution_count": null,
   "metadata": {
    "collapsed": true
   },
   "outputs": [],
   "source": []
  }
 ],
 "metadata": {
  "kernelspec": {
   "display_name": "Python 3",
   "language": "python",
   "name": "python3"
  },
  "language_info": {
   "codemirror_mode": {
    "name": "ipython",
    "version": 3
   },
   "file_extension": ".py",
   "mimetype": "text/x-python",
   "name": "python",
   "nbconvert_exporter": "python",
   "pygments_lexer": "ipython3",
   "version": "3.6.2"
  }
 },
 "nbformat": 4,
 "nbformat_minor": 2
}
