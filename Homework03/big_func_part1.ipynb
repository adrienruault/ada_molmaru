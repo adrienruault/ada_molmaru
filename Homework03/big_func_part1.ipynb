{
 "cells": [
  {
   "cell_type": "code",
   "execution_count": 104,
   "metadata": {},
   "outputs": [],
   "source": [
    "import os\n",
    "import pandas as pd\n",
    "import json\n",
    "import folium\n",
    "from ipywidgets.widgets import interact"
   ]
  },
  {
   "cell_type": "markdown",
   "metadata": {},
   "source": [
    "We first import the topojson"
   ]
  },
  {
   "cell_type": "code",
   "execution_count": 105,
   "metadata": {},
   "outputs": [],
   "source": [
    "topojson_europe_path = 'topojson/europe.topojson.json'\n",
    "topojson_europe = json.load(open(topojson_europe_path))"
   ]
  },
  {
   "cell_type": "markdown",
   "metadata": {},
   "source": [
    "To improve map interaction, we want to add markers one each country, so that we can display the exact data showed on the map. To do so, we have downloaded a csv of all the countries with the position of their respective capital. We check that the countries in the topojson match the countries in the csv, and we rename the countries that mismatch.\n",
    "Also, we remove the 'United States' row as it cause a shift in the csv, and we do not need it.\n",
    "We also remove Vatican city because we don't have data for this country, and it hides Italy data on the map.\n",
    "\n",
    "Link for the csv: http://techslides.com/list-of-countries-and-capitals"
   ]
  },
  {
   "cell_type": "code",
   "execution_count": 106,
   "metadata": {},
   "outputs": [
    {
     "name": "stdout",
     "output_type": "stream",
     "text": [
      "The former Yugoslav Republic of Macedonia\n",
      "Republic of Moldova\n",
      "Holy See (Vatican City)\n"
     ]
    }
   ],
   "source": [
    "# csv for capital locations preprocessing\n",
    "#http://techslides.com/list-of-countries-and-capitals\n",
    "countries = pd.read_csv('./europe_data/country-capitals.csv')\n",
    "countries.index = countries['CountryName']\n",
    "for i in range(len(topojson_europe['objects']['europe']['geometries'])):\n",
    "    name = topojson_europe['objects']['europe']['geometries'][i]['properties']['NAME']\n",
    "    if not name in countries.index:\n",
    "        print(name)\n",
    "\n",
    "countries = countries[countries['CapitalLatitude'] != ' D.C.'].rename({'Moldova':'Republic of Moldova',\n",
    "                                                                      'Macedonia': 'The former Yugoslav Republic of Macedonia'})"
   ]
  },
  {
   "cell_type": "markdown",
   "metadata": {},
   "source": [
    "Here we define all the functions implemented to output the map we want.\n",
    "\n",
    "1. opacity_nan function allows to determine if we have data for a specified country. If there's some data, an opacity of 0 is defined for the country, and if there's no data, an opacity of 1. With this opacity, we then attribute a grey layer (in the function put_nan_layer) on every country, that finally appears only on coutries with no data. It allows our map to well show for which country we have unavailable data.\n",
    "\n",
    "2. get_value_or_NaN returns the value of a field, or an 'Unavailable data' message when the field is empty or doesn't exist. This value will be displayed in markers.\n",
    "\n",
    "3. get_clean_df returns a clean panda dataframe given the path of the excel file we want to load.\n",
    "\n",
    "4. put_nan_layer puts the grey layer, calling the opacity_nan_function\n",
    "\n",
    "5. generate_map creates the map we want for a given excel path and a year. We can specify if we want the markers displayed or not (by default we do not display it). It calls the choroplet built-in function to draw the density map, and then set the NaN layer before adding the markers if asked.\n",
    "\n",
    "6. generate_growth_map does the same as generate_map but shows the evolution between two years passed as arguments.\n",
    "\n"
   ]
  },
  {
   "cell_type": "code",
   "execution_count": 107,
   "metadata": {},
   "outputs": [],
   "source": [
    "def opacity_nan(df, country,year):\n",
    "    if not country in df[year].dropna().index:\n",
    "        return 1\n",
    "    else:\n",
    "        return 0\n",
    "    \n",
    "def get_value_or_NaN(df, country, year):\n",
    "    if (country in df.index):\n",
    "        if (pd.notnull(df.loc[country][year])):\n",
    "            return str(df.loc[country][year]) + '%'\n",
    "    return 'Unavailable data'\n",
    "\n",
    "def get_clean_df(excel_path,title):\n",
    "    raw_excel = pd.read_excel(excel_path).dropna()\n",
    "    df = raw_excel.set_index(raw_excel[title].values).drop(title,axis=1)\n",
    "    df.columns = df.iloc[0]\n",
    "    df = df.drop('geo\\\\time',axis=0).replace(':','NaN').astype(float).rename({\n",
    "                          'Former Yugoslav Republic of Macedonia, the' :'The former Yugoslav Republic of Macedonia'})\n",
    "    return df\n",
    "\n",
    "def put_nan_layer(m, df, year):\n",
    "    folium.TopoJson(\n",
    "        topojson_europe,\n",
    "        'objects.europe',\n",
    "        style_function=lambda feature: {\n",
    "            #not feature['properties']['NAME'] in df_total_unemployment.index:\n",
    "            'fillColor':  '#5b5858',\n",
    "            'fillOpacity': opacity_nan(df, feature['properties']['NAME'],year),\n",
    "            }\n",
    "        ).add_to(m)\n",
    "    \n",
    "def generate_map(excel_path, title, legend_title, year, markers=False):\n",
    "    \n",
    "    df= get_clean_df(excel_path, title)\n",
    "    \n",
    "    m_europe = folium.Map([60,30],zoom_start=3.4,min_zoom=3.)\n",
    "    \n",
    "    m_europe.choropleth(\n",
    "        geo_data= topojson_europe,\n",
    "        topojson = 'objects.europe',\n",
    "        name= legend_title,\n",
    "        data = df,\n",
    "        columns=[df.index, year],\n",
    "        key_on='feature.properties.NAME',\n",
    "        fill_color='YlOrRd',\n",
    "        fill_opacity=0.7,\n",
    "        line_opacity=0.2,\n",
    "        legend_name= legend_title +' (%)'\n",
    "    )\n",
    "    \n",
    "    put_nan_layer(m_europe, df, year)\n",
    "    \n",
    "    folium.LayerControl().add_to(m_europe)\n",
    "    \n",
    "    if markers:\n",
    "        for i in range(len(topojson_europe['objects']['europe']['geometries'])):\n",
    "            name = topojson_europe['objects']['europe']['geometries'][i]['properties']['NAME']\n",
    "            if name in countries.index:\n",
    "                folium.Marker([countries['CapitalLatitude'].astype(float).loc[name], countries['CapitalLongitude'].astype(float).loc[name]],\n",
    "                      popup=name + ': ' + get_value_or_NaN(df, name, year),\n",
    "                      icon=folium.Icon(icon='cloud')\n",
    "                      ).add_to(m_europe)\n",
    "    \n",
    "    return m_europe\n",
    "\n",
    "def generate_growth_map(excel_path, title, legend_title, year_start, year_end, markers=False):\n",
    "    \n",
    "    df= get_clean_df(excel_path, title)\n",
    "    \n",
    "    m_europe = folium.Map([60,30],zoom_start=3.4,min_zoom=3.)\n",
    "    \n",
    "    year = year_start + '-' + year_start\n",
    "    df[year] = (df[year_end] - df[year_start])*-1\n",
    "    \n",
    "    m_europe.choropleth(\n",
    "        geo_data= topojson_europe,\n",
    "        topojson = 'objects.europe',\n",
    "        name= legend_title,\n",
    "        data = df,\n",
    "        columns=[df.index, year],\n",
    "        key_on='feature.properties.NAME',\n",
    "        fill_color= 'RdBu',\n",
    "        fill_opacity=0.7,\n",
    "        line_opacity=0.2,\n",
    "        legend_name= legend_title +' (%)'\n",
    "    )\n",
    "    \n",
    "    put_nan_layer(m_europe, df, year)\n",
    "    \n",
    "    folium.LayerControl().add_to(m_europe)\n",
    "    \n",
    "    if markers:\n",
    "        for i in range(len(topojson_europe['objects']['europe']['geometries'])):\n",
    "            name = topojson_europe['objects']['europe']['geometries'][i]['properties']['NAME']\n",
    "            if name in countries.index:\n",
    "                folium.Marker([countries['CapitalLatitude'].astype(float).loc[name], countries['CapitalLongitude'].astype(float).loc[name]],\n",
    "                      popup=name + ': ' + get_value_or_NaN(df, name, year),\n",
    "                      icon=folium.Icon(icon='cloud')\n",
    "                      ).add_to(m_europe)\n",
    "    \n",
    "    return m_europe"
   ]
  },
  {
   "cell_type": "markdown",
   "metadata": {},
   "source": [
    "This function defines the maps we can query. It is the function that will be used in the interact widget."
   ]
  },
  {
   "cell_type": "code",
   "execution_count": 108,
   "metadata": {},
   "outputs": [],
   "source": [
    "def query_map(query_name, sex, year, markers=0):\n",
    "    year = str(year) #allows to pass year as int argument\n",
    "    if query_name == 'Unemployment':\n",
    "        f = open('./europe_data/unemployment_description.txt', 'r')\n",
    "        print(f.read())\n",
    "        f.close()\n",
    "        return generate_map('./europe_data/unemployment_15_74_'+ sex +'.xls',title='Unemployment rate by sex',\n",
    "             legend_title=sex+' Unemployment in ' + year, year=year, markers=markers)\n",
    "\n",
    "    if query_name == 'Young people Inactivity':\n",
    "        f = open('./europe_data/no_activity_15_24_people_description.txt', 'r')\n",
    "        print(f.read())\n",
    "        f.close()\n",
    "        return generate_map('./europe_data/no_activity_15_24_people_'+ sex +'.xls',\n",
    "             title='Young people neither in employment nor in education and training by sex',\n",
    "             legend_title=sex + ' Young people Inactivity in ' + year, year=year, markers=markers)\n",
    "\n",
    "    if query_name == 'Long Term Unemployment':\n",
    "        f = open('./europe_data/long_term_unemployment_description.txt', 'r')\n",
    "        print(f.read())\n",
    "        f.close()\n",
    "        return generate_map('./europe_data/long_term_unemployment_'+ sex +'.xls',\n",
    "             title='Long-term unemployment rate by sex',\n",
    "             legend_title=sex + ' Long Term Unemployment in ' + year, year=year, markers=markers)\n",
    "    \n",
    "    "
   ]
  },
  {
   "cell_type": "markdown",
   "metadata": {},
   "source": [
    "Here is the widget that allows to show maps we managed to create. We can display maps for global unemployment ratio, Young people inactivity and Long Term Unemployment. For each of these maps, we can choose a sex and a year and display the relative map. A description of how is calculated the ratio for each request is displayed when running the widget.\n",
    "We recommend to open it in python notebook to have the choice in all the maps available, and to get the description.\n",
    "Otherwise, here are some maps we generated:\n",
    "\n",
    "[Total unemployment in 2016 (with markers)](./europe_data/tot_unempl_2016_mark.html)\n",
    "\n",
    "[Male unemployment in 2016 (with markers):](./europe_data/male_unempl_2016_mark.html)\n",
    "\n",
    "[Female unemployment in 2016 (with markers):](./europe_data/female_unempl_2016_mark.html)\n",
    "\n",
    "[Total Young people Inactivity in 2016 (with markers):](./europe_data/total_young_inactivity_2016_mark.html)\n",
    "\n",
    "[Total Long Term Unemployment in 2016 (with markers):](./europe_data/total_long_term_2016_mark.html)"
   ]
  },
  {
   "cell_type": "code",
   "execution_count": 109,
   "metadata": {},
   "outputs": [
    {
     "name": "stdout",
     "output_type": "stream",
     "text": [
      "Unemployment rate represents unemployed persons as a percentage of the labour force. The labour force is the total number of people employed and unemployed. Unemployed persons comprise persons aged 15 to 74 who were: \n",
      "a. without work during the reference week,\n",
      "b. currently available for work, i.e. were available for paid employment or self-employment before the end of the two weeks following the reference week, \n",
      "c. actively seeking work, i.e. had taken specific steps in the four weeks period ending with the reference week to seek paid employment or self-employment or who found a job to start later, i.e. within a period of, at most, three months.\n",
      "The indicator is based on the EU Labour Force Survey.\n",
      "\n"
     ]
    }
   ],
   "source": [
    "mymap = query_map(query_name='Unemployment',sex='Female',year=2016, markers=1)\n",
    "\n",
    "mymap.save('./europe_data/female_unempl_2016_mark.html')"
   ]
  },
  {
   "cell_type": "code",
   "execution_count": 111,
   "metadata": {},
   "outputs": [
    {
     "data": {
      "application/vnd.jupyter.widget-view+json": {
       "model_id": "18eb4427267e4e65ade84aa78f55b210",
       "version_major": 2,
       "version_minor": 0
      },
      "text/html": [
       "<p>Failed to display Jupyter Widget of type <code>interactive</code>.</p>\n",
       "<p>\n",
       "  If you're reading this message in Jupyter Notebook or JupyterLab, it may mean\n",
       "  that the widgets JavaScript is still loading. If this message persists, it\n",
       "  likely means that the widgets JavaScript library is either not installed or\n",
       "  not enabled. See the <a href=\"https://ipywidgets.readthedocs.io/en/stable/user_install.html\">Jupyter\n",
       "  Widgets Documentation</a> for setup instructions.\n",
       "</p>\n",
       "<p>\n",
       "  If you're reading this message in another notebook frontend (for example, a static\n",
       "  rendering on GitHub or <a href=\"https://nbviewer.jupyter.org/\">NBViewer</a>),\n",
       "  it may mean that your frontend doesn't currently support widgets.\n",
       "</p>\n"
      ],
      "text/plain": [
       "interactive(children=(Dropdown(description='query_name', options=('Unemployment', 'Young people Inactivity', 'Long Term Unemployment'), value='Unemployment'), Dropdown(description='sex', options=('Total', 'Male', 'Female'), value='Total'), Dropdown(description='year', options=(2005, 2006, 2007, 2008, 2009, 2010, 2011, 2012, 2013, 2014, 2015, 2016), value=2005), Dropdown(description='markers', options=(0, 1), value=0), Output()), _dom_classes=('widget-interact',))"
      ]
     },
     "metadata": {},
     "output_type": "display_data"
    },
    {
     "data": {
      "text/plain": [
       "<function __main__.query_map>"
      ]
     },
     "execution_count": 111,
     "metadata": {},
     "output_type": "execute_result"
    }
   ],
   "source": [
    "interact(query_map, query_name=['Unemployment','Young people Inactivity', 'Long Term Unemployment'],\n",
    "                         sex=['Total','Male','Female'],\n",
    "                        year=range(2005,2017),markers=[0,1])"
   ]
  },
  {
   "cell_type": "code",
   "execution_count": 112,
   "metadata": {},
   "outputs": [],
   "source": [
    "def query_growth_map(query_name, sex, year_start, year_end, markers=0):\n",
    "    year_start = str(year_start)\n",
    "    year_end = str(year_end)\n",
    "    if (int(year_start) < int(year_end)):\n",
    "        if query_name == 'Employment Growth':\n",
    "                f = open('./europe_data/unemployment_description.txt', 'r')\n",
    "                print(f.read())\n",
    "                f.close()\n",
    "                return generate_growth_map('./europe_data/unemployment_15_74_'+ sex +'.xls',title='Unemployment rate by sex',\n",
    "                     legend_title=sex+' Employment growth between ' + year_start + ' and ' + year_end,\n",
    "                                    year_start=year_start, year_end=year_end, markers=markers)\n",
    "        \n",
    "        if query_name == 'Young people Activity Growth':\n",
    "                f = open('./europe_data/unemployment_description.txt', 'r')\n",
    "                print(f.read())\n",
    "                f.close()\n",
    "                return generate_growth_map('./europe_data/no_activity_15_24_people_'+ sex +'.xls',title='Young people neither in employment nor in education and training by sex',\n",
    "                     legend_title=sex+' Young Activity growth between ' + year_start + ' and ' + year_end, year_start=year_start, year_end=year_end, markers=markers)"
   ]
  },
  {
   "cell_type": "markdown",
   "metadata": {},
   "source": [
    "Below is defined a new widget allowing to choose two different years and to see how a country improved its employment ratio in this time laps.\n",
    "\n",
    "We managed to have a 'positive' color (blue) when the employment ratio increased in a country, and a 'negative' color (red) when the employment ratio increased. The scale being automatically defined in choroplet built-in function, we couldn't fix the zero to white color.\n",
    "It maybe would have been judicious to define our own choroplet function in order to be more precise on the color map choice.\n",
    "\n",
    "Here is an example of the maps we can obtain (if you're not running the python notebook and hence can't have access to the widget):\n",
    "\n",
    "[Difference of employment ratio between 2005 and 2016 (with markers):](./europe_data/total_growth_employment_2005_2016_mark.html)\n"
   ]
  },
  {
   "cell_type": "code",
   "execution_count": 113,
   "metadata": {},
   "outputs": [
    {
     "data": {
      "application/vnd.jupyter.widget-view+json": {
       "model_id": "e185575df4b3496bbcebae4b98ce4e98",
       "version_major": 2,
       "version_minor": 0
      },
      "text/html": [
       "<p>Failed to display Jupyter Widget of type <code>interactive</code>.</p>\n",
       "<p>\n",
       "  If you're reading this message in Jupyter Notebook or JupyterLab, it may mean\n",
       "  that the widgets JavaScript is still loading. If this message persists, it\n",
       "  likely means that the widgets JavaScript library is either not installed or\n",
       "  not enabled. See the <a href=\"https://ipywidgets.readthedocs.io/en/stable/user_install.html\">Jupyter\n",
       "  Widgets Documentation</a> for setup instructions.\n",
       "</p>\n",
       "<p>\n",
       "  If you're reading this message in another notebook frontend (for example, a static\n",
       "  rendering on GitHub or <a href=\"https://nbviewer.jupyter.org/\">NBViewer</a>),\n",
       "  it may mean that your frontend doesn't currently support widgets.\n",
       "</p>\n"
      ],
      "text/plain": [
       "interactive(children=(Dropdown(description='query_name', options=('Employment Growth', 'Young people Activity Growth'), value='Employment Growth'), Dropdown(description='sex', options=('Total', 'Male', 'Female'), value='Total'), Dropdown(description='year_start', options=(2005, 2006, 2007, 2008, 2009, 2010, 2011, 2012, 2013, 2014, 2015, 2016), value=2005), Dropdown(description='year_end', options=(2005, 2006, 2007, 2008, 2009, 2010, 2011, 2012, 2013, 2014, 2015, 2016), value=2005), Dropdown(description='markers', options=(0, 1), value=0), Output()), _dom_classes=('widget-interact',))"
      ]
     },
     "metadata": {},
     "output_type": "display_data"
    },
    {
     "data": {
      "text/plain": [
       "<function __main__.query_growth_map>"
      ]
     },
     "execution_count": 113,
     "metadata": {},
     "output_type": "execute_result"
    }
   ],
   "source": [
    "interact(query_growth_map, query_name=['Employment Growth','Young people Activity Growth'], sex=['Total','Male','Female'],\n",
    "        year_start=range(2005,2017), year_end=range(2005,2017),markers=[0,1])"
   ]
  },
  {
   "cell_type": "code",
   "execution_count": null,
   "metadata": {},
   "outputs": [],
   "source": []
  }
 ],
 "metadata": {
  "kernelspec": {
   "display_name": "Python 3",
   "language": "python",
   "name": "python3"
  },
  "language_info": {
   "codemirror_mode": {
    "name": "ipython",
    "version": 3
   },
   "file_extension": ".py",
   "mimetype": "text/x-python",
   "name": "python",
   "nbconvert_exporter": "python",
   "pygments_lexer": "ipython3",
   "version": "3.6.1"
  },
  "widgets": {
   "application/vnd.jupyter.widget-state+json": {
    "state": {
     "01044840ca1b42878956e3ff79c2b15e": {
      "model_module": "jupyter-js-widgets",
      "model_module_version": "~2.1.4",
      "model_name": "VBoxModel",
      "state": {
       "_dom_classes": [
        "widget-interact"
       ],
       "_model_module_version": "~2.1.4",
       "_view_module_version": "~2.1.4",
       "children": [
        "IPY_MODEL_ab03208cb3c146d9ae76c2ff996c5303",
        "IPY_MODEL_3f6f032768db4c7385384ee9d9c85c71",
        "IPY_MODEL_262ea6a9e7694205a9c5da7deef71234",
        "IPY_MODEL_fddb388fa9fa45879800745a63ed38ca",
        "IPY_MODEL_9be55b54c1b44b62b8909456320299d7"
       ],
       "layout": "IPY_MODEL_eb8929db47a048c9aa34206dad248c24"
      }
     },
     "10722ee95c7745e5af8943e232e7fc0a": {
      "model_module": "jupyter-js-widgets",
      "model_module_version": "~2.1.4",
      "model_name": "DropdownModel",
      "state": {
       "_model_module_version": "~2.1.4",
       "_options_labels": [
        "2005",
        "2006",
        "2007",
        "2008",
        "2009",
        "2010",
        "2011",
        "2012",
        "2013",
        "2014",
        "2015",
        "2016"
       ],
       "_view_module_version": "~2.1.4",
       "description": "year",
       "layout": "IPY_MODEL_2e212db6c625419ebfbe9006343eb48d",
       "value": "2016"
      }
     },
     "137b66d6e63d47bdbe09e53329d18e99": {
      "model_module": "jupyter-js-widgets",
      "model_module_version": "~2.1.4",
      "model_name": "LayoutModel",
      "state": {
       "_model_module_version": "~2.1.4",
       "_view_module_version": "~2.1.4"
      }
     },
     "13e47346bae844e0b508b105f77661fb": {
      "model_module": "jupyter-js-widgets",
      "model_module_version": "~2.1.4",
      "model_name": "LayoutModel",
      "state": {
       "_model_module_version": "~2.1.4",
       "_view_module_version": "~2.1.4"
      }
     },
     "17c5982d49eb4691976132ef305bc975": {
      "model_module": "jupyter-js-widgets",
      "model_module_version": "~2.1.4",
      "model_name": "DropdownModel",
      "state": {
       "_model_module_version": "~2.1.4",
       "_options_labels": [
        "Unemployment",
        "Young people Inactivity"
       ],
       "_view_module_version": "~2.1.4",
       "description": "query_name",
       "layout": "IPY_MODEL_4670ef752b974d24a39afe3aceec0fbd",
       "value": "Unemployment"
      }
     },
     "262ea6a9e7694205a9c5da7deef71234": {
      "model_module": "jupyter-js-widgets",
      "model_module_version": "~2.1.4",
      "model_name": "DropdownModel",
      "state": {
       "_model_module_version": "~2.1.4",
       "_options_labels": [
        "2005",
        "2006",
        "2007",
        "2008",
        "2009",
        "2010",
        "2011",
        "2012",
        "2013",
        "2014",
        "2015",
        "2016"
       ],
       "_view_module_version": "~2.1.4",
       "description": "year",
       "layout": "IPY_MODEL_265962572fa7483d93c1bf8241e20afa",
       "value": "2005"
      }
     },
     "265962572fa7483d93c1bf8241e20afa": {
      "model_module": "jupyter-js-widgets",
      "model_module_version": "~2.1.4",
      "model_name": "LayoutModel",
      "state": {
       "_model_module_version": "~2.1.4",
       "_view_module_version": "~2.1.4"
      }
     },
     "2e212db6c625419ebfbe9006343eb48d": {
      "model_module": "jupyter-js-widgets",
      "model_module_version": "~2.1.4",
      "model_name": "LayoutModel",
      "state": {
       "_model_module_version": "~2.1.4",
       "_view_module_version": "~2.1.4"
      }
     },
     "3f6f032768db4c7385384ee9d9c85c71": {
      "model_module": "jupyter-js-widgets",
      "model_module_version": "~2.1.4",
      "model_name": "DropdownModel",
      "state": {
       "_model_module_version": "~2.1.4",
       "_options_labels": [
        "Total",
        "Male",
        "Female"
       ],
       "_view_module_version": "~2.1.4",
       "description": "sex",
       "layout": "IPY_MODEL_82e968b1475745f3bb84cdcc46211168",
       "value": "Total"
      }
     },
     "4670ef752b974d24a39afe3aceec0fbd": {
      "model_module": "jupyter-js-widgets",
      "model_module_version": "~2.1.4",
      "model_name": "LayoutModel",
      "state": {
       "_model_module_version": "~2.1.4",
       "_view_module_version": "~2.1.4"
      }
     },
     "51e5afec6a5d44fb8e75a5826f2a6305": {
      "model_module": "jupyter-js-widgets",
      "model_module_version": "~2.1.4",
      "model_name": "LayoutModel",
      "state": {
       "_model_module_version": "~2.1.4",
       "_view_module_version": "~2.1.4"
      }
     },
     "52bab66e99ed4cdd85df89fbe62103c1": {
      "model_module": "jupyter-js-widgets",
      "model_module_version": "~2.1.4",
      "model_name": "LayoutModel",
      "state": {
       "_model_module_version": "~2.1.4",
       "_view_module_version": "~2.1.4"
      }
     },
     "52bc3ffe52a54bbfb6a2c78754a31ee8": {
      "model_module": "jupyter-js-widgets",
      "model_module_version": "~2.1.4",
      "model_name": "DropdownModel",
      "state": {
       "_model_module_version": "~2.1.4",
       "_options_labels": [
        "0",
        "1"
       ],
       "_view_module_version": "~2.1.4",
       "description": "markers",
       "layout": "IPY_MODEL_7bfb19f5d6e546588bd695ad544f2728",
       "value": "1"
      }
     },
     "581449b9af164f4d9233367919b65857": {
      "model_module": "jupyter-js-widgets",
      "model_module_version": "~2.1.4",
      "model_name": "DropdownModel",
      "state": {
       "_model_module_version": "~2.1.4",
       "_options_labels": [
        "2005",
        "2006",
        "2007",
        "2008",
        "2009",
        "2010",
        "2011",
        "2012",
        "2013",
        "2014",
        "2015"
       ],
       "_view_module_version": "~2.1.4",
       "description": "year",
       "layout": "IPY_MODEL_8a41152d419e4c5cb7043134ec7c5b67",
       "value": "2015"
      }
     },
     "58a1881bf0ae437ab7270e3486449b9a": {
      "model_module": "jupyter-js-widgets",
      "model_module_version": "~2.1.4",
      "model_name": "LayoutModel",
      "state": {
       "_model_module_version": "~2.1.4",
       "_view_module_version": "~2.1.4"
      }
     },
     "5c202735098b43358308b2ab3100c748": {
      "model_module": "jupyter-js-widgets",
      "model_module_version": "~2.1.4",
      "model_name": "DropdownModel",
      "state": {
       "_model_module_version": "~2.1.4",
       "_options_labels": [
        "0",
        "1"
       ],
       "_view_module_version": "~2.1.4",
       "description": "markers",
       "layout": "IPY_MODEL_13e47346bae844e0b508b105f77661fb",
       "value": "1"
      }
     },
     "68fdc3f260d44eb0969a6abc334c331d": {
      "model_module": "jupyter-js-widgets",
      "model_module_version": "~2.1.4",
      "model_name": "DropdownModel",
      "state": {
       "_model_module_version": "~2.1.4",
       "_options_labels": [
        "Total",
        "Male",
        "Female"
       ],
       "_view_module_version": "~2.1.4",
       "description": "sex",
       "layout": "IPY_MODEL_52bab66e99ed4cdd85df89fbe62103c1",
       "value": "Male"
      }
     },
     "784ba67031224dc8b6a5a3aadc0225a8": {
      "model_module": "jupyter-js-widgets",
      "model_module_version": "~2.1.4",
      "model_name": "LayoutModel",
      "state": {
       "_model_module_version": "~2.1.4",
       "_view_module_version": "~2.1.4"
      }
     },
     "7bfb19f5d6e546588bd695ad544f2728": {
      "model_module": "jupyter-js-widgets",
      "model_module_version": "~2.1.4",
      "model_name": "LayoutModel",
      "state": {
       "_model_module_version": "~2.1.4",
       "_view_module_version": "~2.1.4"
      }
     },
     "82e968b1475745f3bb84cdcc46211168": {
      "model_module": "jupyter-js-widgets",
      "model_module_version": "~2.1.4",
      "model_name": "LayoutModel",
      "state": {
       "_model_module_version": "~2.1.4",
       "_view_module_version": "~2.1.4"
      }
     },
     "85bd8ad1678342f68f8d93c922356ba5": {
      "model_module": "jupyter-js-widgets",
      "model_module_version": "~2.1.4",
      "model_name": "LayoutModel",
      "state": {
       "_model_module_version": "~2.1.4",
       "_view_module_version": "~2.1.4"
      }
     },
     "8a41152d419e4c5cb7043134ec7c5b67": {
      "model_module": "jupyter-js-widgets",
      "model_module_version": "~2.1.4",
      "model_name": "LayoutModel",
      "state": {
       "_model_module_version": "~2.1.4",
       "_view_module_version": "~2.1.4"
      }
     },
     "9be55b54c1b44b62b8909456320299d7": {
      "model_module": "jupyter-js-widgets",
      "model_module_version": "~2.1.4",
      "model_name": "OutputModel",
      "state": {
       "_dom_classes": [],
       "_model_module": "jupyter-js-widgets",
       "_model_module_version": "~2.1.4",
       "_view_module": "jupyter-js-widgets",
       "_view_module_version": "~2.1.4",
       "layout": "IPY_MODEL_58a1881bf0ae437ab7270e3486449b9a",
       "msg_throttle": 1
      }
     },
     "9f848056077d4516b07beef715cc0ef3": {
      "model_module": "jupyter-js-widgets",
      "model_module_version": "~2.1.4",
      "model_name": "LayoutModel",
      "state": {
       "_model_module_version": "~2.1.4",
       "_view_module_version": "~2.1.4"
      }
     },
     "ab03208cb3c146d9ae76c2ff996c5303": {
      "model_module": "jupyter-js-widgets",
      "model_module_version": "~2.1.4",
      "model_name": "DropdownModel",
      "state": {
       "_model_module_version": "~2.1.4",
       "_options_labels": [
        "Unemployment",
        "Young people Inactivity"
       ],
       "_view_module_version": "~2.1.4",
       "description": "query_name",
       "layout": "IPY_MODEL_e9efc6b459aa4d1dba21f8a3d4048806",
       "value": "Unemployment"
      }
     },
     "b79a658388e345779aa7e1544a3fb41b": {
      "model_module": "jupyter-js-widgets",
      "model_module_version": "~2.1.4",
      "model_name": "VBoxModel",
      "state": {
       "_dom_classes": [
        "widget-interact"
       ],
       "_model_module_version": "~2.1.4",
       "_view_module_version": "~2.1.4",
       "children": [
        "IPY_MODEL_17c5982d49eb4691976132ef305bc975",
        "IPY_MODEL_68fdc3f260d44eb0969a6abc334c331d",
        "IPY_MODEL_10722ee95c7745e5af8943e232e7fc0a",
        "IPY_MODEL_5c202735098b43358308b2ab3100c748",
        "IPY_MODEL_c112a9cf3b3b4cc1b8e847d456985fe3"
       ],
       "layout": "IPY_MODEL_51e5afec6a5d44fb8e75a5826f2a6305"
      }
     },
     "c112a9cf3b3b4cc1b8e847d456985fe3": {
      "model_module": "jupyter-js-widgets",
      "model_module_version": "~2.1.4",
      "model_name": "OutputModel",
      "state": {
       "_dom_classes": [],
       "_model_module": "jupyter-js-widgets",
       "_model_module_version": "~2.1.4",
       "_view_module": "jupyter-js-widgets",
       "_view_module_version": "~2.1.4",
       "layout": "IPY_MODEL_137b66d6e63d47bdbe09e53329d18e99",
       "msg_throttle": 1
      }
     },
     "c3b3876a573d488f81a7f6a7436ad08c": {
      "model_module": "jupyter-js-widgets",
      "model_module_version": "~2.1.4",
      "model_name": "OutputModel",
      "state": {
       "_dom_classes": [],
       "_model_module": "jupyter-js-widgets",
       "_model_module_version": "~2.1.4",
       "_view_module": "jupyter-js-widgets",
       "_view_module_version": "~2.1.4",
       "layout": "IPY_MODEL_e68be792b9ee4abb921767bfa4b028bd",
       "msg_throttle": 1
      }
     },
     "c9520c08e3e345588479267fd82f0f4c": {
      "model_module": "jupyter-js-widgets",
      "model_module_version": "~2.1.4",
      "model_name": "LayoutModel",
      "state": {
       "_model_module_version": "~2.1.4",
       "_view_module_version": "~2.1.4"
      }
     },
     "e68be792b9ee4abb921767bfa4b028bd": {
      "model_module": "jupyter-js-widgets",
      "model_module_version": "~2.1.4",
      "model_name": "LayoutModel",
      "state": {
       "_model_module_version": "~2.1.4",
       "_view_module_version": "~2.1.4"
      }
     },
     "e9efc6b459aa4d1dba21f8a3d4048806": {
      "model_module": "jupyter-js-widgets",
      "model_module_version": "~2.1.4",
      "model_name": "LayoutModel",
      "state": {
       "_model_module_version": "~2.1.4",
       "_view_module_version": "~2.1.4"
      }
     },
     "eb415064b3084769ad039ff35aec6ad5": {
      "model_module": "jupyter-js-widgets",
      "model_module_version": "~2.1.4",
      "model_name": "VBoxModel",
      "state": {
       "_dom_classes": [
        "widget-interact"
       ],
       "_model_module_version": "~2.1.4",
       "_view_module_version": "~2.1.4",
       "children": [
        "IPY_MODEL_ee0cf04f681b46ebb0f98f6f3dfb2ef5",
        "IPY_MODEL_f2d1e212d7704627b25ce9f79253d953",
        "IPY_MODEL_581449b9af164f4d9233367919b65857",
        "IPY_MODEL_52bc3ffe52a54bbfb6a2c78754a31ee8",
        "IPY_MODEL_c3b3876a573d488f81a7f6a7436ad08c"
       ],
       "layout": "IPY_MODEL_85bd8ad1678342f68f8d93c922356ba5"
      }
     },
     "eb8929db47a048c9aa34206dad248c24": {
      "model_module": "jupyter-js-widgets",
      "model_module_version": "~2.1.4",
      "model_name": "LayoutModel",
      "state": {
       "_model_module_version": "~2.1.4",
       "_view_module_version": "~2.1.4"
      }
     },
     "ee0cf04f681b46ebb0f98f6f3dfb2ef5": {
      "model_module": "jupyter-js-widgets",
      "model_module_version": "~2.1.4",
      "model_name": "DropdownModel",
      "state": {
       "_model_module_version": "~2.1.4",
       "_options_labels": [
        "Unemployment",
        "Young people Inactivity"
       ],
       "_view_module_version": "~2.1.4",
       "description": "query_name",
       "layout": "IPY_MODEL_9f848056077d4516b07beef715cc0ef3",
       "value": "Unemployment"
      }
     },
     "f2d1e212d7704627b25ce9f79253d953": {
      "model_module": "jupyter-js-widgets",
      "model_module_version": "~2.1.4",
      "model_name": "DropdownModel",
      "state": {
       "_model_module_version": "~2.1.4",
       "_options_labels": [
        "Total",
        "Male",
        "Female"
       ],
       "_view_module_version": "~2.1.4",
       "description": "sex",
       "layout": "IPY_MODEL_784ba67031224dc8b6a5a3aadc0225a8",
       "value": "Male"
      }
     },
     "fddb388fa9fa45879800745a63ed38ca": {
      "model_module": "jupyter-js-widgets",
      "model_module_version": "~2.1.4",
      "model_name": "DropdownModel",
      "state": {
       "_model_module_version": "~2.1.4",
       "_options_labels": [
        "0",
        "1"
       ],
       "_view_module_version": "~2.1.4",
       "description": "markers",
       "layout": "IPY_MODEL_c9520c08e3e345588479267fd82f0f4c",
       "value": "0"
      }
     }
    },
    "version_major": 1,
    "version_minor": 0
   }
  }
 },
 "nbformat": 4,
 "nbformat_minor": 2
}
