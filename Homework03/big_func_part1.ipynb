{
 "cells": [
  {
   "cell_type": "code",
   "execution_count": 1,
   "metadata": {
    "collapsed": true
   },
   "outputs": [],
   "source": [
    "import os\n",
    "import pandas as pd\n",
    "import json\n",
    "import folium"
   ]
  },
  {
   "cell_type": "code",
   "execution_count": 2,
   "metadata": {
    "collapsed": true
   },
   "outputs": [],
   "source": [
    "topojson_europe_path = 'topojson/europe.topojson.json'\n",
    "topojson_europe = json.load(open(topojson_europe_path))"
   ]
  },
  {
   "cell_type": "markdown",
   "metadata": {},
   "source": [
    "To improve map interaction, we want to add markers one each country, so that we can display the exact data showed on the map. To do so, we have downloaded a csv of all the countries with the position of their respective capital. We check that the countries in the topojson match the countries in the csv, and we rename the countries that mismatch.\n",
    "Also, we remove the 'United States' row as it cause a shift in the csv, and we do not need it.\n",
    "We also remove Vatican city because we don't have data for this country, and it hides Italy data on the map."
   ]
  },
  {
   "cell_type": "code",
   "execution_count": 3,
   "metadata": {},
   "outputs": [
    {
     "name": "stdout",
     "output_type": "stream",
     "text": [
      "The former Yugoslav Republic of Macedonia\n",
      "Republic of Moldova\n",
      "Holy See (Vatican City)\n"
     ]
    }
   ],
   "source": [
    "# csv for capital locations preprocessing\n",
    "#http://techslides.com/list-of-countries-and-capitals\n",
    "countries = pd.read_csv('./europe_data/country-capitals.csv')\n",
    "countries.index = countries['CountryName']\n",
    "for i in range(len(topojson_europe['objects']['europe']['geometries'])):\n",
    "    name = topojson_europe['objects']['europe']['geometries'][i]['properties']['NAME']\n",
    "    if not name in countries.index:\n",
    "        print(name)\n",
    "\n",
    "countries = countries[countries['CapitalLatitude'] != ' D.C.'].rename({'Moldova':'Republic of Moldova',\n",
    "                                                                      'Macedonia': 'The former Yugoslav Republic of Macedonia'})"
   ]
  },
  {
   "cell_type": "code",
   "execution_count": 4,
   "metadata": {
    "collapsed": true
   },
   "outputs": [],
   "source": [
    "def opacity_nan(df, country,year):\n",
    "    if not country in df[year].dropna().index:\n",
    "        return 1\n",
    "    else:\n",
    "        return 0.0000000001\n",
    "    \n",
    "def get_value_or_NaN(df, country, year):\n",
    "    if country in df.index:\n",
    "        return str(df.loc[country][year]) + '%'\n",
    "    else:\n",
    "        return 'Unavailable data'\n",
    "    \n",
    "def generate_map(excel_path, title, legend_title, year, markers=False):\n",
    "    raw_excel = pd.read_excel(excel_path).dropna()\n",
    "    df = raw_excel.set_index(raw_excel[title].values).drop(title,axis=1)\n",
    "    df.columns = df.iloc[0]\n",
    "    df = df.drop('geo\\\\time',axis=0).replace(':','NaN').astype(float).rename({\n",
    "                          'Former Yugoslav Republic of Macedonia, the' :'The former Yugoslav Republic of Macedonia'})\n",
    "    \n",
    "    m_europe = folium.Map([60,30],zoom_start=3.4,min_zoom=3.)\n",
    "    \n",
    "    m_europe.choropleth(\n",
    "        geo_data= topojson_europe,\n",
    "        topojson = 'objects.europe',\n",
    "        name= legend_title,\n",
    "        data = df,\n",
    "        columns=[df.index, year],\n",
    "        key_on='feature.properties.NAME',\n",
    "        fill_color='GnBu',\n",
    "        fill_opacity=0.7,\n",
    "        line_opacity=0.2,\n",
    "        legend_name= legend_title +' (%)'\n",
    "    )\n",
    "    \n",
    "    folium.TopoJson(\n",
    "    topojson_europe,\n",
    "    'objects.europe',\n",
    "    style_function=lambda feature: {\n",
    "        #not feature['properties']['NAME'] in df_total_unemployment.index:\n",
    "        'fillColor':  '#5b5858',\n",
    "        'fillOpacity': opacity_nan(df, feature['properties']['NAME'],year),\n",
    "        }\n",
    "    ).add_to(m_europe)\n",
    "    \n",
    "    folium.LayerControl().add_to(m_europe)\n",
    "    \n",
    "    if markers:\n",
    "        for i in range(len(topojson_europe['objects']['europe']['geometries'])):\n",
    "            name = topojson_europe['objects']['europe']['geometries'][i]['properties']['NAME']\n",
    "            if name in countries.index:\n",
    "                folium.Marker([countries['CapitalLatitude'].astype(float).loc[name], countries['CapitalLongitude'].astype(float).loc[name]],\n",
    "                      popup=name + ': ' + get_value_or_NaN(df, name, year),\n",
    "                      icon=folium.Icon(icon='cloud')\n",
    "                      ).add_to(m_europe)\n",
    "    \n",
    "    return m_europe"
   ]
  },
  {
   "cell_type": "code",
   "execution_count": 5,
   "metadata": {
    "collapsed": true
   },
   "outputs": [],
   "source": [
    "def query_map(query_name, sex, year, markers=0):\n",
    "    year = str(year) #allows to pass year as int argument\n",
    "    if query_name == 'Unemployment':\n",
    "        f = open('./europe_data/unemployment_description.txt', 'r')\n",
    "        print(f.read())\n",
    "        f.close()\n",
    "        return generate_map('./europe_data/unemployment_15_74_'+ sex +'.xls',title='Unemployment rate by sex',\n",
    "             legend_title=sex+' Unemployment in ' + year, year=year, markers=markers)\n",
    "        \n",
    "    if query_name == 'Young people Inactivity':\n",
    "        f = open('./europe_data/no_activity_15_24_people_description.txt', 'r')\n",
    "        print(f.read())\n",
    "        f.close()\n",
    "        return generate_map('./europe_data/no_activity_15_24_people_'+ sex +'.xls',\n",
    "             title='Young people neither in employment nor in education and training by sex',\n",
    "             legend_title=sex + ' Young people Inactivity in ' + year, year=year, markers=markers)\n",
    "    \n",
    "    "
   ]
  },
  {
   "cell_type": "code",
   "execution_count": 10,
   "metadata": {},
   "outputs": [
    {
     "data": {
      "application/vnd.jupyter.widget-view+json": {
       "model_id": "01044840ca1b42878956e3ff79c2b15e"
      }
     },
     "metadata": {},
     "output_type": "display_data"
    }
   ],
   "source": [
    "from IPython.html.widgets import interact\n",
    "\n",
    "\n",
    "\n",
    "html_interact = interact(query_map, query_name=['Unemployment','Young people Inactivity'], sex=['Total','Male','Female'],\n",
    "        year=range(2005,2017),markers=[0,1])"
   ]
  },
  {
   "cell_type": "code",
   "execution_count": null,
   "metadata": {
    "collapsed": true
   },
   "outputs": [],
   "source": []
  }
 ],
 "metadata": {
  "kernelspec": {
   "display_name": "Python 3",
   "language": "python",
   "name": "python3"
  },
  "language_info": {
   "codemirror_mode": {
    "name": "ipython",
    "version": 3
   },
   "file_extension": ".py",
   "mimetype": "text/x-python",
   "name": "python",
   "nbconvert_exporter": "python",
   "pygments_lexer": "ipython3",
   "version": "3.6.1"
  },
  "widgets": {
   "application/vnd.jupyter.widget-state+json": {
    "state": {
     "01044840ca1b42878956e3ff79c2b15e": {
      "model_module": "jupyter-js-widgets",
      "model_module_version": "~2.1.4",
      "model_name": "VBoxModel",
      "state": {
       "_dom_classes": [
        "widget-interact"
       ],
       "_model_module_version": "~2.1.4",
       "_view_module_version": "~2.1.4",
       "children": [
        "IPY_MODEL_ab03208cb3c146d9ae76c2ff996c5303",
        "IPY_MODEL_3f6f032768db4c7385384ee9d9c85c71",
        "IPY_MODEL_262ea6a9e7694205a9c5da7deef71234",
        "IPY_MODEL_fddb388fa9fa45879800745a63ed38ca",
        "IPY_MODEL_9be55b54c1b44b62b8909456320299d7"
       ],
       "layout": "IPY_MODEL_eb8929db47a048c9aa34206dad248c24"
      }
     },
     "10722ee95c7745e5af8943e232e7fc0a": {
      "model_module": "jupyter-js-widgets",
      "model_module_version": "~2.1.4",
      "model_name": "DropdownModel",
      "state": {
       "_model_module_version": "~2.1.4",
       "_options_labels": [
        "2005",
        "2006",
        "2007",
        "2008",
        "2009",
        "2010",
        "2011",
        "2012",
        "2013",
        "2014",
        "2015",
        "2016"
       ],
       "_view_module_version": "~2.1.4",
       "description": "year",
       "layout": "IPY_MODEL_2e212db6c625419ebfbe9006343eb48d",
       "value": "2016"
      }
     },
     "137b66d6e63d47bdbe09e53329d18e99": {
      "model_module": "jupyter-js-widgets",
      "model_module_version": "~2.1.4",
      "model_name": "LayoutModel",
      "state": {
       "_model_module_version": "~2.1.4",
       "_view_module_version": "~2.1.4"
      }
     },
     "13e47346bae844e0b508b105f77661fb": {
      "model_module": "jupyter-js-widgets",
      "model_module_version": "~2.1.4",
      "model_name": "LayoutModel",
      "state": {
       "_model_module_version": "~2.1.4",
       "_view_module_version": "~2.1.4"
      }
     },
     "17c5982d49eb4691976132ef305bc975": {
      "model_module": "jupyter-js-widgets",
      "model_module_version": "~2.1.4",
      "model_name": "DropdownModel",
      "state": {
       "_model_module_version": "~2.1.4",
       "_options_labels": [
        "Unemployment",
        "Young people Inactivity"
       ],
       "_view_module_version": "~2.1.4",
       "description": "query_name",
       "layout": "IPY_MODEL_4670ef752b974d24a39afe3aceec0fbd",
       "value": "Unemployment"
      }
     },
     "262ea6a9e7694205a9c5da7deef71234": {
      "model_module": "jupyter-js-widgets",
      "model_module_version": "~2.1.4",
      "model_name": "DropdownModel",
      "state": {
       "_model_module_version": "~2.1.4",
       "_options_labels": [
        "2005",
        "2006",
        "2007",
        "2008",
        "2009",
        "2010",
        "2011",
        "2012",
        "2013",
        "2014",
        "2015",
        "2016"
       ],
       "_view_module_version": "~2.1.4",
       "description": "year",
       "layout": "IPY_MODEL_265962572fa7483d93c1bf8241e20afa",
       "value": "2005"
      }
     },
     "265962572fa7483d93c1bf8241e20afa": {
      "model_module": "jupyter-js-widgets",
      "model_module_version": "~2.1.4",
      "model_name": "LayoutModel",
      "state": {
       "_model_module_version": "~2.1.4",
       "_view_module_version": "~2.1.4"
      }
     },
     "2e212db6c625419ebfbe9006343eb48d": {
      "model_module": "jupyter-js-widgets",
      "model_module_version": "~2.1.4",
      "model_name": "LayoutModel",
      "state": {
       "_model_module_version": "~2.1.4",
       "_view_module_version": "~2.1.4"
      }
     },
     "3f6f032768db4c7385384ee9d9c85c71": {
      "model_module": "jupyter-js-widgets",
      "model_module_version": "~2.1.4",
      "model_name": "DropdownModel",
      "state": {
       "_model_module_version": "~2.1.4",
       "_options_labels": [
        "Total",
        "Male",
        "Female"
       ],
       "_view_module_version": "~2.1.4",
       "description": "sex",
       "layout": "IPY_MODEL_82e968b1475745f3bb84cdcc46211168",
       "value": "Total"
      }
     },
     "4670ef752b974d24a39afe3aceec0fbd": {
      "model_module": "jupyter-js-widgets",
      "model_module_version": "~2.1.4",
      "model_name": "LayoutModel",
      "state": {
       "_model_module_version": "~2.1.4",
       "_view_module_version": "~2.1.4"
      }
     },
     "51e5afec6a5d44fb8e75a5826f2a6305": {
      "model_module": "jupyter-js-widgets",
      "model_module_version": "~2.1.4",
      "model_name": "LayoutModel",
      "state": {
       "_model_module_version": "~2.1.4",
       "_view_module_version": "~2.1.4"
      }
     },
     "52bab66e99ed4cdd85df89fbe62103c1": {
      "model_module": "jupyter-js-widgets",
      "model_module_version": "~2.1.4",
      "model_name": "LayoutModel",
      "state": {
       "_model_module_version": "~2.1.4",
       "_view_module_version": "~2.1.4"
      }
     },
     "52bc3ffe52a54bbfb6a2c78754a31ee8": {
      "model_module": "jupyter-js-widgets",
      "model_module_version": "~2.1.4",
      "model_name": "DropdownModel",
      "state": {
       "_model_module_version": "~2.1.4",
       "_options_labels": [
        "0",
        "1"
       ],
       "_view_module_version": "~2.1.4",
       "description": "markers",
       "layout": "IPY_MODEL_7bfb19f5d6e546588bd695ad544f2728",
       "value": "1"
      }
     },
     "581449b9af164f4d9233367919b65857": {
      "model_module": "jupyter-js-widgets",
      "model_module_version": "~2.1.4",
      "model_name": "DropdownModel",
      "state": {
       "_model_module_version": "~2.1.4",
       "_options_labels": [
        "2005",
        "2006",
        "2007",
        "2008",
        "2009",
        "2010",
        "2011",
        "2012",
        "2013",
        "2014",
        "2015"
       ],
       "_view_module_version": "~2.1.4",
       "description": "year",
       "layout": "IPY_MODEL_8a41152d419e4c5cb7043134ec7c5b67",
       "value": "2015"
      }
     },
     "58a1881bf0ae437ab7270e3486449b9a": {
      "model_module": "jupyter-js-widgets",
      "model_module_version": "~2.1.4",
      "model_name": "LayoutModel",
      "state": {
       "_model_module_version": "~2.1.4",
       "_view_module_version": "~2.1.4"
      }
     },
     "5c202735098b43358308b2ab3100c748": {
      "model_module": "jupyter-js-widgets",
      "model_module_version": "~2.1.4",
      "model_name": "DropdownModel",
      "state": {
       "_model_module_version": "~2.1.4",
       "_options_labels": [
        "0",
        "1"
       ],
       "_view_module_version": "~2.1.4",
       "description": "markers",
       "layout": "IPY_MODEL_13e47346bae844e0b508b105f77661fb",
       "value": "1"
      }
     },
     "68fdc3f260d44eb0969a6abc334c331d": {
      "model_module": "jupyter-js-widgets",
      "model_module_version": "~2.1.4",
      "model_name": "DropdownModel",
      "state": {
       "_model_module_version": "~2.1.4",
       "_options_labels": [
        "Total",
        "Male",
        "Female"
       ],
       "_view_module_version": "~2.1.4",
       "description": "sex",
       "layout": "IPY_MODEL_52bab66e99ed4cdd85df89fbe62103c1",
       "value": "Male"
      }
     },
     "784ba67031224dc8b6a5a3aadc0225a8": {
      "model_module": "jupyter-js-widgets",
      "model_module_version": "~2.1.4",
      "model_name": "LayoutModel",
      "state": {
       "_model_module_version": "~2.1.4",
       "_view_module_version": "~2.1.4"
      }
     },
     "7bfb19f5d6e546588bd695ad544f2728": {
      "model_module": "jupyter-js-widgets",
      "model_module_version": "~2.1.4",
      "model_name": "LayoutModel",
      "state": {
       "_model_module_version": "~2.1.4",
       "_view_module_version": "~2.1.4"
      }
     },
     "82e968b1475745f3bb84cdcc46211168": {
      "model_module": "jupyter-js-widgets",
      "model_module_version": "~2.1.4",
      "model_name": "LayoutModel",
      "state": {
       "_model_module_version": "~2.1.4",
       "_view_module_version": "~2.1.4"
      }
     },
     "85bd8ad1678342f68f8d93c922356ba5": {
      "model_module": "jupyter-js-widgets",
      "model_module_version": "~2.1.4",
      "model_name": "LayoutModel",
      "state": {
       "_model_module_version": "~2.1.4",
       "_view_module_version": "~2.1.4"
      }
     },
     "8a41152d419e4c5cb7043134ec7c5b67": {
      "model_module": "jupyter-js-widgets",
      "model_module_version": "~2.1.4",
      "model_name": "LayoutModel",
      "state": {
       "_model_module_version": "~2.1.4",
       "_view_module_version": "~2.1.4"
      }
     },
     "9be55b54c1b44b62b8909456320299d7": {
      "model_module": "jupyter-js-widgets",
      "model_module_version": "~2.1.4",
      "model_name": "OutputModel",
      "state": {
       "_dom_classes": [],
       "_model_module": "jupyter-js-widgets",
       "_model_module_version": "~2.1.4",
       "_view_module": "jupyter-js-widgets",
       "_view_module_version": "~2.1.4",
       "layout": "IPY_MODEL_58a1881bf0ae437ab7270e3486449b9a",
       "msg_throttle": 1
      }
     },
     "9f848056077d4516b07beef715cc0ef3": {
      "model_module": "jupyter-js-widgets",
      "model_module_version": "~2.1.4",
      "model_name": "LayoutModel",
      "state": {
       "_model_module_version": "~2.1.4",
       "_view_module_version": "~2.1.4"
      }
     },
     "ab03208cb3c146d9ae76c2ff996c5303": {
      "model_module": "jupyter-js-widgets",
      "model_module_version": "~2.1.4",
      "model_name": "DropdownModel",
      "state": {
       "_model_module_version": "~2.1.4",
       "_options_labels": [
        "Unemployment",
        "Young people Inactivity"
       ],
       "_view_module_version": "~2.1.4",
       "description": "query_name",
       "layout": "IPY_MODEL_e9efc6b459aa4d1dba21f8a3d4048806",
       "value": "Unemployment"
      }
     },
     "b79a658388e345779aa7e1544a3fb41b": {
      "model_module": "jupyter-js-widgets",
      "model_module_version": "~2.1.4",
      "model_name": "VBoxModel",
      "state": {
       "_dom_classes": [
        "widget-interact"
       ],
       "_model_module_version": "~2.1.4",
       "_view_module_version": "~2.1.4",
       "children": [
        "IPY_MODEL_17c5982d49eb4691976132ef305bc975",
        "IPY_MODEL_68fdc3f260d44eb0969a6abc334c331d",
        "IPY_MODEL_10722ee95c7745e5af8943e232e7fc0a",
        "IPY_MODEL_5c202735098b43358308b2ab3100c748",
        "IPY_MODEL_c112a9cf3b3b4cc1b8e847d456985fe3"
       ],
       "layout": "IPY_MODEL_51e5afec6a5d44fb8e75a5826f2a6305"
      }
     },
     "c112a9cf3b3b4cc1b8e847d456985fe3": {
      "model_module": "jupyter-js-widgets",
      "model_module_version": "~2.1.4",
      "model_name": "OutputModel",
      "state": {
       "_dom_classes": [],
       "_model_module": "jupyter-js-widgets",
       "_model_module_version": "~2.1.4",
       "_view_module": "jupyter-js-widgets",
       "_view_module_version": "~2.1.4",
       "layout": "IPY_MODEL_137b66d6e63d47bdbe09e53329d18e99",
       "msg_throttle": 1
      }
     },
     "c3b3876a573d488f81a7f6a7436ad08c": {
      "model_module": "jupyter-js-widgets",
      "model_module_version": "~2.1.4",
      "model_name": "OutputModel",
      "state": {
       "_dom_classes": [],
       "_model_module": "jupyter-js-widgets",
       "_model_module_version": "~2.1.4",
       "_view_module": "jupyter-js-widgets",
       "_view_module_version": "~2.1.4",
       "layout": "IPY_MODEL_e68be792b9ee4abb921767bfa4b028bd",
       "msg_throttle": 1
      }
     },
     "c9520c08e3e345588479267fd82f0f4c": {
      "model_module": "jupyter-js-widgets",
      "model_module_version": "~2.1.4",
      "model_name": "LayoutModel",
      "state": {
       "_model_module_version": "~2.1.4",
       "_view_module_version": "~2.1.4"
      }
     },
     "e68be792b9ee4abb921767bfa4b028bd": {
      "model_module": "jupyter-js-widgets",
      "model_module_version": "~2.1.4",
      "model_name": "LayoutModel",
      "state": {
       "_model_module_version": "~2.1.4",
       "_view_module_version": "~2.1.4"
      }
     },
     "e9efc6b459aa4d1dba21f8a3d4048806": {
      "model_module": "jupyter-js-widgets",
      "model_module_version": "~2.1.4",
      "model_name": "LayoutModel",
      "state": {
       "_model_module_version": "~2.1.4",
       "_view_module_version": "~2.1.4"
      }
     },
     "eb415064b3084769ad039ff35aec6ad5": {
      "model_module": "jupyter-js-widgets",
      "model_module_version": "~2.1.4",
      "model_name": "VBoxModel",
      "state": {
       "_dom_classes": [
        "widget-interact"
       ],
       "_model_module_version": "~2.1.4",
       "_view_module_version": "~2.1.4",
       "children": [
        "IPY_MODEL_ee0cf04f681b46ebb0f98f6f3dfb2ef5",
        "IPY_MODEL_f2d1e212d7704627b25ce9f79253d953",
        "IPY_MODEL_581449b9af164f4d9233367919b65857",
        "IPY_MODEL_52bc3ffe52a54bbfb6a2c78754a31ee8",
        "IPY_MODEL_c3b3876a573d488f81a7f6a7436ad08c"
       ],
       "layout": "IPY_MODEL_85bd8ad1678342f68f8d93c922356ba5"
      }
     },
     "eb8929db47a048c9aa34206dad248c24": {
      "model_module": "jupyter-js-widgets",
      "model_module_version": "~2.1.4",
      "model_name": "LayoutModel",
      "state": {
       "_model_module_version": "~2.1.4",
       "_view_module_version": "~2.1.4"
      }
     },
     "ee0cf04f681b46ebb0f98f6f3dfb2ef5": {
      "model_module": "jupyter-js-widgets",
      "model_module_version": "~2.1.4",
      "model_name": "DropdownModel",
      "state": {
       "_model_module_version": "~2.1.4",
       "_options_labels": [
        "Unemployment",
        "Young people Inactivity"
       ],
       "_view_module_version": "~2.1.4",
       "description": "query_name",
       "layout": "IPY_MODEL_9f848056077d4516b07beef715cc0ef3",
       "value": "Unemployment"
      }
     },
     "f2d1e212d7704627b25ce9f79253d953": {
      "model_module": "jupyter-js-widgets",
      "model_module_version": "~2.1.4",
      "model_name": "DropdownModel",
      "state": {
       "_model_module_version": "~2.1.4",
       "_options_labels": [
        "Total",
        "Male",
        "Female"
       ],
       "_view_module_version": "~2.1.4",
       "description": "sex",
       "layout": "IPY_MODEL_784ba67031224dc8b6a5a3aadc0225a8",
       "value": "Male"
      }
     },
     "fddb388fa9fa45879800745a63ed38ca": {
      "model_module": "jupyter-js-widgets",
      "model_module_version": "~2.1.4",
      "model_name": "DropdownModel",
      "state": {
       "_model_module_version": "~2.1.4",
       "_options_labels": [
        "0",
        "1"
       ],
       "_view_module_version": "~2.1.4",
       "description": "markers",
       "layout": "IPY_MODEL_c9520c08e3e345588479267fd82f0f4c",
       "value": "0"
      }
     }
    },
    "version_major": 1,
    "version_minor": 0
   }
  }
 },
 "nbformat": 4,
 "nbformat_minor": 2
}
