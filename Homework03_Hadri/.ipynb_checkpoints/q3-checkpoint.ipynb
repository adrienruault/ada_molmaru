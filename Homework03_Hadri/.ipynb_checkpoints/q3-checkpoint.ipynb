{
 "cells": [
  {
   "cell_type": "markdown",
   "metadata": {},
   "source": [
    "# 3. Swiss & Foreign Unemployement Rates"
   ]
  },
  {
   "cell_type": "code",
   "execution_count": 1,
   "metadata": {},
   "outputs": [
    {
     "data": {
      "text/plain": [
       "True"
      ]
     },
     "execution_count": 1,
     "metadata": {},
     "output_type": "execute_result"
    }
   ],
   "source": [
    "import os\n",
    "import pandas as pd\n",
    "import numpy as np\n",
    "import matplotlib.pyplot as plt\n",
    "import json\n",
    "import folium\n",
    "import pandas as pd\n",
    "folium.__version__ == '0.5.0'"
   ]
  },
  {
   "cell_type": "markdown",
   "metadata": {},
   "source": [
    "### Map\n",
    "\n",
    "Import the TopoJson Map for Switzerland. I also have converted the TopoJson file into a GeoJson file using the online converter : http://jeffpaine.github.io/geojson-topojson/  "
   ]
  },
  {
   "cell_type": "code",
   "execution_count": 2,
   "metadata": {},
   "outputs": [
    {
     "ename": "FileNotFoundError",
     "evalue": "[Errno 2] No such file or directory: 'topojson\\\\ch-cantons.json'",
     "output_type": "error",
     "traceback": [
      "\u001b[1;31m---------------------------------------------------------------------------\u001b[0m",
      "\u001b[1;31mFileNotFoundError\u001b[0m                         Traceback (most recent call last)",
      "\u001b[1;32m<ipython-input-2-54d3a2031453>\u001b[0m in \u001b[0;36m<module>\u001b[1;34m()\u001b[0m\n\u001b[0;32m      1\u001b[0m \u001b[0mstate_geo_path\u001b[0m \u001b[1;33m=\u001b[0m \u001b[1;34mr'topojson\\ch-cantons.json'\u001b[0m\u001b[1;33m\u001b[0m\u001b[0m\n\u001b[0;32m      2\u001b[0m \u001b[0mstate_topo_path\u001b[0m \u001b[1;33m=\u001b[0m \u001b[1;34mr'topojson\\ch-cantons.topojson.json'\u001b[0m\u001b[1;33m\u001b[0m\u001b[0m\n\u001b[1;32m----> 3\u001b[1;33m \u001b[0mcanton_json_data\u001b[0m \u001b[1;33m=\u001b[0m \u001b[0mjson\u001b[0m\u001b[1;33m.\u001b[0m\u001b[0mload\u001b[0m\u001b[1;33m(\u001b[0m\u001b[0mopen\u001b[0m\u001b[1;33m(\u001b[0m\u001b[0mstate_geo_path\u001b[0m\u001b[1;33m)\u001b[0m\u001b[1;33m)\u001b[0m\u001b[1;33m\u001b[0m\u001b[0m\n\u001b[0m\u001b[0;32m      4\u001b[0m \u001b[0mcanton_topojson\u001b[0m \u001b[1;33m=\u001b[0m \u001b[0mjson\u001b[0m\u001b[1;33m.\u001b[0m\u001b[0mload\u001b[0m\u001b[1;33m(\u001b[0m\u001b[0mopen\u001b[0m\u001b[1;33m(\u001b[0m\u001b[0mstate_topo_path\u001b[0m\u001b[1;33m)\u001b[0m\u001b[1;33m)\u001b[0m\u001b[1;33m\u001b[0m\u001b[0m\n",
      "\u001b[1;31mFileNotFoundError\u001b[0m: [Errno 2] No such file or directory: 'topojson\\\\ch-cantons.json'"
     ]
    }
   ],
   "source": [
    "state_geo_path = r'topojson\\ch-cantons.json'\n",
    "state_topo_path = r'topojson\\ch-cantons.topojson.json'\n",
    "canton_json_data = json.load(open(state_geo_path))\n",
    "canton_topojson = json.load(open(state_topo_path))"
   ]
  },
  {
   "cell_type": "markdown",
   "metadata": {},
   "source": [
    "### Export Data \n",
    "\n",
    "From amstat website : https://www.amstat.ch/v2/index.jsp I downloaded a .txt file with unemployement ratio per Swiss Canton and residents' nationality."
   ]
  },
  {
   "cell_type": "code",
   "execution_count": null,
   "metadata": {},
   "outputs": [],
   "source": [
    "nationality_rate = pd.read_csv('nationality_rate.txt', sep = ',',header = 1,\\\n",
    "                               names = ['Canton','population','Measure','Rate',\\\n",
    "                                        'Ch1','Taux de chômage.1','Ch1.1'])\n",
    "nationality_rate.drop(['Measure','Taux de chômage.1','Ch1.1'], axis = 1, inplace = True)\n",
    "\n",
    "\n",
    "\n",
    "nationality_rate.head()"
   ]
  },
  {
   "cell_type": "markdown",
   "metadata": {},
   "source": [
    "### Format Data"
   ]
  },
  {
   "cell_type": "code",
   "execution_count": null,
   "metadata": {
    "collapsed": true
   },
   "outputs": [],
   "source": [
    "canton_abrev = ['ZH','ZG','VD','VS','UR','TI','TG','SG','SO','SZ','SH','OW','NW','NE','LU','JU','GR','GL',\\\n",
    "                'GE','FR','BE','BS','BL','AI','AR','AG']"
   ]
  },
  {
   "cell_type": "code",
   "execution_count": null,
   "metadata": {},
   "outputs": [],
   "source": [
    "suisse = nationality_rate.copy()\n",
    "suisse = suisse.loc[suisse['population'] == 'Suisses',:]\n",
    "suisse.sort_values('Canton', ascending = False, inplace = True)\n",
    "suisse['Abrev'] = canton_abrev\n",
    "suisse.set_index('Abrev', drop = False, inplace = True)\n",
    "suisse.head()"
   ]
  },
  {
   "cell_type": "code",
   "execution_count": null,
   "metadata": {
    "collapsed": true
   },
   "outputs": [],
   "source": [
    "foreign = nationality_rate.copy()\n",
    "foreign = foreign.loc[foreign['population'] == 'Etrangers']\n",
    "foreign.sort_values('Canton', ascending = False, inplace = True)\n",
    "foreign['Abrev'] = canton_abrev\n",
    "foreign.set_index('Abrev', drop = False, inplace = True)"
   ]
  },
  {
   "cell_type": "markdown",
   "metadata": {},
   "source": [
    "We create below the datafrmae containing usefull information for map plots. It is composed of 26 rows, for each Canton. The columns contain unemployment rates for Swiss residents (1st column), Foreign residents (2nd Column), normalised difference between ratio (3rd column)."
   ]
  },
  {
   "cell_type": "code",
   "execution_count": null,
   "metadata": {},
   "outputs": [],
   "source": [
    "foreign_suisse = pd.DataFrame(index = canton_abrev)\n",
    "foreign_suisse['Foreign'] = foreign.sort_values('Canton', ascending = False).loc[:,'Rate']\n",
    "foreign_suisse['Suisse'] = suisse.sort_values('Canton', ascending = False).loc[:,'Rate']\n",
    "foreign_suisse['Diff'] = foreign_suisse['Foreign'].div(foreign_suisse['Suisse'])\n",
    "foreign_suisse['Abrev'] = canton_abrev\n",
    "foreign_suisse.head()"
   ]
  },
  {
   "cell_type": "markdown",
   "metadata": {},
   "source": [
    "### Display Data\n",
    "Define the order of the canton as in the TopoJson file "
   ]
  },
  {
   "cell_type": "code",
   "execution_count": null,
   "metadata": {
    "collapsed": true
   },
   "outputs": [],
   "source": [
    "canton_order_map = [canton_topojson['objects']['cantons']['geometries'][i]['id'] for i in range(0,26)]"
   ]
  },
  {
   "cell_type": "code",
   "execution_count": null,
   "metadata": {
    "collapsed": true
   },
   "outputs": [],
   "source": [
    "def weight_function(canton):\n",
    "    \n",
    "    chomage = foreign_suisse.loc[canton,'Foreign']\n",
    "    max_weight = 10\n",
    "    min_weight = 1\n",
    "    \n",
    "    max_chomage = foreign_suisse['Foreign'].max()\n",
    "    min_chomage = foreign_suisse['Foreign'].min()\n",
    "    \n",
    "    weight= int(round((chomage-min_chomage)/(max_chomage-min_chomage)*(max_weight-min_weight) + min_weight, 0))\n",
    "    \n",
    "    return weight"
   ]
  },
  {
   "cell_type": "code",
   "execution_count": null,
   "metadata": {
    "collapsed": true
   },
   "outputs": [],
   "source": [
    "m_foreign_suisse_ratio = folium.Map([47,8.5], tiles='cartodbpositron', min_zoom = 8, max_zoom  = 8)\n",
    "\n",
    "\n",
    "m_foreign_suisse_ratio.choropleth(geo_data=canton_topojson, topojson = 'objects.cantons',\n",
    "                                  data=foreign_suisse.loc[canton_order_map,:],\n",
    "                                  columns=['Abrev', 'Suisse'],\n",
    "                                  key_on='feature.id',\n",
    "                                  fill_color='YlOrRd', fill_opacity=0.7, line_opacity=0.9, line_weight = 1,\n",
    "                                  legend_name='Percentage of swiss unemployment(%)')\n",
    "\n",
    "folium.TopoJson(canton_topojson, 'objects.cantons', style_function = lambda feature:{\n",
    "    'weight' : weight_function(feature['id']),\n",
    "    'color'  : 'grey',\n",
    "    'dashArray' : '1, 0'\n",
    "}).add_to(m_foreign_suisse_ratio)\n",
    "\n",
    "m_foreign_suisse_ratio.save('Foreign_suisse_ratio.html')"
   ]
  },
  {
   "cell_type": "markdown",
   "metadata": {},
   "source": [
    "Here we have generated a map with both Swiss and Foreign unemployement ratio per canton, using a 'color_fill' differenciation for swiss ratio and an 'edge_weight' differenciation for foreign ratio (see : [Foreign Suisse Unemployement Ratio](Foreign_suisse_ratio.html)). This display is not optimal since I wasn't able to add legend for Foreign ratio feature, at least, it gives a relative overview considering the edges are ticker for larger ratios. \n",
    "In a more classic way, we can create two maps to display both features separately. See below"
   ]
  },
  {
   "cell_type": "code",
   "execution_count": null,
   "metadata": {
    "collapsed": true
   },
   "outputs": [],
   "source": [
    "m_suisse_ratio = folium.Map([47,8.5], tiles='cartodbpositron', min_zoom = 8, max_zoom  = 8)\n",
    "\n",
    "m_suisse_ratio.choropleth(geo_data=canton_topojson, topojson = 'objects.cantons', data=foreign_suisse.loc[canton_order_map,:],\n",
    "             columns=['Abrev', 'Suisse'],\n",
    "             key_on='feature.id',\n",
    "             fill_color='YlOrRd', fill_opacity=0.7, line_opacity=0.9,\n",
    "             legend_name='Percentage of swiss unemployment(%)')\n",
    "\n",
    "m_suisse_ratio.save('Suisse_ratio.html')"
   ]
  },
  {
   "cell_type": "markdown",
   "metadata": {},
   "source": [
    "Here we have plot the [Suisse Unemployement Ratio](Suisse_ratio.html)"
   ]
  },
  {
   "cell_type": "code",
   "execution_count": null,
   "metadata": {
    "collapsed": true
   },
   "outputs": [],
   "source": [
    "m_foreign_ratio = folium.Map([47,8.5], tiles='cartodbpositron', min_zoom = 8, max_zoom  = 8)\n",
    "\n",
    "m_foreign_ratio.choropleth(geo_data=canton_topojson, topojson = 'objects.cantons', data=foreign_suisse.loc[canton_order_map,:],\n",
    "             columns=['Abrev', 'Foreign'],\n",
    "             key_on='feature.id',\n",
    "             fill_color='YlOrRd', fill_opacity=0.7, line_opacity=0.9,\n",
    "             legend_name='Percentage of foreigners unemployment in switzerland (%)')\n",
    "\n",
    "\n",
    "m_foreign_ratio.save('Foreign_ratio.html')"
   ]
  },
  {
   "cell_type": "markdown",
   "metadata": {},
   "source": [
    "Here we have plot the [Foreign Unemployement Ratio](Foreign_ratio.html)"
   ]
  },
  {
   "cell_type": "code",
   "execution_count": null,
   "metadata": {
    "collapsed": true
   },
   "outputs": [],
   "source": [
    "m_diff_ratio = folium.Map([47,8.5], tiles='cartodbpositron', min_zoom = 8, max_zoom  = 8)\n",
    "\n",
    "m_diff_ratio.choropleth(geo_data=canton_topojson, topojson = 'objects.cantons', data=foreign_suisse.loc[canton_order_map,:],\n",
    "             columns=['Abrev', 'Diff'],\n",
    "             key_on='feature.id',\n",
    "             fill_color='YlOrRd', fill_opacity=0.7, line_opacity=0.9,\n",
    "             legend_name='Ratio between Swiss and Foreign Unemployment ratios')\n",
    "\n",
    "m_diff_ratio.save('Diff_ratio.html')"
   ]
  },
  {
   "cell_type": "markdown",
   "metadata": {},
   "source": [
    "Finally, a good way to display the difference in unemployment rates between the two categories in each canton is to plot the [Ratio between Swiss and Foreign Unemployement rates](Diff_ratio.html)  \n",
    "  \n",
    "    \n",
    "We observe in a first time that unemployment ratios for swiss residents are higher in the west along french boundary with highest values obtained in Geneva and Neuchâtel . In the same way, unemployment ratios for foreign residents is high along the french boundary but with highest values obtained in Jura. From the last map, We must notice the foreign unmployment ratio is usually more than twice the suisse unemployment ratio, the ratio between those two is higer in the center and east Switzerland."
   ]
  },
  {
   "cell_type": "markdown",
   "metadata": {},
   "source": [
    "# 3.2 Refined Analysis : addition of differences between age groups\n",
    "### Export Data\n",
    "\n",
    "From amstat website : https://www.amstat.ch/v2/index.jsp we downloaded a .txt file with neumber of unemployment workers per Swiss Canton, residents' nationality and age."
   ]
  },
  {
   "cell_type": "code",
   "execution_count": null,
   "metadata": {},
   "outputs": [],
   "source": [
    "age_nationality_nb = pd.read_csv('age_nationality_numbers_2.txt', sep = ',', header = 0, thousands = '\\'', \n",
    "                                 names = ['Canton','Population','age class','Drop','Drop1','Chomeurs inscrits'])\n",
    "age_nationality_nb.drop(0,axis = 0, inplace = True)\n",
    "age_nationality_nb.drop(['Drop','Drop1'], axis = 1, inplace = True)\n",
    "age_nationality_nb.dropna(axis = 0, inplace = True)\n",
    "age_nationality_nb.drop(age_nationality_nb.loc[age_nationality_nb['age class'] == 'Total'].index , axis = 0, inplace = True)\n",
    "age_nationality_nb.sort_values(['Canton','Population','age class'], ascending = False, inplace = True)\n",
    "\n",
    "age_nationality_nb.head(10)"
   ]
  },
  {
   "cell_type": "markdown",
   "metadata": {},
   "source": [
    "### Format Data for Display"
   ]
  },
  {
   "cell_type": "code",
   "execution_count": null,
   "metadata": {},
   "outputs": [],
   "source": [
    "header = [np.array([\"Suisse\",\"Suisse\",\"Suisse\",\"Foreign\",\"Foreign\",\"Foreign\"]),\\\n",
    "          np.array(['15-24','25-49','50+','15-24','25-49','50+'])] \n",
    "\n",
    "\n",
    "age_nationality_to_plot = pd.DataFrame( index = canton_abrev)\n",
    "age_nationality_to_plot.index.name = 'Canton'\n",
    "\n",
    "suisse_age_1 = list(age_nationality_nb.loc[(age_nationality_nb['age class'] == '1') & (age_nationality_nb['Population'] == 'Suisses')]\\\n",
    "                    ['Chomeurs inscrits'].str.replace('\\'','').astype(float))\n",
    "suisse_age_2 = list(age_nationality_nb.loc[(age_nationality_nb['age class'] == '2') & (age_nationality_nb['Population'] == 'Suisses')]\\\n",
    "                    ['Chomeurs inscrits'].str.replace('\\'','').astype(float))\n",
    "suisse_age_3 = list(age_nationality_nb.loc[(age_nationality_nb['age class'] == '3') & (age_nationality_nb['Population'] == 'Suisses')]\\\n",
    "                    ['Chomeurs inscrits'].str.replace('\\'','').astype(float))\n",
    "\n",
    "foreign_age_1 = list(age_nationality_nb.loc[(age_nationality_nb['age class'] == '1') & (age_nationality_nb['Population'] == 'Etrangers')]\\\n",
    "                     ['Chomeurs inscrits'].str.replace('\\'','').astype(float))\n",
    "foreign_age_2 = list(age_nationality_nb.loc[(age_nationality_nb['age class'] == '2') & (age_nationality_nb['Population'] == 'Etrangers')]\\\n",
    "                     ['Chomeurs inscrits'].str.replace('\\'','').astype(float))\n",
    "foreign_age_3 = list(age_nationality_nb.loc[(age_nationality_nb['age class'] == '3') & (age_nationality_nb['Population'] == 'Etrangers')]\\\n",
    "                     ['Chomeurs inscrits'].str.replace('\\'','').astype(float))\n",
    "\n",
    "\n",
    "age_nationality_to_plot['Ch1'] = suisse_age_1\n",
    "age_nationality_to_plot['Ch2'] = suisse_age_2\n",
    "age_nationality_to_plot['Ch3'] = suisse_age_3\n",
    "\n",
    "age_nationality_to_plot['Ch4'] = foreign_age_1\n",
    "age_nationality_to_plot['Ch5'] = foreign_age_2\n",
    "age_nationality_to_plot['Ch6'] = foreign_age_3\n",
    "\n",
    "\n",
    "age_nationality_to_plot.columns = header\n",
    "age_nationality_to_plot.columns.names = ['Origin', 'Age']\n",
    "\n",
    "age_nationality_to_plot.head()\n",
    "\n"
   ]
  },
  {
   "cell_type": "markdown",
   "metadata": {},
   "source": [
    "### Display"
   ]
  },
  {
   "cell_type": "code",
   "execution_count": null,
   "metadata": {},
   "outputs": [],
   "source": [
    "age_nationality_to_plot.iloc[0:13].plot(kind='bar',figsize=[20,8],fontsize=17, grid = True, \\\n",
    "                                        title='Unemployment in all 26 Swiss Cantons, for nationality class and age class',\\\n",
    "                                        colormap = 'bwr', legend = 'resident', rot = 0)\n",
    "age_nationality_to_plot.iloc[14::].plot(kind='bar',figsize=[20,8],fontsize=17, grid = True,\\\n",
    "                                        title='Unemployment in all 26 Swiss Cantons, for nationality class and age class',\\\n",
    "                                        colormap = 'bwr', rot = 0)\n",
    "plt.show()"
   ]
  },
  {
   "cell_type": "markdown",
   "metadata": {},
   "source": [
    "The sheer numbers presented above don't say a lot. Still, we are able to identify the five main cantons with high industrial activity.    \n",
    "Since we don't have access to the exact number of active people in each cathegory, we will make to different assumptions to approximate the true rates :\n",
    "- First one, lets consider the active population in all class age is invariant with respect to the origin of the workers (foreign or swiss) in each canton.\n",
    "- Second one, lets consider the active population in origin cathegory is invariant with respect to the age of the workers in each canton.\n",
    "\n",
    "#### First assumption\n"
   ]
  },
  {
   "cell_type": "code",
   "execution_count": null,
   "metadata": {
    "collapsed": true
   },
   "outputs": [],
   "source": [
    "nationality_rate.loc[:,'Ch1'] = nationality_rate['Ch1'].str.replace('\\'','').astype(float)\n",
    "nationality_rate['Active'] = round(nationality_rate['Ch1'].div(nationality_rate['Rate'])*100,0)\n",
    "\n",
    "suisse_active = list(nationality_rate.loc[(nationality_rate['population'] == 'Suisses')].sort_values('Canton',ascending = False)['Active'])\n",
    "foreign_active = list(nationality_rate.loc[(nationality_rate['population'] == 'Etrangers')].sort_values('Canton',ascending = False)['Active'])"
   ]
  },
  {
   "cell_type": "code",
   "execution_count": null,
   "metadata": {},
   "outputs": [],
   "source": [
    "assumption_1 = age_nationality_to_plot.copy()\n",
    "assumption_1.columns = ['ch1','ch2','ch3','ch4','ch5','ch6']\n",
    "\n",
    "assumption_1.loc[:,['ch1','ch2','ch3']] = assumption_1[['ch1','ch2','ch3']].div(suisse_active, axis =0)*3\n",
    "assumption_1.loc[:,['ch4','ch5','ch6']] = assumption_1[['ch4','ch5','ch6']].div(foreign_active, axis =0)*3\n",
    "\n",
    "assumption_1_to_plot = assumption_1.copy()\n",
    "assumption_1_to_plot.columns = header\n",
    "assumption_1_to_plot.columns.names = ['Origin', 'Age']\n",
    "\n",
    "assumption_1_to_plot.head()"
   ]
  },
  {
   "cell_type": "code",
   "execution_count": null,
   "metadata": {},
   "outputs": [],
   "source": [
    "assumption_1_to_plot.iloc[0:13].plot(kind='bar',figsize=[20,8],fontsize=17, grid = True, \\\n",
    "                                        title='Unemployment in all 26 Swiss Cantons, for nationality class and age class',\\\n",
    "                                        colormap = 'bwr', rot = 0)\n",
    "assumption_1_to_plot.iloc[14::].plot(kind='bar',figsize=[20,8],fontsize=17, grid = True,\\\n",
    "                                        title='Unemployment in all 26 Swiss Cantons, for nationality class and age class',\\\n",
    "                                        colormap = 'bwr', rot = 0)\n",
    "plt.show()"
   ]
  },
  {
   "cell_type": "markdown",
   "metadata": {},
   "source": [
    "From this plot, we can identify global unemployment tendency. We notice unemployment rates are higher for foreign residents, we believe the unemployment rates are higher for middle age population regardless of the origin of the resident. Of course this model is very limited because the range '25-49' might have the largest working population. "
   ]
  },
  {
   "cell_type": "markdown",
   "metadata": {},
   "source": [
    "#### Assumption 2"
   ]
  },
  {
   "cell_type": "code",
   "execution_count": null,
   "metadata": {
    "collapsed": true
   },
   "outputs": [],
   "source": [
    "age_ratio = pd.read_csv('age_ratio_2.txt', sep = ',', header = 1,names = ['age class','drop1','drop2','Rate','Ch1','drop3','drop4'])\n",
    "age_ratio.drop(['drop1','drop2','drop3','drop4'], axis = 1, inplace = True)\n",
    "age_ratio.head()\n",
    "\n",
    "age_ratio.loc[:,'Ch1'] = age_ratio['Ch1'].str.replace('\\'','').astype(float)\n",
    "age_ratio['Active'] = round(age_ratio['Ch1'].div(age_ratio['Rate'])*100,0)\n",
    "\n",
    "age_1_active = list(age_ratio.loc[(age_ratio['age class'] == 1)].sort_index(ascending = False)['Active'])\n",
    "age_2_active = list(age_ratio.loc[(age_ratio['age class'] == 2)].sort_index(ascending = False)['Active'])\n",
    "age_3_active = list(age_ratio.loc[(age_ratio['age class'] == 3)].sort_index(ascending = False)['Active'])"
   ]
  },
  {
   "cell_type": "code",
   "execution_count": null,
   "metadata": {},
   "outputs": [],
   "source": [
    "assumption_2 = age_nationality_to_plot.copy()\n",
    "assumption_2.columns = ['ch1','ch2','ch3','ch4','ch5','ch6']\n",
    "\n",
    "assumption_2.loc[:,['ch1','ch4']] = assumption_2[['ch1','ch4']].div(age_1_active, axis =0)*2\n",
    "assumption_2.loc[:,['ch2','ch5']] = assumption_2[['ch2','ch5']].div(age_2_active, axis =0)*2\n",
    "assumption_2.loc[:,['ch3','ch6']] = assumption_2[['ch3','ch6']].div(age_3_active, axis =0)*2\n",
    "\n",
    "assumption_2_to_plot = assumption_2.copy()\n",
    "assumption_2_to_plot.columns = header\n",
    "assumption_2_to_plot.columns.names = ['Origin', 'Age']\n",
    "\n",
    "assumption_2_to_plot.head()"
   ]
  },
  {
   "cell_type": "code",
   "execution_count": null,
   "metadata": {},
   "outputs": [],
   "source": [
    "assumption_2_to_plot.iloc[0:13].plot(kind='bar',figsize=[20,8],fontsize=17, grid = True, \\\n",
    "                                        title='Unemployment in all 26 Swiss Cantons, for nationality class and age class',\\\n",
    "                                        colormap = 'bwr', rot = 0)\n",
    "assumption_2_to_plot.iloc[14::].plot(kind='bar',figsize=[20,8],fontsize=17, grid = True,\\\n",
    "                                        title='Unemployment in all 26 Swiss Cantons, for nationality class and age class',\\\n",
    "                                        colormap = 'bwr', rot = 0)\n",
    "plt.show()"
   ]
  },
  {
   "cell_type": "markdown",
   "metadata": {},
   "source": [
    "From this plot, we can identify global unemployment tendency. Here we have considered the active population is equal for a given age class in both foreign and suisse cathegories.  \n",
    "We notice unemployment rates are higher for age 15-24 for swiss residents and for age 25-49 for foreign residents. \n",
    "Of course this model is very limited because the range swiss residents might have the larger working population than foreign residents. "
   ]
  },
  {
   "cell_type": "markdown",
   "metadata": {},
   "source": [
    "# 4 Bonus"
   ]
  },
  {
   "cell_type": "code",
   "execution_count": null,
   "metadata": {
    "collapsed": true
   },
   "outputs": [],
   "source": [
    "French = ['JU','GE','VD','FR','VS','NE','BE']\n",
    "Deutch = ['ZH','LU','UR','SZ','OW','NW','GL','ZG','SO','BS','BL','SH','AR','AI','SG','AG','TG','GR']\n",
    "Italian = ['TI']\n",
    "\n",
    "rostigraben = pd.DataFrame()\n",
    "rostigraben['Rates'] = foreign_suisse[['Suisse','Foreign']].mean(axis = 1)\n",
    "rostigraben['Swiss Rates'] = foreign_suisse[['Suisse']]\n",
    "rostigraben['Foreign Rates'] = foreign_suisse[['Foreign']]\n",
    "\n",
    "rostigraben['Canton']= foreign_suisse['Abrev']\n",
    "rostigraben.set_index('Canton', drop = False, inplace = True)\n",
    "\n",
    "rostigraben.loc[French,['Rates','Swiss Rates','Foreign Rates']] = [rostigraben.loc[French,['Rates','Swiss Rates','Foreign Rates']].mean(axis = 0)]*len(French)\n",
    "rostigraben.loc[Deutch,['Rates','Swiss Rates','Foreign Rates']] = [rostigraben.loc[Deutch,['Rates','Swiss Rates','Foreign Rates']].mean(axis = 0)]*len(Deutch)\n",
    "rostigraben.loc[Italian,['Rates','Swiss Rates','Foreign Rates']] = [rostigraben.loc[Italian,['Rates','Swiss Rates','Foreign Rates']].mean(axis = 0)]*len(Italian)\n"
   ]
  },
  {
   "cell_type": "code",
   "execution_count": null,
   "metadata": {
    "collapsed": true
   },
   "outputs": [],
   "source": [
    "m_rostigraben_total = folium.Map([47,8.5], tiles='cartodbpositron', min_zoom = 8, max_zoom  = 8)\n",
    "\n",
    "m_rostigraben_total.choropleth(geo_data=canton_topojson, topojson = 'objects.cantons', data=rostigraben.loc[canton_order_map,:],\n",
    "             columns=['Canton', 'Rates'],\n",
    "             key_on='feature.id',\n",
    "             fill_color='YlOrRd', fill_opacity=0.7, line_opacity=0.9,\n",
    "             legend_name='Unemployement ratios')\n",
    "\n",
    "m_rostigraben_total.save('rostigraben_total.html')"
   ]
  },
  {
   "cell_type": "code",
   "execution_count": null,
   "metadata": {
    "collapsed": true
   },
   "outputs": [],
   "source": [
    "m_rostigraben_suisse = folium.Map([47,8.5], tiles='cartodbpositron', min_zoom = 8, max_zoom  = 8)\n",
    "\n",
    "m_rostigraben_suisse.choropleth(geo_data=canton_topojson, topojson = 'objects.cantons', data=rostigraben.loc[canton_order_map,:],\n",
    "             columns=['Canton', 'Swiss Rates'],\n",
    "             key_on='feature.id',\n",
    "             fill_color='YlOrRd', fill_opacity=0.7, line_opacity=0.9,\n",
    "             legend_name='Unemployement ratios')\n",
    "\n",
    "m_rostigraben_suisse.save('rostigraben_suisse.html')"
   ]
  },
  {
   "cell_type": "code",
   "execution_count": null,
   "metadata": {
    "collapsed": true
   },
   "outputs": [],
   "source": [
    "m_rostigraben_foreign = folium.Map([47,8.5], tiles='cartodbpositron', min_zoom = 8, max_zoom  = 8)\n",
    "\n",
    "m_rostigraben_foreign.choropleth(geo_data=canton_topojson, topojson = 'objects.cantons', data=rostigraben.loc[canton_order_map,:],\n",
    "             columns=['Canton', 'Foreign Rates'],\n",
    "             key_on='feature.id',\n",
    "             fill_color='YlOrRd', fill_opacity=0.7, line_opacity=0.9,\n",
    "             legend_name='Unemployement ratios')\n",
    "\n",
    "m_rostigraben_foreign.save('rostigraben_foreign.html')"
   ]
  },
  {
   "cell_type": "markdown",
   "metadata": {},
   "source": [
    "[Rostigraben Total Unemployement rates](rostigraben_total.html)     \n",
    "[Rostigraben Swiss Unemployement rates](rostigraben_suisse.html)     \n",
    "[Rostigraben Foreign Unemployement rates](rostigraben_Foreign.html)     \n",
    "\n",
    "We notice Italian and German speaking regions have very close unemployment rates in both Swiss and Foreign categories"
   ]
  }
 ],
 "metadata": {
  "kernelspec": {
   "display_name": "Python 3",
   "language": "python",
   "name": "python3"
  },
  "language_info": {
   "codemirror_mode": {
    "name": "ipython",
    "version": 3
   },
   "file_extension": ".py",
   "mimetype": "text/x-python",
   "name": "python",
   "nbconvert_exporter": "python",
   "pygments_lexer": "ipython3",
   "version": "3.6.1"
  }
 },
 "nbformat": 4,
 "nbformat_minor": 2
}
