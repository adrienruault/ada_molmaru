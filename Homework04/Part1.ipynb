{
 "cells": [
  {
   "cell_type": "code",
   "execution_count": 1,
   "metadata": {},
   "outputs": [],
   "source": [
    "import pandas as pd\n",
    "import numpy as np\n",
    "import matplotlib.mlab as mlab\n",
    "import matplotlib.pyplot as plt\n",
    "import sklearn.linear_model as lm\n",
    "from sklearn.model_selection import cross_val_predict\n",
    "from sklearn.model_selection import cross_val_score\n",
    "import scipy.stats as stats\n",
    "import networkx as nx\n",
    "from networkx.algorithms import bipartite\n",
    "%matplotlib inline"
   ]
  },
  {
   "cell_type": "markdown",
   "metadata": {},
   "source": [
    "First, we load the csv file. As the \"white\" parameter is not present, we add add a column \"white\" so that we can take this parameter into consideration. As written is the Dataset description, there is only three color skin categories: \"white\", \"hispanic\" and \"black\". So we define as \"white\" all the subjects that are neither hispanic nor black."
   ]
  },
  {
   "cell_type": "code",
   "execution_count": 2,
   "metadata": {},
   "outputs": [],
   "source": [
    "df = pd.read_csv(\"./lalonde.csv\")\n",
    "df['white'] = ((df['hispan'] == 0) & (df['black'] == 0)).astype(int)"
   ]
  },
  {
   "cell_type": "markdown",
   "metadata": {},
   "source": [
    "As a naive approach, we calculate the mean and the standard deviation of the real earnings in 1978 for both the control group and the treatment group."
   ]
  },
  {
   "cell_type": "code",
   "execution_count": 3,
   "metadata": {},
   "outputs": [
    {
     "name": "stdout",
     "output_type": "stream",
     "text": [
      "For control group:\n",
      "Mean = 6984.169742307697 \n",
      "Standard Deviation = 7294.161790868392\n",
      "\n",
      "For treatment group:\n",
      "Mean = 6349.143530270269 \n",
      "Standard Deviation = 7867.402217734684\n"
     ]
    }
   ],
   "source": [
    "df_treat_0 = df[df['treat'] == 0]\n",
    "mean_0 = df_treat_0['re78'].mean()\n",
    "std_0 = df_treat_0['re78'].std()\n",
    "df_treat_1 = df[df['treat'] == 1]\n",
    "mean_1 = df_treat_1['re78'].mean()\n",
    "std_1 = df_treat_1['re78'].std()\n",
    "\n",
    "print(\"For control group:\\nMean =\", mean_0, \"\\nStandard Deviation =\", std_0)\n",
    "print(\"\\nFor treatment group:\\nMean =\", mean_1, \"\\nStandard Deviation =\", std_1)"
   ]
  },
  {
   "cell_type": "markdown",
   "metadata": {},
   "source": [
    "With these results, we could assess that the training program is not efficient and did not increase the real earnings for the subjects who participated in it. However we know that mean and standard deviations are not strong indicators and can be influenced by outliers. So we're gonna use stronger tools to assess the efficiency of the training program."
   ]
  },
  {
   "cell_type": "markdown",
   "metadata": {},
   "source": [
    "We can plot a histogram of the real earnings in 1978 for both groups to have an overview of the repartition and to notice if outliers are present in the dataset"
   ]
  },
  {
   "cell_type": "code",
   "execution_count": 98,
   "metadata": {},
   "outputs": [
    {
     "data": {
      "text/plain": [
       "<matplotlib.text.Text at 0x7f815d472240>"
      ]
     },
     "execution_count": 98,
     "metadata": {},
     "output_type": "execute_result"
    },
    {
     "data": {
      "image/png": "[encoded data removed]",
      "text/plain": [
       "<matplotlib.figure.Figure at 0x7f815d6c73c8>"
      ]
     },
     "metadata": {},
     "output_type": "display_data"
    }
   ],
   "source": [
    "plt.hist(df_treat_0['re78'], bins = 50, alpha = 0.5,normed=True)\n",
    "plt.hist(df_treat_1['re78'], bins = 50, alpha = 0.5,normed=True)\n",
    "plt.legend(['control group','treatment group'])\n",
    "plt.xlabel('real earnings in 1978')\n",
    "plt.ylabel('repartition density')"
   ]
  },
  {
   "cell_type": "markdown",
   "metadata": {},
   "source": [
    "We see that indeed, there are some outliers that could have influenced our mean and std values."
   ]
  },
  {
   "cell_type": "markdown",
   "metadata": {},
   "source": [
    "To get a more robust analysis, we can use strong statistic tools such as median and quantiles."
   ]
  },
  {
   "cell_type": "code",
   "execution_count": 5,
   "metadata": {},
   "outputs": [
    {
     "name": "stdout",
     "output_type": "stream",
     "text": [
      "Median of real earnings in 1978:\n",
      "For people who did not participate in the job training program:  4975.505\n",
      "For people who participated in the job training program:  4232.309\n"
     ]
    }
   ],
   "source": [
    "re78_1 = df_treat_1['re78']\n",
    "re78_0 = df_treat_0['re78']\n",
    "print(\"Median of real earnings in 1978:\")\n",
    "print(\"For people who did not participate in the job training program: \",re78_0.median())\n",
    "print(\"For people who participated in the job training program: \", re78_1.median())"
   ]
  },
  {
   "cell_type": "markdown",
   "metadata": {},
   "source": [
    "We see that the median for the real earnings in 1978 is higher for people who did not participate in the training program. It seems that the training has no effect (or is even a factor of decreasing in the real earnings people can make)."
   ]
  },
  {
   "cell_type": "code",
   "execution_count": 66,
   "metadata": {},
   "outputs": [
    {
     "data": {
      "text/plain": [
       "<matplotlib.text.Text at 0x7f815f9a6358>"
      ]
     },
     "execution_count": 66,
     "metadata": {},
     "output_type": "execute_result"
    },
    {
     "data": {
      "image/png": "[encoded data removed]",
      "text/plain": [
       "<matplotlib.figure.Figure at 0x7f815f53fcf8>"
      ]
     },
     "metadata": {},
     "output_type": "display_data"
    }
   ],
   "source": [
    "fig = plt.figure()\n",
    "plt.boxplot([re78_0, re78_1],labels=['control','treatment'],widths=[0.5,0.5])\n",
    "fig.suptitle('')"
   ]
  },
  {
   "cell_type": "markdown",
   "metadata": {},
   "source": [
    "Looking at the boxplot, we can once again assess that the training program has no effect on the earning someone can make."
   ]
  },
  {
   "cell_type": "markdown",
   "metadata": {},
   "source": [
    "To assess if the expected real earnings in 1978 differs between the two groups, we conduct a Welch’s t-test (because we cannot assume the standard deviation is the same for both).\n",
    "\n",
    "Our null hypothesis is the following: \"The expected real earning in 1978 is the same or is lower for the people who participated in the training program, compared to the other people.\"\n",
    "\n",
    "And our alternative hypothesis is: \"People that participated in the training program increased their real earning in 1978 compared to the people who did not.\"\n",
    "\n",
    "These hypotheses make us conduct a unilateral Welch’s t-test."
   ]
  },
  {
   "cell_type": "code",
   "execution_count": 7,
   "metadata": {},
   "outputs": [
    {
     "data": {
      "text/plain": [
       "Ttest_indResult(statistic=0.93772969793931826, pvalue=0.34907665555666978)"
      ]
     },
     "execution_count": 7,
     "metadata": {},
     "output_type": "execute_result"
    }
   ],
   "source": [
    "stats.ttest_ind(df_treat_0['re78'], df_treat_1['re78'], equal_var=False)"
   ]
  },
  {
   "cell_type": "markdown",
   "metadata": {},
   "source": [
    "The p-value returned by this method is a two-tailed p-value. Since our test is unilateral, we can divide this value by 2 to get the p-value corresponding to our test.\n",
    "\n",
    "This gives us 0.175 which do not allow us to reject the null hypothesis. We need a p-value of less than 0.05 with a statistic value below 0 to reject the null hypothesis for a threshold of 5%."
   ]
  },
  {
   "cell_type": "markdown",
   "metadata": {},
   "source": [
    "# 2. A closer look at the data"
   ]
  },
  {
   "cell_type": "markdown",
   "metadata": {},
   "source": [
    "The naive observations of part 1 let us conclude that the training program did not increase the real earnings people made after participating in it.\n",
    "However, we know that in statistics, we cannot make conclusions so fast. We first have to verify if the caracteristics of people in the the control group are similar to the caracteristics of people in the treatment group.\n",
    "We're then going to compare repartition of the caracteristics between the two groups (skin color, age, years of education, real earnings in 1974 and 1975...)."
   ]
  },
  {
   "cell_type": "code",
   "execution_count": 8,
   "metadata": {},
   "outputs": [
    {
     "data": {
      "text/plain": [
       "<matplotlib.text.Text at 0x7f81637a3be0>"
      ]
     },
     "execution_count": 8,
     "metadata": {},
     "output_type": "execute_result"
    },
    {
     "data": {
      "image/png": "[encoded data removed]",
      "text/plain": [
       "<matplotlib.figure.Figure at 0x7f81637ad898>"
      ]
     },
     "metadata": {},
     "output_type": "display_data"
    }
   ],
   "source": [
    "fig = plt.figure()\n",
    "plt.boxplot([df_treat_0['re74'],df_treat_0['re75'],df_treat_1['re74'], df_treat_1['re75']],\n",
    "            labels=['re74, treat = 0','re75, treat = 0','re74, treat = 1','re75, treat = 1'])\n",
    "fig.suptitle('')"
   ]
  },
  {
   "cell_type": "markdown",
   "metadata": {},
   "source": [
    "If we look at the real earnings in 1974-1975, we see that the samples are poorly distributed. The real earnings are significantly lower for the group that has participated in the training program. It indeed makes sense that only people that truly needed to increase their real earnings participated in such a training program. We thus get a bias in our dataset between people that participated and people that did not."
   ]
  },
  {
   "cell_type": "code",
   "execution_count": 9,
   "metadata": {},
   "outputs": [
    {
     "data": {
      "text/plain": [
       "<matplotlib.text.Text at 0x7f8163749748>"
      ]
     },
     "execution_count": 9,
     "metadata": {},
     "output_type": "execute_result"
    },
    {
     "data": {
      "image/png": "[encoded data removed]",
      "text/plain": [
       "<matplotlib.figure.Figure at 0x7f816368b6d8>"
      ]
     },
     "metadata": {},
     "output_type": "display_data"
    }
   ],
   "source": [
    "fig = plt.figure()\n",
    "plt.boxplot([df_treat_0['age'], df_treat_1['age']], labels=['age repartition, treat = 0', 'age repartition, treat = 1'])\n",
    "fig.suptitle('')"
   ]
  },
  {
   "cell_type": "markdown",
   "metadata": {},
   "source": [
    "The age repartition is also unbalanced between the two groups. We have a larger distribution for ages in the control group. It seems that the treatment group is more composed of young people while the control group has a wider distribution over all age categories."
   ]
  },
  {
   "cell_type": "code",
   "execution_count": 10,
   "metadata": {},
   "outputs": [
    {
     "data": {
      "text/plain": [
       "<matplotlib.text.Text at 0x7f816366d5f8>"
      ]
     },
     "execution_count": 10,
     "metadata": {},
     "output_type": "execute_result"
    },
    {
     "data": {
      "image/png": "[encoded data removed]",
      "text/plain": [
       "<matplotlib.figure.Figure at 0x7f8163646160>"
      ]
     },
     "metadata": {},
     "output_type": "display_data"
    }
   ],
   "source": [
    "fig = plt.figure()\n",
    "plt.boxplot([df_treat_0['educ'], df_treat_1['educ']], labels=['years of education, treat = 0', 'years of education, treat = 1'])\n",
    "fig.suptitle('')"
   ]
  },
  {
   "cell_type": "markdown",
   "metadata": {},
   "source": [
    "Years of education seem to be well distributed between the two groups."
   ]
  },
  {
   "cell_type": "code",
   "execution_count": 99,
   "metadata": {},
   "outputs": [
    {
     "data": {
      "text/plain": [
       "<matplotlib.text.Text at 0x7f815d23eb00>"
      ]
     },
     "execution_count": 99,
     "metadata": {},
     "output_type": "execute_result"
    },
    {
     "data": {
      "image/png": "[encoded data removed]",
      "text/plain": [
       "<matplotlib.figure.Figure at 0x7f815d754550>"
      ]
     },
     "metadata": {},
     "output_type": "display_data"
    }
   ],
   "source": [
    "plt.hist(df_treat_0['nodegree'], bins = 3, alpha = 0.5, normed=True)\n",
    "plt.hist(df_treat_1['nodegree'], bins = 3, alpha = 0.5, normed=True)\n",
    "plt.legend(['control group','treatment group'])\n",
    "plt.xlabel('people with degree                             people without degree')\n",
    "plt.ylabel('repartition density')"
   ]
  },
  {
   "cell_type": "markdown",
   "metadata": {},
   "source": [
    "We see that there are a bit less people that have a degree in the treatment group, but the difference do not seem to be significative."
   ]
  },
  {
   "cell_type": "code",
   "execution_count": 100,
   "metadata": {},
   "outputs": [
    {
     "data": {
      "text/plain": [
       "<matplotlib.text.Text at 0x7f815d257470>"
      ]
     },
     "execution_count": 100,
     "metadata": {},
     "output_type": "execute_result"
    },
    {
     "data": {
      "image/png": "[encoded data removed]",
      "text/plain": [
       "<matplotlib.figure.Figure at 0x7f815d19b470>"
      ]
     },
     "metadata": {},
     "output_type": "display_data"
    }
   ],
   "source": [
    "plt.hist(df_treat_0['black'], bins = 3, alpha = 0.5,normed=True)\n",
    "plt.hist(df_treat_1['black'], bins = 3, alpha = 0.5,normed=True)\n",
    "plt.legend(['control group','treatment group'])\n",
    "plt.xlabel('non black people                                   black people')\n",
    "plt.ylabel('repartition density')"
   ]
  },
  {
   "cell_type": "code",
   "execution_count": 101,
   "metadata": {},
   "outputs": [
    {
     "data": {
      "text/plain": [
       "<matplotlib.text.Text at 0x7f815d0e37f0>"
      ]
     },
     "execution_count": 101,
     "metadata": {},
     "output_type": "execute_result"
    },
    {
     "data": {
      "image/png": "[encoded data removed]",
      "text/plain": [
       "<matplotlib.figure.Figure at 0x7f815d14b470>"
      ]
     },
     "metadata": {},
     "output_type": "display_data"
    }
   ],
   "source": [
    "plt.hist(df_treat_0['hispan'], bins = 3, alpha = 0.5,normed=True)\n",
    "plt.hist(df_treat_1['hispan'], bins = 3, alpha = 0.5,normed=True)\n",
    "plt.legend(['control group','treatment group'])\n",
    "plt.xlabel('non hispanic people                                   hispanic people')\n",
    "plt.ylabel('repartition density')"
   ]
  },
  {
   "cell_type": "code",
   "execution_count": 102,
   "metadata": {},
   "outputs": [
    {
     "data": {
      "text/plain": [
       "<matplotlib.text.Text at 0x7f815d01a5c0>"
      ]
     },
     "execution_count": 102,
     "metadata": {},
     "output_type": "execute_result"
    },
    {
     "data": {
      "image/png": "[encoded data removed]",
      "text/plain": [
       "<matplotlib.figure.Figure at 0x7f815d078eb8>"
      ]
     },
     "metadata": {},
     "output_type": "display_data"
    }
   ],
   "source": [
    "plt.hist(df_treat_0['white'], bins = 3, alpha = 0.5,normed=True)\n",
    "plt.hist(df_treat_1['white'], bins = 3, alpha = 0.5,normed=True)\n",
    "plt.legend(['control group','treatment group'])\n",
    "plt.xlabel('non white people                                   white people')\n",
    "plt.ylabel('repartition density')"
   ]
  },
  {
   "cell_type": "markdown",
   "metadata": {},
   "source": [
    "Except the \"hispanic\" skin color, we can see that this caracteristic is poorly distributed between the treatment group and the control group."
   ]
  },
  {
   "cell_type": "markdown",
   "metadata": {},
   "source": [
    "We can conclude that our dataset is not equilibrated between control group and treatment group. We know that such a bad distribution can be a factor of biases generation in the results we get. We need to find a way to equilibrate the repartition of the caracteristics that influence the outcome to properly assess the efficiency of the training program."
   ]
  },
  {
   "cell_type": "markdown",
   "metadata": {},
   "source": [
    "# Propensity score matching"
   ]
  },
  {
   "cell_type": "markdown",
   "metadata": {},
   "source": [
    "In order to compare the real efficiency of the training program, we need to construct a dataset in which people that participated in the training program, and people that did not, have similar caracteristics.\n",
    "To do so, we're going to estimate propensity score for the variable \"treat\" (equals to 1 if people participated, 0 otherwise), performing a Logistic Regression on the other caracteristics (covariates).\n",
    "This Logistic Regression will output an estimate of the probability a given subject has to have participated in the program, given the other caracteristics he presents.\n",
    "We will then bind every subject from a group to a subject of the other, minimizing the sum of differenced of this probability value between the two groups."
   ]
  },
  {
   "cell_type": "code",
   "execution_count": 15,
   "metadata": {},
   "outputs": [],
   "source": [
    "covariates = df.drop(['id', 'treat','re78'], axis = 1)\n",
    "treat = df['treat']"
   ]
  },
  {
   "cell_type": "code",
   "execution_count": 16,
   "metadata": {},
   "outputs": [],
   "source": [
    "lr = lm.LogisticRegression(max_iter=10000,tol=1e-10)"
   ]
  },
  {
   "cell_type": "code",
   "execution_count": 17,
   "metadata": {},
   "outputs": [
    {
     "name": "stdout",
     "output_type": "stream",
     "text": [
      "Precision: 0.63 (+/- 0.47)\n",
      "Recall: 0.70 (+/- 0.48)\n"
     ]
    }
   ],
   "source": [
    "precision = cross_val_score(lr, covariates, treat, cv=10, scoring=\"precision\")\n",
    "recall = cross_val_score(lr, covariates, treat, cv=10, scoring=\"recall\")\n",
    "\n",
    "print(\"Precision: %0.2f (+/- %0.2f)\" % (precision.mean(), precision.std() * 2))\n",
    "print(\"Recall: %0.2f (+/- %0.2f)\" % (recall.mean(), recall.std() * 2))"
   ]
  },
  {
   "cell_type": "markdown",
   "metadata": {},
   "source": [
    "The classification did not give a high precision, but it does not really matter as our goal is just to find pairs that present the same caracteristics in the two groups. In a way, it is convenient for us to have a low precision, since it means that the two groups contain subjects that present close caracteristics."
   ]
  },
  {
   "cell_type": "code",
   "execution_count": 18,
   "metadata": {},
   "outputs": [],
   "source": [
    "fit = lr.fit(covariates, treat)"
   ]
  },
  {
   "cell_type": "code",
   "execution_count": 19,
   "metadata": {},
   "outputs": [],
   "source": [
    "probas = pd.DataFrame(fit.predict_proba(covariates))"
   ]
  },
  {
   "cell_type": "code",
   "execution_count": 20,
   "metadata": {},
   "outputs": [
    {
     "data": {
      "text/html": [
       "<div>\n",
       "<style>\n",
       "    .dataframe thead tr:only-child th {\n",
       "        text-align: right;\n",
       "    }\n",
       "\n",
       "    .dataframe thead th {\n",
       "        text-align: left;\n",
       "    }\n",
       "\n",
       "    .dataframe tbody tr th {\n",
       "        vertical-align: top;\n",
       "    }\n",
       "</style>\n",
       "<table border=\"1\" class=\"dataframe\">\n",
       "  <thead>\n",
       "    <tr style=\"text-align: right;\">\n",
       "      <th></th>\n",
       "      <th>0</th>\n",
       "      <th>1</th>\n",
       "    </tr>\n",
       "  </thead>\n",
       "  <tbody>\n",
       "    <tr>\n",
       "      <th>0</th>\n",
       "      <td>0.425470</td>\n",
       "      <td>0.574530</td>\n",
       "    </tr>\n",
       "    <tr>\n",
       "      <th>1</th>\n",
       "      <td>0.763559</td>\n",
       "      <td>0.236441</td>\n",
       "    </tr>\n",
       "    <tr>\n",
       "      <th>2</th>\n",
       "      <td>0.314610</td>\n",
       "      <td>0.685390</td>\n",
       "    </tr>\n",
       "    <tr>\n",
       "      <th>3</th>\n",
       "      <td>0.266562</td>\n",
       "      <td>0.733438</td>\n",
       "    </tr>\n",
       "    <tr>\n",
       "      <th>4</th>\n",
       "      <td>0.306000</td>\n",
       "      <td>0.694000</td>\n",
       "    </tr>\n",
       "  </tbody>\n",
       "</table>\n",
       "</div>"
      ],
      "text/plain": [
       "          0         1\n",
       "0  0.425470  0.574530\n",
       "1  0.763559  0.236441\n",
       "2  0.314610  0.685390\n",
       "3  0.266562  0.733438\n",
       "4  0.306000  0.694000"
      ]
     },
     "execution_count": 20,
     "metadata": {},
     "output_type": "execute_result"
    }
   ],
   "source": [
    "probas.head()"
   ]
  },
  {
   "cell_type": "markdown",
   "metadata": {},
   "source": [
    "# Balancing the dataset via matching"
   ]
  },
  {
   "cell_type": "code",
   "execution_count": 21,
   "metadata": {},
   "outputs": [
    {
     "name": "stdout",
     "output_type": "stream",
     "text": [
      "control population size: 429 \n",
      "treated population size: 185\n"
     ]
    }
   ],
   "source": [
    "print('control population size:', len(df_treat_0), '\\ntreated population size:', len(df_treat_1))"
   ]
  },
  {
   "cell_type": "markdown",
   "metadata": {},
   "source": [
    "Now that the Logistic Regression gave us estimations of propensity scores for every subjects, we can bind every subject of the treatment group (this group contains less subjects than the control one) with a subject of the control group, minimizing the distance in propensity score between the two.\n",
    "We will finally get two groups of the same size (185)."
   ]
  },
  {
   "cell_type": "markdown",
   "metadata": {},
   "source": [
    "To perform the binding, we're going to construct a bipartite graph (with the networkx library) and use the maximum matching algorithm. The first step is to construct a list of edges, that bind every vertices of a group to every vertices of the other, giving as weight 1-diff (diff being the difference in propensity score between the two subjects). We use this weight because we need the weight to be higher when the difference is lower to be able to use maximum matching algorithm."
   ]
  },
  {
   "cell_type": "code",
   "execution_count": 22,
   "metadata": {},
   "outputs": [],
   "source": [
    "def construct_bipartite_graph(df_1, df_2, probas):\n",
    "    edges = []\n",
    "    for i in df_1.index:\n",
    "        for j in df_2.index:\n",
    "            edges.append((i,j,1-abs(probas.loc[i][1] - probas.loc[j][1])))\n",
    "    B = nx.Graph()\n",
    "    B.add_nodes_from(df_1.index)\n",
    "    B.add_nodes_from(df_2.index)\n",
    "    B.add_weighted_edges_from(edges)\n",
    "    \n",
    "    return B"
   ]
  },
  {
   "cell_type": "code",
   "execution_count": 23,
   "metadata": {},
   "outputs": [],
   "source": [
    "B = construct_bipartite_graph(df_treat_0, df_treat_1, probas)"
   ]
  },
  {
   "cell_type": "markdown",
   "metadata": {},
   "source": [
    "Now that the bipartite graph is constructed, we can use the maximum matching algorithm directly implemented in the networkx library."
   ]
  },
  {
   "cell_type": "code",
   "execution_count": 24,
   "metadata": {},
   "outputs": [],
   "source": [
    "edges_matching = nx.algorithms.max_weight_matching(B)"
   ]
  },
  {
   "cell_type": "markdown",
   "metadata": {},
   "source": [
    "We construct a new dataframe containing only the subjects that have been selected in the matching of the control group"
   ]
  },
  {
   "cell_type": "code",
   "execution_count": 25,
   "metadata": {},
   "outputs": [],
   "source": [
    "df_match_control = df_treat_0.loc[edges_matching.keys()].dropna()"
   ]
  },
  {
   "cell_type": "markdown",
   "metadata": {},
   "source": [
    "We now can perform a new analysis on the results we obtain."
   ]
  },
  {
   "cell_type": "code",
   "execution_count": 26,
   "metadata": {},
   "outputs": [
    {
     "data": {
      "text/plain": [
       "<matplotlib.text.Text at 0x7f8162fb0fd0>"
      ]
     },
     "execution_count": 26,
     "metadata": {},
     "output_type": "execute_result"
    },
    {
     "data": {
      "image/png": "[encoded data removed]",
      "text/plain": [
       "<matplotlib.figure.Figure at 0x7f8163007c18>"
      ]
     },
     "metadata": {},
     "output_type": "display_data"
    }
   ],
   "source": [
    "fig = plt.figure()\n",
    "plt.boxplot([df_match_control['re78'], df_treat_0['re78']], labels=['control', 'treatment'])\n",
    "fig.suptitle('')"
   ]
  },
  {
   "cell_type": "code",
   "execution_count": 27,
   "metadata": {},
   "outputs": [
    {
     "data": {
      "text/plain": [
       "Ttest_indResult(statistic=-0.98383592159434718, pvalue=0.32588925302115068)"
      ]
     },
     "execution_count": 27,
     "metadata": {},
     "output_type": "execute_result"
    }
   ],
   "source": [
    "stats.ttest_ind(df_match_control['re78'], df_treat_1['re78'], equal_var=False)"
   ]
  },
  {
   "cell_type": "markdown",
   "metadata": {},
   "source": [
    "The one-tailed p-value is 0.163.\n",
    "This Welch’s t-test do not allow us once again to reject our null hypothesis.\n",
    "However there was some improvments since the statistic value is negative, meaning that our p-value could reject the null hypothesis on a threshold of 20%, which is not often used, but is way better than our naive results."
   ]
  },
  {
   "cell_type": "markdown",
   "metadata": {},
   "source": [
    "We see that once again, we cannot conclude that the training program increased the real earnings in 1978.\n",
    "To see if our method has been efficient, we check once again if the caracteristics are now well distributed between the two groups constructed."
   ]
  },
  {
   "cell_type": "code",
   "execution_count": 28,
   "metadata": {},
   "outputs": [
    {
     "data": {
      "text/plain": [
       "<matplotlib.text.Text at 0x7f816290c828>"
      ]
     },
     "execution_count": 28,
     "metadata": {},
     "output_type": "execute_result"
    },
    {
     "data": {
      "image/png": "[encoded data removed]",
      "text/plain": [
       "<matplotlib.figure.Figure at 0x7f8162919438>"
      ]
     },
     "metadata": {},
     "output_type": "display_data"
    }
   ],
   "source": [
    "fig = plt.figure()\n",
    "plt.boxplot([df_match_control['re74'],df_match_control['re75'],df_treat_1['re74'], df_treat_1['re75']],\n",
    "            labels=['re74, treat = 0','re75, treat = 0','re74, treat = 1','re75, treat = 1'])\n",
    "fig.suptitle('')"
   ]
  },
  {
   "cell_type": "code",
   "execution_count": 29,
   "metadata": {},
   "outputs": [
    {
     "data": {
      "text/plain": [
       "<matplotlib.text.Text at 0x7f8162919e80>"
      ]
     },
     "execution_count": 29,
     "metadata": {},
     "output_type": "execute_result"
    },
    {
     "data": {
      "image/png": "[encoded data removed]",
      "text/plain": [
       "<matplotlib.figure.Figure at 0x7f8162663550>"
      ]
     },
     "metadata": {},
     "output_type": "display_data"
    }
   ],
   "source": [
    "fig = plt.figure()\n",
    "plt.boxplot([df_match_control['age'], df_treat_1['age']],\n",
    "            labels=['age repartition, treat = 0', 'age repartition, treat = 1'])\n",
    "fig.suptitle('')"
   ]
  },
  {
   "cell_type": "code",
   "execution_count": 30,
   "metadata": {},
   "outputs": [
    {
     "data": {
      "text/plain": [
       "<matplotlib.text.Text at 0x7f816257e8d0>"
      ]
     },
     "execution_count": 30,
     "metadata": {},
     "output_type": "execute_result"
    },
    {
     "data": {
      "image/png": "[encoded data removed]",
      "text/plain": [
       "<matplotlib.figure.Figure at 0x7f81624d5da0>"
      ]
     },
     "metadata": {},
     "output_type": "display_data"
    }
   ],
   "source": [
    "fig = plt.figure()\n",
    "plt.boxplot([df_match_control['educ'], df_treat_1['educ']],\n",
    "            labels=['years of education, treat = 0', 'years of education, treat = 1'])\n",
    "fig.suptitle('')"
   ]
  },
  {
   "cell_type": "code",
   "execution_count": 103,
   "metadata": {},
   "outputs": [
    {
     "data": {
      "text/plain": [
       "<matplotlib.text.Text at 0x7f815cf52f98>"
      ]
     },
     "execution_count": 103,
     "metadata": {},
     "output_type": "execute_result"
    },
    {
     "data": {
      "image/png": "[encoded data removed]",
      "text/plain": [
       "<matplotlib.figure.Figure at 0x7f815cfa4208>"
      ]
     },
     "metadata": {},
     "output_type": "display_data"
    }
   ],
   "source": [
    "plt.hist(df_match_control['nodegree'], bins = 3, alpha = 0.5, normed=True)\n",
    "plt.hist(df_treat_1['nodegree'], bins = 3, alpha = 0.5, normed=True)\n",
    "plt.legend(['control group','treatment group'])\n",
    "plt.xlabel('people with degree                             people without degree')\n",
    "plt.ylabel('repartition density')"
   ]
  },
  {
   "cell_type": "code",
   "execution_count": 104,
   "metadata": {},
   "outputs": [
    {
     "data": {
      "text/plain": [
       "<matplotlib.text.Text at 0x7f815cea32e8>"
      ]
     },
     "execution_count": 104,
     "metadata": {},
     "output_type": "execute_result"
    },
    {
     "data": {
      "image/png": "[encoded data removed]",
      "text/plain": [
       "<matplotlib.figure.Figure at 0x7f815d0c8358>"
      ]
     },
     "metadata": {},
     "output_type": "display_data"
    }
   ],
   "source": [
    "plt.hist(df_match_control['black'], bins = 3, alpha = 0.5,normed=True)\n",
    "plt.hist(df_treat_1['black'], bins = 3, alpha = 0.5,normed=True)\n",
    "plt.legend(['control group','treatment group'])\n",
    "plt.xlabel('non black people                                   black people')\n",
    "plt.ylabel('repartition density')"
   ]
  },
  {
   "cell_type": "code",
   "execution_count": 105,
   "metadata": {},
   "outputs": [
    {
     "data": {
      "text/plain": [
       "<matplotlib.text.Text at 0x7f815cf0ab00>"
      ]
     },
     "execution_count": 105,
     "metadata": {},
     "output_type": "execute_result"
    },
    {
     "data": {
      "image/png": "[encoded data removed]",
      "text/plain": [
       "<matplotlib.figure.Figure at 0x7f815cdb7358>"
      ]
     },
     "metadata": {},
     "output_type": "display_data"
    }
   ],
   "source": [
    "plt.hist(df_match_control['hispan'], bins = 3, alpha = 0.5,normed=True)\n",
    "plt.hist(df_treat_1['hispan'], bins = 3, alpha = 0.5,normed=True)\n",
    "plt.legend(['control group','treatment group'])\n",
    "plt.xlabel('non hispanic people                                   hispanic people')\n",
    "plt.ylabel('repartition density')"
   ]
  },
  {
   "cell_type": "code",
   "execution_count": 106,
   "metadata": {},
   "outputs": [
    {
     "data": {
      "text/plain": [
       "<matplotlib.text.Text at 0x7f815cee5780>"
      ]
     },
     "execution_count": 106,
     "metadata": {},
     "output_type": "execute_result"
    },
    {
     "data": {
      "image/png": "[encoded data removed]",
      "text/plain": [
       "<matplotlib.figure.Figure at 0x7f815cd65390>"
      ]
     },
     "metadata": {},
     "output_type": "display_data"
    }
   ],
   "source": [
    "plt.hist(df_match_control['white'], bins = 3, alpha = 0.5,normed=True)\n",
    "plt.hist(df_treat_1['white'], bins = 3, alpha = 0.5,normed=True)\n",
    "plt.legend(['control group','treatment group'])\n",
    "plt.xlabel('non white people                                   white people')\n",
    "plt.ylabel('repartition density')"
   ]
  },
  {
   "cell_type": "markdown",
   "metadata": {},
   "source": [
    "We observe that the matching allowed to give an equilibrated distribution over the caracteristics of the two groups except for the skin color caracteristic. We need to remove this heterogeneity between our groups to be sure the training has no effect."
   ]
  },
  {
   "cell_type": "markdown",
   "metadata": {},
   "source": [
    "# Balancing the groups further"
   ]
  },
  {
   "cell_type": "markdown",
   "metadata": {},
   "source": [
    "We observed in our precedent training that the skin color was not equally distributed between our groups. So, to get a better ditribution of this caracteristic, we're going to force the skin color to be the same for the matching.\n",
    "In the first training, we used the the skin color as a covariate, so it would be better to train a classifier specific for each skin color. We're then going to perform the same pipeline as before, but one time for each skin color."
   ]
  },
  {
   "cell_type": "code",
   "execution_count": 57,
   "metadata": {},
   "outputs": [],
   "source": [
    "df_BSC = df[df['black'] == 1]\n",
    "df_HSC = df[df['hispan'] == 1]\n",
    "df_WSC = df[df['white'] == 1]\n",
    "\n",
    "covariates_BSC = df_BSC.drop(['id', 'treat','re78','black','hispan','white'], axis = 1)\n",
    "treat_BSC = df_BSC['treat']\n",
    "covariates_HSC = df_HSC.drop(['id', 'treat','black','re78','hispan','white'], axis = 1)\n",
    "treat_HSC = df_HSC['treat']\n",
    "covariates_WSC = df_WSC.drop(['id', 'treat','black','re78','hispan','white'], axis = 1)\n",
    "treat_WSC = df_WSC['treat']\n",
    "\n",
    "probas_BSC = pd.DataFrame(lr.fit(covariates_BSC,treat_BSC).predict_proba(covariates_BSC),index= df_BSC.index)\n",
    "probas_HSC = pd.DataFrame(lr.fit(covariates_HSC,treat_HSC).predict_proba(covariates_HSC),index= df_HSC.index)\n",
    "probas_WSC = pd.DataFrame(lr.fit(covariates_WSC,treat_WSC).predict_proba(covariates_WSC),index= df_WSC.index)"
   ]
  },
  {
   "cell_type": "code",
   "execution_count": 58,
   "metadata": {},
   "outputs": [],
   "source": [
    "B_BSC = construct_bipartite_graph(df_BSC[df_BSC['treat'] == 0],df_BSC[df_BSC['treat'] == 1],probas_BSC)\n",
    "B_HSC = construct_bipartite_graph(df_HSC[df_HSC['treat'] == 0],df_HSC[df_HSC['treat'] == 1],probas_HSC)\n",
    "B_WSC = construct_bipartite_graph(df_WSC[df_WSC['treat'] == 0],df_WSC[df_WSC['treat'] == 1],probas_WSC)\n",
    "\n",
    "edges_matching_BSC = nx.algorithms.max_weight_matching(B_BSC)\n",
    "edges_matching_HSC = nx.algorithms.max_weight_matching(B_HSC)\n",
    "edges_matching_WSC = nx.algorithms.max_weight_matching(B_WSC)"
   ]
  },
  {
   "cell_type": "code",
   "execution_count": 59,
   "metadata": {},
   "outputs": [
    {
     "data": {
      "text/plain": [
       "Ttest_indResult(statistic=-1.0741641216287965, pvalue=0.28429051866324007)"
      ]
     },
     "execution_count": 59,
     "metadata": {},
     "output_type": "execute_result"
    },
    {
     "data": {
      "image/png": "[encoded data removed]",
      "text/plain": [
       "<matplotlib.figure.Figure at 0x7f815f9a6668>"
      ]
     },
     "metadata": {},
     "output_type": "display_data"
    }
   ],
   "source": [
    "df_matching_BSC = df_BSC.loc[edges_matching_BSC.keys()].dropna()\n",
    "fig = plt.figure()\n",
    "plt.boxplot([df_matching_BSC[df_matching_BSC['treat'] == 0]['re78'], df_matching_BSC[df_matching_BSC['treat'] == 1]['re78']],\n",
    "            labels=['re78 for black people, treat = 0', 're78 for black people, treat = 1'])\n",
    "fig.suptitle('')\n",
    "stats.ttest_ind(df_matching_BSC[df_matching_BSC['treat'] == 0]['re78'], \n",
    "                df_matching_BSC[df_matching_BSC['treat'] == 1]['re78'], equal_var=False)"
   ]
  },
  {
   "cell_type": "code",
   "execution_count": 60,
   "metadata": {},
   "outputs": [
    {
     "data": {
      "text/plain": [
       "Ttest_indResult(statistic=0.61225528064768031, pvalue=0.5472744820620139)"
      ]
     },
     "execution_count": 60,
     "metadata": {},
     "output_type": "execute_result"
    },
    {
     "data": {
      "image/png": "[encoded data removed]",
      "text/plain": [
       "<matplotlib.figure.Figure at 0x7f815f384dd8>"
      ]
     },
     "metadata": {},
     "output_type": "display_data"
    }
   ],
   "source": [
    "df_matching_HSC = df_HSC.loc[edges_matching_HSC.keys()].dropna()\n",
    "fig = plt.figure()\n",
    "plt.boxplot([df_matching_HSC[df_matching_HSC['treat'] == 0]['re78'], df_matching_HSC[df_matching_HSC['treat'] == 1]['re78']],\n",
    "            labels=['re78 for hispanic people, treat = 0', 're78 for hispanic people, treat = 1'])\n",
    "fig.suptitle('')\n",
    "stats.ttest_ind(df_matching_HSC[df_matching_HSC['treat'] == 0]['re78'], \n",
    "                df_matching_HSC[df_matching_HSC['treat'] == 1]['re78'], equal_var=False)"
   ]
  },
  {
   "cell_type": "markdown",
   "metadata": {},
   "source": [
    "For the hispanic subjects, according to the results above, the treatment did not work at all contrary to the white and black subjects. It seems weird that our results changed so much for this category, so we can question oursleves about the results of our classification. Indeed, hispanic subjects in our treatment group only are only 11, so it is possible that our Logistic Regression minimized the loss function, classifying every hispanic subject in the contrl group."
   ]
  },
  {
   "cell_type": "code",
   "execution_count": 61,
   "metadata": {},
   "outputs": [
    {
     "data": {
      "text/html": [
       "<div>\n",
       "<style>\n",
       "    .dataframe thead tr:only-child th {\n",
       "        text-align: right;\n",
       "    }\n",
       "\n",
       "    .dataframe thead th {\n",
       "        text-align: left;\n",
       "    }\n",
       "\n",
       "    .dataframe tbody tr th {\n",
       "        vertical-align: top;\n",
       "    }\n",
       "</style>\n",
       "<table border=\"1\" class=\"dataframe\">\n",
       "  <thead>\n",
       "    <tr style=\"text-align: right;\">\n",
       "      <th></th>\n",
       "      <th>0</th>\n",
       "      <th>1</th>\n",
       "    </tr>\n",
       "  </thead>\n",
       "  <tbody>\n",
       "  </tbody>\n",
       "</table>\n",
       "</div>"
      ],
      "text/plain": [
       "Empty DataFrame\n",
       "Columns: [0, 1]\n",
       "Index: []"
      ]
     },
     "execution_count": 61,
     "metadata": {},
     "output_type": "execute_result"
    }
   ],
   "source": [
    "probas_HSC[probas_HSC[1] >= 0.5] "
   ]
  },
  {
   "cell_type": "markdown",
   "metadata": {},
   "source": [
    "It seems that our guess was right. So, to keep consistent results for hispanic subject, we're going to use the first probabilities obtained in the precedent part to get consistent propensity scores."
   ]
  },
  {
   "cell_type": "code",
   "execution_count": 62,
   "metadata": {},
   "outputs": [
    {
     "data": {
      "text/plain": [
       "Ttest_indResult(statistic=-1.4098497041539877, pvalue=0.18011319693117669)"
      ]
     },
     "execution_count": 62,
     "metadata": {},
     "output_type": "execute_result"
    },
    {
     "data": {
      "image/png": "[encoded data removed]",
      "text/plain": [
       "<matplotlib.figure.Figure at 0x7f815f53f208>"
      ]
     },
     "metadata": {},
     "output_type": "display_data"
    }
   ],
   "source": [
    "B_HSC_corrected = construct_bipartite_graph(df_HSC[df_HSC['treat'] == 0],df_HSC[df_HSC['treat'] == 1],probas)\n",
    "edges_matching_HSC_corrected = nx.algorithms.max_weight_matching(B_HSC_corrected)\n",
    "\n",
    "df_matching_HSC_corrected = df_HSC.loc[edges_matching_HSC_corrected.keys()].dropna()\n",
    "fig = plt.figure()\n",
    "plt.boxplot([df_matching_HSC_corrected[df_matching_HSC_corrected['treat'] == 0]['re78'], \n",
    "             df_matching_HSC_corrected[df_matching_HSC_corrected['treat'] == 1]['re78']],\n",
    "            labels=['re78 for hispanic people, treat = 0', 're78 for hispanic people, treat = 1'])\n",
    "fig.suptitle('')\n",
    "stats.ttest_ind(df_matching_HSC_corrected[df_matching_HSC_corrected['treat'] == 0]['re78'], \n",
    "                df_matching_HSC_corrected[df_matching_HSC_corrected['treat'] == 1]['re78'], equal_var=False)\n"
   ]
  },
  {
   "cell_type": "markdown",
   "metadata": {},
   "source": [
    "That's a lot better !"
   ]
  },
  {
   "cell_type": "code",
   "execution_count": 63,
   "metadata": {},
   "outputs": [
    {
     "data": {
      "text/plain": [
       "Ttest_indResult(statistic=-1.5525523704544522, pvalue=0.12995450946134091)"
      ]
     },
     "execution_count": 63,
     "metadata": {},
     "output_type": "execute_result"
    },
    {
     "data": {
      "image/png": "[encoded data removed]",
      "text/plain": [
       "<matplotlib.figure.Figure at 0x7f815f78b978>"
      ]
     },
     "metadata": {},
     "output_type": "display_data"
    }
   ],
   "source": [
    "df_matching_WSC = df_WSC.loc[edges_matching_WSC.keys()].dropna()\n",
    "fig = plt.figure()\n",
    "plt.boxplot([df_matching_WSC[df_matching_WSC['treat'] == 0]['re78'], df_matching_WSC[df_matching_WSC['treat'] == 1]['re78']],\n",
    "            labels=['re78 for white people, treat = 0', 're78 for white people, treat = 1'])\n",
    "fig.suptitle('')\n",
    "stats.ttest_ind(df_matching_WSC[df_matching_WSC['treat'] == 0]['re78'], \n",
    "                df_matching_WSC[df_matching_WSC['treat'] == 1]['re78'], equal_var=False)"
   ]
  },
  {
   "cell_type": "markdown",
   "metadata": {},
   "source": [
    "We finally merge the 3 dataframes to get the final results"
   ]
  },
  {
   "cell_type": "code",
   "execution_count": 64,
   "metadata": {},
   "outputs": [],
   "source": [
    "final_matching_df = df_matching_BSC.append([df_matching_HSC_corrected,df_matching_WSC])"
   ]
  },
  {
   "cell_type": "code",
   "execution_count": 65,
   "metadata": {},
   "outputs": [
    {
     "data": {
      "text/plain": [
       "Ttest_indResult(statistic=-1.9047805057404896, pvalue=0.058086459369508708)"
      ]
     },
     "execution_count": 65,
     "metadata": {},
     "output_type": "execute_result"
    },
    {
     "data": {
      "image/png": "[encoded data removed]",
      "text/plain": [
       "<matplotlib.figure.Figure at 0x7f815f55eb00>"
      ]
     },
     "metadata": {},
     "output_type": "display_data"
    }
   ],
   "source": [
    "fig = plt.figure()\n",
    "plt.boxplot([final_matching_df[final_matching_df['treat'] == 0]['re78'], final_matching_df[final_matching_df['treat'] == 1]['re78']],\n",
    "            labels=['re78, treat = 0', 're78, treat = 1'])\n",
    "fig.suptitle('')\n",
    "stats.ttest_ind(final_matching_df[final_matching_df['treat'] == 0]['re78'], \n",
    "                final_matching_df[final_matching_df['treat'] == 1]['re78'], equal_var=False)"
   ]
  },
  {
   "cell_type": "markdown",
   "metadata": {},
   "source": [
    "One tailed p-value: 0.029\n",
    "With this last t-test, we can reject the null hypothesis in favor of our alternative hypothesis, based on a thresold of 5%. \n",
    "We can finally conclude that the training program helped people to increase their real earnings in 1978 !"
   ]
  }
 ],
 "metadata": {
  "kernelspec": {
   "display_name": "Python 3",
   "language": "python",
   "name": "python3"
  },
  "language_info": {
   "codemirror_mode": {
    "name": "ipython",
    "version": 3
   },
   "file_extension": ".py",
   "mimetype": "text/x-python",
   "name": "python",
   "nbconvert_exporter": "python",
   "pygments_lexer": "ipython3",
   "version": "3.6.1"
  }
 },
 "nbformat": 4,
 "nbformat_minor": 2
}
