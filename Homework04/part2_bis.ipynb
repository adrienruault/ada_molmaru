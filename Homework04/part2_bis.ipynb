{
 "cells": [
  {
   "cell_type": "markdown",
   "metadata": {},
   "source": [
    "# Question 2: applied ML"
   ]
  },
  {
   "cell_type": "code",
   "execution_count": 200,
   "metadata": {
    "collapsed": true
   },
   "outputs": [],
   "source": [
    "import pandas as pd\n",
    "import numpy as np\n",
    "import seaborn as sns\n",
    "import matplotlib.mlab as mlab\n",
    "import sklearn.datasets\n",
    "import matplotlib.pyplot as plt\n",
    "import sklearn.linear_model as lm\n",
    "from sklearn.model_selection import cross_val_predict\n",
    "from sklearn.model_selection import cross_val_score\n",
    "from sklearn.datasets import fetch_20newsgroups\n",
    "from sklearn.feature_extraction.text import TfidfVectorizer\n",
    "from sklearn.ensemble import RandomForestClassifier\n",
    "from sklearn.naive_bayes import MultinomialNB\n",
    "from sklearn.model_selection import GridSearchCV\n",
    "from sklearn import metrics\n",
    "from pprint import pprint\n",
    "import random\n",
    "%matplotlib inline"
   ]
  },
  {
   "cell_type": "markdown",
   "metadata": {},
   "source": [
    "## Preprocessing of the newspaper dataset\n",
    "\n",
    "#### Loading of the newspaper dataset\n",
    "\n",
    "Firstly we load the newspaper standard dataset from the sklearn library and we print the newspapers categories (targets) that are used for classification in this problem."
   ]
  },
  {
   "cell_type": "code",
   "execution_count": 201,
   "metadata": {
    "scrolled": true
   },
   "outputs": [
    {
     "name": "stdout",
     "output_type": "stream",
     "text": [
      "<class 'sklearn.utils.Bunch'>\n",
      "['DESCR', 'data', 'description', 'filenames', 'target', 'target_names']\n"
     ]
    },
    {
     "data": {
      "text/plain": [
       "18846"
      ]
     },
     "execution_count": 201,
     "metadata": {},
     "output_type": "execute_result"
    }
   ],
   "source": [
    "newsgroups= fetch_20newsgroups(subset ='all')\n",
    "pprint(type(newsgroups))\n",
    "pprint(dir(newsgroups))\n",
    "len(newsgroups.target)"
   ]
  },
  {
   "cell_type": "markdown",
   "metadata": {},
   "source": [
    "#### Training, validation and test set generation\n",
    "\n",
    "In this part we randomly divide the dataset in three parts as follows:\n",
    "- Train set: constituting 80% of the original dataset\n",
    "- Validation set: constituting 10% of the original dataset\n",
    "- Test set: constituting 10% of the original dataset\n",
    "\n",
    "Firstly we get the number of data that will be in each set."
   ]
  },
  {
   "cell_type": "code",
   "execution_count": 202,
   "metadata": {
    "collapsed": true
   },
   "outputs": [],
   "source": [
    "train_ratio = 0.8\n",
    "test_ratio = 0.1\n",
    "valid_ratio = 0.1\n",
    "\n",
    "data_len = len(newsgroups.filenames)\n",
    "train_len = int(np.floor(train_ratio*data_len))\n",
    "test_len = int(np.floor(test_ratio*data_len))\n",
    "valid_len = int(data_len - (train_len + test_len))"
   ]
  },
  {
   "cell_type": "markdown",
   "metadata": {},
   "source": [
    "Then we use the shuffle function from the random package to shuffle indices and therefore to randomly attribute the observed data to each of the three subsets."
   ]
  },
  {
   "cell_type": "code",
   "execution_count": 203,
   "metadata": {},
   "outputs": [],
   "source": [
    "rand_articles = [i for i in range(data_len)]\n",
    "\n",
    "random.seed(2)\n",
    "random.shuffle(rand_articles)\n",
    "\n",
    "train_subset = rand_articles[0:train_len]\n",
    "test_subset = rand_articles[train_len:train_len+test_len]\n",
    "valid_subset = rand_articles[train_len+test_len:]"
   ]
  },
  {
   "cell_type": "markdown",
   "metadata": {},
   "source": [
    "#### TF-IDF computation\n",
    "\n",
    "Now we compute the TF-IDF statistic for the newspaper dataset. To do so we use the `TfidfVectorizer()` function from the `sklearn` library."
   ]
  },
  {
   "cell_type": "code",
   "execution_count": 204,
   "metadata": {
    "collapsed": true
   },
   "outputs": [],
   "source": [
    "vectorizer = TfidfVectorizer()\n",
    "vectors = vectorizer.fit_transform(newsgroups.data)\n"
   ]
  },
  {
   "cell_type": "markdown",
   "metadata": {},
   "source": [
    "In the following part we just assign the vectors obtained in the previous step to the train, test and training set."
   ]
  },
  {
   "cell_type": "code",
   "execution_count": 205,
   "metadata": {
    "collapsed": true
   },
   "outputs": [],
   "source": [
    "train_vectors = vectors[train_subset,:]\n",
    "test_vectors = vectors[test_subset,:]\n",
    "valid_vectors = vectors[valid_subset,:]\n",
    "\n",
    "train_target = [newsgroups.target[w] for w in train_subset]\n",
    "test_target = [newsgroups.target[w] for w in test_subset]\n",
    "valid_target = [newsgroups.target[w] for w in valid_subset]"
   ]
  },
  {
   "cell_type": "markdown",
   "metadata": {},
   "source": [
    "## Random Forest Training \n",
    "\n",
    "#### Grid search\n",
    "\n",
    "Now we compute train a random forest classifier for different combination of parameters. The parameters that are investigated are:\n",
    "- The number of decision trees generated in order to build the random forest.\n",
    "- The maximum depth of each of those decision trees\n",
    "\n",
    "To do so we implement a grid search over the parameters. Therefore we train a random forest for each parameter combination in a two nested for loops. While training random forests for the different combinations of parameters we also compute the train score and the validation score. The validation score will be useful afterwards to select the parameter combination that yields the best prediction. \n",
    "\n",
    "The score computed in this part is the default score implemented in the sklearn classifier for Random Forests: it is the mean accuracy."
   ]
  },
  {
   "cell_type": "code",
   "execution_count": 78,
   "metadata": {},
   "outputs": [
    {
     "name": "stderr",
     "output_type": "stream",
     "text": [
      "[Parallel(n_jobs=1)]: Done 100 out of 100 | elapsed:   11.2s finished\n",
      "[Parallel(n_jobs=1)]: Done 100 out of 100 | elapsed:    1.2s finished\n",
      "[Parallel(n_jobs=1)]: Done 100 out of 100 | elapsed:    0.2s finished\n",
      "[Parallel(n_jobs=1)]: Done 100 out of 100 | elapsed:   14.8s finished\n",
      "[Parallel(n_jobs=1)]: Done 100 out of 100 | elapsed:    1.3s finished\n",
      "[Parallel(n_jobs=1)]: Done 100 out of 100 | elapsed:    0.2s finished\n",
      "[Parallel(n_jobs=1)]: Done 100 out of 100 | elapsed:   17.8s finished\n",
      "[Parallel(n_jobs=1)]: Done 100 out of 100 | elapsed:    1.3s finished\n",
      "[Parallel(n_jobs=1)]: Done 100 out of 100 | elapsed:    0.2s finished\n",
      "[Parallel(n_jobs=1)]: Done 100 out of 100 | elapsed:   22.2s finished\n",
      "[Parallel(n_jobs=1)]: Done 100 out of 100 | elapsed:    1.3s finished\n",
      "[Parallel(n_jobs=1)]: Done 100 out of 100 | elapsed:    0.2s finished\n",
      "[Parallel(n_jobs=1)]: Done 100 out of 100 | elapsed:   25.7s finished\n",
      "[Parallel(n_jobs=1)]: Done 100 out of 100 | elapsed:    1.4s finished\n",
      "[Parallel(n_jobs=1)]: Done 100 out of 100 | elapsed:    0.2s finished\n",
      "[Parallel(n_jobs=1)]: Done 300 out of 300 | elapsed:   34.1s finished\n",
      "[Parallel(n_jobs=1)]: Done 300 out of 300 | elapsed:    3.7s finished\n",
      "[Parallel(n_jobs=1)]: Done 300 out of 300 | elapsed:    0.6s finished\n",
      "[Parallel(n_jobs=1)]: Done 300 out of 300 | elapsed:   48.3s finished\n",
      "[Parallel(n_jobs=1)]: Done 300 out of 300 | elapsed:    4.0s finished\n",
      "[Parallel(n_jobs=1)]: Done 300 out of 300 | elapsed:    0.6s finished\n",
      "[Parallel(n_jobs=1)]: Done 300 out of 300 | elapsed:  1.0min finished\n",
      "[Parallel(n_jobs=1)]: Done 300 out of 300 | elapsed:    4.0s finished\n",
      "[Parallel(n_jobs=1)]: Done 300 out of 300 | elapsed:    0.5s finished\n",
      "[Parallel(n_jobs=1)]: Done 300 out of 300 | elapsed:  1.1min finished\n",
      "[Parallel(n_jobs=1)]: Done 300 out of 300 | elapsed:    4.0s finished\n",
      "[Parallel(n_jobs=1)]: Done 300 out of 300 | elapsed:    0.6s finished\n",
      "[Parallel(n_jobs=1)]: Done 300 out of 300 | elapsed:  1.3min finished\n",
      "[Parallel(n_jobs=1)]: Done 300 out of 300 | elapsed:    4.1s finished\n",
      "[Parallel(n_jobs=1)]: Done 300 out of 300 | elapsed:    0.5s finished\n",
      "[Parallel(n_jobs=1)]: Done 400 out of 400 | elapsed:   44.7s finished\n",
      "[Parallel(n_jobs=1)]: Done 400 out of 400 | elapsed:    4.8s finished\n",
      "[Parallel(n_jobs=1)]: Done 400 out of 400 | elapsed:    0.6s finished\n",
      "[Parallel(n_jobs=1)]: Done 400 out of 400 | elapsed:  1.0min finished\n",
      "[Parallel(n_jobs=1)]: Done 400 out of 400 | elapsed:    6.0s finished\n",
      "[Parallel(n_jobs=1)]: Done 400 out of 400 | elapsed:    0.7s finished\n",
      "[Parallel(n_jobs=1)]: Done 400 out of 400 | elapsed:  1.3min finished\n",
      "[Parallel(n_jobs=1)]: Done 400 out of 400 | elapsed:    5.2s finished\n",
      "[Parallel(n_jobs=1)]: Done 400 out of 400 | elapsed:    0.7s finished\n",
      "[Parallel(n_jobs=1)]: Done 400 out of 400 | elapsed:  1.5min finished\n",
      "[Parallel(n_jobs=1)]: Done 400 out of 400 | elapsed:    6.2s finished\n",
      "[Parallel(n_jobs=1)]: Done 400 out of 400 | elapsed:    0.8s finished\n",
      "[Parallel(n_jobs=1)]: Done 400 out of 400 | elapsed:  1.8min finished\n",
      "[Parallel(n_jobs=1)]: Done 400 out of 400 | elapsed:    5.7s finished\n",
      "[Parallel(n_jobs=1)]: Done 400 out of 400 | elapsed:    0.7s finished\n",
      "[Parallel(n_jobs=1)]: Done 500 out of 500 | elapsed:   57.6s finished\n",
      "[Parallel(n_jobs=1)]: Done 500 out of 500 | elapsed:    6.9s finished\n",
      "[Parallel(n_jobs=1)]: Done 500 out of 500 | elapsed:    0.9s finished\n",
      "[Parallel(n_jobs=1)]: Done 500 out of 500 | elapsed:  1.4min finished\n",
      "[Parallel(n_jobs=1)]: Done 500 out of 500 | elapsed:    6.8s finished\n",
      "[Parallel(n_jobs=1)]: Done 500 out of 500 | elapsed:    0.9s finished\n",
      "[Parallel(n_jobs=1)]: Done 500 out of 500 | elapsed:  1.7min finished\n",
      "[Parallel(n_jobs=1)]: Done 500 out of 500 | elapsed:    7.0s finished\n",
      "[Parallel(n_jobs=1)]: Done 500 out of 500 | elapsed:    1.0s finished\n",
      "[Parallel(n_jobs=1)]: Done 500 out of 500 | elapsed:  2.0min finished\n",
      "[Parallel(n_jobs=1)]: Done 500 out of 500 | elapsed:    7.1s finished\n",
      "[Parallel(n_jobs=1)]: Done 500 out of 500 | elapsed:    1.0s finished\n",
      "[Parallel(n_jobs=1)]: Done 500 out of 500 | elapsed:  2.4min finished\n",
      "[Parallel(n_jobs=1)]: Done 500 out of 500 | elapsed:    8.3s finished\n",
      "[Parallel(n_jobs=1)]: Done 500 out of 500 | elapsed:    1.1s finished\n"
     ]
    }
   ],
   "source": [
    "parameters = {'n_estimators': [100, 300, 400, 500] , 'max_depth':[25, 30, 35, 40, 45]}\n",
    "train_score = np.zeros((len(parameters['n_estimators']), len(parameters['max_depth'])))\n",
    "valid_score = np.zeros((len(parameters['n_estimators']), len(parameters['max_depth'])))\n",
    "\n",
    "for index_estim, n_estimators in enumerate(parameters['n_estimators']):\n",
    "    for index_depth, max_depth in enumerate(parameters['max_depth']):\n",
    "        rand_forest = RandomForestClassifier(n_estimators=n_estimators, max_depth=max_depth, verbose = 1)\n",
    "        rand_forest.fit(train_vectors, train_target)\n",
    "        train_score[index_estim, index_depth] = rand_forest.score(train_vectors, train_target)\n",
    "        valid_score[index_estim, index_depth] = rand_forest.score(valid_vectors, valid_target)"
   ]
  },
  {
   "cell_type": "markdown",
   "metadata": {},
   "source": [
    "The scores obtained for the training set and the test set are the following:"
   ]
  },
  {
   "cell_type": "code",
   "execution_count": 206,
   "metadata": {
    "scrolled": true
   },
   "outputs": [
    {
     "data": {
      "text/plain": [
       "array([[ 0.77889714,  0.78844115,  0.7990456 ,  0.79745493,  0.80965005],\n",
       "       [ 0.79374337,  0.81018028,  0.81972428,  0.81919406,  0.82502651],\n",
       "       [ 0.7921527 ,  0.81177094,  0.81654295,  0.82926829,  0.83297985],\n",
       "       [ 0.79321315,  0.81707317,  0.82396607,  0.82661718,  0.83191941]])"
      ]
     },
     "execution_count": 206,
     "metadata": {},
     "output_type": "execute_result"
    }
   ],
   "source": [
    "valid_score"
   ]
  },
  {
   "cell_type": "code",
   "execution_count": 207,
   "metadata": {},
   "outputs": [
    {
     "data": {
      "text/plain": [
       "array([[ 0.9225922 ,  0.94421597,  0.96113027,  0.97366676,  0.98023348],\n",
       "       [ 0.94235872,  0.96026798,  0.97174317,  0.9806978 ,  0.98640223],\n",
       "       [ 0.94229239,  0.96132927,  0.97273813,  0.98102945,  0.98726453],\n",
       "       [ 0.94733351,  0.9637835 ,  0.97459538,  0.98182542,  0.98772884]])"
      ]
     },
     "execution_count": 207,
     "metadata": {},
     "output_type": "execute_result"
    }
   ],
   "source": [
    "train_score"
   ]
  },
  {
   "cell_type": "markdown",
   "metadata": {},
   "source": [
    "#### Heat maps of the scores\n",
    "\n",
    "Now we plot both the validation score and the train score thanks to heat maps. The validation is going to help us choosing the combination of parameters that maximizes the mean accuracy. The train score heat map is just plot to confirm that the train error decreases as both the max tree depth and the number of trees increase."
   ]
  },
  {
   "cell_type": "code",
   "execution_count": 208,
   "metadata": {},
   "outputs": [
    {
     "data": {
      "text/plain": [
       "[25, 30, 35, 40, 45]"
      ]
     },
     "execution_count": 208,
     "metadata": {},
     "output_type": "execute_result"
    }
   ],
   "source": [
    "parameters['max_depth']"
   ]
  },
  {
   "cell_type": "code",
   "execution_count": 209,
   "metadata": {},
   "outputs": [
    {
     "data": {
      "text/plain": [
       "Text(0.5,1,'Train score')"
      ]
     },
     "execution_count": 209,
     "metadata": {},
     "output_type": "execute_result"
    },
    {
     "data": {
      "image/png": "[encoded data removed]",
      "text/plain": [
       "<matplotlib.figure.Figure at 0x7f9ddd76d390>"
      ]
     },
     "metadata": {},
     "output_type": "display_data"
    },
    {
     "data": {
      "image/png": "[encoded data removed]",
      "text/plain": [
       "<matplotlib.figure.Figure at 0x7f9ddd7390b8>"
      ]
     },
     "metadata": {},
     "output_type": "display_data"
    }
   ],
   "source": [
    "import matplotlib.ticker as ticker\n",
    "\n",
    "fig, ax = plt.subplots()\n",
    "# We need to draw the canvas, otherwise the labels won't be positioned and \n",
    "# won't have values yet.\n",
    "fig.canvas.draw()\n",
    "plt.imshow(valid_score, cmap='hot')\n",
    "ax.set_yticklabels([''] + parameters['n_estimators'])\n",
    "ax.set_xticklabels([''] + parameters['max_depth'])\n",
    "plt.xlabel('Max depth: ')\n",
    "plt.ylabel('Number of trees: ')\n",
    "ax.yaxis.set_major_locator(ticker.MultipleLocator(1))\n",
    "plt.title('Validation score')\n",
    "\n",
    "fig, ax = plt.subplots()\n",
    "# We need to draw the canvas, otherwise the labels won't be positioned and \n",
    "# won't have values yet.\n",
    "fig.canvas.draw()\n",
    "plt.imshow(train_score, cmap='hot')\n",
    "ax.set_yticklabels([''] + parameters['n_estimators'])\n",
    "ax.set_xticklabels([''] + parameters['max_depth'])\n",
    "plt.xlabel('Max depth: ')\n",
    "plt.ylabel('Number of trees: ')\n",
    "ax.yaxis.set_major_locator(ticker.MultipleLocator(1))\n",
    "plt.title('Train score')"
   ]
  },
  {
   "cell_type": "markdown",
   "metadata": {},
   "source": [
    "#### Parameter selection\n",
    "\n",
    "The cell below shows the best combination that yields the least validation error over the tested parameters:"
   ]
  },
  {
   "cell_type": "code",
   "execution_count": 210,
   "metadata": {},
   "outputs": [
    {
     "name": "stdout",
     "output_type": "stream",
     "text": [
      "The best number of trees is: 400\n",
      "The best maximal tree depth is: 45\n",
      "With a validation score of: 0.832979851538\n",
      "And a train score of: 0.9872645264\n"
     ]
    }
   ],
   "source": [
    "ravel_index = np.argmax(valid_score)\n",
    "best_n_estimators_index = int(ravel_index / valid_score.shape[1])\n",
    "best_max_depth_index = ravel_index % valid_score.shape[1]\n",
    "\n",
    "best_n_estimators = parameters['n_estimators'][best_n_estimators_index]\n",
    "best_max_depth = parameters['max_depth'][best_max_depth_index]\n",
    "\n",
    "print('The best number of trees is:', best_n_estimators)\n",
    "print('The best maximal tree depth is:', best_max_depth)\n",
    "print('With a validation score of:', valid_score[best_n_estimators_index, best_max_depth_index])\n",
    "print('And a train score of:', train_score[best_n_estimators_index, best_max_depth_index])"
   ]
  },
  {
   "cell_type": "markdown",
   "metadata": {},
   "source": [
    "#### Pseudo optimal random forest training\n",
    "\n",
    "Now we train again a random forest classifier on our training data with those pseudo optimal parameters in order to be able to carry out prediction with it."
   ]
  },
  {
   "cell_type": "code",
   "execution_count": null,
   "metadata": {
    "scrolled": true
   },
   "outputs": [],
   "source": [
    "opt_rand_forest = RandomForestClassifier(n_estimators=best_n_estimators, max_depth=best_max_depth, verbose = 1)\n",
    "opt_rand_forest.fit(train_vectors, train_target)"
   ]
  },
  {
   "cell_type": "markdown",
   "metadata": {},
   "source": [
    "#### Test score\n",
    "\n",
    "Now we are able to compute the score of the optimized random forest."
   ]
  },
  {
   "cell_type": "code",
   "execution_count": null,
   "metadata": {},
   "outputs": [],
   "source": [
    "test_score = opt_rand_forest.score(test_vectors, test_target)\n",
    "print('The test score is:', test_score)"
   ]
  },
  {
   "cell_type": "markdown",
   "metadata": {},
   "source": [
    "We can remark that the test score is less than both the validation and train scores. This is conformed with what we could expect given that the model is trained from train set and then "
   ]
  },
  {
   "cell_type": "code",
   "execution_count": null,
   "metadata": {},
   "outputs": [],
   "source": [
    "y_pred_test = opt_rand_forest.predict(test_vectors)\n",
    "confusion_matrix = sklearn.metrics.confusion_matrix(test_target, y_pred_test, labels=range(20), sample_weight=None)\n",
    "confusion_matrix.shape"
   ]
  },
  {
   "cell_type": "markdown",
   "metadata": {},
   "source": [
    "Here we modify the confusion matrix so that each of its rows are normalized according to the number of true elements of each label in the test set."
   ]
  },
  {
   "cell_type": "code",
   "execution_count": null,
   "metadata": {},
   "outputs": [],
   "source": [
    "div = confusion_matrix.sum(axis=1)\n",
    "div = np.column_stack([div]*20)\n",
    "normalized_confusion = confusion_matrix / div"
   ]
  },
  {
   "cell_type": "markdown",
   "metadata": {},
   "source": [
    "Now that the confusion matrix is normalized we plot it along with a dictionary of the class indices in order to better read the plot."
   ]
  },
  {
   "cell_type": "code",
   "execution_count": null,
   "metadata": {},
   "outputs": [],
   "source": [
    "labels = list(newsgroups.target_names)\n",
    "[print(x,'->',labels[x]) for x in range(20)]\n",
    "fig = plt.figure(figsize=(9, 9))\n",
    "ax = fig.add_subplot(111)\n",
    "plot = ax.matshow(normalized_confusion)\n",
    "fig.colorbar(plot)\n",
    "plt.title('Normalized confusion matrix of the Random Forest')\n",
    "plt.xlabel('Predicted')\n",
    "plt.ylabel('True')\n"
   ]
  },
  {
   "cell_type": "markdown",
   "metadata": {},
   "source": [
    "The confusion matrix graphically shows that the classifier is a good prediction model. Indeed we can see that the diagonal elements of the matrix show much higher ratios than the non diagonal elements. It shows that the number of true answers is quite high."
   ]
  },
  {
   "cell_type": "markdown",
   "metadata": {},
   "source": [
    "## Feature analyzis\n",
    "\n",
    "The idea now is to analyze the features that had the greatest important when constructing the decision trees of the random forest. Every feature is assigned a score in the `feature_importances_`'s attribute of RandomForest. Therefore we are going to use this attribute in order to get the words that were the most used in order to classify the newspapers."
   ]
  },
  {
   "cell_type": "code",
   "execution_count": 179,
   "metadata": {},
   "outputs": [
    {
     "data": {
      "text/plain": [
       "46061     0.005640\n",
       "165812    0.005572\n",
       "55485     0.005127\n",
       "65684     0.004817\n",
       "139570    0.004690\n",
       "80391     0.004252\n",
       "52100     0.004173\n",
       "85770     0.004093\n",
       "145613    0.003817\n",
       "92333     0.003498\n",
       "41895     0.003209\n",
       "44285     0.003203\n",
       "69924     0.003128\n",
       "116858    0.003078\n",
       "52328     0.003054\n",
       "54421     0.002999\n",
       "78332     0.002993\n",
       "82049     0.002770\n",
       "71043     0.002754\n",
       "151673    0.002704\n",
       "dtype: float64"
      ]
     },
     "execution_count": 179,
     "metadata": {},
     "output_type": "execute_result"
    }
   ],
   "source": [
    "feat_imp = opt_rand_forest.feature_importances_\n",
    "feat_serie = pd.Series(feat_imp)\n",
    "sorted_feat_serie = feat_serie.sort_values(ascending = False).head(20)\n",
    "sorted_feat_serie"
   ]
  },
  {
   "cell_type": "markdown",
   "metadata": {},
   "source": [
    "Above we have the 20 features that served the most for classifying the data. We are now going to retrieve the real English word behind the indices."
   ]
  },
  {
   "cell_type": "code",
   "execution_count": 180,
   "metadata": {},
   "outputs": [
    {
     "data": {
      "text/plain": [
       "['bike',\n",
       " 'windows',\n",
       " 'clipper',\n",
       " 'dod',\n",
       " 'sale',\n",
       " 'god',\n",
       " 'car',\n",
       " 'hockey',\n",
       " 'space',\n",
       " 'israel',\n",
       " 'athos',\n",
       " 'baseball',\n",
       " 'encryption',\n",
       " 'nhl',\n",
       " 'cars',\n",
       " 'christian',\n",
       " 'game',\n",
       " 'gun',\n",
       " 'escrow',\n",
       " 'team']"
      ]
     },
     "execution_count": 180,
     "metadata": {},
     "output_type": "execute_result"
    }
   ],
   "source": [
    "[vectorizer.get_feature_names()[x] for x in sorted_feat_serie.index]\n",
    "\n"
   ]
  },
  {
   "cell_type": "markdown",
   "metadata": {},
   "source": [
    "Therefore above we have the 20 features that helped the most classifying our dataset of documents in the 20 classes defined in `newsgroups.target_names`."
   ]
  }
 ],
 "metadata": {
  "kernelspec": {
   "display_name": "Python 3",
   "language": "python",
   "name": "python3"
  },
  "language_info": {
   "codemirror_mode": {
    "name": "ipython",
    "version": 3
   },
   "file_extension": ".py",
   "mimetype": "text/x-python",
   "name": "python",
   "nbconvert_exporter": "python",
   "pygments_lexer": "ipython3",
   "version": "3.6.3"
  }
 },
 "nbformat": 4,
 "nbformat_minor": 2
}
