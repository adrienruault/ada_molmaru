{
 "cells": [
  {
   "cell_type": "markdown",
   "metadata": {},
   "source": [
    "# Question 2: applied ML"
   ]
  },
  {
   "cell_type": "code",
   "execution_count": 5,
   "metadata": {
    "collapsed": true
   },
   "outputs": [],
   "source": [
    "import pandas as pd\n",
    "import numpy as np\n",
    "import seaborn as sns\n",
    "import matplotlib.mlab as mlab\n",
    "import sklearn.datasets\n",
    "import matplotlib.pyplot as plt\n",
    "import sklearn.linear_model as lm\n",
    "from sklearn.model_selection import cross_val_predict\n",
    "from sklearn.model_selection import cross_val_score\n",
    "from sklearn.datasets import fetch_20newsgroups\n",
    "from sklearn.feature_extraction.text import TfidfVectorizer\n",
    "from sklearn.ensemble import RandomForestClassifier\n",
    "from sklearn.naive_bayes import MultinomialNB\n",
    "from sklearn.model_selection import GridSearchCV\n",
    "from sklearn import metrics\n",
    "from pprint import pprint\n",
    "%matplotlib inline"
   ]
  },
  {
   "cell_type": "markdown",
   "metadata": {},
   "source": [
    "## Preprocessing of the newspaper dataset\n",
    "\n",
    "#### Loading of the newspaper dataset\n",
    "\n",
    "Firstly we load the newspaper standard dataset from the sklearn library and we print the newspapers categories (targets) that are used for classification in this problem."
   ]
  },
  {
   "cell_type": "code",
   "execution_count": 6,
   "metadata": {
    "scrolled": true
   },
   "outputs": [
    {
     "name": "stdout",
     "output_type": "stream",
     "text": [
      "<class 'sklearn.utils.Bunch'>\n",
      "['DESCR', 'data', 'description', 'filenames', 'target', 'target_names']\n"
     ]
    },
    {
     "data": {
      "text/plain": [
       "18846"
      ]
     },
     "execution_count": 6,
     "metadata": {},
     "output_type": "execute_result"
    }
   ],
   "source": [
    "newsgroups= fetch_20newsgroups(subset ='all')\n",
    "pprint(type(newsgroups))\n",
    "pprint(dir(newsgroups))\n",
    "len(newsgroups.target)"
   ]
  },
  {
   "cell_type": "markdown",
   "metadata": {},
   "source": [
    "#### Training, validation and test set generation\n",
    "\n",
    "In this part we randomly divide the dataset in three parts as follows:\n",
    "- Train set: constituting 80% of the original dataset\n",
    "- Validation set: constituting 10% of the original dataset\n",
    "- Test set: constituting 10% of the original dataset\n",
    "\n",
    "Firstly we get the number of data that will be in each set."
   ]
  },
  {
   "cell_type": "code",
   "execution_count": 7,
   "metadata": {
    "collapsed": true
   },
   "outputs": [],
   "source": [
    "train_ratio = 0.8\n",
    "test_ratio = 0.1\n",
    "valid_ratio = 0.1\n",
    "\n",
    "data_len = len(newsgroups.filenames)\n",
    "train_len = int(np.floor(train_ratio*data_len))\n",
    "test_len = int(np.floor(test_ratio*data_len))\n",
    "valid_len = int(data_len - (train_len + test_len))"
   ]
  },
  {
   "cell_type": "markdown",
   "metadata": {},
   "source": [
    "Then we use the shuffle function from the random package to shuffle indices and therefore to randomly attribute the observed data to each of the three subsets."
   ]
  },
  {
   "cell_type": "code",
   "execution_count": 8,
   "metadata": {
    "collapsed": true
   },
   "outputs": [],
   "source": [
    "from random import shuffle\n",
    "\n",
    "rand_articles = [i for i in range(data_len)]\n",
    "shuffle(rand_articles)\n",
    "\n",
    "train_subset = rand_articles[0:train_len]\n",
    "test_subset = rand_articles[train_len:train_len+test_len]\n",
    "valid_subset = rand_articles[train_len+test_len:]"
   ]
  },
  {
   "cell_type": "markdown",
   "metadata": {},
   "source": [
    "#### TF-IDF computation\n",
    "\n",
    "Now we compute the TF-IDF statistic for the newspaper dataset. To do so we use the `TfidfVectorizer()` function from the `sklearn` library."
   ]
  },
  {
   "cell_type": "code",
   "execution_count": 9,
   "metadata": {
    "collapsed": true
   },
   "outputs": [],
   "source": [
    "vectorizer = TfidfVectorizer()\n",
    "vectors = vectorizer.fit_transform(newsgroups.data)\n"
   ]
  },
  {
   "cell_type": "markdown",
   "metadata": {},
   "source": [
    "In the following part we just assign the vectors obtained in the previous step to the train, test and training set."
   ]
  },
  {
   "cell_type": "code",
   "execution_count": 10,
   "metadata": {
    "collapsed": true
   },
   "outputs": [],
   "source": [
    "train_vectors = vectors[train_subset,:]\n",
    "test_vectors = vectors[test_subset,:]\n",
    "valid_vectors = vectors[valid_subset,:]\n",
    "\n",
    "train_target = [newsgroups.target[w] for w in train_subset]\n",
    "test_target = [newsgroups.target[w] for w in test_subset]\n",
    "valid_target = [newsgroups.target[w] for w in valid_subset]"
   ]
  },
  {
   "cell_type": "markdown",
   "metadata": {},
   "source": [
    "## Random Forest Training \n",
    "\n",
    "#### Grid search\n",
    "\n",
    "Now we compute train a random forest classifier for different combination of parameters. The parameters that are investigated are:\n",
    "- The number of decision trees generated in order to build the random forest.\n",
    "- The maximum depth of each of those decision trees\n",
    "\n",
    "To do so we implement a grid search over the parameters. Therefore we train a random forest for each parameter combination in a two nested for loops. While training random forests for the different combinations of parameters we also compute the train score and the validation score. The validation score will be useful afterwards to select the parameter combination that yields the best prediction. \n",
    "\n",
    "The score computed in this part is the default score implemented in the sklearn classifier for Random Forests: it is the mean accuracy."
   ]
  },
  {
   "cell_type": "code",
   "execution_count": null,
   "metadata": {},
   "outputs": [],
   "source": [
    "parameters = {'n_estimators': [100, 300, 400, 500] , 'max_depth':[25, 30, 35, 40, 45]}\n",
    "train_score = np.zeros((len(parameters['n_estimators']), len(parameters['max_depth'])))\n",
    "valid_score = np.zeros((len(parameters['n_estimators']), len(parameters['max_depth'])))\n",
    "\n",
    "for index_estim, n_estimators in enumerate(parameters['n_estimators']):\n",
    "    for index_depth, max_depth in enumerate(parameters['max_depth']):\n",
    "        rand_forest = RandomForestClassifier(n_estimators=n_estimators, max_depth=max_depth, verbose = 1)\n",
    "        rand_forest.fit(train_vectors, train_target)\n",
    "        train_score[index_estim, index_depth] = rand_forest.score(train_vectors, train_target)\n",
    "        valid_score[index_estim, index_depth] = rand_forest.score(valid_vectors, valid_target)"
   ]
  },
  {
   "cell_type": "markdown",
   "metadata": {},
   "source": [
    "The scores obtained for the training set and the test set are the following:"
   ]
  },
  {
   "cell_type": "code",
   "execution_count": 170,
   "metadata": {
    "scrolled": true
   },
   "outputs": [
    {
     "data": {
      "text/plain": [
       "array([[ 0.78791092,  0.79639449,  0.80911983,  0.80752916,  0.83032874],\n",
       "       [ 0.81866384,  0.82290562,  0.83297985,  0.84623542,  0.83510074],\n",
       "       [ 0.8107105 ,  0.82661718,  0.83616119,  0.84040297,  0.84305408],\n",
       "       [ 0.81707317,  0.82767762,  0.83351007,  0.84146341,  0.84358431]])"
      ]
     },
     "execution_count": 170,
     "metadata": {},
     "output_type": "execute_result"
    }
   ],
   "source": [
    "valid_score"
   ]
  },
  {
   "cell_type": "code",
   "execution_count": 171,
   "metadata": {},
   "outputs": [
    {
     "data": {
      "text/plain": [
       "array([[ 0.92212789,  0.94229239,  0.96146193,  0.97187583,  0.97850889],\n",
       "       [ 0.93924118,  0.95986999,  0.96948793,  0.98049881,  0.9854736 ],\n",
       "       [ 0.94202706,  0.9588087 ,  0.97346776,  0.97943752,  0.98600425],\n",
       "       [ 0.94269037,  0.95927302,  0.97068188,  0.98023348,  0.98560626]])"
      ]
     },
     "execution_count": 171,
     "metadata": {},
     "output_type": "execute_result"
    }
   ],
   "source": [
    "train_score"
   ]
  },
  {
   "cell_type": "markdown",
   "metadata": {},
   "source": [
    "#### Heat maps of the scores\n",
    "\n",
    "Now we plot both the validation score and the train score thanks to heat maps. The validation is going to help us choosing the combination of parameters that maximizes the mean accuracy. The train score heat map is just plot to confirm that the train error decreases as both the max tree depth and the number of trees increase."
   ]
  },
  {
   "cell_type": "code",
   "execution_count": 47,
   "metadata": {},
   "outputs": [
    {
     "ename": "NameError",
     "evalue": "name 'valid_score' is not defined",
     "output_type": "error",
     "traceback": [
      "\u001b[0;31m---------------------------------------------------------------------------\u001b[0m",
      "\u001b[0;31mNameError\u001b[0m                                 Traceback (most recent call last)",
      "\u001b[0;32m<ipython-input-47-fee52118f624>\u001b[0m in \u001b[0;36m<module>\u001b[0;34m()\u001b[0m\n\u001b[1;32m      1\u001b[0m \u001b[0mplt\u001b[0m\u001b[0;34m.\u001b[0m\u001b[0mfigure\u001b[0m\u001b[0;34m(\u001b[0m\u001b[0;34m)\u001b[0m\u001b[0;34m\u001b[0m\u001b[0m\n\u001b[0;32m----> 2\u001b[0;31m \u001b[0mplt\u001b[0m\u001b[0;34m.\u001b[0m\u001b[0mimshow\u001b[0m\u001b[0;34m(\u001b[0m\u001b[0mvalid_score\u001b[0m\u001b[0;34m,\u001b[0m \u001b[0mcmap\u001b[0m\u001b[0;34m=\u001b[0m\u001b[0;34m'hot'\u001b[0m\u001b[0;34m)\u001b[0m\u001b[0;34m\u001b[0m\u001b[0m\n\u001b[0m\u001b[1;32m      3\u001b[0m \u001b[0mplt\u001b[0m\u001b[0;34m.\u001b[0m\u001b[0mxlabel\u001b[0m\u001b[0;34m(\u001b[0m\u001b[0;34m'depth'\u001b[0m\u001b[0;34m)\u001b[0m\u001b[0;34m\u001b[0m\u001b[0m\n\u001b[1;32m      4\u001b[0m \u001b[0mplt\u001b[0m\u001b[0;34m.\u001b[0m\u001b[0mylabel\u001b[0m\u001b[0;34m(\u001b[0m\u001b[0;34m'number of estimators'\u001b[0m\u001b[0;34m)\u001b[0m\u001b[0;34m\u001b[0m\u001b[0m\n\u001b[1;32m      5\u001b[0m \u001b[0mplt\u001b[0m\u001b[0;34m.\u001b[0m\u001b[0mtitle\u001b[0m\u001b[0;34m(\u001b[0m\u001b[0;34m'Validation score'\u001b[0m\u001b[0;34m)\u001b[0m\u001b[0;34m\u001b[0m\u001b[0m\n",
      "\u001b[0;31mNameError\u001b[0m: name 'valid_score' is not defined"
     ]
    },
    {
     "data": {
      "text/plain": [
       "<matplotlib.figure.Figure at 0x7f9dde9fb588>"
      ]
     },
     "metadata": {},
     "output_type": "display_data"
    }
   ],
   "source": [
    "plt.figure()\n",
    "plt.imshow(valid_score, cmap='hot')\n",
    "plt.xlabel('depth')\n",
    "plt.ylabel('number of estimators')\n",
    "plt.title('Validation score')\n",
    "#plt.xticks(parameters['max_depth'])\n",
    "#plt.yticks(parameters['n_estimators'])\n",
    "\n",
    "plt.figure()\n",
    "plt.imshow(train_score, cmap='hot')\n",
    "plt.xlabel('depth')\n",
    "plt.ylabel('number of estimators')\n",
    "plt.xlabel(parameters['n_estimators'])\n",
    "plt.title('Train score')"
   ]
  },
  {
   "cell_type": "markdown",
   "metadata": {},
   "source": [
    "#### Parameter selection\n",
    "\n",
    "The cell below show that over the tested parameters, the combination that yields the least validation error is:\n",
    "- Best number of trees: 300\n",
    "- Best maximal tree depth: 40"
   ]
  },
  {
   "cell_type": "code",
   "execution_count": 11,
   "metadata": {},
   "outputs": [
    {
     "ename": "NameError",
     "evalue": "name 'valid_score' is not defined",
     "output_type": "error",
     "traceback": [
      "\u001b[0;31m---------------------------------------------------------------------------\u001b[0m",
      "\u001b[0;31mNameError\u001b[0m                                 Traceback (most recent call last)",
      "\u001b[0;32m<ipython-input-11-bf1e711cdd92>\u001b[0m in \u001b[0;36m<module>\u001b[0;34m()\u001b[0m\n\u001b[0;32m----> 1\u001b[0;31m \u001b[0mravel_index\u001b[0m \u001b[0;34m=\u001b[0m \u001b[0mnp\u001b[0m\u001b[0;34m.\u001b[0m\u001b[0margmax\u001b[0m\u001b[0;34m(\u001b[0m\u001b[0mvalid_score\u001b[0m\u001b[0;34m)\u001b[0m\u001b[0;34m\u001b[0m\u001b[0m\n\u001b[0m\u001b[1;32m      2\u001b[0m \u001b[0mbest_n_estimators_index\u001b[0m \u001b[0;34m=\u001b[0m \u001b[0mint\u001b[0m\u001b[0;34m(\u001b[0m\u001b[0mravel_index\u001b[0m \u001b[0;34m/\u001b[0m \u001b[0mvalid_score\u001b[0m\u001b[0;34m.\u001b[0m\u001b[0mshape\u001b[0m\u001b[0;34m[\u001b[0m\u001b[0;36m1\u001b[0m\u001b[0;34m]\u001b[0m\u001b[0;34m)\u001b[0m\u001b[0;34m\u001b[0m\u001b[0m\n\u001b[1;32m      3\u001b[0m \u001b[0mbest_max_depth\u001b[0m \u001b[0;34m=\u001b[0m \u001b[0mravel_index\u001b[0m \u001b[0;34m%\u001b[0m \u001b[0mvalid_score\u001b[0m\u001b[0;34m.\u001b[0m\u001b[0mshape\u001b[0m\u001b[0;34m[\u001b[0m\u001b[0;36m1\u001b[0m\u001b[0;34m]\u001b[0m\u001b[0;34m\u001b[0m\u001b[0m\n\u001b[1;32m      4\u001b[0m \u001b[0;34m\u001b[0m\u001b[0m\n\u001b[1;32m      5\u001b[0m \u001b[0mbest_n_estimators\u001b[0m \u001b[0;34m=\u001b[0m \u001b[0mparameters\u001b[0m\u001b[0;34m[\u001b[0m\u001b[0;34m'n_estimators'\u001b[0m\u001b[0;34m]\u001b[0m\u001b[0;34m[\u001b[0m\u001b[0mbest_n_estimators_index\u001b[0m\u001b[0;34m]\u001b[0m\u001b[0;34m\u001b[0m\u001b[0m\n",
      "\u001b[0;31mNameError\u001b[0m: name 'valid_score' is not defined"
     ]
    }
   ],
   "source": [
    "ravel_index = np.argmax(valid_score)\n",
    "best_n_estimators_index = int(ravel_index / valid_score.shape[1])\n",
    "best_max_depth = ravel_index % valid_score.shape[1]\n",
    "\n",
    "best_n_estimators = parameters['n_estimators'][best_n_estimators_index]\n",
    "best_max_depth = parameters['max_depth'][best_max_depth]\n",
    "\n",
    "print('The best number of trees is:', best_n_estimators)\n",
    "print('The best maximal tree depth is:', best_max_depth)"
   ]
  },
  {
   "cell_type": "markdown",
   "metadata": {},
   "source": [
    "#### Pseudo optimal random forest training\n",
    "\n",
    "Now we train again a random forest classifier on our training data with those pseudo optimal parameters in order to be able to carry out prediction with it."
   ]
  },
  {
   "cell_type": "code",
   "execution_count": 13,
   "metadata": {
    "collapsed": true
   },
   "outputs": [],
   "source": [
    "best_n_estimators = 300\n",
    "best_max_depth = 40"
   ]
  },
  {
   "cell_type": "code",
   "execution_count": 14,
   "metadata": {
    "scrolled": true
   },
   "outputs": [
    {
     "name": "stderr",
     "output_type": "stream",
     "text": [
      "[Parallel(n_jobs=1)]: Done 300 out of 300 | elapsed:  1.2min finished\n"
     ]
    },
    {
     "data": {
      "text/plain": [
       "RandomForestClassifier(bootstrap=True, class_weight=None, criterion='gini',\n",
       "            max_depth=40, max_features='auto', max_leaf_nodes=None,\n",
       "            min_impurity_decrease=0.0, min_impurity_split=None,\n",
       "            min_samples_leaf=1, min_samples_split=2,\n",
       "            min_weight_fraction_leaf=0.0, n_estimators=300, n_jobs=1,\n",
       "            oob_score=False, random_state=None, verbose=1,\n",
       "            warm_start=False)"
      ]
     },
     "execution_count": 14,
     "metadata": {},
     "output_type": "execute_result"
    }
   ],
   "source": [
    "opt_rand_forest = RandomForestClassifier(n_estimators=best_n_estimators, max_depth=best_max_depth, verbose = 1)\n",
    "opt_rand_forest.fit(train_vectors, train_target)"
   ]
  },
  {
   "cell_type": "markdown",
   "metadata": {},
   "source": [
    "#### Test score\n",
    "\n",
    "Now we are able to compute the score of the optimized random forest."
   ]
  },
  {
   "cell_type": "code",
   "execution_count": 15,
   "metadata": {},
   "outputs": [
    {
     "name": "stderr",
     "output_type": "stream",
     "text": [
      "[Parallel(n_jobs=1)]: Done 300 out of 300 | elapsed:    0.7s finished\n"
     ]
    },
    {
     "data": {
      "text/plain": [
       "0.83651804670912955"
      ]
     },
     "execution_count": 15,
     "metadata": {},
     "output_type": "execute_result"
    }
   ],
   "source": [
    "test_score = opt_rand_forest.score(test_vectors, test_target)\n",
    "test_score"
   ]
  },
  {
   "cell_type": "code",
   "execution_count": 43,
   "metadata": {},
   "outputs": [
    {
     "name": "stderr",
     "output_type": "stream",
     "text": [
      "[Parallel(n_jobs=1)]: Done 300 out of 300 | elapsed:    0.6s finished\n"
     ]
    },
    {
     "data": {
      "text/plain": [
       "array([[ 68,   0,   0,   0,   0,   0,   2,   0,   0,   0,   0,   0,   0,\n",
       "          0,   0,   8,   0,   3,   0,   1],\n",
       "       [  0,  75,   7,   3,   2,   3,  11,   1,   0,   0,   0,   0,   1,\n",
       "          1,   2,   0,   1,   0,   0,   0],\n",
       "       [  0,   5, 107,   4,   0,   4,   3,   0,   0,   0,   0,   0,   0,\n",
       "          0,   2,   0,   0,   0,   0,   0],\n",
       "       [  0,   5,   4,  62,   6,   1,   7,   1,   0,   0,   0,   0,   3,\n",
       "          0,   0,   0,   0,   0,   0,   0],\n",
       "       [  0,   1,   3,   4,  75,   0,   7,   1,   0,   1,   0,   0,   0,\n",
       "          0,   0,   0,   0,   0,   0,   0],\n",
       "       [  0,   8,   1,   1,   0,  73,   2,   0,   0,   0,   0,   0,   0,\n",
       "          0,   1,   0,   0,   0,   0,   0],\n",
       "       [  0,   0,   2,   1,   0,   0,  86,   1,   1,   0,   0,   0,   0,\n",
       "          1,   0,   1,   0,   0,   0,   0],\n",
       "       [  0,   0,   0,   0,   0,   1,   5,  82,   2,   0,   0,   0,   1,\n",
       "          0,   2,   1,   0,   0,   0,   0],\n",
       "       [  0,   0,   0,   0,   0,   0,   7,   1,  97,   0,   0,   0,   0,\n",
       "          1,   0,   0,   1,   0,   0,   0],\n",
       "       [  0,   0,   0,   0,   0,   0,   1,   0,   0, 100,   4,   0,   0,\n",
       "          0,   0,   0,   0,   0,   0,   0],\n",
       "       [  0,   0,   0,   1,   0,   0,   0,   0,   0,   1,  93,   0,   0,\n",
       "          0,   0,   0,   0,   0,   0,   0],\n",
       "       [  0,   2,   0,   0,   0,   0,   0,   0,   0,   0,   0, 104,   0,\n",
       "          0,   0,   0,   0,   0,   0,   0],\n",
       "       [  0,   3,   0,   6,   6,   1,   6,   3,   0,   0,   0,   6,  60,\n",
       "          0,   4,   0,   1,   1,   0,   0],\n",
       "       [  0,   4,   0,   0,   0,   1,  10,   1,   0,   1,   0,   0,   3,\n",
       "         79,   1,   1,   1,   0,   0,   0],\n",
       "       [  0,   2,   0,   0,   1,   2,   0,   0,   0,   1,   0,   0,   0,\n",
       "          0,  83,   1,   0,   0,   0,   0],\n",
       "       [  1,   2,   0,   0,   0,   0,   5,   0,   0,   0,   0,   0,   1,\n",
       "          1,   0,  92,   0,   0,   0,   0],\n",
       "       [  0,   0,   0,   0,   0,   1,   2,   0,   2,   0,   0,   2,   1,\n",
       "          0,   0,   2,  68,   0,   0,   0],\n",
       "       [  2,   0,   0,   0,   0,   0,   2,   0,   0,   0,   0,   0,   0,\n",
       "          0,   0,   0,   0,  88,   0,   0],\n",
       "       [  1,   1,   2,   0,   0,   0,   2,   1,   0,   0,   0,   1,   1,\n",
       "          2,   1,   0,  13,   2,  58,   0],\n",
       "       [  7,   0,   0,   0,   0,   0,   1,   0,   1,   0,   1,   0,   0,\n",
       "          0,   0,  13,   6,   2,   0,  26]])"
      ]
     },
     "execution_count": 43,
     "metadata": {},
     "output_type": "execute_result"
    }
   ],
   "source": [
    "y_pred_test = opt_rand_forest.predict(test_vectors)\n",
    "confusion_matrix = sklearn.metrics.confusion_matrix(test_target, y_pred_test, labels=range(20), sample_weight=None)\n",
    "confusion_matrix"
   ]
  },
  {
   "cell_type": "code",
   "execution_count": 44,
   "metadata": {},
   "outputs": [
    {
     "data": {
      "text/plain": [
       "20"
      ]
     },
     "execution_count": 44,
     "metadata": {},
     "output_type": "execute_result"
    }
   ],
   "source": [
    "len(labels)"
   ]
  },
  {
   "cell_type": "code",
   "execution_count": 46,
   "metadata": {},
   "outputs": [
    {
     "name": "stdout",
     "output_type": "stream",
     "text": [
      "['alt.atheism', 'comp.graphics', 'comp.os.ms-windows.misc', 'comp.sys.ibm.pc.hardware', 'comp.sys.mac.hardware', 'comp.windows.x', 'misc.forsale', 'rec.autos', 'rec.motorcycles', 'rec.sport.baseball', 'rec.sport.hockey', 'sci.crypt', 'sci.electronics', 'sci.med', 'sci.space', 'soc.religion.christian', 'talk.politics.guns', 'talk.politics.mideast', 'talk.politics.misc', 'talk.religion.misc']\n"
     ]
    },
    {
     "ename": "AttributeError",
     "evalue": "'AxesImage' object has no attribute 'set_xticklabels'",
     "output_type": "error",
     "traceback": [
      "\u001b[0;31m---------------------------------------------------------------------------\u001b[0m",
      "\u001b[0;31mAttributeError\u001b[0m                            Traceback (most recent call last)",
      "\u001b[0;32m<ipython-input-46-d7d4f6a232b8>\u001b[0m in \u001b[0;36m<module>\u001b[0;34m()\u001b[0m\n\u001b[1;32m      8\u001b[0m \u001b[0mplt\u001b[0m\u001b[0;34m.\u001b[0m\u001b[0mxlabel\u001b[0m\u001b[0;34m(\u001b[0m\u001b[0;34m'Predicted'\u001b[0m\u001b[0;34m)\u001b[0m\u001b[0;34m\u001b[0m\u001b[0m\n\u001b[1;32m      9\u001b[0m \u001b[0mplt\u001b[0m\u001b[0;34m.\u001b[0m\u001b[0mylabel\u001b[0m\u001b[0;34m(\u001b[0m\u001b[0;34m'True'\u001b[0m\u001b[0;34m)\u001b[0m\u001b[0;34m\u001b[0m\u001b[0m\n\u001b[0;32m---> 10\u001b[0;31m \u001b[0mplot\u001b[0m\u001b[0;34m.\u001b[0m\u001b[0mset_xticklabels\u001b[0m\u001b[0;34m(\u001b[0m\u001b[0mlabels\u001b[0m\u001b[0;34m)\u001b[0m\u001b[0;34m\u001b[0m\u001b[0m\n\u001b[0m\u001b[1;32m     11\u001b[0m \u001b[0;31m#plt.xticks(['']+labels)\u001b[0m\u001b[0;34m\u001b[0m\u001b[0;34m\u001b[0m\u001b[0m\n",
      "\u001b[0;31mAttributeError\u001b[0m: 'AxesImage' object has no attribute 'set_xticklabels'"
     ]
    },
    {
     "data": {
      "image/png": "[encoded data removed]",
      "text/plain": [
       "<matplotlib.figure.Figure at 0x7f9de7b93128>"
      ]
     },
     "metadata": {},
     "output_type": "display_data"
    }
   ],
   "source": [
    "labels = list(newsgroups.target_names)\n",
    "print(labels)\n",
    "fig = plt.figure(figsize=(20, 20))\n",
    "ax = fig.add_subplot(111)\n",
    "plot = ax.matshow(confusion_matrix)\n",
    "fig.colorbar(plot)\n",
    "plt.title('Confusion matrix of the Random Forest')\n",
    "plt.xlabel('Predicted')\n",
    "plt.ylabel('True')\n",
    "plot.set_xticklabels(labels)\n",
    "#plt.xticks(['']+labels)"
   ]
  },
  {
   "cell_type": "code",
   "execution_count": 179,
   "metadata": {},
   "outputs": [
    {
     "data": {
      "text/plain": [
       "array([  3.46901256e-04,   1.95398905e-04,   3.76651028e-08, ...,\n",
       "         0.00000000e+00,   0.00000000e+00,   0.00000000e+00])"
      ]
     },
     "execution_count": 179,
     "metadata": {},
     "output_type": "execute_result"
    }
   ],
   "source": [
    "opt_rand_forest.feature_importances_"
   ]
  },
  {
   "cell_type": "code",
   "execution_count": null,
   "metadata": {
    "collapsed": true
   },
   "outputs": [],
   "source": []
  }
 ],
 "metadata": {
  "kernelspec": {
   "display_name": "Python 3",
   "language": "python",
   "name": "python3"
  },
  "language_info": {
   "codemirror_mode": {
    "name": "ipython",
    "version": 3
   },
   "file_extension": ".py",
   "mimetype": "text/x-python",
   "name": "python",
   "nbconvert_exporter": "python",
   "pygments_lexer": "ipython3",
   "version": "3.6.3"
  }
 },
 "nbformat": 4,
 "nbformat_minor": 2
}
