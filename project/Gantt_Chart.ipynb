{
 "cells": [
  {
   "cell_type": "markdown",
   "metadata": {},
   "source": [
    "run sudo pip install plotly --upgrade if you don't have plotly installed.\n",
    "\n",
    "If you use anaconda, check that you execute the previous command with your anaconda pip bin (e.g. anaconda/bin/pip)"
   ]
  },
  {
   "cell_type": "code",
   "execution_count": 178,
   "metadata": {},
   "outputs": [],
   "source": [
    "import plotly\n",
    "%matplotlib inline"
   ]
  },
  {
   "cell_type": "code",
   "execution_count": 179,
   "metadata": {},
   "outputs": [
    {
     "data": {
      "text/html": [
       "<script>requirejs.config({paths: { 'plotly': ['https://cdn.plot.ly/plotly-latest.min']},});if(!window.Plotly) {{require(['plotly'],function(plotly) {window.Plotly=plotly;});}}</script>"
      ],
      "text/vnd.plotly.v1+html": [
       "<script>requirejs.config({paths: { 'plotly': ['https://cdn.plot.ly/plotly-latest.min']},});if(!window.Plotly) {{require(['plotly'],function(plotly) {window.Plotly=plotly;});}}</script>"
      ]
     },
     "metadata": {},
     "output_type": "display_data"
    }
   ],
   "source": [
    "plotly.offline.init_notebook_mode(connected=True)"
   ]
  },
  {
   "cell_type": "code",
   "execution_count": 182,
   "metadata": {},
   "outputs": [
    {
     "data": {
      "application/vnd.plotly.v1+json": {
       "data": [
        {
         "marker": {
          "color": "white"
         },
         "name": "",
         "x": [
          "2017-10-27",
          "2017-10-31"
         ],
         "y": [
          0,
          0
         ]
        },
        {
         "marker": {
          "color": "white"
         },
         "name": "",
         "x": [
          "2017-11-01",
          "2017-11-08"
         ],
         "y": [
          1,
          1
         ]
        },
        {
         "marker": {
          "color": "white"
         },
         "name": "",
         "x": [
          "2017-11-08",
          "2017-11-15"
         ],
         "y": [
          2,
          2
         ]
        },
        {
         "marker": {
          "color": "white"
         },
         "name": "",
         "x": [
          "2017-11-15",
          "2017-11-23"
         ],
         "y": [
          3,
          3
         ]
        },
        {
         "marker": {
          "color": "white"
         },
         "name": "",
         "x": [
          "2017-11-20",
          "2017-11-27"
         ],
         "y": [
          4,
          4
         ]
        },
        {
         "marker": {
          "color": "white"
         },
         "name": "",
         "x": [
          "2017-11-23",
          "2017-11-28"
         ],
         "y": [
          5,
          5
         ]
        },
        {
         "marker": {
          "color": "white"
         },
         "name": "",
         "x": [
          "2017-11-28",
          "2017-12-05"
         ],
         "y": [
          6,
          6
         ]
        },
        {
         "marker": {
          "color": "white"
         },
         "name": "",
         "x": [
          "2017-12-01",
          "2017-12-08"
         ],
         "y": [
          7,
          7
         ]
        },
        {
         "marker": {
          "color": "white"
         },
         "name": "",
         "x": [
          "2017-12-08",
          "2017-12-19"
         ],
         "y": [
          8,
          8
         ]
        },
        {
         "marker": {
          "color": "white"
         },
         "name": "",
         "x": [
          "2017-12-05",
          "2017-12-19"
         ],
         "y": [
          9,
          9
         ]
        },
        {
         "hoverinfo": "none",
         "marker": {
          "color": "rgb(232, 6, 6)",
          "size": 1
         },
         "name": "Interactive Map",
         "showlegend": true,
         "x": [
          "2017-12-05",
          "2017-12-05"
         ],
         "y": [
          0,
          0
         ]
        },
        {
         "hoverinfo": "none",
         "marker": {
          "color": "rgb(3, 191, 100)",
          "size": 1
         },
         "name": "Query Dev",
         "showlegend": true,
         "x": [
          "2017-12-05",
          "2017-12-05"
         ],
         "y": [
          1,
          1
         ]
        },
        {
         "hoverinfo": "none",
         "marker": {
          "color": "rgb(130, 205, 255)",
          "size": 1
         },
         "name": "Submissions",
         "showlegend": true,
         "x": [
          "2017-12-05",
          "2017-12-05"
         ],
         "y": [
          2,
          2
         ]
        }
       ],
       "layout": {
        "height": 600,
        "hovermode": "closest",
        "shapes": [
         {
          "fillcolor": "rgb(130, 205, 255)",
          "line": {
           "width": 0
          },
          "opacity": 1,
          "type": "rect",
          "x0": "2017-10-27",
          "x1": "2017-10-31",
          "xref": "x",
          "y0": -0.2,
          "y1": 0.2,
          "yref": "y"
         },
         {
          "fillcolor": "rgb(3, 191, 100)",
          "line": {
           "width": 0
          },
          "opacity": 1,
          "type": "rect",
          "x0": "2017-11-01",
          "x1": "2017-11-08",
          "xref": "x",
          "y0": 0.8,
          "y1": 1.2,
          "yref": "y"
         },
         {
          "fillcolor": "rgb(232, 6, 6)",
          "line": {
           "width": 0
          },
          "opacity": 1,
          "type": "rect",
          "x0": "2017-11-08",
          "x1": "2017-11-15",
          "xref": "x",
          "y0": 1.8,
          "y1": 2.2,
          "yref": "y"
         },
         {
          "fillcolor": "rgb(3, 191, 100)",
          "line": {
           "width": 0
          },
          "opacity": 1,
          "type": "rect",
          "x0": "2017-11-15",
          "x1": "2017-11-23",
          "xref": "x",
          "y0": 2.8,
          "y1": 3.2,
          "yref": "y"
         },
         {
          "fillcolor": "rgb(232, 6, 6)",
          "line": {
           "width": 0
          },
          "opacity": 1,
          "type": "rect",
          "x0": "2017-11-20",
          "x1": "2017-11-27",
          "xref": "x",
          "y0": 3.8,
          "y1": 4.2,
          "yref": "y"
         },
         {
          "fillcolor": "rgb(3, 191, 100)",
          "line": {
           "width": 0
          },
          "opacity": 1,
          "type": "rect",
          "x0": "2017-11-23",
          "x1": "2017-11-28",
          "xref": "x",
          "y0": 4.8,
          "y1": 5.2,
          "yref": "y"
         },
         {
          "fillcolor": "rgb(232, 6, 6)",
          "line": {
           "width": 0
          },
          "opacity": 1,
          "type": "rect",
          "x0": "2017-11-28",
          "x1": "2017-12-05",
          "xref": "x",
          "y0": 5.8,
          "y1": 6.2,
          "yref": "y"
         },
         {
          "fillcolor": "rgb(3, 191, 100)",
          "line": {
           "width": 0
          },
          "opacity": 1,
          "type": "rect",
          "x0": "2017-12-01",
          "x1": "2017-12-08",
          "xref": "x",
          "y0": 6.8,
          "y1": 7.2,
          "yref": "y"
         },
         {
          "fillcolor": "rgb(232, 6, 6)",
          "line": {
           "width": 0
          },
          "opacity": 1,
          "type": "rect",
          "x0": "2017-12-08",
          "x1": "2017-12-19",
          "xref": "x",
          "y0": 7.8,
          "y1": 8.2,
          "yref": "y"
         },
         {
          "fillcolor": "rgb(130, 205, 255)",
          "line": {
           "width": 0
          },
          "opacity": 1,
          "type": "rect",
          "x0": "2017-12-05",
          "x1": "2017-12-19",
          "xref": "x",
          "y0": 8.8,
          "y1": 9.2,
          "yref": "y"
         }
        ],
        "showlegend": true,
        "title": "Gantt Chart",
        "width": 900,
        "xaxis": {
         "rangeselector": {
          "buttons": [
           {
            "count": 7,
            "label": "1w",
            "step": "day",
            "stepmode": "backward"
           },
           {
            "count": 1,
            "label": "1m",
            "step": "month",
            "stepmode": "backward"
           },
           {
            "count": 6,
            "label": "6m",
            "step": "month",
            "stepmode": "backward"
           },
           {
            "count": 1,
            "label": "YTD",
            "step": "year",
            "stepmode": "todate"
           },
           {
            "count": 1,
            "label": "1y",
            "step": "year",
            "stepmode": "backward"
           },
           {
            "step": "all"
           }
          ]
         },
         "showgrid": false,
         "type": "date",
         "zeroline": false
        },
        "yaxis": {
         "autorange": false,
         "range": [
          -1,
          11
         ],
         "showgrid": false,
         "ticktext": [
          "Project Definition",
          "Simple Queries",
          "Map Pointers",
          "Macroscopic Queries",
          "Density Map",
          "Connection Queries",
          "Connection Map",
          "Macroscopic connections",
          "Map Finalization",
          "Report Writing"
         ],
         "tickvals": [
          0,
          1,
          2,
          3,
          4,
          5,
          6,
          7,
          8,
          9
         ],
         "zeroline": false
        }
       }
      },
      "text/html": [
       "<div id=\"963152f1-28e3-41b2-a64e-463060f21a94\" style=\"height: 600px; width: 900px;\" class=\"plotly-graph-div\"></div><script type=\"text/javascript\">require([\"plotly\"], function(Plotly) { window.PLOTLYENV=window.PLOTLYENV || {};window.PLOTLYENV.BASE_URL=\"https://plot.ly\";Plotly.newPlot(\"963152f1-28e3-41b2-a64e-463060f21a94\", [{\"x\": [\"2017-10-27\", \"2017-10-31\"], \"y\": [0, 0], \"name\": \"\", \"marker\": {\"color\": \"white\"}}, {\"x\": [\"2017-11-01\", \"2017-11-08\"], \"y\": [1, 1], \"name\": \"\", \"marker\": {\"color\": \"white\"}}, {\"x\": [\"2017-11-08\", \"2017-11-15\"], \"y\": [2, 2], \"name\": \"\", \"marker\": {\"color\": \"white\"}}, {\"x\": [\"2017-11-15\", \"2017-11-23\"], \"y\": [3, 3], \"name\": \"\", \"marker\": {\"color\": \"white\"}}, {\"x\": [\"2017-11-20\", \"2017-11-27\"], \"y\": [4, 4], \"name\": \"\", \"marker\": {\"color\": \"white\"}}, {\"x\": [\"2017-11-23\", \"2017-11-28\"], \"y\": [5, 5], \"name\": \"\", \"marker\": {\"color\": \"white\"}}, {\"x\": [\"2017-11-28\", \"2017-12-05\"], \"y\": [6, 6], \"name\": \"\", \"marker\": {\"color\": \"white\"}}, {\"x\": [\"2017-12-01\", \"2017-12-08\"], \"y\": [7, 7], \"name\": \"\", \"marker\": {\"color\": \"white\"}}, {\"x\": [\"2017-12-08\", \"2017-12-19\"], \"y\": [8, 8], \"name\": \"\", \"marker\": {\"color\": \"white\"}}, {\"x\": [\"2017-12-05\", \"2017-12-19\"], \"y\": [9, 9], \"name\": \"\", \"marker\": {\"color\": \"white\"}}, {\"x\": [\"2017-12-05\", \"2017-12-05\"], \"y\": [0, 0], \"showlegend\": true, \"name\": \"Interactive Map\", \"hoverinfo\": \"none\", \"marker\": {\"color\": \"rgb(232, 6, 6)\", \"size\": 1}}, {\"x\": [\"2017-12-05\", \"2017-12-05\"], \"y\": [1, 1], \"showlegend\": true, \"name\": \"Query Dev\", \"hoverinfo\": \"none\", \"marker\": {\"color\": \"rgb(3, 191, 100)\", \"size\": 1}}, {\"x\": [\"2017-12-05\", \"2017-12-05\"], \"y\": [2, 2], \"showlegend\": true, \"name\": \"Submissions\", \"hoverinfo\": \"none\", \"marker\": {\"color\": \"rgb(130, 205, 255)\", \"size\": 1}}], {\"title\": \"Gantt Chart\", \"showlegend\": true, \"height\": 600, \"width\": 900, \"shapes\": [{\"x0\": \"2017-10-27\", \"x1\": \"2017-10-31\", \"type\": \"rect\", \"xref\": \"x\", \"yref\": \"y\", \"opacity\": 1, \"line\": {\"width\": 0}, \"y0\": -0.2, \"y1\": 0.2, \"fillcolor\": \"rgb(130, 205, 255)\"}, {\"x0\": \"2017-11-01\", \"x1\": \"2017-11-08\", \"type\": \"rect\", \"xref\": \"x\", \"yref\": \"y\", \"opacity\": 1, \"line\": {\"width\": 0}, \"y0\": 0.8, \"y1\": 1.2, \"fillcolor\": \"rgb(3, 191, 100)\"}, {\"x0\": \"2017-11-08\", \"x1\": \"2017-11-15\", \"type\": \"rect\", \"xref\": \"x\", \"yref\": \"y\", \"opacity\": 1, \"line\": {\"width\": 0}, \"y0\": 1.8, \"y1\": 2.2, \"fillcolor\": \"rgb(232, 6, 6)\"}, {\"x0\": \"2017-11-15\", \"x1\": \"2017-11-23\", \"type\": \"rect\", \"xref\": \"x\", \"yref\": \"y\", \"opacity\": 1, \"line\": {\"width\": 0}, \"y0\": 2.8, \"y1\": 3.2, \"fillcolor\": \"rgb(3, 191, 100)\"}, {\"x0\": \"2017-11-20\", \"x1\": \"2017-11-27\", \"type\": \"rect\", \"xref\": \"x\", \"yref\": \"y\", \"opacity\": 1, \"line\": {\"width\": 0}, \"y0\": 3.8, \"y1\": 4.2, \"fillcolor\": \"rgb(232, 6, 6)\"}, {\"x0\": \"2017-11-23\", \"x1\": \"2017-11-28\", \"type\": \"rect\", \"xref\": \"x\", \"yref\": \"y\", \"opacity\": 1, \"line\": {\"width\": 0}, \"y0\": 4.8, \"y1\": 5.2, \"fillcolor\": \"rgb(3, 191, 100)\"}, {\"x0\": \"2017-11-28\", \"x1\": \"2017-12-05\", \"type\": \"rect\", \"xref\": \"x\", \"yref\": \"y\", \"opacity\": 1, \"line\": {\"width\": 0}, \"y0\": 5.8, \"y1\": 6.2, \"fillcolor\": \"rgb(232, 6, 6)\"}, {\"x0\": \"2017-12-01\", \"x1\": \"2017-12-08\", \"type\": \"rect\", \"xref\": \"x\", \"yref\": \"y\", \"opacity\": 1, \"line\": {\"width\": 0}, \"y0\": 6.8, \"y1\": 7.2, \"fillcolor\": \"rgb(3, 191, 100)\"}, {\"x0\": \"2017-12-08\", \"x1\": \"2017-12-19\", \"type\": \"rect\", \"xref\": \"x\", \"yref\": \"y\", \"opacity\": 1, \"line\": {\"width\": 0}, \"y0\": 7.8, \"y1\": 8.2, \"fillcolor\": \"rgb(232, 6, 6)\"}, {\"x0\": \"2017-12-05\", \"x1\": \"2017-12-19\", \"type\": \"rect\", \"xref\": \"x\", \"yref\": \"y\", \"opacity\": 1, \"line\": {\"width\": 0}, \"y0\": 8.8, \"y1\": 9.2, \"fillcolor\": \"rgb(130, 205, 255)\"}], \"hovermode\": \"closest\", \"yaxis\": {\"showgrid\": false, \"ticktext\": [\"Project Definition\", \"Simple Queries\", \"Map Pointers\", \"Macroscopic Queries\", \"Density Map\", \"Connection Queries\", \"Connection Map\", \"Macroscopic connections\", \"Map Finalization\", \"Report Writing\"], \"tickvals\": [0, 1, 2, 3, 4, 5, 6, 7, 8, 9], \"range\": [-1, 11], \"autorange\": false, \"zeroline\": false}, \"xaxis\": {\"showgrid\": false, \"zeroline\": false, \"rangeselector\": {\"buttons\": [{\"count\": 7, \"label\": \"1w\", \"step\": \"day\", \"stepmode\": \"backward\"}, {\"count\": 1, \"label\": \"1m\", \"step\": \"month\", \"stepmode\": \"backward\"}, {\"count\": 6, \"label\": \"6m\", \"step\": \"month\", \"stepmode\": \"backward\"}, {\"count\": 1, \"label\": \"YTD\", \"step\": \"year\", \"stepmode\": \"todate\"}, {\"count\": 1, \"label\": \"1y\", \"step\": \"year\", \"stepmode\": \"backward\"}, {\"step\": \"all\"}]}, \"type\": \"date\"}}, {\"showLink\": true, \"linkText\": \"Export to plot.ly\"})});</script>"
      ],
      "text/vnd.plotly.v1+html": [
       "<div id=\"963152f1-28e3-41b2-a64e-463060f21a94\" style=\"height: 600px; width: 900px;\" class=\"plotly-graph-div\"></div><script type=\"text/javascript\">require([\"plotly\"], function(Plotly) { window.PLOTLYENV=window.PLOTLYENV || {};window.PLOTLYENV.BASE_URL=\"https://plot.ly\";Plotly.newPlot(\"963152f1-28e3-41b2-a64e-463060f21a94\", [{\"x\": [\"2017-10-27\", \"2017-10-31\"], \"y\": [0, 0], \"name\": \"\", \"marker\": {\"color\": \"white\"}}, {\"x\": [\"2017-11-01\", \"2017-11-08\"], \"y\": [1, 1], \"name\": \"\", \"marker\": {\"color\": \"white\"}}, {\"x\": [\"2017-11-08\", \"2017-11-15\"], \"y\": [2, 2], \"name\": \"\", \"marker\": {\"color\": \"white\"}}, {\"x\": [\"2017-11-15\", \"2017-11-23\"], \"y\": [3, 3], \"name\": \"\", \"marker\": {\"color\": \"white\"}}, {\"x\": [\"2017-11-20\", \"2017-11-27\"], \"y\": [4, 4], \"name\": \"\", \"marker\": {\"color\": \"white\"}}, {\"x\": [\"2017-11-23\", \"2017-11-28\"], \"y\": [5, 5], \"name\": \"\", \"marker\": {\"color\": \"white\"}}, {\"x\": [\"2017-11-28\", \"2017-12-05\"], \"y\": [6, 6], \"name\": \"\", \"marker\": {\"color\": \"white\"}}, {\"x\": [\"2017-12-01\", \"2017-12-08\"], \"y\": [7, 7], \"name\": \"\", \"marker\": {\"color\": \"white\"}}, {\"x\": [\"2017-12-08\", \"2017-12-19\"], \"y\": [8, 8], \"name\": \"\", \"marker\": {\"color\": \"white\"}}, {\"x\": [\"2017-12-05\", \"2017-12-19\"], \"y\": [9, 9], \"name\": \"\", \"marker\": {\"color\": \"white\"}}, {\"x\": [\"2017-12-05\", \"2017-12-05\"], \"y\": [0, 0], \"showlegend\": true, \"name\": \"Interactive Map\", \"hoverinfo\": \"none\", \"marker\": {\"color\": \"rgb(232, 6, 6)\", \"size\": 1}}, {\"x\": [\"2017-12-05\", \"2017-12-05\"], \"y\": [1, 1], \"showlegend\": true, \"name\": \"Query Dev\", \"hoverinfo\": \"none\", \"marker\": {\"color\": \"rgb(3, 191, 100)\", \"size\": 1}}, {\"x\": [\"2017-12-05\", \"2017-12-05\"], \"y\": [2, 2], \"showlegend\": true, \"name\": \"Submissions\", \"hoverinfo\": \"none\", \"marker\": {\"color\": \"rgb(130, 205, 255)\", \"size\": 1}}], {\"title\": \"Gantt Chart\", \"showlegend\": true, \"height\": 600, \"width\": 900, \"shapes\": [{\"x0\": \"2017-10-27\", \"x1\": \"2017-10-31\", \"type\": \"rect\", \"xref\": \"x\", \"yref\": \"y\", \"opacity\": 1, \"line\": {\"width\": 0}, \"y0\": -0.2, \"y1\": 0.2, \"fillcolor\": \"rgb(130, 205, 255)\"}, {\"x0\": \"2017-11-01\", \"x1\": \"2017-11-08\", \"type\": \"rect\", \"xref\": \"x\", \"yref\": \"y\", \"opacity\": 1, \"line\": {\"width\": 0}, \"y0\": 0.8, \"y1\": 1.2, \"fillcolor\": \"rgb(3, 191, 100)\"}, {\"x0\": \"2017-11-08\", \"x1\": \"2017-11-15\", \"type\": \"rect\", \"xref\": \"x\", \"yref\": \"y\", \"opacity\": 1, \"line\": {\"width\": 0}, \"y0\": 1.8, \"y1\": 2.2, \"fillcolor\": \"rgb(232, 6, 6)\"}, {\"x0\": \"2017-11-15\", \"x1\": \"2017-11-23\", \"type\": \"rect\", \"xref\": \"x\", \"yref\": \"y\", \"opacity\": 1, \"line\": {\"width\": 0}, \"y0\": 2.8, \"y1\": 3.2, \"fillcolor\": \"rgb(3, 191, 100)\"}, {\"x0\": \"2017-11-20\", \"x1\": \"2017-11-27\", \"type\": \"rect\", \"xref\": \"x\", \"yref\": \"y\", \"opacity\": 1, \"line\": {\"width\": 0}, \"y0\": 3.8, \"y1\": 4.2, \"fillcolor\": \"rgb(232, 6, 6)\"}, {\"x0\": \"2017-11-23\", \"x1\": \"2017-11-28\", \"type\": \"rect\", \"xref\": \"x\", \"yref\": \"y\", \"opacity\": 1, \"line\": {\"width\": 0}, \"y0\": 4.8, \"y1\": 5.2, \"fillcolor\": \"rgb(3, 191, 100)\"}, {\"x0\": \"2017-11-28\", \"x1\": \"2017-12-05\", \"type\": \"rect\", \"xref\": \"x\", \"yref\": \"y\", \"opacity\": 1, \"line\": {\"width\": 0}, \"y0\": 5.8, \"y1\": 6.2, \"fillcolor\": \"rgb(232, 6, 6)\"}, {\"x0\": \"2017-12-01\", \"x1\": \"2017-12-08\", \"type\": \"rect\", \"xref\": \"x\", \"yref\": \"y\", \"opacity\": 1, \"line\": {\"width\": 0}, \"y0\": 6.8, \"y1\": 7.2, \"fillcolor\": \"rgb(3, 191, 100)\"}, {\"x0\": \"2017-12-08\", \"x1\": \"2017-12-19\", \"type\": \"rect\", \"xref\": \"x\", \"yref\": \"y\", \"opacity\": 1, \"line\": {\"width\": 0}, \"y0\": 7.8, \"y1\": 8.2, \"fillcolor\": \"rgb(232, 6, 6)\"}, {\"x0\": \"2017-12-05\", \"x1\": \"2017-12-19\", \"type\": \"rect\", \"xref\": \"x\", \"yref\": \"y\", \"opacity\": 1, \"line\": {\"width\": 0}, \"y0\": 8.8, \"y1\": 9.2, \"fillcolor\": \"rgb(130, 205, 255)\"}], \"hovermode\": \"closest\", \"yaxis\": {\"showgrid\": false, \"ticktext\": [\"Project Definition\", \"Simple Queries\", \"Map Pointers\", \"Macroscopic Queries\", \"Density Map\", \"Connection Queries\", \"Connection Map\", \"Macroscopic connections\", \"Map Finalization\", \"Report Writing\"], \"tickvals\": [0, 1, 2, 3, 4, 5, 6, 7, 8, 9], \"range\": [-1, 11], \"autorange\": false, \"zeroline\": false}, \"xaxis\": {\"showgrid\": false, \"zeroline\": false, \"rangeselector\": {\"buttons\": [{\"count\": 7, \"label\": \"1w\", \"step\": \"day\", \"stepmode\": \"backward\"}, {\"count\": 1, \"label\": \"1m\", \"step\": \"month\", \"stepmode\": \"backward\"}, {\"count\": 6, \"label\": \"6m\", \"step\": \"month\", \"stepmode\": \"backward\"}, {\"count\": 1, \"label\": \"YTD\", \"step\": \"year\", \"stepmode\": \"todate\"}, {\"count\": 1, \"label\": \"1y\", \"step\": \"year\", \"stepmode\": \"backward\"}, {\"step\": \"all\"}]}, \"type\": \"date\"}}, {\"showLink\": true, \"linkText\": \"Export to plot.ly\"})});</script>"
      ]
     },
     "metadata": {},
     "output_type": "display_data"
    },
    {
     "data": {
      "text/plain": [
       "<module 'plotly' from '/usr/local/anaconda3/lib/python3.6/site-packages/plotly/__init__.py'>"
      ]
     },
     "execution_count": 182,
     "metadata": {},
     "output_type": "execute_result"
    }
   ],
   "source": [
    "import plotly.plotly as py\n",
    "import plotly.figure_factory as ff\n",
    "\n",
    "df = [dict(Task=\"Project Definition\", Start='2017-10-27', Finish='2017-10-31', Resource='Submissions'),\n",
    "      dict(Task=\"Simple Queries\", Start='2017-11-01', Finish='2017-11-08', Resource='Query Dev'),\n",
    "      dict(Task=\"Map Pointers\", Start='2017-11-08', Finish='2017-11-15', Resource='Interactive Map'),\n",
    "      dict(Task=\"Macroscopic Queries\", Start='2017-11-15', Finish='2017-11-23',Resource='Query Dev'),\n",
    "      dict(Task=\"Density Map\", Start='2017-11-20', Finish='2017-11-27',Resource='Interactive Map'),\n",
    "      dict(Task=\"Connection Queries\", Start='2017-11-23', Finish='2017-11-28', Resource='Query Dev'),\n",
    "      dict(Task=\"Connection Map\", Start='2017-11-28', Finish='2017-12-05',Resource='Interactive Map'),\n",
    "      dict(Task=\"Macroscopic connections\", Start='2017-12-01', Finish='2017-12-08', Resource='Query Dev'),\n",
    "      dict(Task=\"Map Finalization\", Start='2017-12-08', Finish='2017-12-19', Resource='Interactive Map'),\n",
    "      dict(Task=\"Report Writing\", Start='2017-12-05', Finish='2017-12-19', Resource='Submissions')]\n",
    "\n",
    "\n",
    "\n",
    "#colors = ['#e80606','#03bf64','#82cdff','#03bf64','#82cdff','#03bf64','#82cdff','#03bf64','#82cdff','#e80606']\n",
    "\n",
    "colors = ['#e80606','#03bf64','#82cdff']\n",
    "\n",
    "fig = ff.create_gantt(df,task_names='fjizj',colors=colors,index_col='Resource',show_colorbar=True)\n",
    "\n",
    "plotly.offline.iplot(fig, filename='gantt-simple-gantt-chart')\n",
    "plotly"
   ]
  },
  {
   "cell_type": "code",
   "execution_count": null,
   "metadata": {},
   "outputs": [],
   "source": []
  },
  {
   "cell_type": "code",
   "execution_count": 181,
   "metadata": {
    "scrolled": false
   },
   "outputs": [
    {
     "data": {
      "application/vnd.plotly.v1+json": {
       "data": [
        {
         "marker": {
          "color": "white"
         },
         "name": "",
         "type": "scatter",
         "x": [
          "2017-10-27",
          "2017-10-31"
         ],
         "y": [
          0,
          0
         ]
        },
        {
         "marker": {
          "color": "white"
         },
         "name": "",
         "type": "scatter",
         "x": [
          "2017-11-01",
          "2017-11-08"
         ],
         "y": [
          1,
          1
         ]
        },
        {
         "marker": {
          "color": "white"
         },
         "name": "",
         "type": "scatter",
         "x": [
          "2017-11-08",
          "2017-11-15"
         ],
         "y": [
          2,
          2
         ]
        },
        {
         "marker": {
          "color": "white"
         },
         "name": "",
         "type": "scatter",
         "x": [
          "2017-11-15",
          "2017-11-23"
         ],
         "y": [
          3,
          3
         ]
        },
        {
         "marker": {
          "color": "white"
         },
         "name": "",
         "type": "scatter",
         "x": [
          "2017-11-20",
          "2017-11-27"
         ],
         "y": [
          4,
          4
         ]
        },
        {
         "marker": {
          "color": "white"
         },
         "name": "",
         "type": "scatter",
         "x": [
          "2017-11-23",
          "2017-11-28"
         ],
         "y": [
          5,
          5
         ]
        },
        {
         "marker": {
          "color": "white"
         },
         "name": "",
         "type": "scatter",
         "x": [
          "2017-11-28",
          "2017-12-05"
         ],
         "y": [
          6,
          6
         ]
        },
        {
         "marker": {
          "color": "white"
         },
         "name": "",
         "type": "scatter",
         "x": [
          "2017-12-01",
          "2017-12-08"
         ],
         "y": [
          7,
          7
         ]
        },
        {
         "marker": {
          "color": "white"
         },
         "name": "",
         "type": "scatter",
         "x": [
          "2017-12-08",
          "2017-12-19"
         ],
         "y": [
          8,
          8
         ]
        },
        {
         "marker": {
          "color": "white"
         },
         "name": "",
         "type": "scatter",
         "x": [
          "2017-12-05",
          "2017-12-19"
         ],
         "y": [
          9,
          9
         ]
        }
       ],
       "layout": {
        "height": 600,
        "hovermode": "closest",
        "margin": {
         "l": 150
        },
        "shapes": [
         {
          "fillcolor": "rgb(232, 6, 6)",
          "line": {
           "width": 0
          },
          "opacity": 1,
          "type": "rect",
          "x0": "2017-10-27",
          "x1": "2017-10-31",
          "xref": "x",
          "y0": -0.2,
          "y1": 0.2,
          "yref": "y"
         },
         {
          "fillcolor": "rgb(3, 191, 100)",
          "line": {
           "width": 0
          },
          "opacity": 1,
          "type": "rect",
          "x0": "2017-11-01",
          "x1": "2017-11-08",
          "xref": "x",
          "y0": 0.8,
          "y1": 1.2,
          "yref": "y"
         },
         {
          "fillcolor": "rgb(130, 205, 255)",
          "line": {
           "width": 0
          },
          "opacity": 1,
          "type": "rect",
          "x0": "2017-11-08",
          "x1": "2017-11-15",
          "xref": "x",
          "y0": 1.8,
          "y1": 2.2,
          "yref": "y"
         },
         {
          "fillcolor": "rgb(3, 191, 100)",
          "line": {
           "width": 0
          },
          "opacity": 1,
          "type": "rect",
          "x0": "2017-11-15",
          "x1": "2017-11-23",
          "xref": "x",
          "y0": 2.8,
          "y1": 3.2,
          "yref": "y"
         },
         {
          "fillcolor": "rgb(130, 205, 255)",
          "line": {
           "width": 0
          },
          "opacity": 1,
          "type": "rect",
          "x0": "2017-11-20",
          "x1": "2017-11-27",
          "xref": "x",
          "y0": 3.8,
          "y1": 4.2,
          "yref": "y"
         },
         {
          "fillcolor": "rgb(3, 191, 100)",
          "line": {
           "width": 0
          },
          "opacity": 1,
          "type": "rect",
          "x0": "2017-11-23",
          "x1": "2017-11-28",
          "xref": "x",
          "y0": 4.8,
          "y1": 5.2,
          "yref": "y"
         },
         {
          "fillcolor": "rgb(130, 205, 255)",
          "line": {
           "width": 0
          },
          "opacity": 1,
          "type": "rect",
          "x0": "2017-11-28",
          "x1": "2017-12-05",
          "xref": "x",
          "y0": 5.8,
          "y1": 6.2,
          "yref": "y"
         },
         {
          "fillcolor": "rgb(3, 191, 100)",
          "line": {
           "width": 0
          },
          "opacity": 1,
          "type": "rect",
          "x0": "2017-12-01",
          "x1": "2017-12-08",
          "xref": "x",
          "y0": 6.8,
          "y1": 7.2,
          "yref": "y"
         },
         {
          "fillcolor": "rgb(130, 205, 255)",
          "line": {
           "width": 0
          },
          "opacity": 1,
          "type": "rect",
          "x0": "2017-12-08",
          "x1": "2017-12-19",
          "xref": "x",
          "y0": 7.8,
          "y1": 8.2,
          "yref": "y"
         },
         {
          "fillcolor": "rgb(232, 6, 6)",
          "line": {
           "width": 0
          },
          "opacity": 1,
          "type": "rect",
          "x0": "2017-12-05",
          "x1": "2017-12-19",
          "xref": "x",
          "y0": 8.8,
          "y1": 9.2,
          "yref": "y"
         },
         {
          "line": {
           "color": "black",
           "width": 3
          },
          "type": "line",
          "x0": "2017-11-28",
          "x1": "2017-11-28",
          "y0": -10,
          "y1": 10
         },
         {
          "line": {
           "color": "black",
           "width": 3
          },
          "type": "line",
          "x0": "2017-10-31",
          "x1": "2017-10-31",
          "y0": -10,
          "y1": 10
         },
         {
          "line": {
           "color": "black",
           "width": 3
          },
          "type": "line",
          "x0": "2017-12-19",
          "x1": "2017-12-19",
          "y0": -10,
          "y1": 10
         }
        ],
        "showlegend": false,
        "title": "Gantt Chart",
        "width": 900,
        "xaxis": {
         "rangeselector": {
          "buttons": [
           {
            "count": 7,
            "label": "1w",
            "step": "day",
            "stepmode": "backward"
           },
           {
            "count": 1,
            "label": "1m",
            "step": "month",
            "stepmode": "backward"
           },
           {
            "count": 6,
            "label": "6m",
            "step": "month",
            "stepmode": "backward"
           },
           {
            "count": 1,
            "label": "YTD",
            "step": "year",
            "stepmode": "todate"
           },
           {
            "count": 1,
            "label": "1y",
            "step": "year",
            "stepmode": "backward"
           },
           {
            "step": "all"
           }
          ]
         },
         "showgrid": false,
         "type": "date",
         "zeroline": false
        },
        "yaxis": {
         "autorange": false,
         "range": [
          -1,
          11
         ],
         "showgrid": false,
         "ticktext": [
          "Project Definition",
          "Simple Queries",
          "Map Pointers",
          "Macroscopic Queries",
          "Density Map",
          "Connection Queries",
          "Connection Map",
          "Macroscopic connections",
          "Map Finalization",
          "Report Writing"
         ],
         "tickvals": [
          0,
          1,
          2,
          3,
          4,
          5,
          6,
          7,
          8,
          9
         ],
         "zeroline": false
        }
       }
      },
      "text/html": [
       "<div id=\"bd7b7363-5c38-4bb3-9cca-4bb923d9804b\" style=\"height: 600px; width: 900px;\" class=\"plotly-graph-div\"></div><script type=\"text/javascript\">require([\"plotly\"], function(Plotly) { window.PLOTLYENV=window.PLOTLYENV || {};window.PLOTLYENV.BASE_URL=\"https://plot.ly\";Plotly.newPlot(\"bd7b7363-5c38-4bb3-9cca-4bb923d9804b\", [{\"type\": \"scatter\", \"x\": [\"2017-10-27\", \"2017-10-31\"], \"y\": [0, 0], \"name\": \"\", \"marker\": {\"color\": \"white\"}}, {\"type\": \"scatter\", \"x\": [\"2017-11-01\", \"2017-11-08\"], \"y\": [1, 1], \"name\": \"\", \"marker\": {\"color\": \"white\"}}, {\"type\": \"scatter\", \"x\": [\"2017-11-08\", \"2017-11-15\"], \"y\": [2, 2], \"name\": \"\", \"marker\": {\"color\": \"white\"}}, {\"type\": \"scatter\", \"x\": [\"2017-11-15\", \"2017-11-23\"], \"y\": [3, 3], \"name\": \"\", \"marker\": {\"color\": \"white\"}}, {\"type\": \"scatter\", \"x\": [\"2017-11-20\", \"2017-11-27\"], \"y\": [4, 4], \"name\": \"\", \"marker\": {\"color\": \"white\"}}, {\"type\": \"scatter\", \"x\": [\"2017-11-23\", \"2017-11-28\"], \"y\": [5, 5], \"name\": \"\", \"marker\": {\"color\": \"white\"}}, {\"type\": \"scatter\", \"x\": [\"2017-11-28\", \"2017-12-05\"], \"y\": [6, 6], \"name\": \"\", \"marker\": {\"color\": \"white\"}}, {\"type\": \"scatter\", \"x\": [\"2017-12-01\", \"2017-12-08\"], \"y\": [7, 7], \"name\": \"\", \"marker\": {\"color\": \"white\"}}, {\"type\": \"scatter\", \"x\": [\"2017-12-08\", \"2017-12-19\"], \"y\": [8, 8], \"name\": \"\", \"marker\": {\"color\": \"white\"}}, {\"type\": \"scatter\", \"x\": [\"2017-12-05\", \"2017-12-19\"], \"y\": [9, 9], \"name\": \"\", \"marker\": {\"color\": \"white\"}}], {\"title\": \"Gantt Chart\", \"showlegend\": false, \"height\": 600, \"width\": 900, \"shapes\": [{\"x0\": \"2017-10-27\", \"x1\": \"2017-10-31\", \"type\": \"rect\", \"xref\": \"x\", \"yref\": \"y\", \"opacity\": 1, \"line\": {\"width\": 0}, \"y0\": -0.2, \"y1\": 0.2, \"fillcolor\": \"rgb(232, 6, 6)\"}, {\"x0\": \"2017-11-01\", \"x1\": \"2017-11-08\", \"type\": \"rect\", \"xref\": \"x\", \"yref\": \"y\", \"opacity\": 1, \"line\": {\"width\": 0}, \"y0\": 0.8, \"y1\": 1.2, \"fillcolor\": \"rgb(3, 191, 100)\"}, {\"x0\": \"2017-11-08\", \"x1\": \"2017-11-15\", \"type\": \"rect\", \"xref\": \"x\", \"yref\": \"y\", \"opacity\": 1, \"line\": {\"width\": 0}, \"y0\": 1.8, \"y1\": 2.2, \"fillcolor\": \"rgb(130, 205, 255)\"}, {\"x0\": \"2017-11-15\", \"x1\": \"2017-11-23\", \"type\": \"rect\", \"xref\": \"x\", \"yref\": \"y\", \"opacity\": 1, \"line\": {\"width\": 0}, \"y0\": 2.8, \"y1\": 3.2, \"fillcolor\": \"rgb(3, 191, 100)\"}, {\"x0\": \"2017-11-20\", \"x1\": \"2017-11-27\", \"type\": \"rect\", \"xref\": \"x\", \"yref\": \"y\", \"opacity\": 1, \"line\": {\"width\": 0}, \"y0\": 3.8, \"y1\": 4.2, \"fillcolor\": \"rgb(130, 205, 255)\"}, {\"x0\": \"2017-11-23\", \"x1\": \"2017-11-28\", \"type\": \"rect\", \"xref\": \"x\", \"yref\": \"y\", \"opacity\": 1, \"line\": {\"width\": 0}, \"y0\": 4.8, \"y1\": 5.2, \"fillcolor\": \"rgb(3, 191, 100)\"}, {\"x0\": \"2017-11-28\", \"x1\": \"2017-12-05\", \"type\": \"rect\", \"xref\": \"x\", \"yref\": \"y\", \"opacity\": 1, \"line\": {\"width\": 0}, \"y0\": 5.8, \"y1\": 6.2, \"fillcolor\": \"rgb(130, 205, 255)\"}, {\"x0\": \"2017-12-01\", \"x1\": \"2017-12-08\", \"type\": \"rect\", \"xref\": \"x\", \"yref\": \"y\", \"opacity\": 1, \"line\": {\"width\": 0}, \"y0\": 6.8, \"y1\": 7.2, \"fillcolor\": \"rgb(3, 191, 100)\"}, {\"x0\": \"2017-12-08\", \"x1\": \"2017-12-19\", \"type\": \"rect\", \"xref\": \"x\", \"yref\": \"y\", \"opacity\": 1, \"line\": {\"width\": 0}, \"y0\": 7.8, \"y1\": 8.2, \"fillcolor\": \"rgb(130, 205, 255)\"}, {\"x0\": \"2017-12-05\", \"x1\": \"2017-12-19\", \"type\": \"rect\", \"xref\": \"x\", \"yref\": \"y\", \"opacity\": 1, \"line\": {\"width\": 0}, \"y0\": 8.8, \"y1\": 9.2, \"fillcolor\": \"rgb(232, 6, 6)\"}, {\"type\": \"line\", \"x0\": \"2017-11-28\", \"y0\": -10, \"x1\": \"2017-11-28\", \"y1\": 10, \"line\": {\"color\": \"black\", \"width\": 3}}, {\"type\": \"line\", \"x0\": \"2017-10-31\", \"y0\": -10, \"x1\": \"2017-10-31\", \"y1\": 10, \"line\": {\"color\": \"black\", \"width\": 3}}, {\"type\": \"line\", \"x0\": \"2017-12-19\", \"y0\": -10, \"x1\": \"2017-12-19\", \"y1\": 10, \"line\": {\"color\": \"black\", \"width\": 3}}], \"hovermode\": \"closest\", \"yaxis\": {\"showgrid\": false, \"ticktext\": [\"Project Definition\", \"Simple Queries\", \"Map Pointers\", \"Macroscopic Queries\", \"Density Map\", \"Connection Queries\", \"Connection Map\", \"Macroscopic connections\", \"Map Finalization\", \"Report Writing\"], \"tickvals\": [0, 1, 2, 3, 4, 5, 6, 7, 8, 9], \"range\": [-1, 11], \"autorange\": false, \"zeroline\": false}, \"xaxis\": {\"showgrid\": false, \"zeroline\": false, \"rangeselector\": {\"buttons\": [{\"count\": 7, \"label\": \"1w\", \"step\": \"day\", \"stepmode\": \"backward\"}, {\"count\": 1, \"label\": \"1m\", \"step\": \"month\", \"stepmode\": \"backward\"}, {\"count\": 6, \"label\": \"6m\", \"step\": \"month\", \"stepmode\": \"backward\"}, {\"count\": 1, \"label\": \"YTD\", \"step\": \"year\", \"stepmode\": \"todate\"}, {\"count\": 1, \"label\": \"1y\", \"step\": \"year\", \"stepmode\": \"backward\"}, {\"step\": \"all\"}]}, \"type\": \"date\"}, \"margin\": {\"l\": 150}}, {\"showLink\": true, \"linkText\": \"Export to plot.ly\"})});</script>"
      ],
      "text/vnd.plotly.v1+html": [
       "<div id=\"bd7b7363-5c38-4bb3-9cca-4bb923d9804b\" style=\"height: 600px; width: 900px;\" class=\"plotly-graph-div\"></div><script type=\"text/javascript\">require([\"plotly\"], function(Plotly) { window.PLOTLYENV=window.PLOTLYENV || {};window.PLOTLYENV.BASE_URL=\"https://plot.ly\";Plotly.newPlot(\"bd7b7363-5c38-4bb3-9cca-4bb923d9804b\", [{\"type\": \"scatter\", \"x\": [\"2017-10-27\", \"2017-10-31\"], \"y\": [0, 0], \"name\": \"\", \"marker\": {\"color\": \"white\"}}, {\"type\": \"scatter\", \"x\": [\"2017-11-01\", \"2017-11-08\"], \"y\": [1, 1], \"name\": \"\", \"marker\": {\"color\": \"white\"}}, {\"type\": \"scatter\", \"x\": [\"2017-11-08\", \"2017-11-15\"], \"y\": [2, 2], \"name\": \"\", \"marker\": {\"color\": \"white\"}}, {\"type\": \"scatter\", \"x\": [\"2017-11-15\", \"2017-11-23\"], \"y\": [3, 3], \"name\": \"\", \"marker\": {\"color\": \"white\"}}, {\"type\": \"scatter\", \"x\": [\"2017-11-20\", \"2017-11-27\"], \"y\": [4, 4], \"name\": \"\", \"marker\": {\"color\": \"white\"}}, {\"type\": \"scatter\", \"x\": [\"2017-11-23\", \"2017-11-28\"], \"y\": [5, 5], \"name\": \"\", \"marker\": {\"color\": \"white\"}}, {\"type\": \"scatter\", \"x\": [\"2017-11-28\", \"2017-12-05\"], \"y\": [6, 6], \"name\": \"\", \"marker\": {\"color\": \"white\"}}, {\"type\": \"scatter\", \"x\": [\"2017-12-01\", \"2017-12-08\"], \"y\": [7, 7], \"name\": \"\", \"marker\": {\"color\": \"white\"}}, {\"type\": \"scatter\", \"x\": [\"2017-12-08\", \"2017-12-19\"], \"y\": [8, 8], \"name\": \"\", \"marker\": {\"color\": \"white\"}}, {\"type\": \"scatter\", \"x\": [\"2017-12-05\", \"2017-12-19\"], \"y\": [9, 9], \"name\": \"\", \"marker\": {\"color\": \"white\"}}], {\"title\": \"Gantt Chart\", \"showlegend\": false, \"height\": 600, \"width\": 900, \"shapes\": [{\"x0\": \"2017-10-27\", \"x1\": \"2017-10-31\", \"type\": \"rect\", \"xref\": \"x\", \"yref\": \"y\", \"opacity\": 1, \"line\": {\"width\": 0}, \"y0\": -0.2, \"y1\": 0.2, \"fillcolor\": \"rgb(232, 6, 6)\"}, {\"x0\": \"2017-11-01\", \"x1\": \"2017-11-08\", \"type\": \"rect\", \"xref\": \"x\", \"yref\": \"y\", \"opacity\": 1, \"line\": {\"width\": 0}, \"y0\": 0.8, \"y1\": 1.2, \"fillcolor\": \"rgb(3, 191, 100)\"}, {\"x0\": \"2017-11-08\", \"x1\": \"2017-11-15\", \"type\": \"rect\", \"xref\": \"x\", \"yref\": \"y\", \"opacity\": 1, \"line\": {\"width\": 0}, \"y0\": 1.8, \"y1\": 2.2, \"fillcolor\": \"rgb(130, 205, 255)\"}, {\"x0\": \"2017-11-15\", \"x1\": \"2017-11-23\", \"type\": \"rect\", \"xref\": \"x\", \"yref\": \"y\", \"opacity\": 1, \"line\": {\"width\": 0}, \"y0\": 2.8, \"y1\": 3.2, \"fillcolor\": \"rgb(3, 191, 100)\"}, {\"x0\": \"2017-11-20\", \"x1\": \"2017-11-27\", \"type\": \"rect\", \"xref\": \"x\", \"yref\": \"y\", \"opacity\": 1, \"line\": {\"width\": 0}, \"y0\": 3.8, \"y1\": 4.2, \"fillcolor\": \"rgb(130, 205, 255)\"}, {\"x0\": \"2017-11-23\", \"x1\": \"2017-11-28\", \"type\": \"rect\", \"xref\": \"x\", \"yref\": \"y\", \"opacity\": 1, \"line\": {\"width\": 0}, \"y0\": 4.8, \"y1\": 5.2, \"fillcolor\": \"rgb(3, 191, 100)\"}, {\"x0\": \"2017-11-28\", \"x1\": \"2017-12-05\", \"type\": \"rect\", \"xref\": \"x\", \"yref\": \"y\", \"opacity\": 1, \"line\": {\"width\": 0}, \"y0\": 5.8, \"y1\": 6.2, \"fillcolor\": \"rgb(130, 205, 255)\"}, {\"x0\": \"2017-12-01\", \"x1\": \"2017-12-08\", \"type\": \"rect\", \"xref\": \"x\", \"yref\": \"y\", \"opacity\": 1, \"line\": {\"width\": 0}, \"y0\": 6.8, \"y1\": 7.2, \"fillcolor\": \"rgb(3, 191, 100)\"}, {\"x0\": \"2017-12-08\", \"x1\": \"2017-12-19\", \"type\": \"rect\", \"xref\": \"x\", \"yref\": \"y\", \"opacity\": 1, \"line\": {\"width\": 0}, \"y0\": 7.8, \"y1\": 8.2, \"fillcolor\": \"rgb(130, 205, 255)\"}, {\"x0\": \"2017-12-05\", \"x1\": \"2017-12-19\", \"type\": \"rect\", \"xref\": \"x\", \"yref\": \"y\", \"opacity\": 1, \"line\": {\"width\": 0}, \"y0\": 8.8, \"y1\": 9.2, \"fillcolor\": \"rgb(232, 6, 6)\"}, {\"type\": \"line\", \"x0\": \"2017-11-28\", \"y0\": -10, \"x1\": \"2017-11-28\", \"y1\": 10, \"line\": {\"color\": \"black\", \"width\": 3}}, {\"type\": \"line\", \"x0\": \"2017-10-31\", \"y0\": -10, \"x1\": \"2017-10-31\", \"y1\": 10, \"line\": {\"color\": \"black\", \"width\": 3}}, {\"type\": \"line\", \"x0\": \"2017-12-19\", \"y0\": -10, \"x1\": \"2017-12-19\", \"y1\": 10, \"line\": {\"color\": \"black\", \"width\": 3}}], \"hovermode\": \"closest\", \"yaxis\": {\"showgrid\": false, \"ticktext\": [\"Project Definition\", \"Simple Queries\", \"Map Pointers\", \"Macroscopic Queries\", \"Density Map\", \"Connection Queries\", \"Connection Map\", \"Macroscopic connections\", \"Map Finalization\", \"Report Writing\"], \"tickvals\": [0, 1, 2, 3, 4, 5, 6, 7, 8, 9], \"range\": [-1, 11], \"autorange\": false, \"zeroline\": false}, \"xaxis\": {\"showgrid\": false, \"zeroline\": false, \"rangeselector\": {\"buttons\": [{\"count\": 7, \"label\": \"1w\", \"step\": \"day\", \"stepmode\": \"backward\"}, {\"count\": 1, \"label\": \"1m\", \"step\": \"month\", \"stepmode\": \"backward\"}, {\"count\": 6, \"label\": \"6m\", \"step\": \"month\", \"stepmode\": \"backward\"}, {\"count\": 1, \"label\": \"YTD\", \"step\": \"year\", \"stepmode\": \"todate\"}, {\"count\": 1, \"label\": \"1y\", \"step\": \"year\", \"stepmode\": \"backward\"}, {\"step\": \"all\"}]}, \"type\": \"date\"}, \"margin\": {\"l\": 150}}, {\"showLink\": true, \"linkText\": \"Export to plot.ly\"})});</script>"
      ]
     },
     "metadata": {},
     "output_type": "display_data"
    }
   ],
   "source": [
    "\n",
    "shape_vertical_line_1 =  {\n",
    "            'type': 'line',\n",
    "            'x0': '2017-11-28',\n",
    "            'y0': -10,\n",
    "            'x1': '2017-11-28',\n",
    "            'y1': 10,\n",
    "            'line': {\n",
    "                'color': 'black',\n",
    "                'width': 3,\n",
    "            }\n",
    "        }\n",
    "\n",
    "shape_vertical_line_2 =  {\n",
    "            'type': 'line',\n",
    "            'x0': '2017-10-31',\n",
    "            'y0': -10,\n",
    "            'x1': '2017-10-31',\n",
    "            'y1': 10,\n",
    "            'line': {\n",
    "                'color': 'black',\n",
    "                'width': 3,\n",
    "            }\n",
    "        }\n",
    "\n",
    "shape_vertical_line_3 =  {\n",
    "            'type': 'line',\n",
    "            'x0': '2017-12-19',\n",
    "            'y0': -10,\n",
    "            'x1': '2017-12-19',\n",
    "            'y1': 10,\n",
    "            'line': {\n",
    "                'color': 'black',\n",
    "                'width': 3,\n",
    "            }\n",
    "        }\n",
    "\n",
    "fig.layout.shapes.append(shape_vertical_line_1)\n",
    "fig.layout.shapes.append(shape_vertical_line_2)\n",
    "fig.layout.shapes.append(shape_vertical_line_3)\n",
    "\n",
    "fig.layout.margin = {\n",
    "    'l':150\n",
    "}\n",
    "\n",
    "a = plotly.offline.iplot(fig, filename='gantt-simple-gantt-chart')"
   ]
  },
  {
   "cell_type": "code",
   "execution_count": 106,
   "metadata": {},
   "outputs": [
    {
     "ename": "AttributeError",
     "evalue": "module 'plotly' has no attribute 'layoutUpdate'",
     "output_type": "error",
     "traceback": [
      "\u001b[0;31m---------------------------------------------------------------------------\u001b[0m",
      "\u001b[0;31mAttributeError\u001b[0m                            Traceback (most recent call last)",
      "\u001b[0;32m<ipython-input-106-08746f9e750c>\u001b[0m in \u001b[0;36m<module>\u001b[0;34m()\u001b[0m\n\u001b[1;32m      4\u001b[0m     \u001b[0;34m\"margin.b\"\u001b[0m\u001b[0;34m:\u001b[0m \u001b[0mmaxLabelLength\u001b[0m \u001b[0;34m*\u001b[0m \u001b[0mletterWidth\u001b[0m\u001b[0;34m\u001b[0m\u001b[0m\n\u001b[1;32m      5\u001b[0m };\n\u001b[0;32m----> 6\u001b[0;31m \u001b[0mplotly\u001b[0m\u001b[0;34m.\u001b[0m\u001b[0mlayoutUpdate\u001b[0m\u001b[0;34m(\u001b[0m\u001b[0mdiv\u001b[0m\u001b[0;34m,\u001b[0m \u001b[0mlayoutUpdate\u001b[0m\u001b[0;34m)\u001b[0m\u001b[0;34m\u001b[0m\u001b[0m\n\u001b[0m",
      "\u001b[0;31mAttributeError\u001b[0m: module 'plotly' has no attribute 'layoutUpdate'"
     ]
    }
   ],
   "source": []
  }
 ],
 "metadata": {
  "kernelspec": {
   "display_name": "Python 3",
   "language": "python",
   "name": "python3"
  },
  "language_info": {
   "codemirror_mode": {
    "name": "ipython",
    "version": 3
   },
   "file_extension": ".py",
   "mimetype": "text/x-python",
   "name": "python",
   "nbconvert_exporter": "python",
   "pygments_lexer": "ipython3",
   "version": "3.6.1"
  }
 },
 "nbformat": 4,
 "nbformat_minor": 2
}
