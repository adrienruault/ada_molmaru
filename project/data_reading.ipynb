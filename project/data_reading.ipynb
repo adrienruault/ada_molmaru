{
 "cells": [
  {
   "cell_type": "code",
   "execution_count": 3,
   "metadata": {},
   "outputs": [],
   "source": [
    "import pandas as pd\n",
    "\n",
    "\n",
    "addresses = pd.read_csv(\"./data/data_csv/Addresses.csv\", dtype = 'object')\n",
    "all_edges = pd.read_csv(\"./data/data_csv/all_edges.csv\", dtype = 'object')\n",
    "entities = pd.read_csv(\"./data/data_csv/Entities.csv\", dtype = 'object')\n",
    "intermediaries = pd.read_csv(\"./data/data_csv/Intermediaries.csv\", dtype = 'object')\n",
    "officers = pd.read_csv(\"./data/data_csv/Officers.csv\", dtype = 'object')"
   ]
  },
  {
   "cell_type": "code",
   "execution_count": 7,
   "metadata": {},
   "outputs": [
    {
     "data": {
      "text/plain": [
       "259       FRA\n",
       "274       FRA\n",
       "289       FRA\n",
       "491       FRA\n",
       "511       FRA\n",
       "520       FRA\n",
       "527       FRA\n",
       "547       FRA\n",
       "665       FRA\n",
       "667       FRA\n",
       "737       FRA\n",
       "738       FRA\n",
       "792       FRA\n",
       "810       FRA\n",
       "832       FRA\n",
       "868       FRA\n",
       "927       FRA\n",
       "1183      FRA\n",
       "1187      FRA\n",
       "1190      FRA\n",
       "1196      FRA\n",
       "1210      FRA\n",
       "1217      FRA\n",
       "1218      FRA\n",
       "1616      FRA\n",
       "1617      FRA\n",
       "1618      FRA\n",
       "1647      FRA\n",
       "1687      FRA\n",
       "1862      FRA\n",
       "         ... \n",
       "126025    FRA\n",
       "126095    FRA\n",
       "126803    FRA\n",
       "127517    FRA\n",
       "130366    FRA\n",
       "132096    FRA\n",
       "132968    FRA\n",
       "133942    FRA\n",
       "134633    FRA\n",
       "134909    FRA\n",
       "135827    FRA\n",
       "136202    FRA\n",
       "136733    FRA\n",
       "136995    FRA\n",
       "137211    FRA\n",
       "137244    FRA\n",
       "137289    FRA\n",
       "137547    FRA\n",
       "138000    FRA\n",
       "139563    FRA\n",
       "139658    FRA\n",
       "139735    FRA\n",
       "147806    FRA\n",
       "149429    FRA\n",
       "149863    FRA\n",
       "150501    FRA\n",
       "150504    FRA\n",
       "150505    FRA\n",
       "150741    FRA\n",
       "150863    FRA\n",
       "Name: country_codes, Length: 874, dtype: object"
      ]
     },
     "execution_count": 7,
     "metadata": {},
     "output_type": "execute_result"
    }
   ],
   "source": [
    "serie = addresses['country_codes']\n",
    "serie[serie == 'FRA']"
   ]
  },
  {
   "cell_type": "code",
   "execution_count": null,
   "metadata": {
    "collapsed": true
   },
   "outputs": [],
   "source": []
  }
 ],
 "metadata": {
  "kernelspec": {
   "display_name": "Python 3",
   "language": "python",
   "name": "python3"
  },
  "language_info": {
   "codemirror_mode": {
    "name": "ipython",
    "version": 3
   },
   "file_extension": ".py",
   "mimetype": "text/x-python",
   "name": "python",
   "nbconvert_exporter": "python",
   "pygments_lexer": "ipython3",
   "version": "3.6.3"
  }
 },
 "nbformat": 4,
 "nbformat_minor": 2
}
