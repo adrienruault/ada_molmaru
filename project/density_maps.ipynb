{
 "cells": [
  {
   "cell_type": "code",
   "execution_count": 1,
   "metadata": {},
   "outputs": [],
   "source": [
    "from density_maps import *\n",
    "from ipywidgets.widgets import interact\n",
    "import folium"
   ]
  },
  {
   "cell_type": "markdown",
   "metadata": {},
   "source": [
    "This widget allows to display maps showing the repartition of officers, intermediaries and entities in the world.\n",
    "The user can specify which of these data he wants to display, and on which region (can be the entire world or a specified one).\n",
    "\n",
    "The user can also choose between 3 geoJSON, having different weight, and thus being more or less precise. With the lightest geoJSON, the processing time is reduces and the map is more reactive, but some small countries are missing.\n",
    "With the heaviest geoJSON, all the countries are present, but the processing time can take time and the map can be less reactive if the computer is not powerful enough. If the user wishes to see a small country that is not in the lightest geoJSON, he can choose a heavier geoJSON and reduce the geoJSON area to a continent so that it does not involve too much computation time.\n",
    "\n",
    "The color scale is logarithmic because the number of actors in a country can differ a lot, and the presence of outliers gives an unreadable map with a linear scale."
   ]
  },
  {
   "cell_type": "code",
   "execution_count": 2,
   "metadata": {},
   "outputs": [
    {
     "data": {
      "application/vnd.jupyter.widget-view+json": {
       "model_id": "78f7f03e41184d5382659b89a6a6a116",
       "version_major": 2,
       "version_minor": 0
      },
      "text/html": [
       "<p>Failed to display Jupyter Widget of type <code>interactive</code>.</p>\n",
       "<p>\n",
       "  If you're reading this message in Jupyter Notebook or JupyterLab, it may mean\n",
       "  that the widgets JavaScript is still loading. If this message persists, it\n",
       "  likely means that the widgets JavaScript library is either not installed or\n",
       "  not enabled. See the <a href=\"https://ipywidgets.readthedocs.io/en/stable/user_install.html\">Jupyter\n",
       "  Widgets Documentation</a> for setup instructions.\n",
       "</p>\n",
       "<p>\n",
       "  If you're reading this message in another notebook frontend (for example, a static\n",
       "  rendering on GitHub or <a href=\"https://nbviewer.jupyter.org/\">NBViewer</a>),\n",
       "  it may mean that your frontend doesn't currently support widgets.\n",
       "</p>\n"
      ],
      "text/plain": [
       "interactive(children=(Dropdown(description='query', options=('entities', 'officers', 'intermediaries'), value='entities'), Dropdown(description='json_weight', options=('light', 'mid_weight', 'heavy'), value='light'), Dropdown(description='region', options=('World', 'Europe', 'Asia', 'Americas', 'Africa', 'Oceania'), value='World'), Output()), _dom_classes=('widget-interact',))"
      ]
     },
     "metadata": {},
     "output_type": "display_data"
    },
    {
     "data": {
      "text/plain": [
       "<function density_maps.create_density_map>"
      ]
     },
     "execution_count": 2,
     "metadata": {},
     "output_type": "execute_result"
    }
   ],
   "source": [
    "interact(create_density_map, query=['entities','officers','intermediaries'], json_weight=['light','mid_weight','heavy'],\n",
    "        region=['World', 'Europe', 'Asia', 'Americas', 'Africa',\n",
    "                'Oceania'])"
   ]
  }
 ],
 "metadata": {
  "kernelspec": {
   "display_name": "Python 3",
   "language": "python",
   "name": "python3"
  },
  "language_info": {
   "codemirror_mode": {
    "name": "ipython",
    "version": 3
   },
   "file_extension": ".py",
   "mimetype": "text/x-python",
   "name": "python",
   "nbconvert_exporter": "python",
   "pygments_lexer": "ipython3",
   "version": "3.6.1"
  }
 },
 "nbformat": 4,
 "nbformat_minor": 2
}
