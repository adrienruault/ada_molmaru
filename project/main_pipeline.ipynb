{
 "cells": [
  {
   "cell_type": "code",
   "execution_count": 1,
   "metadata": {},
   "outputs": [],
   "source": [
    "from density_maps import *\n",
    "import folium\n",
    "import pandas as pd\n",
    "import numpy as np\n",
    "from ipywidgets import interact, interactive, fixed, interact_manual\n",
    "import ipywidgets as widgets\n",
    "import branca\n",
    "import panama_papers_aux\n",
    "from IPython.display import Markdown"
   ]
  },
  {
   "cell_type": "markdown",
   "metadata": {},
   "source": [
    "# I. Data Preprocessing"
   ]
  },
  {
   "cell_type": "markdown",
   "metadata": {},
   "source": [
    "## Merging of the 4 leaks folders"
   ]
  },
  {
   "cell_type": "markdown",
   "metadata": {},
   "source": [
    "Paradise papers are not included for the moment.\n",
    "This short code makes correspond the new version of the dataset with the former one."
   ]
  },
  {
   "cell_type": "code",
   "execution_count": 2,
   "metadata": {},
   "outputs": [],
   "source": [
    "leaks= ['bahamas_leaks', 'offshore_leaks', 'panama_papers'] #paradise_papers\n",
    "month_code = '2017-11-17'\n",
    "\n",
    "edges_df = pd.DataFrame([])\n",
    "addresses_df = pd.DataFrame([])\n",
    "entities_df = pd.DataFrame([])\n",
    "intermediaries_df = pd.DataFrame([])\n",
    "officers_df = pd.DataFrame([])\n",
    "\n",
    "\n",
    "for leak in leaks:\n",
    "    edges_df = edges_df.append(pd.read_csv('./data/data_csv/csv_' + leak + '.' +\n",
    "                                           month_code + '/' + leak + '.edges.csv', dtype=object))\n",
    "    \n",
    "    addresses_df = addresses_df.append(pd.read_csv('./data/data_csv/csv_' + leak + '.' + \n",
    "                                               month_code + '/' + leak + '.nodes.address.csv', dtype=object))\n",
    "    \n",
    "    entities_df = entities_df.append(pd.read_csv('./data/data_csv/csv_' + leak + '.' + \n",
    "                                           month_code + '/' + leak + '.nodes.entity.csv', dtype=object))\n",
    "    \n",
    "    intermediaries_df = intermediaries_df.append(pd.read_csv('./data/data_csv/csv_' + leak + '.' + \n",
    "                                           month_code + '/' + leak + '.nodes.intermediary.csv', dtype=object))\n",
    "    \n",
    "    officers_df = officers_df.append(pd.read_csv('./data/data_csv/csv_' + leak + '.' + \n",
    "                                           month_code + '/' + leak + '.nodes.officer.csv', dtype=object))\n",
    "    \n",
    "    \n",
    "edges_df.index = range(len(edges_df))\n",
    "edges_df.to_csv('./data/data_csv/all_edges.csv')\n",
    "addresses_df.index = range(len(addresses_df))\n",
    "addresses_df.columns = addresses_df.columns.str.replace('n\\.','')\n",
    "addresses_df.to_csv('./data/data_csv/Addresses.csv')\n",
    "entities_df.index = range(len(entities_df))\n",
    "entities_df.columns = entities_df.columns.str.replace('n\\.','')\n",
    "entities_df.to_csv('./data/data_csv/Entities.csv')\n",
    "intermediaries_df.index = range(len(intermediaries_df))\n",
    "intermediaries_df.columns = intermediaries_df.columns.str.replace('n\\.','')\n",
    "intermediaries_df.to_csv('./data/data_csv/Intermediaries.csv')\n",
    "officers_df.index = range(len(officers_df))\n",
    "officers_df.columns = officers_df.columns.str.replace('n\\.','')\n",
    "officers_df.to_csv('./data/data_csv/Officers.csv')"
   ]
  },
  {
   "cell_type": "markdown",
   "metadata": {},
   "source": [
    "## Reading and cleaning of the dataset\n",
    "\n",
    "Reading of the different parts of the dataset. There are 4 different files that are converted into pandas DataFrames:\n",
    "- `Entities.csv`, `Officers.csv`, `Intermediaries.csv` are dedicated to the three types of actors encountered in the database. Entities refer to asset providers and officers to financial actors (company, private client, ...). Intermediaries refer to actors putting clients and financial service providers in contact.\n",
    "- `Addresses.csv` describe all the addresses contained in the database those addresses are linked to officers.\n",
    "- `all_edges.csv` describe the relationships between the items of the database described before, that are entities, officers, intermediaries and addresses. Four different kinds of relationships are described in this dataset: 'registered address', 'shareholder of', 'beneficiary of' and 'intermediary of'.\n",
    "\n"
   ]
  },
  {
   "cell_type": "code",
   "execution_count": 3,
   "metadata": {},
   "outputs": [],
   "source": [
    "entities = pd.read_csv(\"./data/data_csv/Entities.csv\", dtype = 'object')\n",
    "intermediaries = pd.read_csv(\"./data/data_csv/Intermediaries.csv\", dtype = 'object')\n",
    "officers = pd.read_csv(\"./data/data_csv/Officers.csv\", dtype = 'object')\n",
    "addresses = pd.read_csv(\"./data/data_csv/Addresses.csv\", dtype = 'object')\n",
    "all_edges = pd.read_csv(\"./data/data_csv/all_edges.csv\", dtype = 'object')"
   ]
  },
  {
   "cell_type": "markdown",
   "metadata": {},
   "source": [
    "### Dataset description\n",
    "\n",
    "Now we print the DataFrames' columns and size in order to have a rough idea of their content."
   ]
  },
  {
   "cell_type": "code",
   "execution_count": 4,
   "metadata": {
    "scrolled": true
   },
   "outputs": [
    {
     "name": "stdout",
     "output_type": "stream",
     "text": [
      "entities:\n",
      "\tshape: (495038, 19)\n",
      "\tcolumns: Index(['Unnamed: 0', 'labels(n)', 'valid_until', 'country_codes', 'countries',\n",
      "       'node_id', 'sourceID', 'address', 'name', 'jurisdiction_description',\n",
      "       'service_provider', 'jurisdiction', 'closed_date', 'incorporation_date',\n",
      "       'ibcRUC', 'type', 'status', 'company_type', 'note'],\n",
      "      dtype='object')\n",
      "\n",
      "intermediaries:\n",
      "\tshape: (24177, 19)\n",
      "\tcolumns: Index(['Unnamed: 0', 'labels(n)', 'valid_until', 'country_codes', 'countries',\n",
      "       'node_id', 'sourceID', 'address', 'name', 'jurisdiction_description',\n",
      "       'service_provider', 'jurisdiction', 'closed_date', 'incorporation_date',\n",
      "       'ibcRUC', 'type', 'status', 'company_type', 'note'],\n",
      "      dtype='object')\n",
      "\n",
      "officers:\n",
      "\tshape: (370854, 19)\n",
      "\tcolumns: Index(['Unnamed: 0', 'labels(n)', 'valid_until', 'country_codes', 'countries',\n",
      "       'node_id', 'sourceID', 'address', 'name', 'jurisdiction_description',\n",
      "       'service_provider', 'jurisdiction', 'closed_date', 'incorporation_date',\n",
      "       'ibcRUC', 'type', 'status', 'company_type', 'note'],\n",
      "      dtype='object')\n",
      "\n",
      "addresses:\n",
      "\tshape: (151605, 19)\n",
      "\tcolumns: Index(['Unnamed: 0', 'labels(n)', 'valid_until', 'country_codes', 'countries',\n",
      "       'node_id', 'sourceID', 'address', 'name', 'jurisdiction_description',\n",
      "       'service_provider', 'jurisdiction', 'closed_date', 'incorporation_date',\n",
      "       'ibcRUC', 'type', 'status', 'company_type', 'note'],\n",
      "      dtype='object')\n",
      "\n",
      "all_edges:\n",
      "\tshape: (1484685, 8)\n",
      "\tcolumns: Index(['Unnamed: 0', 'node_1', 'rel_type', 'node_2', 'r.sourceID',\n",
      "       'r.valid_until', 'r.start_date', 'r.end_date'],\n",
      "      dtype='object')\n"
     ]
    }
   ],
   "source": [
    "print('entities:')\n",
    "print('\\tshape:', entities.shape)\n",
    "print('\\tcolumns:', entities.columns)\n",
    "print()\n",
    "\n",
    "print('intermediaries:')\n",
    "print('\\tshape:', intermediaries.shape)\n",
    "print('\\tcolumns:', intermediaries.columns)\n",
    "print()\n",
    "\n",
    "print('officers:')\n",
    "print('\\tshape:', officers.shape)\n",
    "print('\\tcolumns:', officers.columns)\n",
    "print()\n",
    "\n",
    "print('addresses:')\n",
    "print('\\tshape:', addresses.shape)\n",
    "print('\\tcolumns:', addresses.columns)\n",
    "print()\n",
    "\n",
    "print('all_edges:')\n",
    "print('\\tshape:', all_edges.shape)\n",
    "print('\\tcolumns:', all_edges.columns)"
   ]
  },
  {
   "cell_type": "markdown",
   "metadata": {},
   "source": [
    "### Cleaning up\n",
    "\n",
    "The `entities`, `intermediaries` and `officers`' rows whose columns `name` and `countries` contains a NaN value are dropped because these rows will not be exploitable for the analysis. We also drop `addresses`' rows whose `address` column has a NaN value."
   ]
  },
  {
   "cell_type": "code",
   "execution_count": 5,
   "metadata": {},
   "outputs": [
    {
     "name": "stdout",
     "output_type": "stream",
     "text": [
      "187862 rows dropped in entities\n",
      "1909 rows dropped in intermediaries\n",
      "158254 rows dropped in officers\n",
      "1247 rows dropped in addresses\n"
     ]
    }
   ],
   "source": [
    "original_num_row = entities.shape[0]\n",
    "entities = entities[entities['name'].notnull()]\n",
    "entities = entities[entities['countries'].notnull()]\n",
    "entities = entities[entities['country_codes'] != 'XXX']\n",
    "entities[entities['country_codes'] == 'REU'] = 'FRA'\n",
    "entities[entities['country_codes'] == 'MTQ'] = 'FRA'\n",
    "final_num_row = entities.shape[0]\n",
    "print(original_num_row - final_num_row, 'rows dropped in entities')\n",
    "\n",
    "original_num_row = intermediaries.shape[0]\n",
    "intermediaries = intermediaries[intermediaries['name'].notnull()]\n",
    "intermediaries = intermediaries[intermediaries['countries'].notnull()]\n",
    "intermediaries = intermediaries[intermediaries['country_codes'] != 'XXX']\n",
    "intermediaries[intermediaries['country_codes'] == 'REU'] = 'FRA'\n",
    "intermediaries[intermediaries['country_codes'] == 'MTQ'] = 'FRA'\n",
    "final_num_row = intermediaries.shape[0]\n",
    "print(original_num_row - final_num_row, 'rows dropped in intermediaries')\n",
    "\n",
    "original_num_row = officers.shape[0]\n",
    "officers = officers[officers['name'].notnull()]\n",
    "officers = officers[officers['countries'].notnull()]\n",
    "officers = officers[officers['country_codes'] != 'XXX']\n",
    "officers[officers['country_codes'] == 'REU'] = 'FRA'\n",
    "officers[officers['country_codes'] == 'MTQ'] = 'FRA'\n",
    "final_num_row = officers.shape[0]\n",
    "print(original_num_row - final_num_row, 'rows dropped in officers')\n",
    "\n",
    "original_num_row = addresses.shape[0]\n",
    "addresses = addresses[addresses['address'].notnull()]\n",
    "addresses = addresses[addresses['countries'].notnull()]\n",
    "addresses = addresses[addresses['country_codes'] != 'XXX']\n",
    "addresses[addresses['country_codes'] == 'REU'] = 'FRA'\n",
    "addresses[addresses['country_codes'] == 'MTQ'] = 'FRA'\n",
    "final_num_row = addresses.shape[0]\n",
    "print(original_num_row - final_num_row, 'rows dropped in addresses')"
   ]
  },
  {
   "cell_type": "markdown",
   "metadata": {},
   "source": [
    "### Writing clean datasets in new files\n",
    "\n",
    "In order to not have to carry out the preprocessing again we write the the DataFrames in new files."
   ]
  },
  {
   "cell_type": "code",
   "execution_count": 6,
   "metadata": {},
   "outputs": [],
   "source": [
    "entities.to_csv('./data/data_clean_csv/entities_clean.csv', index = False)\n",
    "intermediaries.to_csv('./data/data_clean_csv/intermediaries_clean.csv', index = False)\n",
    "officers.to_csv('./data/data_clean_csv/officers_clean.csv', index = False)\n",
    "addresses.to_csv('./data/data_clean_csv/addresses_clean.csv', index = False)\n",
    "all_edges.to_csv('./data/data_clean_csv/all_edges_clean.csv', index = False)"
   ]
  },
  {
   "cell_type": "markdown",
   "metadata": {},
   "source": [
    "# II. Density Maps"
   ]
  },
  {
   "cell_type": "markdown",
   "metadata": {},
   "source": [
    "This widget allows to display maps showing the repartition of officers, intermediaries and entities in the world.\n",
    "The user can specify which of these data he wants to display, and on which region (can be the entire world or a specified one).\n",
    "\n",
    "The user can also choose between 3 geoJSON, having different weight, and thus being more or less precise. With the lightest geoJSON, the processing time is reduces and the map is more reactive, but some small countries are missing.\n",
    "With the heaviest geoJSON, all the countries are present, but the processing time can take time and the map can be less reactive if the computer is not powerful enough. If the user wishes to see a small country that is not in the lightest geoJSON, he can choose a heavier geoJSON and reduce the geoJSON area to a continent so that it does not involve too much computation time.\n",
    "\n",
    "The color scale is logarithmic because the number of actors in a country can differ a lot, and the presence of outliers gives an unreadable map with a linear scale."
   ]
  },
  {
   "cell_type": "code",
   "execution_count": 7,
   "metadata": {},
   "outputs": [
    {
     "data": {
      "application/vnd.jupyter.widget-view+json": {
       "model_id": "d7ab3283ee6d4733b7dd2f23bde20046",
       "version_major": 2,
       "version_minor": 0
      },
      "text/html": [
       "<p>Failed to display Jupyter Widget of type <code>interactive</code>.</p>\n",
       "<p>\n",
       "  If you're reading this message in Jupyter Notebook or JupyterLab, it may mean\n",
       "  that the widgets JavaScript is still loading. If this message persists, it\n",
       "  likely means that the widgets JavaScript library is either not installed or\n",
       "  not enabled. See the <a href=\"https://ipywidgets.readthedocs.io/en/stable/user_install.html\">Jupyter\n",
       "  Widgets Documentation</a> for setup instructions.\n",
       "</p>\n",
       "<p>\n",
       "  If you're reading this message in another notebook frontend (for example, a static\n",
       "  rendering on GitHub or <a href=\"https://nbviewer.jupyter.org/\">NBViewer</a>),\n",
       "  it may mean that your frontend doesn't currently support widgets.\n",
       "</p>\n"
      ],
      "text/plain": [
       "interactive(children=(Dropdown(description='query', options=('entities', 'officers', 'intermediaries'), value='entities'), Dropdown(description='json_weight', options=('light', 'mid_weight', 'heavy'), value='light'), Dropdown(description='region', options=('World', 'Europe', 'Asia', 'Americas', 'Africa', 'Oceania'), value='World'), Output()), _dom_classes=('widget-interact',))"
      ]
     },
     "metadata": {},
     "output_type": "display_data"
    },
    {
     "data": {
      "text/plain": [
       "<function density_maps.create_density_map>"
      ]
     },
     "execution_count": 7,
     "metadata": {},
     "output_type": "execute_result"
    }
   ],
   "source": [
    "interact(create_density_map, query=['entities','officers','intermediaries'], json_weight=['light','mid_weight','heavy'],\n",
    "        region=['World', 'Europe', 'Asia', 'Americas', 'Africa',\n",
    "                'Oceania'])"
   ]
  },
  {
   "cell_type": "markdown",
   "metadata": {},
   "source": [
    "# III. Connection Queries"
   ]
  },
  {
   "cell_type": "markdown",
   "metadata": {
    "extensions": {
     "jupyter_dashboards": {
      "version": 1,
      "views": {
       "grid_default": {
        "col": 8,
        "height": 4,
        "hidden": true,
        "row": 0,
        "width": 4
       },
       "report_default": {
        "hidden": false
       }
      }
     }
    }
   },
   "source": [
    "## Simple queries\n",
    "\n",
    "### Reading clean data"
   ]
  },
  {
   "cell_type": "code",
   "execution_count": 8,
   "metadata": {
    "extensions": {
     "jupyter_dashboards": {
      "version": 1,
      "views": {
       "grid_default": {
        "hidden": true
       },
       "report_default": {
        "hidden": true
       }
      }
     }
    }
   },
   "outputs": [],
   "source": [
    "entities = pd.read_csv(\"./data/data_clean_csv/entities_clean.csv\", dtype = 'object')\n",
    "intermediaries = pd.read_csv(\"./data/data_clean_csv/intermediaries_clean.csv\", dtype = 'object')\n",
    "officers = pd.read_csv(\"./data/data_clean_csv/officers_clean.csv\", dtype = 'object')\n",
    "addresses = pd.read_csv(\"./data/data_clean_csv/addresses_clean.csv\", dtype = 'object')\n",
    "all_edges = pd.read_csv(\"./data/data_clean_csv/all_edges_clean.csv\", dtype = 'object')"
   ]
  },
  {
   "cell_type": "markdown",
   "metadata": {
    "extensions": {
     "jupyter_dashboards": {
      "version": 1,
      "views": {
       "grid_default": {
        "col": 0,
        "height": 4,
        "hidden": true,
        "row": 0,
        "width": 4
       },
       "report_default": {
        "hidden": false
       }
      }
     }
    }
   },
   "source": [
    "### DataFrame dictionary creation\n",
    "\n",
    "We now create a dictionary that contains all the DataFrames:"
   ]
  },
  {
   "cell_type": "code",
   "execution_count": 9,
   "metadata": {
    "extensions": {
     "jupyter_dashboards": {
      "version": 1,
      "views": {
       "grid_default": {
        "hidden": true
       },
       "report_default": {
        "hidden": true
       }
      }
     }
    }
   },
   "outputs": [],
   "source": [
    "df_dictionary = {'Entity': entities, 'Intermediary': intermediaries, 'Officer': officers, 'Address': addresses,\n",
    "             'all_edges': all_edges}"
   ]
  },
  {
   "cell_type": "markdown",
   "metadata": {
    "extensions": {
     "jupyter_dashboards": {
      "version": 1,
      "views": {
       "grid_default": {
        "col": 4,
        "height": 4,
        "hidden": true,
        "row": 0,
        "width": 4
       },
       "report_default": {
        "hidden": false
       }
      }
     }
    }
   },
   "source": [
    "### List of available countries\n",
    "\n",
    "`available_countries` is a list containing all the countries that can be used as a filter for the query."
   ]
  },
  {
   "cell_type": "code",
   "execution_count": 10,
   "metadata": {
    "extensions": {
     "jupyter_dashboards": {
      "version": 1,
      "views": {
       "grid_default": {
        "col": 8,
        "height": 4,
        "hidden": true,
        "row": 0,
        "width": 4
       },
       "report_default": {
        "hidden": false
       }
      }
     }
    }
   },
   "outputs": [
    {
     "data": {
      "text/plain": [
       "206"
      ]
     },
     "execution_count": 10,
     "metadata": {},
     "output_type": "execute_result"
    }
   ],
   "source": [
    "available_countries = [x for x in officers['countries'].unique() if ';' not in x]\n",
    "available_countries.sort()\n",
    "available_countries = ['All'] + available_countries\n",
    "len(available_countries)"
   ]
  },
  {
   "cell_type": "markdown",
   "metadata": {
    "extensions": {
     "jupyter_dashboards": {
      "version": 1,
      "views": {
       "grid_default": {
        "col": 0,
        "height": 5,
        "hidden": true,
        "row": 0,
        "width": 12
       },
       "report_default": {
        "hidden": false
       }
      }
     }
    }
   },
   "source": [
    "### GUI to get the relationships of a particular item\n",
    "\n",
    "The `get_relationships` function is meant to find all the relationships of a particular item of the database, represented as DataFrame line that is passed as input (`df_queried_item`). It outputs a DataFrame showing all the in and out-relationships involving the queried item of the database.\n",
    "This function is then used through a GUI interface at the end of this notebook."
   ]
  },
  {
   "cell_type": "code",
   "execution_count": 11,
   "metadata": {
    "extensions": {
     "jupyter_dashboards": {
      "version": 1,
      "views": {
       "grid_default": {
        "hidden": true
       },
       "report_default": {
        "hidden": true
       }
      }
     }
    }
   },
   "outputs": [],
   "source": [
    "panama_papers_aux.Item.readCapitalCoordinates()"
   ]
  },
  {
   "cell_type": "code",
   "execution_count": 12,
   "metadata": {
    "extensions": {
     "jupyter_dashboards": {
      "version": 1,
      "views": {
       "grid_default": {
        "col": 2,
        "height": 35,
        "hidden": false,
        "row": 0,
        "width": 8
       },
       "report_default": {
        "hidden": false
       }
      }
     }
    },
    "scrolled": false
   },
   "outputs": [],
   "source": [
    "options_type_dic = {'Entities': 'entities', 'Intermediaries': 'intermediaries', 'Officers': 'officers'}\n",
    "\n",
    "option_list = ['Entity', 'Intermediary', 'Officer']\n",
    "widgetDFName = widgets.Dropdown(description = 'Type', options = option_list)\n",
    "widgetQueriedName = widgets.Text(description = 'Name', value = 'Type name here')\n",
    "widgetCountry = widgets.Dropdown(description = 'Country', options = available_countries)\n",
    "# 1st widget\n",
    "first_widget = interactive(panama_papers_aux.search_by_name, queried_name = widgetQueriedName, dictionary = fixed(df_dictionary),\\\n",
    "                df_name = widgetDFName, country = widgetCountry)\n",
    "\n",
    "# Button 1\n",
    "button1 = widgets.Button(description=\"Apply Filter\")\n",
    "def show_results(b):\n",
    "    widgetResult.options = first_widget.result['name'].values.tolist()\n",
    "button1.on_click(show_results)\n",
    "\n",
    "# 2nd widget\n",
    "def name_selection(selected_name):\n",
    "    matched_df = first_widget.result\n",
    "    return matched_df[matched_df['name'] == selected_name]\n",
    "widgetResult = widgets.Dropdown(description = 'Name options')\n",
    "second_widget = interactive(name_selection, selected_name = widgetResult)\n",
    "\n",
    "# Button 2\n",
    "def print_selected_result(b):\n",
    "    if (second_widget.result.shape[0] != 0):\n",
    "        # Instantiating an Item object corresponding to the query\n",
    "        # Then instantiating a NetworkItem object from the previous Item object\n",
    "        type_ = widgetDFName.value\n",
    "        queried_item = panama_papers_aux.Item.fromSingleLineDF(second_widget.result, type_)\n",
    "        queried_item_network = panama_papers_aux.ItemNetwork(queried_item, df_dictionary)\n",
    "        \n",
    "        display()\n",
    "        \n",
    "        # get ItemNetwork DataFrame and print it\n",
    "        network_df = queried_item_network.getDF()\n",
    "        display()\n",
    "        \n",
    "        # get FoliumMap of connections and print it\n",
    "        connection_map = queried_item_network.getMap()\n",
    "        display(Markdown('### ' + queried_item.name), network_df, connection_map)\n",
    "        #button2.close()\n",
    "        #button3.open()\n",
    "\n",
    "button2 = widgets.Button(description=\"Display Relationships\")\n",
    "button2.on_click(print_selected_result)"
   ]
  },
  {
   "cell_type": "markdown",
   "metadata": {},
   "source": [
    "To test the widget, you can try with 'Trump' query as an officer / entity."
   ]
  },
  {
   "cell_type": "code",
   "execution_count": 15,
   "metadata": {},
   "outputs": [
    {
     "data": {
      "application/vnd.jupyter.widget-view+json": {
       "model_id": "8b7b46ffef9a42a183ea14d606fec83d",
       "version_major": 2,
       "version_minor": 0
      },
      "text/html": [
       "<p>Failed to display Jupyter Widget of type <code>interactive</code>.</p>\n",
       "<p>\n",
       "  If you're reading this message in Jupyter Notebook or JupyterLab, it may mean\n",
       "  that the widgets JavaScript is still loading. If this message persists, it\n",
       "  likely means that the widgets JavaScript library is either not installed or\n",
       "  not enabled. See the <a href=\"https://ipywidgets.readthedocs.io/en/stable/user_install.html\">Jupyter\n",
       "  Widgets Documentation</a> for setup instructions.\n",
       "</p>\n",
       "<p>\n",
       "  If you're reading this message in another notebook frontend (for example, a static\n",
       "  rendering on GitHub or <a href=\"https://nbviewer.jupyter.org/\">NBViewer</a>),\n",
       "  it may mean that your frontend doesn't currently support widgets.\n",
       "</p>\n"
      ],
      "text/plain": [
       "interactive(children=(Text(value='TRUMP', description='Name'), Dropdown(description='Type', index=1, options=('Entity', 'Intermediary', 'Officer'), value='Intermediary'), Dropdown(description='Country', index=10, options=('All', 'Albania', 'Algeria', 'American Samoa', 'Andorra', 'Angola', 'Anguilla', 'Antigua and Barbuda', 'Argentina', 'Armenia', 'Aruba', 'Australia', 'Austria', 'Azerbaijan', 'Bahamas', 'Bahrain', 'Bangladesh', 'Barbados', 'Belarus', 'Belgium', 'Belize', 'Benin', 'Bermuda', 'Bhutan', 'Bolivia', 'Bosnia and Herzegovina', 'Botswana', 'Brazil', 'British Virgin Islands', 'Brunei', 'Bulgaria', 'Burkina Faso', 'Cambodia', 'Cameroon', 'Canada', 'Cape Verde', 'Cayman Islands', 'Central African Republic', 'Chad', 'Chile', 'China', 'Colombia', 'Cook Islands', 'Costa Rica', 'Croatia', 'Cuba', 'Curaçao', 'Cyprus', 'Czech Republic', \"Côte d'Ivoire\", 'DR Congo', 'Denmark', 'Djibouti', 'Dominica', 'Dominican Republic', 'Ecuador', 'Egypt', 'El Salvador', 'Equatorial Guinea', 'Estonia', 'Ethiopia', 'FRA', 'Fiji', 'Finland', 'France', 'French Polynesia', 'Gabon', 'Gambia', 'Georgia', 'Germany', 'Ghana', 'Gibraltar', 'Greece', 'Grenada', 'Guam', 'Guatemala', 'Guernsey', 'Guinea', 'Guinea-Bissau', 'Guyana', 'Haiti', 'Honduras', 'Hong Kong', 'Hungary', 'Iceland', 'India', 'Indonesia', 'Iran', 'Iraq', 'Ireland', 'Isle of Man', 'Israel', 'Italy', 'Jamaica', 'Japan', 'Jersey', 'Jordan', 'Kazakhstan', 'Kenya', 'Kuwait', 'Kyrgyzstan', 'Laos', 'Latvia', 'Lebanon', 'Lesotho', 'Liberia', 'Libya', 'Liechtenstein', 'Lithuania', 'Luxembourg', 'Macao', 'Macedonia', 'Madagascar', 'Malawi', 'Malaysia', 'Maldives', 'Mali', 'Malta', 'Marshall Islands', 'Mauritius', 'Mexico', 'Moldova', 'Monaco', 'Mongolia', 'Montenegro', 'Morocco', 'Mozambique', 'Myanmar', 'Namibia', 'Nauru', 'Nepal', 'Netherlands', 'New Zealand', 'Nicaragua', 'Niger', 'Nigeria', 'Niue', 'Norfolk Island', 'Norway', 'Oman', 'Pakistan', 'Palestine', 'Panama', 'Papua New Guinea', 'Paraguay', 'Peru', 'Philippines', 'Poland', 'Portugal', 'Puerto Rico', 'Qatar', 'Romania', 'Russia', 'Rwanda', 'Saint Kitts and Nevis', 'Saint Lucia', 'Saint Martin (French part)', 'Saint Vincent and the Grenadines', 'Samoa', 'San Marino', 'Saudi Arabia', 'Senegal', 'Serbia', 'Seychelles', 'Sierra Leone', 'Singapore', 'Sint Maarten (Dutch part)', 'Slovakia', 'Slovenia', 'Solomon Islands', 'Somalia', 'South Africa', 'South Korea', 'Spain', 'Sri Lanka', 'Sudan', 'Suriname', 'Swaziland', 'Sweden', 'Switzerland', 'Syria', 'Taiwan', 'Tajikistan', 'Tanzania', 'Thailand', 'Togo', 'Tonga', 'Trinidad and Tobago', 'Tunisia', 'Turkey', 'Turkmenistan', 'Turks and Caicos Islands', 'U.S. Virgin Islands', 'Uganda', 'Ukraine', 'United Arab Emirates', 'United Kingdom', 'United States', 'Uruguay', 'Uzbekistan', 'Vanuatu', 'Venezuela', 'Viet Nam', 'Yemen', 'Zambia', 'Zimbabwe'), value='Aruba'), Output()), _dom_classes=('widget-interact',))"
      ]
     },
     "metadata": {},
     "output_type": "display_data"
    },
    {
     "data": {
      "application/vnd.jupyter.widget-view+json": {
       "model_id": "b790f31868a342838097e72fbd7e3ede",
       "version_major": 2,
       "version_minor": 0
      },
      "text/html": [
       "<p>Failed to display Jupyter Widget of type <code>Button</code>.</p>\n",
       "<p>\n",
       "  If you're reading this message in Jupyter Notebook or JupyterLab, it may mean\n",
       "  that the widgets JavaScript is still loading. If this message persists, it\n",
       "  likely means that the widgets JavaScript library is either not installed or\n",
       "  not enabled. See the <a href=\"https://ipywidgets.readthedocs.io/en/stable/user_install.html\">Jupyter\n",
       "  Widgets Documentation</a> for setup instructions.\n",
       "</p>\n",
       "<p>\n",
       "  If you're reading this message in another notebook frontend (for example, a static\n",
       "  rendering on GitHub or <a href=\"https://nbviewer.jupyter.org/\">NBViewer</a>),\n",
       "  it may mean that your frontend doesn't currently support widgets.\n",
       "</p>\n"
      ],
      "text/plain": [
       "Button(description='Apply Filter', style=ButtonStyle())"
      ]
     },
     "metadata": {},
     "output_type": "display_data"
    },
    {
     "data": {
      "application/vnd.jupyter.widget-view+json": {
       "model_id": "09d4984fef584e8185a9ab1889090c26",
       "version_major": 2,
       "version_minor": 0
      },
      "text/html": [
       "<p>Failed to display Jupyter Widget of type <code>interactive</code>.</p>\n",
       "<p>\n",
       "  If you're reading this message in Jupyter Notebook or JupyterLab, it may mean\n",
       "  that the widgets JavaScript is still loading. If this message persists, it\n",
       "  likely means that the widgets JavaScript library is either not installed or\n",
       "  not enabled. See the <a href=\"https://ipywidgets.readthedocs.io/en/stable/user_install.html\">Jupyter\n",
       "  Widgets Documentation</a> for setup instructions.\n",
       "</p>\n",
       "<p>\n",
       "  If you're reading this message in another notebook frontend (for example, a static\n",
       "  rendering on GitHub or <a href=\"https://nbviewer.jupyter.org/\">NBViewer</a>),\n",
       "  it may mean that your frontend doesn't currently support widgets.\n",
       "</p>\n"
      ],
      "text/plain": [
       "interactive(children=(Dropdown(description='Name options', options=(), value=None), Output()), _dom_classes=('widget-interact',))"
      ]
     },
     "metadata": {},
     "output_type": "display_data"
    },
    {
     "data": {
      "application/vnd.jupyter.widget-view+json": {
       "model_id": "0c15341ccd5b4312ba738795971c915e",
       "version_major": 2,
       "version_minor": 0
      },
      "text/html": [
       "<p>Failed to display Jupyter Widget of type <code>Button</code>.</p>\n",
       "<p>\n",
       "  If you're reading this message in Jupyter Notebook or JupyterLab, it may mean\n",
       "  that the widgets JavaScript is still loading. If this message persists, it\n",
       "  likely means that the widgets JavaScript library is either not installed or\n",
       "  not enabled. See the <a href=\"https://ipywidgets.readthedocs.io/en/stable/user_install.html\">Jupyter\n",
       "  Widgets Documentation</a> for setup instructions.\n",
       "</p>\n",
       "<p>\n",
       "  If you're reading this message in another notebook frontend (for example, a static\n",
       "  rendering on GitHub or <a href=\"https://nbviewer.jupyter.org/\">NBViewer</a>),\n",
       "  it may mean that your frontend doesn't currently support widgets.\n",
       "</p>\n"
      ],
      "text/plain": [
       "Button(description='Display Relationships', style=ButtonStyle())"
      ]
     },
     "metadata": {},
     "output_type": "display_data"
    }
   ],
   "source": [
    "handle = display(first_widget, button1, second_widget, button2)"
   ]
  }
 ],
 "metadata": {
  "kernelspec": {
   "display_name": "Python 3",
   "language": "python",
   "name": "python3"
  },
  "language_info": {
   "codemirror_mode": {
    "name": "ipython",
    "version": 3
   },
   "file_extension": ".py",
   "mimetype": "text/x-python",
   "name": "python",
   "nbconvert_exporter": "python",
   "pygments_lexer": "ipython3",
   "version": "3.6.1"
  }
 },
 "nbformat": 4,
 "nbformat_minor": 2
}
