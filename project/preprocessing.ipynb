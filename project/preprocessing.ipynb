{
 "cells": [
  {
   "cell_type": "code",
   "execution_count": 63,
   "metadata": {
    "collapsed": true
   },
   "outputs": [],
   "source": [
    "import pandas as pd"
   ]
  },
  {
   "cell_type": "markdown",
   "metadata": {},
   "source": [
    "# Reading and cleaning of the dataset\n",
    "\n",
    "Reading of the different parts of the dataset. There are 4 different files that are converted into pandas DataFrames:\n",
    "- `Entities.csv`, `Officers.csv`, `Intermediaries.csv` are dedicated to the three types of actors encountered in the database. Entities refer to asset providers and officers to financial actors (company, private client, ...). Intermediaries refer to actors putting clients and financial service providers in contact.\n",
    "- `Addresses.csv` describe all the addresses contained in the database those addresses are linked to officers.\n",
    "- `all_edges.csv` describe the relationships between the items of the database described before, that are entities, officers, intermediaries and addresses. Four different kinds of relationships are described in this dataset: 'registered address', 'shareholder of', 'beneficiary of' and 'intermediary of'.\n",
    "\n"
   ]
  },
  {
   "cell_type": "code",
   "execution_count": 64,
   "metadata": {
    "collapsed": true
   },
   "outputs": [],
   "source": [
    "entities = pd.read_csv(\"./data/data_csv/Entities.csv\", dtype = 'object')\n",
    "intermediaries = pd.read_csv(\"./data/data_csv/Intermediaries.csv\", dtype = 'object')\n",
    "officers = pd.read_csv(\"./data/data_csv/Officers.csv\", dtype = 'object')\n",
    "addresses = pd.read_csv(\"./data/data_csv/Addresses.csv\", dtype = 'object')\n",
    "all_edges = pd.read_csv(\"./data/data_csv/all_edges.csv\", dtype = 'object')"
   ]
  },
  {
   "cell_type": "markdown",
   "metadata": {},
   "source": [
    "### Dataset description\n",
    "\n",
    "Now we print the DataFrames' columns and size in order to have a rough idea of their content."
   ]
  },
  {
   "cell_type": "code",
   "execution_count": 65,
   "metadata": {
    "scrolled": true
   },
   "outputs": [
    {
     "name": "stdout",
     "output_type": "stream",
     "text": [
      "entities:\n",
      "\tshape: (495038, 21)\n",
      "\tcolumns: Index(['name', 'original_name', 'former_name', 'jurisdiction',\n",
      "       'jurisdiction_description', 'company_type', 'address', 'internal_id',\n",
      "       'incorporation_date', 'inactivation_date', 'struck_off_date',\n",
      "       'dorm_date', 'status', 'service_provider', 'ibcRUC', 'country_codes',\n",
      "       'countries', 'note', 'valid_until', 'node_id', 'sourceID'],\n",
      "      dtype='object')\n",
      "\n",
      "intermediaries:\n",
      "\tshape: (24177, 10)\n",
      "\tcolumns: Index(['name', 'internal_id', 'address', 'valid_until', 'country_codes',\n",
      "       'countries', 'status', 'node_id', 'sourceID', 'note'],\n",
      "      dtype='object')\n",
      "\n",
      "officers:\n",
      "\tshape: (370854, 8)\n",
      "\tcolumns: Index(['name', 'icij_id', 'valid_until', 'country_codes', 'countries',\n",
      "       'node_id', 'sourceID', 'note'],\n",
      "      dtype='object')\n",
      "\n",
      "addresses:\n",
      "\tshape: (151605, 8)\n",
      "\tcolumns: Index(['address', 'icij_id', 'valid_until', 'country_codes', 'countries',\n",
      "       'node_id', 'sourceID', 'note'],\n",
      "      dtype='object')\n",
      "\n",
      "all_edges:\n",
      "\tshape: (1535552, 7)\n",
      "\tcolumns: Index(['node_1', 'rel_type', 'node_2', 'sourceID', 'valid_until', 'start_date',\n",
      "       'end_date'],\n",
      "      dtype='object')\n"
     ]
    }
   ],
   "source": [
    "print('entities:')\n",
    "print('\\tshape:', entities.shape)\n",
    "print('\\tcolumns:', entities.columns)\n",
    "print()\n",
    "\n",
    "print('intermediaries:')\n",
    "print('\\tshape:', intermediaries.shape)\n",
    "print('\\tcolumns:', intermediaries.columns)\n",
    "print()\n",
    "\n",
    "print('officers:')\n",
    "print('\\tshape:', officers.shape)\n",
    "print('\\tcolumns:', officers.columns)\n",
    "print()\n",
    "\n",
    "print('addresses:')\n",
    "print('\\tshape:', addresses.shape)\n",
    "print('\\tcolumns:', addresses.columns)\n",
    "print()\n",
    "\n",
    "print('all_edges:')\n",
    "print('\\tshape:', all_edges.shape)\n",
    "print('\\tcolumns:', all_edges.columns)"
   ]
  },
  {
   "cell_type": "markdown",
   "metadata": {},
   "source": [
    "### Cleaning up\n",
    "\n",
    "The `entities`, `intermediaries` and `officers`' rows whose columns `name` and `countries` contains a NaN value are dropped because these rows will not be exploitable for the analysis. We also drop `addresses`' rows whose `address` column has a NaN value."
   ]
  },
  {
   "cell_type": "code",
   "execution_count": 66,
   "metadata": {},
   "outputs": [
    {
     "name": "stdout",
     "output_type": "stream",
     "text": [
      "176682 rows dropped in entities\n",
      "1515 rows dropped in intermediaries\n",
      "118856 rows dropped in officers\n",
      "891 rows dropped in addresses\n"
     ]
    }
   ],
   "source": [
    "original_num_row = entities.shape[0]\n",
    "entities = entities[entities['name'].notnull()]\n",
    "entities = entities[entities['countries'].notnull()]\n",
    "final_num_row = entities.shape[0]\n",
    "print(original_num_row - final_num_row, 'rows dropped in entities')\n",
    "\n",
    "original_num_row = intermediaries.shape[0]\n",
    "intermediaries = intermediaries[intermediaries['name'].notnull()]\n",
    "intermediaries = intermediaries[intermediaries['countries'].notnull()]\n",
    "final_num_row = intermediaries.shape[0]\n",
    "print(original_num_row - final_num_row, 'rows dropped in intermediaries')\n",
    "\n",
    "original_num_row = officers.shape[0]\n",
    "officers = officers[officers['name'].notnull()]\n",
    "officers = officers[officers['countries'].notnull()]\n",
    "final_num_row = officers.shape[0]\n",
    "print(original_num_row - final_num_row, 'rows dropped in officers')\n",
    "\n",
    "original_num_row = addresses.shape[0]\n",
    "addresses = addresses[addresses['address'].notnull()]\n",
    "addresses = addresses[addresses['countries'].notnull()]\n",
    "final_num_row = addresses.shape[0]\n",
    "print(original_num_row - final_num_row, 'rows dropped in addresses')"
   ]
  },
  {
   "cell_type": "markdown",
   "metadata": {},
   "source": [
    "### Writing clean datasets in new files\n",
    "\n",
    "In order to not have to carry out the preprocessing again we write the the DataFrames in new files."
   ]
  },
  {
   "cell_type": "code",
   "execution_count": 67,
   "metadata": {
    "collapsed": true
   },
   "outputs": [],
   "source": [
    "entities.to_csv('./data/data_clean_csv/entities_clean.csv', index = False)\n",
    "intermediaries.to_csv('./data/data_clean_csv/intermediaries_clean.csv', index = False)\n",
    "officers.to_csv('./data/data_clean_csv/officers_clean.csv', index = False)\n",
    "addresses.to_csv('./data/data_clean_csv/addresses_clean.csv', index = False)\n",
    "all_edges.to_csv('./data/data_clean_csv/all_edges_clean.csv', index = False)"
   ]
  },
  {
   "cell_type": "code",
   "execution_count": null,
   "metadata": {
    "collapsed": true
   },
   "outputs": [],
   "source": []
  },
  {
   "cell_type": "code",
   "execution_count": null,
   "metadata": {
    "collapsed": true
   },
   "outputs": [],
   "source": []
  }
 ],
 "metadata": {
  "kernelspec": {
   "display_name": "Python 3",
   "language": "python",
   "name": "python3"
  },
  "language_info": {
   "codemirror_mode": {
    "name": "ipython",
    "version": 3
   },
   "file_extension": ".py",
   "mimetype": "text/x-python",
   "name": "python",
   "nbconvert_exporter": "python",
   "pygments_lexer": "ipython3",
   "version": "3.6.3"
  }
 },
 "nbformat": 4,
 "nbformat_minor": 2
}
