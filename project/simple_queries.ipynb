{
 "cells": [
  {
   "cell_type": "code",
   "execution_count": 1,
   "metadata": {},
   "outputs": [],
   "source": [
    "import pandas as pd\n",
    "import numpy as np\n",
    "from ipywidgets import interact, interactive, fixed, interact_manual\n",
    "import ipywidgets as widgets\n",
    "import folium\n",
    "import branca\n",
    "import panama_papers_aux"
   ]
  },
  {
   "cell_type": "markdown",
   "metadata": {},
   "source": [
    "###### Versions"
   ]
  },
  {
   "cell_type": "code",
   "execution_count": 2,
   "metadata": {},
   "outputs": [
    {
     "name": "stdout",
     "output_type": "stream",
     "text": [
      "ipywidgets: 7.0.0\n",
      "folium: 0.5.0\n"
     ]
    }
   ],
   "source": [
    "print('ipywidgets:', widgets.__version__)\n",
    "print('folium:', folium.__version__)"
   ]
  },
  {
   "cell_type": "markdown",
   "metadata": {},
   "source": [
    "# Simple queries\n",
    "\n",
    "### Reading clean data"
   ]
  },
  {
   "cell_type": "code",
   "execution_count": 3,
   "metadata": {},
   "outputs": [],
   "source": [
    "entities = pd.read_csv(\"./data/data_clean_csv/entities_clean.csv\", dtype = 'object')\n",
    "intermediaries = pd.read_csv(\"./data/data_clean_csv/intermediaries_clean.csv\", dtype = 'object')\n",
    "officers = pd.read_csv(\"./data/data_clean_csv/officers_clean.csv\", dtype = 'object')\n",
    "addresses = pd.read_csv(\"./data/data_clean_csv/addresses_clean.csv\", dtype = 'object')\n",
    "all_edges = pd.read_csv(\"./data/data_clean_csv/all_edges_clean.csv\", dtype = 'object')"
   ]
  },
  {
   "cell_type": "markdown",
   "metadata": {},
   "source": [
    "### DataFrame dictionary creation\n",
    "\n",
    "We now create a dictionary that contains all the DataFrames:"
   ]
  },
  {
   "cell_type": "code",
   "execution_count": 4,
   "metadata": {},
   "outputs": [],
   "source": [
    "df_dictionary = {'Entity': entities, 'Intermediary': intermediaries, 'Officer': officers, 'Address': addresses,\n",
    "             'all_edges': all_edges}"
   ]
  },
  {
   "cell_type": "markdown",
   "metadata": {},
   "source": [
    "### List of available countries\n",
    "\n",
    "`available_countries` is a list containing all the countries that can be used as a filter for the query."
   ]
  },
  {
   "cell_type": "code",
   "execution_count": 5,
   "metadata": {},
   "outputs": [
    {
     "data": {
      "text/plain": [
       "208"
      ]
     },
     "execution_count": 5,
     "metadata": {},
     "output_type": "execute_result"
    }
   ],
   "source": [
    "available_countries = [x for x in officers['countries'].unique() if ';' not in x]\n",
    "available_countries.sort()\n",
    "available_countries = ['All'] + available_countries\n",
    "len(available_countries)"
   ]
  },
  {
   "cell_type": "markdown",
   "metadata": {},
   "source": [
    "### Query function definition\n",
    "\n",
    "Query function that can be applied to `entities`, `ìntermediaries`, `officers` and `addresses`. The query can be filtered thanks by selecting a particular country."
   ]
  },
  {
   "cell_type": "code",
   "execution_count": 6,
   "metadata": {},
   "outputs": [],
   "source": [
    "def search_by_name(queried_name, dictionary, df_name, country):\n",
    "    df = dictionary[df_name]\n",
    "    df_copy = df.copy()\n",
    "    if (country != 'All'):\n",
    "        df_copy = df_copy[df_copy['countries'].str.contains(country, case = False)]        \n",
    "    matched_df_copy = df_copy[df_copy['name'].str.contains(queried_name, case = False)]\n",
    "    matched_name_serie = matched_df_copy['name']\n",
    "\n",
    "    if (matched_name_serie.shape[0] > 100):\n",
    "        matched_name_serie = matched_name_serie.iloc[:100]\n",
    "        matched_df_copy = matched_df_copy.iloc[:100]\n",
    "\n",
    "    return matched_df_copy"
   ]
  },
  {
   "cell_type": "markdown",
   "metadata": {},
   "source": [
    "### GUI to get the relationships of a particular item\n",
    "\n",
    "The `get_relationships` function is meant to find all the relationships of a particular item of the database, represented as DataFrame line that is passed as input (`df_queried_item`). It outputs a DataFrame showing all the in and out-relationships involving the queried item of the database.\n",
    "This function is then used through a GUI interface at the end of this notebook."
   ]
  },
  {
   "cell_type": "code",
   "execution_count": 7,
   "metadata": {},
   "outputs": [],
   "source": [
    "panama_papers_aux.Item.readCapitalCoordinates()"
   ]
  },
  {
   "cell_type": "code",
   "execution_count": 8,
   "metadata": {
    "scrolled": false
   },
   "outputs": [
    {
     "data": {
      "application/vnd.jupyter.widget-view+json": {
       "model_id": "7bff0a7d83994eb8b7945c8da2045c69",
       "version_major": 2,
       "version_minor": 0
      },
      "text/plain": [
       "A Jupyter Widget"
      ]
     },
     "metadata": {},
     "output_type": "display_data"
    },
    {
     "data": {
      "application/vnd.jupyter.widget-view+json": {
       "model_id": "a925816fa6bf4067bc2167bb20150b1e",
       "version_major": 2,
       "version_minor": 0
      },
      "text/plain": [
       "A Jupyter Widget"
      ]
     },
     "metadata": {},
     "output_type": "display_data"
    },
    {
     "data": {
      "application/vnd.jupyter.widget-view+json": {
       "model_id": "9e70f2f2ede243b5932c2261b8712897",
       "version_major": 2,
       "version_minor": 0
      },
      "text/plain": [
       "A Jupyter Widget"
      ]
     },
     "metadata": {},
     "output_type": "display_data"
    },
    {
     "data": {
      "application/vnd.jupyter.widget-view+json": {
       "model_id": "0505dc799fba4a008c9504863668b7db",
       "version_major": 2,
       "version_minor": 0
      },
      "text/plain": [
       "A Jupyter Widget"
      ]
     },
     "metadata": {},
     "output_type": "display_data"
    }
   ],
   "source": [
    "options_type_dic = {'Entities': 'entities', 'Intermediaries': 'intermediaries', 'Officers': 'officers'}\n",
    "\n",
    "option_list = ['Entity', 'Intermediary', 'Officer']\n",
    "widgetDFName = widgets.Dropdown(description = 'Type', options = option_list)\n",
    "widgetQueriedName = widgets.Text(description = 'Name', value = 'Type name here')\n",
    "widgetCountry = widgets.Dropdown(description = 'Country', options = available_countries)\n",
    "# 1st widget\n",
    "first_widget = interactive(search_by_name, queried_name = widgetQueriedName, dictionary = fixed(df_dictionary),\\\n",
    "                df_name = widgetDFName, country = widgetCountry)\n",
    "\n",
    "# Button 1\n",
    "button1 = widgets.Button(description=\"Apply Filter\")\n",
    "def show_results(b):\n",
    "    widgetResult.options = first_widget.result['name'].values.tolist()\n",
    "button1.on_click(show_results)\n",
    "\n",
    "# 2nd widget\n",
    "def name_selection(selected_name):\n",
    "    matched_df = first_widget.result\n",
    "    return matched_df[matched_df['name'] == selected_name]\n",
    "widgetResult = widgets.Dropdown(description = 'Name options')\n",
    "second_widget = interactive(name_selection, selected_name = widgetResult)\n",
    "\n",
    "# Button 2\n",
    "def print_selected_result(b):\n",
    "    if (second_widget.result.shape[0] != 0):\n",
    "        # Instantiating an Item object corresponding to the query\n",
    "        # Then instantiating a NetworkItem object from the previous Item object\n",
    "        type_ = widgetDFName.value\n",
    "        queried_item = panama_papers_aux.Item.fromSingleLineDF(second_widget.result, type_)\n",
    "        queried_item_network = panama_papers_aux.ItemNetwork(queried_item, df_dictionary)\n",
    "        \n",
    "        # get ItemNetwork DataFrame and print it\n",
    "        network_df = queried_item_network.getDF()\n",
    "        display(network_df)\n",
    "        \n",
    "        # get FoliumMap of connections and print it\n",
    "        connection_map = queried_item_network.getMap()\n",
    "        display(connection_map)\n",
    "        button2.close()\n",
    "        #button3.open()\n",
    "\n",
    "button2 = widgets.Button(description=\"Display relationships\")\n",
    "button2.on_click(print_selected_result)\n",
    "\n",
    "handle = display(first_widget, button1, second_widget, button2)"
   ]
  },
  {
   "cell_type": "code",
   "execution_count": null,
   "metadata": {},
   "outputs": [],
   "source": []
  },
  {
   "cell_type": "markdown",
   "metadata": {},
   "source": [
    "### Print the relationships on a folium map\n",
    "\n",
    "The `print_relationships_on_map` is a function that calls "
   ]
  },
  {
   "cell_type": "code",
   "execution_count": 9,
   "metadata": {},
   "outputs": [],
   "source": [
    "def relationships_on_map(relationships_output_df):\n",
    "    pass"
   ]
  },
  {
   "cell_type": "code",
   "execution_count": 10,
   "metadata": {},
   "outputs": [],
   "source": [
    "def nodes_on_map(original_map, relationships_output_df):\n",
    "    # firstly we have to get the nodes to print\n",
    "    # To do so we maintain a list with the node id that have to be printed \n",
    "    #    and we go through the relationships_output_df\n",
    "    \n",
    "    in_nodes_list = []\n",
    "    \n",
    "    node_list = [];\n",
    "    for df_line in relationships_output_df:\n",
    "        pass\n",
    "    \n",
    "    "
   ]
  },
  {
   "cell_type": "code",
   "execution_count": 11,
   "metadata": {},
   "outputs": [
    {
     "ename": "NameError",
     "evalue": "name 'get_relationships' is not defined",
     "output_type": "error",
     "traceback": [
      "\u001b[0;31m---------------------------------------------------------------------------\u001b[0m",
      "\u001b[0;31mNameError\u001b[0m                                 Traceback (most recent call last)",
      "\u001b[0;32m<ipython-input-11-0c1c1338eeca>\u001b[0m in \u001b[0;36m<module>\u001b[0;34m()\u001b[0m\n\u001b[1;32m      1\u001b[0m \u001b[0;31m#inputs\u001b[0m\u001b[0;34m\u001b[0m\u001b[0;34m\u001b[0m\u001b[0m\n\u001b[1;32m      2\u001b[0m \u001b[0moriginal_map\u001b[0m \u001b[0;34m=\u001b[0m \u001b[0mfolium\u001b[0m\u001b[0;34m.\u001b[0m\u001b[0mMap\u001b[0m\u001b[0;34m(\u001b[0m\u001b[0mlocation\u001b[0m\u001b[0;34m=\u001b[0m\u001b[0;34m[\u001b[0m\u001b[0;36m0\u001b[0m\u001b[0;34m,\u001b[0m \u001b[0;36m0\u001b[0m\u001b[0;34m]\u001b[0m\u001b[0;34m,\u001b[0m \u001b[0mzoom_start\u001b[0m \u001b[0;34m=\u001b[0m\u001b[0;36m2\u001b[0m\u001b[0;34m,\u001b[0m \u001b[0mmin_zoom\u001b[0m\u001b[0;34m=\u001b[0m\u001b[0;36m2\u001b[0m\u001b[0;34m)\u001b[0m\u001b[0;34m\u001b[0m\u001b[0m\n\u001b[0;32m----> 3\u001b[0;31m \u001b[0mrelationships_output_df\u001b[0m \u001b[0;34m=\u001b[0m \u001b[0mget_relationships\u001b[0m\u001b[0;34m(\u001b[0m\u001b[0msecond_widget\u001b[0m\u001b[0;34m.\u001b[0m\u001b[0mresult\u001b[0m\u001b[0;34m)\u001b[0m\u001b[0;34m\u001b[0m\u001b[0m\n\u001b[0m\u001b[1;32m      4\u001b[0m \u001b[0;34m\u001b[0m\u001b[0m\n\u001b[1;32m      5\u001b[0m \u001b[0mnoded_map\u001b[0m \u001b[0;34m=\u001b[0m \u001b[0mnodes_on_map\u001b[0m\u001b[0;34m(\u001b[0m\u001b[0moriginal_map\u001b[0m\u001b[0;34m,\u001b[0m \u001b[0mrelationships_output_df\u001b[0m\u001b[0;34m)\u001b[0m\u001b[0;34m\u001b[0m\u001b[0m\n",
      "\u001b[0;31mNameError\u001b[0m: name 'get_relationships' is not defined"
     ]
    }
   ],
   "source": [
    "#inputs\n",
    "original_map = folium.Map(location=[0, 0], zoom_start =2, min_zoom=2)\n",
    "relationships_output_df = get_relationships(second_widget.result)\n",
    "\n",
    "noded_map = nodes_on_map(original_map, relationships_output_df)"
   ]
  },
  {
   "cell_type": "code",
   "execution_count": 11,
   "metadata": {},
   "outputs": [
    {
     "name": "stdout",
     "output_type": "stream",
     "text": [
      "#ffff00\n"
     ]
    },
    {
     "data": {
      "text/html": [
       "<div style=\"width:100%;\"><div style=\"position:relative;width:100%;height:0;padding-bottom:60%;\"><iframe src=\"data:text/html;charset=utf-8;base64,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\" style=\"position:absolute;width:100%;height:100%;left:0;top:0;border:none !important;\" allowfullscreen webkitallowfullscreen mozallowfullscreen></iframe></div></div>"
      ],
      "text/plain": [
       "<folium.folium.Map at 0x7fb9ab184fd0>"
      ]
     },
     "execution_count": 11,
     "metadata": {},
     "output_type": "execute_result"
    }
   ],
   "source": [
    "fol_map = folium.Map(location=[0, 0], zoom_start =2, min_zoom=2)\n",
    "\n",
    "\n",
    "cm = branca.colormap.LinearColormap(['green', 'yellow', 'red'], vmin=0, vmax=50)\n",
    "print(cm(25))\n",
    "cm\n",
    "feat = folium.map.FeatureGroup()\n",
    "feat.add_child(\n",
    "        folium.features.CircleMarker(\n",
    "            [48.8666666666667, 2.333333],\n",
    "            radius=8,\n",
    "            color='#3388ff',\n",
    "            fill_color=cm(25),\n",
    "            fill = True,\n",
    "            popup = \"Hello\",\n",
    "            fill_opacity=0.6)\n",
    "        )\n",
    "\n",
    "fol_map.add_child(feat)\n",
    "fol_map"
   ]
  },
  {
   "cell_type": "code",
   "execution_count": null,
   "metadata": {},
   "outputs": [],
   "source": [
    "country_df = pd.read_csv('./res/country-capitals.csv')\n",
    "country_df[country_df['CountryName'] == 'United States']['CapitalLatitude'].values[0]"
   ]
  },
  {
   "cell_type": "code",
   "execution_count": null,
   "metadata": {},
   "outputs": [],
   "source": []
  },
  {
   "cell_type": "code",
   "execution_count": null,
   "metadata": {},
   "outputs": [],
   "source": []
  },
  {
   "cell_type": "code",
   "execution_count": null,
   "metadata": {},
   "outputs": [],
   "source": []
  }
 ],
 "metadata": {
  "kernelspec": {
   "display_name": "Python 3",
   "language": "python",
   "name": "python3"
  },
  "language_info": {
   "codemirror_mode": {
    "name": "ipython",
    "version": 3
   },
   "file_extension": ".py",
   "mimetype": "text/x-python",
   "name": "python",
   "nbconvert_exporter": "python",
   "pygments_lexer": "ipython3",
   "version": "3.6.3"
  }
 },
 "nbformat": 4,
 "nbformat_minor": 2
}
