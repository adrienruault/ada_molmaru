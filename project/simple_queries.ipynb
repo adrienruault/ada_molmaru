{
 "cells": [
  {
   "cell_type": "code",
   "execution_count": 1,
   "metadata": {},
   "outputs": [],
   "source": [
    "import pandas as pd\n",
    "import numpy as np\n",
    "from ipywidgets import interact, interactive, fixed, interact_manual\n",
    "import ipywidgets as widgets\n",
    "import folium\n",
    "import branca\n",
    "import panama_papers_aux"
   ]
  },
  {
   "cell_type": "markdown",
   "metadata": {},
   "source": [
    "###### Versions"
   ]
  },
  {
   "cell_type": "code",
   "execution_count": 2,
   "metadata": {},
   "outputs": [
    {
     "name": "stdout",
     "output_type": "stream",
     "text": [
      "ipywidgets: 7.0.0\n",
      "folium: 0.5.0\n"
     ]
    }
   ],
   "source": [
    "print('ipywidgets:', widgets.__version__)\n",
    "print('folium:', folium.__version__)"
   ]
  },
  {
   "cell_type": "markdown",
   "metadata": {},
   "source": [
    "# Simple queries\n",
    "\n",
    "### Reading clean data"
   ]
  },
  {
   "cell_type": "code",
   "execution_count": 3,
   "metadata": {},
   "outputs": [],
   "source": [
    "entities = pd.read_csv(\"./data/data_clean_csv/entities_clean.csv\", dtype = 'object')\n",
    "intermediaries = pd.read_csv(\"./data/data_clean_csv/intermediaries_clean.csv\", dtype = 'object')\n",
    "officers = pd.read_csv(\"./data/data_clean_csv/officers_clean.csv\", dtype = 'object')\n",
    "addresses = pd.read_csv(\"./data/data_clean_csv/addresses_clean.csv\", dtype = 'object')\n",
    "all_edges = pd.read_csv(\"./data/data_clean_csv/all_edges_clean.csv\", dtype = 'object')"
   ]
  },
  {
   "cell_type": "markdown",
   "metadata": {},
   "source": [
    "### DataFrame dictionary creation\n",
    "\n",
    "We now create a dictionary that contains all the DataFrames:"
   ]
  },
  {
   "cell_type": "code",
   "execution_count": 4,
   "metadata": {},
   "outputs": [],
   "source": [
    "df_dictionary = {'entities': entities, 'intermediaries': intermediaries, 'officers': officers, 'addresses': addresses,\n",
    "             'all_edges': all_edges}"
   ]
  },
  {
   "cell_type": "markdown",
   "metadata": {},
   "source": [
    "### List of available countries\n",
    "\n",
    "`available_countries` is a list containing all the countries that can be used as a filter for the query."
   ]
  },
  {
   "cell_type": "code",
   "execution_count": 5,
   "metadata": {},
   "outputs": [
    {
     "data": {
      "text/plain": [
       "208"
      ]
     },
     "execution_count": 5,
     "metadata": {},
     "output_type": "execute_result"
    }
   ],
   "source": [
    "available_countries = [x for x in officers['countries'].unique() if ';' not in x]\n",
    "available_countries.sort()\n",
    "available_countries = ['All'] + available_countries\n",
    "len(available_countries)"
   ]
  },
  {
   "cell_type": "markdown",
   "metadata": {},
   "source": [
    "### Query function definition\n",
    "\n",
    "Query function that can be applied to `entities`, `ìntermediaries`, `officers` and `addresses`. The query can be filtered thanks by selecting a particular country."
   ]
  },
  {
   "cell_type": "code",
   "execution_count": 6,
   "metadata": {},
   "outputs": [],
   "source": [
    "def search_by_name(queried_name, dictionary, df_name, country):\n",
    "    df = dictionary[df_name]\n",
    "    df_copy = df.copy()\n",
    "    if (country != 'All'):\n",
    "        df_copy = df_copy[df_copy['countries'].str.contains(country, case = False)]        \n",
    "    matched_df_copy = df_copy[df_copy['name'].str.contains(queried_name, case = False)]\n",
    "    matched_name_serie = matched_df_copy['name']\n",
    "\n",
    "    if (matched_name_serie.shape[0] > 100):\n",
    "        matched_name_serie = matched_name_serie.iloc[:100]\n",
    "        matched_df_copy = matched_df_copy.iloc[:100]\n",
    "\n",
    "    return matched_df_copy"
   ]
  },
  {
   "cell_type": "markdown",
   "metadata": {},
   "source": [
    "### GUI to get the relationships of a particular item\n",
    "\n",
    "The `get_relationships` function is meant to find all the relationships of a particular item of the database, represented as DataFrame line that is passed as input (`df_queried_item`). It outputs a DataFrame showing all the in and out-relationships involving the queried item of the database.\n",
    "This function is then used through a GUI interface at the end of this notebook."
   ]
  },
  {
   "cell_type": "code",
   "execution_count": 8,
   "metadata": {
    "scrolled": false
   },
   "outputs": [
    {
     "data": {
      "application/vnd.jupyter.widget-view+json": {
       "model_id": "df95d3d1908848cda2f3b3a94818424c",
       "version_major": 2,
       "version_minor": 0
      },
      "text/plain": [
       "A Jupyter Widget"
      ]
     },
     "metadata": {},
     "output_type": "display_data"
    },
    {
     "data": {
      "application/vnd.jupyter.widget-view+json": {
       "model_id": "3944dbe7a193445fa127aeef0bf9e45e",
       "version_major": 2,
       "version_minor": 0
      },
      "text/plain": [
       "A Jupyter Widget"
      ]
     },
     "metadata": {},
     "output_type": "display_data"
    },
    {
     "data": {
      "application/vnd.jupyter.widget-view+json": {
       "model_id": "4b23ca225737435e844bbd834beb051c",
       "version_major": 2,
       "version_minor": 0
      },
      "text/plain": [
       "A Jupyter Widget"
      ]
     },
     "metadata": {},
     "output_type": "display_data"
    },
    {
     "data": {
      "application/vnd.jupyter.widget-view+json": {
       "model_id": "b6394b6167fb4f9bb10735e0e715991e",
       "version_major": 2,
       "version_minor": 0
      },
      "text/plain": [
       "A Jupyter Widget"
      ]
     },
     "metadata": {},
     "output_type": "display_data"
    },
    {
     "data": {
      "text/html": [
       "<div>\n",
       "<style>\n",
       "    .dataframe thead tr:only-child th {\n",
       "        text-align: right;\n",
       "    }\n",
       "\n",
       "    .dataframe thead th {\n",
       "        text-align: left;\n",
       "    }\n",
       "\n",
       "    .dataframe tbody tr th {\n",
       "        vertical-align: top;\n",
       "    }\n",
       "</style>\n",
       "<table border=\"1\" class=\"dataframe\">\n",
       "  <thead>\n",
       "    <tr style=\"text-align: right;\">\n",
       "      <th></th>\n",
       "      <th>in_node</th>\n",
       "      <th>in_name</th>\n",
       "      <th>in_country</th>\n",
       "      <th>in_type</th>\n",
       "      <th>relationship</th>\n",
       "      <th>out_node</th>\n",
       "      <th>out_name</th>\n",
       "      <th>out_country</th>\n",
       "      <th>out_type</th>\n",
       "    </tr>\n",
       "  </thead>\n",
       "  <tbody>\n",
       "    <tr>\n",
       "      <th>0</th>\n",
       "      <td>11007709</td>\n",
       "      <td>CLEARWATER FIDCUCIARY SERVICES LIMITED</td>\n",
       "      <td>Isle of Man</td>\n",
       "      <td>intermediaries</td>\n",
       "      <td>intermediary of</td>\n",
       "      <td>10156331</td>\n",
       "      <td>Trumpet Services Limited</td>\n",
       "      <td>Isle of Man</td>\n",
       "      <td>Isle of Man</td>\n",
       "    </tr>\n",
       "    <tr>\n",
       "      <th>1</th>\n",
       "      <td>-1</td>\n",
       "      <td>-1</td>\n",
       "      <td>-1</td>\n",
       "      <td>-1</td>\n",
       "      <td>shareholder of</td>\n",
       "      <td>10156331</td>\n",
       "      <td>Trumpet Services Limited</td>\n",
       "      <td>Isle of Man</td>\n",
       "      <td>Isle of Man</td>\n",
       "    </tr>\n",
       "    <tr>\n",
       "      <th>2</th>\n",
       "      <td>12148692</td>\n",
       "      <td>Redcroft Limited</td>\n",
       "      <td>Isle of Man</td>\n",
       "      <td>officers</td>\n",
       "      <td>shareholder of</td>\n",
       "      <td>10156331</td>\n",
       "      <td>Trumpet Services Limited</td>\n",
       "      <td>Isle of Man</td>\n",
       "      <td>Isle of Man</td>\n",
       "    </tr>\n",
       "    <tr>\n",
       "      <th>3</th>\n",
       "      <td>12200160</td>\n",
       "      <td>Clearwater Nominees Limited</td>\n",
       "      <td>Isle of Man</td>\n",
       "      <td>officers</td>\n",
       "      <td>shareholder of</td>\n",
       "      <td>10156331</td>\n",
       "      <td>Trumpet Services Limited</td>\n",
       "      <td>Isle of Man</td>\n",
       "      <td>Isle of Man</td>\n",
       "    </tr>\n",
       "    <tr>\n",
       "      <th>4</th>\n",
       "      <td>12203012</td>\n",
       "      <td>KINGSTON TRUSTEES LIMITED</td>\n",
       "      <td>Guernsey</td>\n",
       "      <td>officers</td>\n",
       "      <td>shareholder of</td>\n",
       "      <td>10156331</td>\n",
       "      <td>Trumpet Services Limited</td>\n",
       "      <td>Isle of Man</td>\n",
       "      <td>Isle of Man</td>\n",
       "    </tr>\n",
       "    <tr>\n",
       "      <th>5</th>\n",
       "      <td>13008905</td>\n",
       "      <td>Neil Jowell</td>\n",
       "      <td>South Africa</td>\n",
       "      <td>officers</td>\n",
       "      <td>beneficiary of</td>\n",
       "      <td>10156331</td>\n",
       "      <td>Trumpet Services Limited</td>\n",
       "      <td>Isle of Man</td>\n",
       "      <td>Isle of Man</td>\n",
       "    </tr>\n",
       "  </tbody>\n",
       "</table>\n",
       "</div>"
      ],
      "text/plain": [
       "    in_node                                 in_name    in_country  \\\n",
       "0  11007709  CLEARWATER FIDCUCIARY SERVICES LIMITED   Isle of Man   \n",
       "1        -1                                      -1            -1   \n",
       "2  12148692                        Redcroft Limited   Isle of Man   \n",
       "3  12200160             Clearwater Nominees Limited   Isle of Man   \n",
       "4  12203012               KINGSTON TRUSTEES LIMITED      Guernsey   \n",
       "5  13008905                             Neil Jowell  South Africa   \n",
       "\n",
       "          in_type     relationship  out_node                  out_name  \\\n",
       "0  intermediaries  intermediary of  10156331  Trumpet Services Limited   \n",
       "1              -1   shareholder of  10156331  Trumpet Services Limited   \n",
       "2        officers   shareholder of  10156331  Trumpet Services Limited   \n",
       "3        officers   shareholder of  10156331  Trumpet Services Limited   \n",
       "4        officers   shareholder of  10156331  Trumpet Services Limited   \n",
       "5        officers   beneficiary of  10156331  Trumpet Services Limited   \n",
       "\n",
       "   out_country     out_type  \n",
       "0  Isle of Man  Isle of Man  \n",
       "1  Isle of Man  Isle of Man  \n",
       "2  Isle of Man  Isle of Man  \n",
       "3  Isle of Man  Isle of Man  \n",
       "4  Isle of Man  Isle of Man  \n",
       "5  Isle of Man  Isle of Man  "
      ]
     },
     "metadata": {},
     "output_type": "display_data"
    }
   ],
   "source": [
    "df_name_dic = {'Entities': 'entities', 'Intermediaries': 'intermediaries', 'Officers': 'officers'}\n",
    "widgetDFName = widgets.Dropdown(description = 'Type', options = df_name_dic)\n",
    "widgetQueriedName = widgets.Text(description = 'Name', value = 'Type name here')\n",
    "widgetCountry = widgets.Dropdown(description = 'Country', options = available_countries)\n",
    "# 1st widget\n",
    "first_widget = interactive(search_by_name, queried_name = widgetQueriedName, dictionary = fixed(df_dictionary),\\\n",
    "                df_name = widgetDFName, country = widgetCountry)\n",
    "\n",
    "# Button 1\n",
    "button1 = widgets.Button(description=\"Apply Filter\")\n",
    "def show_results(b):\n",
    "    widgetResult.options = first_widget.result['name'].values.tolist()\n",
    "button1.on_click(show_results)\n",
    "\n",
    "# 2nd widget\n",
    "def name_selection(selected_name):\n",
    "    matched_df = first_widget.result\n",
    "    return matched_df[matched_df['name'] == selected_name]\n",
    "widgetResult = widgets.Dropdown(description = 'Name options')\n",
    "second_widget = interactive(name_selection, selected_name = widgetResult)\n",
    "\n",
    "# Button 2\n",
    "def print_selected_result(b):\n",
    "    if (second_widget.result.shape[0] != 0):\n",
    "        # Instantiating an Item object corresponding to the query\n",
    "        # Then instantiating a NetworkItem object from the previous Item object\n",
    "        type_ = widgetDFName.value\n",
    "        queried_item = panama_papers_aux.Item.fromSingleLineDF(second_widget.result, type_)\n",
    "        queried_item_network = panama_papers_aux.ItemNetwork(queried_item, df_dictionary)\n",
    "        network_df = queried_item_network.getDF()\n",
    "        display(network_df)\n",
    "\n",
    "button2 = widgets.Button(description=\"Display relationships\")\n",
    "button2.on_click(print_selected_result)\n",
    "\n",
    "display(first_widget, button1, second_widget, button2)"
   ]
  },
  {
   "cell_type": "code",
   "execution_count": null,
   "metadata": {},
   "outputs": [],
   "source": []
  },
  {
   "cell_type": "markdown",
   "metadata": {},
   "source": [
    "### Print the relationships on a folium map\n",
    "\n",
    "The `print_relationships_on_map` is a function that calls "
   ]
  },
  {
   "cell_type": "code",
   "execution_count": 9,
   "metadata": {},
   "outputs": [],
   "source": [
    "def relationships_on_map(relationships_output_df):\n",
    "    pass"
   ]
  },
  {
   "cell_type": "code",
   "execution_count": 10,
   "metadata": {},
   "outputs": [
    {
     "ename": "SyntaxError",
     "evalue": "invalid syntax (<ipython-input-10-c3632022dade>, line 6)",
     "output_type": "error",
     "traceback": [
      "\u001b[0;36m  File \u001b[0;32m\"<ipython-input-10-c3632022dade>\"\u001b[0;36m, line \u001b[0;32m6\u001b[0m\n\u001b[0;31m    in_nodes_list =\u001b[0m\n\u001b[0m                    ^\u001b[0m\n\u001b[0;31mSyntaxError\u001b[0m\u001b[0;31m:\u001b[0m invalid syntax\n"
     ]
    }
   ],
   "source": [
    "def nodes_on_map(original_map, relationships_output_df):\n",
    "    # firstly we have to get the nodes to print\n",
    "    # To do so we maintain a list with the node id that have to be printed \n",
    "    #    and we go through the relationships_output_df\n",
    "    \n",
    "    in_nodes_list = \n",
    "    \n",
    "    node_list = [];\n",
    "    for df_line in relationships_output_df:\n",
    "        pass\n",
    "    \n",
    "    "
   ]
  },
  {
   "cell_type": "code",
   "execution_count": null,
   "metadata": {},
   "outputs": [],
   "source": [
    "for df_line in relationships_output_df.values:\n",
    "    print(df_line)"
   ]
  },
  {
   "cell_type": "code",
   "execution_count": null,
   "metadata": {},
   "outputs": [],
   "source": [
    "#inputs\n",
    "original_map = folium.Map(location=[0, 0], zoom_start =2, min_zoom=2)\n",
    "relationships_output_df = get_relationships(second_widget.result)\n",
    "\n",
    "noded_map = nodes_on_map(original_map, relationships_output_df)"
   ]
  },
  {
   "cell_type": "code",
   "execution_count": 45,
   "metadata": {},
   "outputs": [
    {
     "name": "stdout",
     "output_type": "stream",
     "text": [
      "#ffff00\n"
     ]
    },
    {
     "data": {
      "text/html": [
       "<div style=\"width:100%;\"><div style=\"position:relative;width:100%;height:0;padding-bottom:60%;\"><iframe src=\"data:text/html;charset=utf-8;base64,PCFET0NUWVBFIGh0bWw+CjxoZWFkPiAgICAKICAgIDxtZXRhIGh0dHAtZXF1aXY9ImNvbnRlbnQtdHlwZSIgY29udGVudD0idGV4dC9odG1sOyBjaGFyc2V0PVVURi04IiAvPgogICAgPHNjcmlwdD5MX1BSRUZFUl9DQU5WQVMgPSBmYWxzZTsgTF9OT19UT1VDSCA9IGZhbHNlOyBMX0RJU0FCTEVfM0QgPSBmYWxzZTs8L3NjcmlwdD4KICAgIDxzY3JpcHQgc3JjPSJodHRwczovL2Nkbi5qc2RlbGl2ci5uZXQvbnBtL2xlYWZsZXRAMS4yLjAvZGlzdC9sZWFmbGV0LmpzIj48L3NjcmlwdD4KICAgIDxzY3JpcHQgc3JjPSJodHRwczovL2FqYXguZ29vZ2xlYXBpcy5jb20vYWpheC9saWJzL2pxdWVyeS8xLjExLjEvanF1ZXJ5Lm1pbi5qcyI+PC9zY3JpcHQ+CiAgICA8c2NyaXB0IHNyYz0iaHR0cHM6Ly9tYXhjZG4uYm9vdHN0cmFwY2RuLmNvbS9ib290c3RyYXAvMy4yLjAvanMvYm9vdHN0cmFwLm1pbi5qcyI+PC9zY3JpcHQ+CiAgICA8c2NyaXB0IHNyYz0iaHR0cHM6Ly9jZG5qcy5jbG91ZGZsYXJlLmNvbS9hamF4L2xpYnMvTGVhZmxldC5hd2Vzb21lLW1hcmtlcnMvMi4wLjIvbGVhZmxldC5hd2Vzb21lLW1hcmtlcnMuanMiPjwvc2NyaXB0PgogICAgPGxpbmsgcmVsPSJzdHlsZXNoZWV0IiBocmVmPSJodHRwczovL2Nkbi5qc2RlbGl2ci5uZXQvbnBtL2xlYWZsZXRAMS4yLjAvZGlzdC9sZWFmbGV0LmNzcyIgLz4KICAgIDxsaW5rIHJlbD0ic3R5bGVzaGVldCIgaHJlZj0iaHR0cHM6Ly9tYXhjZG4uYm9vdHN0cmFwY2RuLmNvbS9ib290c3RyYXAvMy4yLjAvY3NzL2Jvb3RzdHJhcC5taW4uY3NzIiAvPgogICAgPGxpbmsgcmVsPSJzdHlsZXNoZWV0IiBocmVmPSJodHRwczovL21heGNkbi5ib290c3RyYXBjZG4uY29tL2Jvb3RzdHJhcC8zLjIuMC9jc3MvYm9vdHN0cmFwLXRoZW1lLm1pbi5jc3MiIC8+CiAgICA8bGluayByZWw9InN0eWxlc2hlZXQiIGhyZWY9Imh0dHBzOi8vbWF4Y2RuLmJvb3RzdHJhcGNkbi5jb20vZm9udC1hd2Vzb21lLzQuNi4zL2Nzcy9mb250LWF3ZXNvbWUubWluLmNzcyIgLz4KICAgIDxsaW5rIHJlbD0ic3R5bGVzaGVldCIgaHJlZj0iaHR0cHM6Ly9jZG5qcy5jbG91ZGZsYXJlLmNvbS9hamF4L2xpYnMvTGVhZmxldC5hd2Vzb21lLW1hcmtlcnMvMi4wLjIvbGVhZmxldC5hd2Vzb21lLW1hcmtlcnMuY3NzIiAvPgogICAgPGxpbmsgcmVsPSJzdHlsZXNoZWV0IiBocmVmPSJodHRwczovL3Jhd2dpdC5jb20vcHl0aG9uLXZpc3VhbGl6YXRpb24vZm9saXVtL21hc3Rlci9mb2xpdW0vdGVtcGxhdGVzL2xlYWZsZXQuYXdlc29tZS5yb3RhdGUuY3NzIiAvPgogICAgPHN0eWxlPmh0bWwsIGJvZHkge3dpZHRoOiAxMDAlO2hlaWdodDogMTAwJTttYXJnaW46IDA7cGFkZGluZzogMDt9PC9zdHlsZT4KICAgIDxzdHlsZT4jbWFwIHtwb3NpdGlvbjphYnNvbHV0ZTt0b3A6MDtib3R0b206MDtyaWdodDowO2xlZnQ6MDt9PC9zdHlsZT4KICAgIAogICAgICAgICAgICA8c3R5bGU+ICNtYXBfZGU2NTkwYjg1NjhlNDg4NWEzNDdmOWNhMzczNzk4OTUgewogICAgICAgICAgICAgICAgcG9zaXRpb24gOiByZWxhdGl2ZTsKICAgICAgICAgICAgICAgIHdpZHRoIDogMTAwLjAlOwogICAgICAgICAgICAgICAgaGVpZ2h0OiAxMDAuMCU7CiAgICAgICAgICAgICAgICBsZWZ0OiAwLjAlOwogICAgICAgICAgICAgICAgdG9wOiAwLjAlOwogICAgICAgICAgICAgICAgfQogICAgICAgICAgICA8L3N0eWxlPgogICAgICAgIAo8L2hlYWQ+Cjxib2R5PiAgICAKICAgIAogICAgICAgICAgICA8ZGl2IGNsYXNzPSJmb2xpdW0tbWFwIiBpZD0ibWFwX2RlNjU5MGI4NTY4ZTQ4ODVhMzQ3ZjljYTM3Mzc5ODk1IiA+PC9kaXY+CiAgICAgICAgCjwvYm9keT4KPHNjcmlwdD4gICAgCiAgICAKCiAgICAgICAgICAgIAogICAgICAgICAgICAgICAgdmFyIGJvdW5kcyA9IG51bGw7CiAgICAgICAgICAgIAoKICAgICAgICAgICAgdmFyIG1hcF9kZTY1OTBiODU2OGU0ODg1YTM0N2Y5Y2EzNzM3OTg5NSA9IEwubWFwKAogICAgICAgICAgICAgICAgICAgICAgICAgICAgICAgICAgJ21hcF9kZTY1OTBiODU2OGU0ODg1YTM0N2Y5Y2EzNzM3OTg5NScsCiAgICAgICAgICAgICAgICAgICAgICAgICAgICAgICAgICB7Y2VudGVyOiBbMCwwXSwKICAgICAgICAgICAgICAgICAgICAgICAgICAgICAgICAgIHpvb206IDIsCiAgICAgICAgICAgICAgICAgICAgICAgICAgICAgICAgICBtYXhCb3VuZHM6IGJvdW5kcywKICAgICAgICAgICAgICAgICAgICAgICAgICAgICAgICAgIGxheWVyczogW10sCiAgICAgICAgICAgICAgICAgICAgICAgICAgICAgICAgICB3b3JsZENvcHlKdW1wOiBmYWxzZSwKICAgICAgICAgICAgICAgICAgICAgICAgICAgICAgICAgIGNyczogTC5DUlMuRVBTRzM4NTcKICAgICAgICAgICAgICAgICAgICAgICAgICAgICAgICAgfSk7CiAgICAgICAgICAgIAogICAgICAgIAogICAgCiAgICAgICAgICAgIHZhciB0aWxlX2xheWVyX2YwODcxZGNmMTAzMjQ1NDJiOTk3YzcyNGZlNjAwNTgxID0gTC50aWxlTGF5ZXIoCiAgICAgICAgICAgICAgICAnaHR0cHM6Ly97c30udGlsZS5vcGVuc3RyZWV0bWFwLm9yZy97en0ve3h9L3t5fS5wbmcnLAogICAgICAgICAgICAgICAgewogICJhdHRyaWJ1dGlvbiI6IG51bGwsCiAgImRldGVjdFJldGluYSI6IGZhbHNlLAogICJtYXhab29tIjogMTgsCiAgIm1pblpvb20iOiAyLAogICJub1dyYXAiOiBmYWxzZSwKICAic3ViZG9tYWlucyI6ICJhYmMiCn0KICAgICAgICAgICAgICAgICkuYWRkVG8obWFwX2RlNjU5MGI4NTY4ZTQ4ODVhMzQ3ZjljYTM3Mzc5ODk1KTsKICAgICAgICAKICAgIAogICAgICAgICAgICB2YXIgZmVhdHVyZV9ncm91cF80NDBlYjgwNTc5M2I0NjY2YTJhNDFlNDEyMTZmMGNlMyA9IEwuZmVhdHVyZUdyb3VwKAogICAgICAgICAgICAgICAgKS5hZGRUbyhtYXBfZGU2NTkwYjg1NjhlNDg4NWEzNDdmOWNhMzczNzk4OTUpOwogICAgICAgIAogICAgCiAgICAgICAgICAgIHZhciBjaXJjbGVfbWFya2VyXzliNTFmMmI4MDJmYjQyMGJiZjhjZTlkYmEzNTE4NjIzID0gTC5jaXJjbGVNYXJrZXIoCiAgICAgICAgICAgICAgICBbNDguODY2NjY2NjY2NjY2NywyLjMzMzMzM10sCiAgICAgICAgICAgICAgICB7CiAgImJ1YmJsaW5nTW91c2VFdmVudHMiOiB0cnVlLAogICJjb2xvciI6ICIjMzM4OGZmIiwKICAiZGFzaEFycmF5IjogbnVsbCwKICAiZGFzaE9mZnNldCI6IG51bGwsCiAgImZpbGwiOiB0cnVlLAogICJmaWxsQ29sb3IiOiAiI2ZmZmYwMCIsCiAgImZpbGxPcGFjaXR5IjogMC42LAogICJmaWxsUnVsZSI6ICJldmVub2RkIiwKICAibGluZUNhcCI6ICJyb3VuZCIsCiAgImxpbmVKb2luIjogInJvdW5kIiwKICAib3BhY2l0eSI6IDEuMCwKICAicmFkaXVzIjogOCwKICAic3Ryb2tlIjogdHJ1ZSwKICAid2VpZ2h0IjogMwp9CiAgICAgICAgICAgICAgICApLmFkZFRvKGZlYXR1cmVfZ3JvdXBfNDQwZWI4MDU3OTNiNDY2NmEyYTQxZTQxMjE2ZjBjZTMpOwogICAgICAgICAgICAKICAgIAogICAgICAgICAgICB2YXIgcG9wdXBfM2QyNzZjNWYxYTdlNDc3MGFiMGYzYmFkYjhhOTA4MjggPSBMLnBvcHVwKHttYXhXaWR0aDogJzMwMCd9KTsKCiAgICAgICAgICAgIAogICAgICAgICAgICAgICAgdmFyIGh0bWxfZmVlMGJlNTcwNjMzNGQzNjgzOWQ0ZDdiOWZlYjFiMDIgPSAkKCc8ZGl2IGlkPSJodG1sX2ZlZTBiZTU3MDYzMzRkMzY4MzlkNGQ3YjlmZWIxYjAyIiBzdHlsZT0id2lkdGg6IDEwMC4wJTsgaGVpZ2h0OiAxMDAuMCU7Ij5IZWxsbzwvZGl2PicpWzBdOwogICAgICAgICAgICAgICAgcG9wdXBfM2QyNzZjNWYxYTdlNDc3MGFiMGYzYmFkYjhhOTA4Mjguc2V0Q29udGVudChodG1sX2ZlZTBiZTU3MDYzMzRkMzY4MzlkNGQ3YjlmZWIxYjAyKTsKICAgICAgICAgICAgCgogICAgICAgICAgICBjaXJjbGVfbWFya2VyXzliNTFmMmI4MDJmYjQyMGJiZjhjZTlkYmEzNTE4NjIzLmJpbmRQb3B1cChwb3B1cF8zZDI3NmM1ZjFhN2U0NzcwYWIwZjNiYWRiOGE5MDgyOCk7CgogICAgICAgICAgICAKICAgICAgICAKPC9zY3JpcHQ+\" style=\"position:absolute;width:100%;height:100%;left:0;top:0;border:none !important;\" allowfullscreen webkitallowfullscreen mozallowfullscreen></iframe></div></div>"
      ],
      "text/plain": [
       "<folium.folium.Map at 0x7f6b1bcc5898>"
      ]
     },
     "execution_count": 45,
     "metadata": {},
     "output_type": "execute_result"
    }
   ],
   "source": [
    "fol_map = folium.Map(location=[0, 0], zoom_start =2, min_zoom=2)\n",
    "\n",
    "\n",
    "cm = branca.colormap.LinearColormap(['green', 'yellow', 'red'], vmin=0, vmax=50)\n",
    "print(cm(25))\n",
    "cm\n",
    "\n",
    "feat = folium.map.FeatureGroup()\n",
    "\n",
    "feat.add_child(\n",
    "        folium.features.CircleMarker(\n",
    "            [48.8666666666667, 2.333333],\n",
    "            radius=8,\n",
    "            color='#3388ff',\n",
    "            fill_color=cm(25),\n",
    "            fill = True,\n",
    "            popup = \"Hello\",\n",
    "            fill_opacity=0.6)\n",
    "        )\n",
    "\n",
    "fol_map.add_child(feat)\n",
    "fol_map"
   ]
  },
  {
   "cell_type": "code",
   "execution_count": null,
   "metadata": {},
   "outputs": [],
   "source": []
  }
 ],
 "metadata": {
  "kernelspec": {
   "display_name": "Python 3",
   "language": "python",
   "name": "python3"
  },
  "language_info": {
   "codemirror_mode": {
    "name": "ipython",
    "version": 3
   },
   "file_extension": ".py",
   "mimetype": "text/x-python",
   "name": "python",
   "nbconvert_exporter": "python",
   "pygments_lexer": "ipython3",
   "version": "3.6.3"
  }
 },
 "nbformat": 4,
 "nbformat_minor": 2
}
