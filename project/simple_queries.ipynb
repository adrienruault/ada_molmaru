{
 "cells": [
  {
   "cell_type": "code",
   "execution_count": 154,
   "metadata": {
    "collapsed": true
   },
   "outputs": [],
   "source": [
    "import pandas as pd\n",
    "import numpy as np\n",
    "from ipywidgets import interact, interactive, fixed, interact_manual\n",
    "import ipywidgets as widgets"
   ]
  },
  {
   "cell_type": "markdown",
   "metadata": {},
   "source": [
    "# Simple queries\n",
    "\n",
    "### Reading clean data"
   ]
  },
  {
   "cell_type": "code",
   "execution_count": 155,
   "metadata": {
    "collapsed": true
   },
   "outputs": [],
   "source": [
    "entities = pd.read_csv(\"./data/data_clean_csv/entities_clean.csv\", dtype = 'object')\n",
    "intermediaries = pd.read_csv(\"./data/data_clean_csv/intermediaries_clean.csv\", dtype = 'object')\n",
    "officers = pd.read_csv(\"./data/data_clean_csv/officers_clean.csv\", dtype = 'object')\n",
    "addresses = pd.read_csv(\"./data/data_clean_csv/addresses_clean.csv\", dtype = 'object')\n",
    "all_edges = pd.read_csv(\"./data/data_clean_csv/all_edges_clean.csv\", dtype = 'object')"
   ]
  },
  {
   "cell_type": "markdown",
   "metadata": {},
   "source": [
    "### DataFrame dictionary creation\n",
    "\n",
    "We now create a dictionary that contains all the DataFrames:"
   ]
  },
  {
   "cell_type": "code",
   "execution_count": 156,
   "metadata": {
    "collapsed": true
   },
   "outputs": [],
   "source": [
    "dictionary = {'entities': entities, 'intermediaries': intermediaries, 'officers': officers, 'addresses': addresses,\n",
    "             'all_edges': all_edges}"
   ]
  },
  {
   "cell_type": "markdown",
   "metadata": {},
   "source": [
    "### List of available countries\n",
    "\n",
    "`available_countries` is a list containing all the countries that can be used as a filter for the query."
   ]
  },
  {
   "cell_type": "code",
   "execution_count": 157,
   "metadata": {},
   "outputs": [
    {
     "data": {
      "text/plain": [
       "208"
      ]
     },
     "execution_count": 157,
     "metadata": {},
     "output_type": "execute_result"
    }
   ],
   "source": [
    "available_countries = [x for x in officers['countries'].unique() if ';' not in x]\n",
    "available_countries.sort()\n",
    "available_countries = ['All'] + available_countries\n",
    "len(available_countries)"
   ]
  },
  {
   "cell_type": "markdown",
   "metadata": {},
   "source": [
    "### Query function definition\n",
    "\n",
    "Query function that can be applied to `entities`, `ìntermediaries`, `officers` and `addresses`. The query can be filtered thanks by selecting a particular country."
   ]
  },
  {
   "cell_type": "code",
   "execution_count": 158,
   "metadata": {
    "collapsed": true
   },
   "outputs": [],
   "source": [
    "def search_by_name(queried_name, dictionary, df_name, country):\n",
    "    df = dictionary[df_name]\n",
    "    df_copy = df.copy()\n",
    "    if (type(queried_name) == str):\n",
    "        if (country != 'All'):\n",
    "            df_copy = df_copy[df_copy['countries'].str.contains(country, case = False)]        \n",
    "        matched_df_copy = df_copy[df_copy['name'].str.contains(queried_name, case = False)]\n",
    "        matched_name_serie = matched_df_copy['name']\n",
    "        \n",
    "        if (matched_name_serie.shape[0] > 100):\n",
    "            matched_name_serie = matched_name_serie.iloc[:100]\n",
    "            matched_df_copy = matched_df_copy.iloc[:100]\n",
    "        \n",
    "        return matched_df_copy\n",
    "    else:\n",
    "        name_serie = df_copy['name']\n",
    "        matched_name_serie = name_serie[name_serie.str.contains(queried_name.value, case = False)]\n",
    "        #print(matched_name_serie)\n",
    "        \n",
    "    \n",
    "        return matched_name_serie"
   ]
  },
  {
   "cell_type": "markdown",
   "metadata": {},
   "source": [
    "### Get the relationships of a particular item\n",
    "\n",
    "The `get_relationships` function is meant to find all the relationships of a particular item of the database, represented as DataFrame line that is passed as input. This function is then used through a GUI interaction."
   ]
  },
  {
   "cell_type": "code",
   "execution_count": 327,
   "metadata": {
    "collapsed": true
   },
   "outputs": [],
   "source": [
    "def get_relationships(df_answer):\n",
    "    queried_node_id = df_answer['node_id'].values[0]\n",
    "    queried_name = df_answer['name'].values[0]\n",
    "    queried_country = df_answer['countries'].values[0]\n",
    "    queried_type = widgetDFName.value\n",
    "\n",
    "    in_relationship_df = all_edges[all_edges['node_2'] == queried_node_id]\n",
    "    out_relationship_df = all_edges[all_edges['node_1'] == queried_node_id]\n",
    "    \n",
    "    in_node_id_list = in_relationship_df['node_1'].values\n",
    "    out_node_id_list = out_relationship_df['node_2'].values\n",
    "    \n",
    "    \n",
    "    output_columns = ['in_node', 'in_name', 'in_country', 'in_type', 'relationship',\\\n",
    "                         'out_node', 'out_name', 'out_country', 'out_type']\n",
    "    output_df = pd.DataFrame(columns = output_columns) \n",
    "    \n",
    "    \n",
    "    # Looking for in-nodes throughout dataset\n",
    "    for index, in_node_id in enumerate(in_node_id_list):\n",
    "        in_type = 'entities'\n",
    "        in_node_df = entities[entities['node_id'] == in_node_id]\n",
    "        if (in_node_df.empty):\n",
    "            in_type = 'intermediaries'\n",
    "            in_node_df = intermediaries[intermediaries['node_id'] == in_node_id]\n",
    "        if (in_node_df.empty):\n",
    "            in_type = 'officers'\n",
    "            in_node_df = officers[officers['node_id'] == in_node_id]\n",
    "        if (in_node_df.empty):\n",
    "            in_type = 'addresses'\n",
    "            in_node_df = addresses[addresses['node_id'] == in_node_id]\n",
    "        if (in_node_df.empty):\n",
    "            print('Unfound in-node in entities, intermediaries and officers:', in_node_id) \n",
    "        else:\n",
    "            in_name = in_node_df['name'].values[0]\n",
    "            in_country = in_node_df['countries'].values[0]\n",
    "            relationship = in_relationship_df['rel_type'].iloc[index]\n",
    "            new_df_line = pd.Series([in_node_id, in_name, in_country, in_type, relationship, queried_node_id,\\\n",
    "                                     queried_name, queried_country, queried_type], index = output_columns)\n",
    "            output_df = output_df.append(new_df_line, ignore_index = True)\n",
    "    \n",
    "    # Looking for out-nodes throughout dataset\n",
    "    for index, out_node_id in enumerate(out_node_id_list):\n",
    "        out_type = 'entities'\n",
    "        out_node_df = entities[entities['node_id'] == out_node_id]\n",
    "        if (out_node_df.empty):\n",
    "            out_type = 'intermediaries'\n",
    "            out_node_df = intermediaries[intermediaries['node_id'] == out_node_id]\n",
    "        if (out_node_df.empty):\n",
    "            out_type = 'officers'\n",
    "            out_node_df = officers[officers['node_id'] == out_node_id]\n",
    "        if (out_node_df.empty):\n",
    "            out_type = 'addresses'\n",
    "            out_node_df = addresses[addresses['node_id'] == out_node_id]\n",
    "        if (out_node_df.empty):\n",
    "            print('Unfound out-node in entities, intermediaries and officers:', in_node_id)\n",
    "        else:\n",
    "            if (out_type == 'addresses'):\n",
    "                out_name = out_node_df['address'].values[0]\n",
    "            else:\n",
    "                out_name = out_node_df['name'].values[0]\n",
    "            out_country = out_node_df['countries'].values[0]\n",
    "            relationship = out_relationship_df['rel_type'].iloc[index]\n",
    "            new_df_line = pd.Series([queried_node_id, queried_name, queried_country,\\\n",
    "                                     queried_type, relationship, out_node_id, out_name, out_country, out_type],\\\n",
    "                                    index = output_columns)\n",
    "            output_df = output_df.append(new_df_line, ignore_index = True)\n",
    "                \n",
    "    return output_df"
   ]
  },
  {
   "cell_type": "markdown",
   "metadata": {},
   "source": [
    "### GUI"
   ]
  },
  {
   "cell_type": "code",
   "execution_count": 330,
   "metadata": {
    "scrolled": true
   },
   "outputs": [
    {
     "data": {
      "application/vnd.jupyter.widget-view+json": {
       "model_id": "e792344f6bd94b0489f1a375db675f6f",
       "version_major": 2,
       "version_minor": 0
      },
      "text/plain": [
       "A Jupyter Widget"
      ]
     },
     "metadata": {},
     "output_type": "display_data"
    },
    {
     "data": {
      "application/vnd.jupyter.widget-view+json": {
       "model_id": "a01c7c5e2a444acda7eabd93e002e493",
       "version_major": 2,
       "version_minor": 0
      },
      "text/plain": [
       "A Jupyter Widget"
      ]
     },
     "metadata": {},
     "output_type": "display_data"
    },
    {
     "data": {
      "application/vnd.jupyter.widget-view+json": {
       "model_id": "6d685a387a3848ce92595d5ac2543fa6",
       "version_major": 2,
       "version_minor": 0
      },
      "text/plain": [
       "A Jupyter Widget"
      ]
     },
     "metadata": {},
     "output_type": "display_data"
    },
    {
     "data": {
      "application/vnd.jupyter.widget-view+json": {
       "model_id": "12b3b65415a44c19b5a1b554cdb3760d",
       "version_major": 2,
       "version_minor": 0
      },
      "text/plain": [
       "A Jupyter Widget"
      ]
     },
     "metadata": {},
     "output_type": "display_data"
    },
    {
     "data": {
      "text/html": [
       "<div>\n",
       "<style>\n",
       "    .dataframe thead tr:only-child th {\n",
       "        text-align: right;\n",
       "    }\n",
       "\n",
       "    .dataframe thead th {\n",
       "        text-align: left;\n",
       "    }\n",
       "\n",
       "    .dataframe tbody tr th {\n",
       "        vertical-align: top;\n",
       "    }\n",
       "</style>\n",
       "<table border=\"1\" class=\"dataframe\">\n",
       "  <thead>\n",
       "    <tr style=\"text-align: right;\">\n",
       "      <th></th>\n",
       "      <th>in_node</th>\n",
       "      <th>in_name</th>\n",
       "      <th>in_country</th>\n",
       "      <th>in_type</th>\n",
       "      <th>relationship</th>\n",
       "      <th>out_node</th>\n",
       "      <th>out_name</th>\n",
       "      <th>out_country</th>\n",
       "      <th>out_type</th>\n",
       "    </tr>\n",
       "  </thead>\n",
       "  <tbody>\n",
       "    <tr>\n",
       "      <th>0</th>\n",
       "      <td>11010040</td>\n",
       "      <td>Y.T. LO &amp; CO</td>\n",
       "      <td>Hong Kong</td>\n",
       "      <td>intermediaries</td>\n",
       "      <td>intermediary of</td>\n",
       "      <td>10136155</td>\n",
       "      <td>TRUMP BASE HOLDINGS LTD.</td>\n",
       "      <td>Hong Kong</td>\n",
       "      <td>entities</td>\n",
       "    </tr>\n",
       "    <tr>\n",
       "      <th>1</th>\n",
       "      <td>12217409</td>\n",
       "      <td>WONG SIU HONG</td>\n",
       "      <td>Hong Kong</td>\n",
       "      <td>officers</td>\n",
       "      <td>shareholder of</td>\n",
       "      <td>10136155</td>\n",
       "      <td>TRUMP BASE HOLDINGS LTD.</td>\n",
       "      <td>Hong Kong</td>\n",
       "      <td>entities</td>\n",
       "    </tr>\n",
       "  </tbody>\n",
       "</table>\n",
       "</div>"
      ],
      "text/plain": [
       "    in_node        in_name in_country         in_type     relationship  \\\n",
       "0  11010040   Y.T. LO & CO  Hong Kong  intermediaries  intermediary of   \n",
       "1  12217409  WONG SIU HONG  Hong Kong        officers   shareholder of   \n",
       "\n",
       "   out_node                  out_name out_country  out_type  \n",
       "0  10136155  TRUMP BASE HOLDINGS LTD.   Hong Kong  entities  \n",
       "1  10136155  TRUMP BASE HOLDINGS LTD.   Hong Kong  entities  "
      ]
     },
     "metadata": {},
     "output_type": "display_data"
    }
   ],
   "source": [
    "df_name_dic = {'Entities': 'entities', 'Intermediaries': 'intermediaries', 'Officers': 'officers'}\n",
    "widgetDFName = widgets.Dropdown(description = 'Type', options = df_name_dic)\n",
    "widgetQueriedName = widgets.Text(description = 'Name', value = 'Type name here')\n",
    "widgetCountry = widgets.Dropdown(description = 'Country', options = available_countries)\n",
    "# 1st widget\n",
    "first_widget = interactive(search_by_name, queried_name = widgetQueriedName, dictionary = fixed(dictionary),\\\n",
    "                df_name = widgetDFName, country = widgetCountry)\n",
    "\n",
    "# Button 1\n",
    "button1 = widgets.Button(description=\"Apply Filter\")\n",
    "def show_results(b):\n",
    "    widgetResult.options = first_widget.result['name'].values.tolist()\n",
    "button1.on_click(show_results)\n",
    "\n",
    "# 2nd widget\n",
    "def name_selection(selected_name):\n",
    "    matched_df = first_widget.result\n",
    "    return matched_df[matched_df['name'] == selected_name]\n",
    "widgetResult = widgets.Dropdown(description = 'Name options')\n",
    "second_widget = interactive(name_selection, selected_name = widgetResult)\n",
    "\n",
    "# Button 2\n",
    "def print_selected_result(b):\n",
    "    if (second_widget.result.shape[0] != 0):\n",
    "        display(get_relationships(second_widget.result))\n",
    "\n",
    "button2 = widgets.Button(description=\"Display relationships\")\n",
    "button2.on_click(print_selected_result)\n",
    "\n",
    "display(first_widget, button1, second_widget, button2)"
   ]
  }
 ],
 "metadata": {
  "kernelspec": {
   "display_name": "Python 3",
   "language": "python",
   "name": "python3"
  },
  "language_info": {
   "codemirror_mode": {
    "name": "ipython",
    "version": 3
   },
   "file_extension": ".py",
   "mimetype": "text/x-python",
   "name": "python",
   "nbconvert_exporter": "python",
   "pygments_lexer": "ipython3",
   "version": "3.6.3"
  }
 },
 "nbformat": 4,
 "nbformat_minor": 2
}
